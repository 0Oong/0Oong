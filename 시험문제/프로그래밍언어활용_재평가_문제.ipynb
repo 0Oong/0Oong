{
 "cells": [
  {
   "cell_type": "markdown",
   "metadata": {},
   "source": [
    "## 빅데이터 기반 AI 응용 솔루션 개발자 전문과정\n",
    "\n",
    "#### 교과목명 : 프로그래밍 언어 활용\n",
    "\n",
    "- 평가일 : 21.07.09\n",
    "- 성명 : 조경림\n",
    "- 점수 :\n",
    "\n",
    "※ 문제당 5점으로 채점"
   ]
  },
  {
   "cell_type": "markdown",
   "metadata": {},
   "source": [
    "#### 1. numbers 리스트에서 5, 6, 7를 출력하세요.(for문과 if 조건 사용 필수)  \n",
    "numbers = [5, 15, 6, 20, 7, 25]"
   ]
  },
  {
   "cell_type": "code",
   "execution_count": 2,
   "metadata": {},
   "outputs": [
    {
     "name": "stdout",
     "output_type": "stream",
     "text": [
      "5 6 7 "
     ]
    }
   ],
   "source": [
    "numbers = [5, 15, 6, 20, 7, 25]\n",
    "\n",
    "for i in numbers:\n",
    "    if i < 8:\n",
    "        print(i,'',end='')"
   ]
  },
  {
   "cell_type": "markdown",
   "metadata": {},
   "source": [
    "#### 2. 아래 사용자 함수, 변수 리스트 및 2개의 내장함수를 각각 이용해서 [12, 14, 16, 18, 20], [6]를 출력하세요.(내장함수 2개 사용 필수) "
   ]
  },
  {
   "cell_type": "code",
   "execution_count": 135,
   "metadata": {},
   "outputs": [
    {
     "name": "stdout",
     "output_type": "stream",
     "text": [
      "[12, 14, 16, 18, 20]\n",
      "[6]\n"
     ]
    }
   ],
   "source": [
    "# 함수를 선언합니다.\n",
    "def power(item):\n",
    "    return item + item\n",
    "def under_7(item):\n",
    "    return item < 7\n",
    "\n",
    "# 변수를 선언합니다.\n",
    "list_input_a = [6,  7,  8,  9, 10]\n",
    "\n",
    "a = map(power, list_input_a)\n",
    "b = filter(under_7, list_input_a)\n",
    "\n",
    "print(list(a))\n",
    "print(list(b))"
   ]
  },
  {
   "cell_type": "markdown",
   "metadata": {},
   "source": [
    "#### 3. 정수를 입력하면 3의 배수 여부를 반환해주는 프로그램을 작성하세요.(정수 입력 후 '3의 배수', '3의 배수가 아님'으로 출력). 단 정수를 입력하지 않으면 '정수를 입력해 주세요'라고 출력 "
   ]
  },
  {
   "cell_type": "code",
   "execution_count": null,
   "metadata": {},
   "outputs": [
    {
     "name": "stdout",
     "output_type": "stream",
     "text": [
      "정수를 입력하면 3의 배수인지 판단해드립니다.: \n",
      "정수를 입력해주세요.\n",
      "정수를 입력하면 3의 배수인지 판단해드립니다.: d\n",
      "정수를 입력해주세요.\n"
     ]
    }
   ],
   "source": [
    "while 1 :\n",
    "    try:\n",
    "        a = int(input('정수를 입력하면 3의 배수인지 판단해드립니다.: '))\n",
    "        if a %3 == 0:\n",
    "            print(\"3의 배수\")\n",
    "            break\n",
    "        elif a%3 != 0:\n",
    "            print(\"3의 배수가 아님\")\n",
    "            break\n",
    "    except:\n",
    "        print(\"정수를 입력해주세요.\")\n",
    "        continue\n"
   ]
  },
  {
   "cell_type": "markdown",
   "metadata": {},
   "source": [
    "#### 4. 람다 함수를 이용해서 a의 b제곱에서 a x b를 더한 수를 구하는 식을 만들고 그 식을 이용해서  a, b가 아래와 같이 주어졌을 때 각각의 값을 구하세요. \n",
    "a = 2, b = 5 \\\n",
    "a= 5, b = 2"
   ]
  },
  {
   "cell_type": "code",
   "execution_count": 2,
   "metadata": {},
   "outputs": [
    {
     "name": "stdout",
     "output_type": "stream",
     "text": [
      "14\n",
      "35\n"
     ]
    }
   ],
   "source": [
    "x = lambda a, b : (a**b) + (a*b)\n",
    "\n",
    "print(x(2,3))\n",
    "print(x(5,2))"
   ]
  },
  {
   "cell_type": "markdown",
   "metadata": {},
   "source": [
    "#### 5. 10자리 정수를 입력한 후  콤마로 천단위를 구분하여 출력하세요."
   ]
  },
  {
   "cell_type": "code",
   "execution_count": 11,
   "metadata": {},
   "outputs": [
    {
     "name": "stdout",
     "output_type": "stream",
     "text": [
      "정수를 입력하면 천단위로 구분해드립니다> 5555\n"
     ]
    },
    {
     "data": {
      "text/plain": [
       "('5555', ',')"
      ]
     },
     "execution_count": 11,
     "metadata": {},
     "output_type": "execute_result"
    }
   ],
   "source": [
    "a = input('정수를 입력하면 천단위로 구분해드립니다> ')\n",
    "c = ''\n",
    "if len(a) %3 != 0 and len(a)>3:\n",
    "    a = a[::-1]\n",
    "\n",
    "            \n",
    "elif len(a) <= 3:\n",
    "    c = a\n",
    "    \n",
    "c"
   ]
  },
  {
   "cell_type": "code",
   "execution_count": 33,
   "metadata": {},
   "outputs": [
    {
     "name": "stdout",
     "output_type": "stream",
     "text": [
      "정수를 입력하면 천단위로 구분해드립니다> 4567\n"
     ]
    },
    {
     "data": {
      "text/plain": [
       "'7654'"
      ]
     },
     "execution_count": 33,
     "metadata": {},
     "output_type": "execute_result"
    }
   ],
   "source": [
    "a = input('정수를 입력하면 천단위로 구분해드립니다> ')\n",
    "\n",
    "\n",
    "if a == isdigit():\n",
    "    a = a[::-1]\n",
    "    "
   ]
  },
  {
   "cell_type": "code",
   "execution_count": 27,
   "metadata": {},
   "outputs": [
    {
     "data": {
      "text/plain": [
       "2"
      ]
     },
     "execution_count": 27,
     "metadata": {},
     "output_type": "execute_result"
    }
   ],
   "source": [
    "li = [1,2,3]\n",
    "\n",
    "li[1]"
   ]
  },
  {
   "cell_type": "markdown",
   "metadata": {},
   "source": [
    "#### 6. car_lists = [\"마티즈\", \"그랜저\", \"제네시스\"]를 파이썬 내장함수를 이용하여 아래와 같이 출력하세요. \n",
    "1번 차는 마티즈입니다.\\\n",
    "2번 차는 그랜저입니다.\\\n",
    "3번 차는 제네시스입니다."
   ]
  },
  {
   "cell_type": "code",
   "execution_count": 3,
   "metadata": {},
   "outputs": [
    {
     "name": "stdout",
     "output_type": "stream",
     "text": [
      "1번 차는 마티즈입니다.\n",
      "2번 차는 그랜저입니다.\n",
      "3번 차는 제네시스입니다.\n"
     ]
    }
   ],
   "source": [
    "car_lists = [\"마티즈\", \"그랜저\", \"제네시스\"]\n",
    "\n",
    "for i, car_name in enumerate(car_lists):\n",
    "    print('{}번 차는 {}입니다.'.format(i+1, car_name))"
   ]
  },
  {
   "cell_type": "markdown",
   "metadata": {},
   "source": [
    "#### 7. 100을 37로 나눈 몫과 나머지를 내장함수를 이용하여 구하세요.(튜플로 출력 필수) "
   ]
  },
  {
   "cell_type": "code",
   "execution_count": 4,
   "metadata": {},
   "outputs": [
    {
     "data": {
      "text/plain": [
       "(2, 26)"
      ]
     },
     "execution_count": 4,
     "metadata": {},
     "output_type": "execute_result"
    }
   ],
   "source": [
    "divmod(100,37)"
   ]
  },
  {
   "cell_type": "markdown",
   "metadata": {},
   "source": [
    "#### 8. list_number = list(np.arange(21,26))로 변수 선언하고 정수를 입력하면 그 정수 인덱스와 리스트에서 해당하는 값을 출력하는 프로그램을 작성하세요. 단, 모든 예외처리를 수행하며 특히 ValueError와 IndexError는 별도 구분해서 예외처리 한 후 '예외처리 완료'를 마지막으로 출력하세요.\n",
    "\n",
    "- 정수 입력 \\\n",
    "정수 입력> 5 \\\n",
    "5번째 요소: 25 \\\n",
    "예외 처리 완료\n",
    "\n",
    "- 문자 입력시 \\\n",
    "정수 입력> 가 \\\n",
    "정수를 입력해 주세요!\n",
    "예외 처리 완료\n",
    "\n",
    "- 6 입력시 \\\n",
    "정수 입력> 6 \\\n",
    "리스트의 인덱스를 벗어났어요!\n",
    "예외 처리 완료"
   ]
  },
  {
   "cell_type": "code",
   "execution_count": 1,
   "metadata": {},
   "outputs": [
    {
     "name": "stdout",
     "output_type": "stream",
     "text": [
      "정수 입력> 4\n",
      "4번째 요소 : 25\n",
      "예외처리 완료\n"
     ]
    }
   ],
   "source": [
    "import numpy as np\n",
    "list_number = list(np.arange(21,26))\n",
    "\n",
    "def identfy():\n",
    "    while 1 :\n",
    "        try:\n",
    "            i = int(input('정수 입력> '))\n",
    "            if i in range(0,6):\n",
    "                while 1:\n",
    "                    print(\"{}번째 요소 : {}\".format(i, list_number[i]))\n",
    "                    break\n",
    "        except ValueError:\n",
    "            print(\"잘못된 값을 입력했습니다!\")\n",
    "            continue\n",
    "        except IndexError:\n",
    "            print(\"잘못된 값을 입력했습니다!\")\n",
    "            continue\n",
    "        finally:\n",
    "            print(\"예외처리 완료\")\n",
    "            break\n",
    "\n",
    "identfy()\n"
   ]
  },
  {
   "cell_type": "markdown",
   "metadata": {},
   "source": [
    "#### 9. 사용자로부터 서로 다른 실수 두 개를 입력받고 첫 번째 와 두 번째중 큰 실수를 구하는 프로그램을 수행하세요."
   ]
  },
  {
   "cell_type": "code",
   "execution_count": 2,
   "metadata": {},
   "outputs": [
    {
     "name": "stdout",
     "output_type": "stream",
     "text": [
      "첫번째 실수를 입력해주세요> 5\n",
      "두번째 실수를 입력해주세요> 4\n",
      "5.0가 4.0보다 큽니다.\n"
     ]
    }
   ],
   "source": [
    "def flo():\n",
    "    while 1 :\n",
    "        try:\n",
    "            a = float(input(\"첫번째 실수를 입력해주세요> \"))\n",
    "            b = float(input(\"두번째 실수를 입력해주세요> \"))\n",
    "            if a > b :\n",
    "                print(\"{}가 {}보다 큽니다.\".format(a,b))\n",
    "                break\n",
    "            elif a < b :\n",
    "                print(\"{}가 {}보다 큽니다.\".format(b,a))\n",
    "                break\n",
    "        except:\n",
    "            print(\"실수를 입력해주세요!\")\n",
    "            continue\n",
    "flo()"
   ]
  },
  {
   "cell_type": "markdown",
   "metadata": {},
   "source": [
    "#### 10. 1부터 1000까지 아래와 같은 방식으로 2개의 수를  곱했을 때 가장 큰 수를 구하세요.\n",
    "\n",
    " (1 * 999),(2 * 998) ...(999 * 1)"
   ]
  },
  {
   "cell_type": "code",
   "execution_count": 8,
   "metadata": {},
   "outputs": [
    {
     "data": {
      "text/plain": [
       "250000"
      ]
     },
     "execution_count": 8,
     "metadata": {},
     "output_type": "execute_result"
    }
   ],
   "source": [
    "li1 = []\n",
    "for i in range(1000):\n",
    "    mul = i * (1000-i)\n",
    "    li1.append(mul)\n",
    "    i += 1\n",
    "max(li1)"
   ]
  },
  {
   "cell_type": "markdown",
   "metadata": {},
   "source": [
    "#### 11. 정규표현식을 사용하여 text에서 지역코드를 제외한 넘버만 출력하세요.\n",
    "text = \"문의사항이 있으면 032-232-3245로 연락주시기 바랍니다.\""
   ]
  },
  {
   "cell_type": "code",
   "execution_count": 13,
   "metadata": {},
   "outputs": [
    {
     "data": {
      "text/plain": [
       "'232-3245'"
      ]
     },
     "execution_count": 13,
     "metadata": {},
     "output_type": "execute_result"
    }
   ],
   "source": [
    "text = \"문의사항이 있으면 032-232-3245로 연락주시기 바랍니다.\"\n",
    "import re \n",
    "a = re.compile('\\d{3}[-](\\d{3}[-]\\d{4})')\n",
    "b = a.search(text)\n",
    "b.group(1)"
   ]
  },
  {
   "cell_type": "markdown",
   "metadata": {},
   "source": [
    "#### 12. 'abcdefghij' 에 대하여 중첩을 적용한 서브그룹 5개로 컴파일하여 group()함수를 이용하여 'bcdefgh'와 cdefg'를 출력하세요"
   ]
  },
  {
   "cell_type": "code",
   "execution_count": 30,
   "metadata": {},
   "outputs": [
    {
     "name": "stdout",
     "output_type": "stream",
     "text": [
      "bcdefgh\n",
      "cdefgh\n"
     ]
    }
   ],
   "source": [
    "import re \n",
    "text = 'abcdefghij'\n",
    "a = re.compile('a(b(c(de)(f(g))h))i')\n",
    "b = a.search(text)\n",
    "print(b.group(1))\n",
    "print(b.group(2))"
   ]
  },
  {
   "cell_type": "markdown",
   "metadata": {},
   "source": [
    "#### 13. [0, 1, 2, 3, 4, 5, 6, 7, 8, 9, 'a', 'b', 'c']에서 알파벳 문자만을 리스트로 출력하세요"
   ]
  },
  {
   "cell_type": "code",
   "execution_count": 59,
   "metadata": {},
   "outputs": [
    {
     "data": {
      "text/plain": [
       "['a', 'b', 'c']"
      ]
     },
     "execution_count": 59,
     "metadata": {},
     "output_type": "execute_result"
    }
   ],
   "source": [
    "li4 = [0, 1, 2, 3, 4, 5, 6, 7, 8, 9, 'a', 'b', 'c']\n",
    "\n",
    "li4[-3:]"
   ]
  },
  {
   "cell_type": "markdown",
   "metadata": {},
   "source": [
    "#### 14. 500 ~ 1000사이의 정수 중 5의 배수이거나  7의 배수인 수의 합을 구하세요"
   ]
  },
  {
   "cell_type": "code",
   "execution_count": 56,
   "metadata": {},
   "outputs": [
    {
     "name": "stdout",
     "output_type": "stream",
     "text": [
      "10535\n"
     ]
    }
   ],
   "source": [
    "sum = 0\n",
    "\n",
    "for i in range(500, 1001):\n",
    "    if (i%5==0) and (i%7==0):\n",
    "        sum += i\n",
    "    i += 1\n",
    "print(sum)"
   ]
  },
  {
   "cell_type": "markdown",
   "metadata": {},
   "source": [
    "#### 15. [    ]을 채워서 아래와 같이 출력하세요.\n",
    "[[3, 6, 9], [1, 4, 7], [2, 5, 8]]"
   ]
  },
  {
   "cell_type": "code",
   "execution_count": 60,
   "metadata": {},
   "outputs": [
    {
     "name": "stdout",
     "output_type": "stream",
     "text": [
      "[[3, 6, 9], [1, 4, 7], [2, 5, 8]]\n"
     ]
    }
   ],
   "source": [
    "numbers = [1,2,3,4,5,6,7,8,9]\n",
    "output = [[], [], []]\n",
    "\n",
    "for number in numbers:\n",
    "    output[number%3].append(number)\n",
    "print(output)"
   ]
  },
  {
   "cell_type": "markdown",
   "metadata": {},
   "source": [
    "####  16. 반복문으로 팩토리얼을 구하는 사용자 함수를 작성하고 5!, 10!를 구하세요."
   ]
  },
  {
   "cell_type": "code",
   "execution_count": 71,
   "metadata": {},
   "outputs": [
    {
     "name": "stdout",
     "output_type": "stream",
     "text": [
      "120\n",
      "3628800\n"
     ]
    }
   ],
   "source": [
    "def fac(x):\n",
    "    if x == 1:\n",
    "        return 1\n",
    "    elif x != 1:\n",
    "        return x *fac(x-1)\n",
    "\n",
    "print(fac(5))\n",
    "print(fac(10))"
   ]
  },
  {
   "cell_type": "markdown",
   "metadata": {},
   "source": [
    "#### 17. 문자열 리스트 states를 정형화하여 아래와 같이 출력하세요(내장함수 및 정규표현식 사용)"
   ]
  },
  {
   "cell_type": "markdown",
   "metadata": {},
   "source": [
    "states = ['   Alabama ', 'Georgia!', 'Georgia', 'georgia', 'FlOrIda',  \n",
    "          'south   carolina##', 'West virginia?']  \n",
    "\n",
    "[출력]\n",
    "['Alabama',  \n",
    " 'Georgia',  \n",
    " 'Georgia',  \n",
    " 'Georgia',  \n",
    " 'Florida',  \n",
    " 'South   Carolina',  \n",
    " 'West Virginia']  "
   ]
  },
  {
   "cell_type": "code",
   "execution_count": 3,
   "metadata": {},
   "outputs": [
    {
     "data": {
      "text/plain": [
       "['Alabama',\n",
       " 'Georgia',\n",
       " 'Georgia',\n",
       " 'Georgia',\n",
       " 'Florida',\n",
       " 'South Carolina',\n",
       " 'West Virginia']"
      ]
     },
     "execution_count": 3,
     "metadata": {},
     "output_type": "execute_result"
    }
   ],
   "source": [
    "states = [' Alabama ', 'Georgia!', 'Georgia', 'georgia', 'FlOrIda',\n",
    "'south carolina##', 'West virginia?']\n",
    "\n",
    "\n",
    "li =[]\n",
    "for i in states:\n",
    "    a = i.strip()\n",
    "    b = a.strip('!?#')\n",
    "    c = b.title()\n",
    "    li.append(c)\n",
    "li"
   ]
  },
  {
   "cell_type": "markdown",
   "metadata": {},
   "source": [
    "####  18.게시물의 총 건수와 한 페이지에 보여 줄 게시물 수를 입력시 총 페이지 수를 출력하는 프로그램을 작성하세요. 단, 잘못 입력시 예외 처리 필수"
   ]
  },
  {
   "cell_type": "code",
   "execution_count": 118,
   "metadata": {},
   "outputs": [
    {
     "name": "stdout",
     "output_type": "stream",
     "text": [
      "게시물의 총 건수를 입력해주세요 : 5\n",
      "한 페이지에 보여 줄 게시물의 수를 입력해주세요 : 5\n"
     ]
    },
    {
     "data": {
      "text/plain": [
       "'총페이지수 : 1'"
      ]
     },
     "execution_count": 118,
     "metadata": {},
     "output_type": "execute_result"
    }
   ],
   "source": [
    "def board():\n",
    "    while 1 :\n",
    "        try :\n",
    "            a = int(input('게시물의 총 건수를 입력해주세요 : '))\n",
    "            b = int(input('한 페이지에 보여 줄 게시물의 수를 입력해주세요 : '))\n",
    "            if a / b <= 1:\n",
    "                return \"총페이지수 : 1\"\n",
    "            elif a / b > 1:\n",
    "                return \"총페이지수 : {}\".format(a // b)\n",
    "        except Exception as e:\n",
    "            print('숫자로 다시 입력해주세요 : ')\n",
    "            continue\n",
    "board()"
   ]
  },
  {
   "cell_type": "markdown",
   "metadata": {},
   "source": [
    "#### 19. 발표할 인원을 입력하면 (파이썬의)랜덤으로 발표자를 리스트로 출력해주는 프로그램을 작성 후 다음을 수행하세요.(중복 허용하지 않음)\n",
    "- 발표자 1명\n",
    "- 발표자 5명\n",
    "- 발표자 28명 전원"
   ]
  },
  {
   "cell_type": "code",
   "execution_count": 1,
   "metadata": {},
   "outputs": [
    {
     "name": "stdout",
     "output_type": "stream",
     "text": [
      "발표할 인원을 입력하세요 : 5\n",
      "발표자 5명, ['조경림', '최윤진', '배송이', '진유훈', '이범준']\n"
     ]
    }
   ],
   "source": [
    "name = ['고영남', '김광훈', '김동일', '김진', '박기범', '박민아', '박시우', \n",
    "        '배송이', '송유빈', '신인철','오수문','우동주','이민찬','이범준',\n",
    "        '이슬','이원진','이종현','임희진','정하림','조경림','조현정',\n",
    "        '진유훈','채승혜','최윤진','최한결','최혜정','하도원','안아름']\n",
    "import random\n",
    "def ppt():\n",
    "    while 1 :\n",
    "        a = int(input('발표할 인원을 입력하세요 : '))\n",
    "        n_ppt =[]\n",
    "        if a == 28 :\n",
    "            print(\"발표자 28명 전원\")\n",
    "        for i in range(a):\n",
    "            pptor = random.sample(name, i+1)\n",
    "            a = pptor\n",
    "        \n",
    "        print(\"발표자 {}명, {}\".format(i+1, a))\n",
    "        break\n",
    "ppt()"
   ]
  },
  {
   "cell_type": "markdown",
   "metadata": {},
   "source": [
    "#### 20. 네이버 통합검색 사이트에서 빅데이터를 입력한 후 관련 뉴스의 타이틀만 선택하여 아래 포멧으로 출력하세요."
   ]
  },
  {
   "cell_type": "code",
   "execution_count": null,
   "metadata": {},
   "outputs": [],
   "source": [
    "1.'4년만에'…6개 보험사, 공공의료데이터 받는다(종합)\n",
    "2.부산시 금융 빅데이터 센터 구축 공모사업 선정\n",
    "3.\"중 의료 빅데이터업체 미 상장 보류…당국 규제강화 후 첫사례\"\n",
    "4.소비자원, 빅데이터로 소비자 분쟁 지원...中企 대응력 키운다\n",
    "5.KISA, 사이버보안 8억건 'AI 데이터셋' 구축 추진\n",
    "6.농식품 공공데이터 개방…가격·요리정보 활용 높아\n",
    "7.과학화훈련단 빅데이터 활용한 프로그램 만든다\n",
    "8.세종대, 하계방학 빅데이터 분석실무2급 프로그램 운영\n",
    "9.한국농수산식품유통공사, 범정부 빅데이터 플랫폼 연계 상담회 개최\n",
    "10.KISA, '사이버보안' AI 데이터셋 구축 착수"
   ]
  },
  {
   "cell_type": "code",
   "execution_count": 20,
   "metadata": {},
   "outputs": [
    {
     "ename": "SyntaxError",
     "evalue": "invalid syntax (<ipython-input-20-94bd770eaf59>, line 8)",
     "output_type": "error",
     "traceback": [
      "\u001b[1;36m  File \u001b[1;32m\"<ipython-input-20-94bd770eaf59>\"\u001b[1;36m, line \u001b[1;32m8\u001b[0m\n\u001b[1;33m    a = bs.find('div', attrs={class : 'news_info'})\u001b[0m\n\u001b[1;37m                              ^\u001b[0m\n\u001b[1;31mSyntaxError\u001b[0m\u001b[1;31m:\u001b[0m invalid syntax\n"
     ]
    }
   ],
   "source": [
    "import requests as rq\n",
    "from bs4 import BeautifulSoup as bs\n",
    "URL = 'https://search.naver.com/search.naver?where=news&sm=tab_jum&query=%EB%B9%85%EB%8D%B0%EC%9D%B4%ED%84%B0'\n",
    "response = rq.get(URL)\n",
    "content = response.text\n",
    "soup = (content, 'http.parser')\n",
    "\n",
    "a = bs.find('div', attrs={class : 'news_info'})\n",
    "a"
   ]
  }
 ],
 "metadata": {
  "kernelspec": {
   "display_name": "Python 3",
   "language": "python",
   "name": "python3"
  },
  "language_info": {
   "codemirror_mode": {
    "name": "ipython",
    "version": 3
   },
   "file_extension": ".py",
   "mimetype": "text/x-python",
   "name": "python",
   "nbconvert_exporter": "python",
   "pygments_lexer": "ipython3",
   "version": "3.8.10"
  }
 },
 "nbformat": 4,
 "nbformat_minor": 2
}
