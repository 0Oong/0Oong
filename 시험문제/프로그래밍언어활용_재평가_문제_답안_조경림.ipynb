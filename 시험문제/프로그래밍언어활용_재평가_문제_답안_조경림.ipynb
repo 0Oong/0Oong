{
 "cells": [
  {
   "cell_type": "markdown",
   "metadata": {},
   "source": [
    "## 빅데이터 기반 AI 응용 솔루션 개발자 전문과정\n",
    "\n",
    "#### 교과목명 : 프로그래밍 언어 활용\n",
    "\n",
    "- 평가일 : 21.07.09\n",
    "- 성명 : 조경림\n",
    "- 점수 : 83\n",
    "\n",
    "※ 문제당 5점으로 채점"
   ]
  },
  {
   "cell_type": "markdown",
   "metadata": {},
   "source": [
    "#### 1. numbers 리스트에서 5, 6, 7를 출력하세요.(for문과 if 조건 사용 필수)  \n",
    "numbers = [5, 15, 6, 20, 7, 25]"
   ]
  },
  {
   "cell_type": "code",
   "execution_count": 2,
   "metadata": {},
   "outputs": [
    {
     "name": "stdout",
     "output_type": "stream",
     "text": [
      "5 6 7 "
     ]
    }
   ],
   "source": [
    "numbers = [5, 15, 6, 20, 7, 25]\n",
    "\n",
    "for i in numbers:\n",
    "    if i < 8:\n",
    "        print(i,'',end='')"
   ]
  },
  {
   "cell_type": "markdown",
   "metadata": {},
   "source": [
    "#### 2. 아래 사용자 함수, 변수 리스트 및 2개의 내장함수를 각각 이용해서 [12, 14, 16, 18, 20], [6]를 출력하세요.(내장함수 2개 사용 필수) "
   ]
  },
  {
   "cell_type": "code",
   "execution_count": 135,
   "metadata": {},
   "outputs": [
    {
     "name": "stdout",
     "output_type": "stream",
     "text": [
      "[12, 14, 16, 18, 20]\n",
      "[6]\n"
     ]
    }
   ],
   "source": [
    "# 함수를 선언합니다.\n",
    "def power(item):\n",
    "    return item + item\n",
    "def under_7(item):\n",
    "    return item < 7\n",
    "\n",
    "# 변수를 선언합니다.\n",
    "list_input_a = [6,  7,  8,  9, 10]\n",
    "\n",
    "a = map(power, list_input_a)\n",
    "b = filter(under_7, list_input_a)\n",
    "\n",
    "print(list(a))\n",
    "print(list(b))"
   ]
  },
  {
   "cell_type": "markdown",
   "metadata": {},
   "source": [
    "#### 3. 정수를 입력하면 3의 배수 여부를 반환해주는 프로그램을 작성하세요.(정수 입력 후 '3의 배수', '3의 배수가 아님'으로 출력). 단 정수를 입력하지 않으면 '정수를 입력해 주세요'라고 출력 "
   ]
  },
  {
   "cell_type": "code",
   "execution_count": 1,
   "metadata": {},
   "outputs": [
    {
     "name": "stdout",
     "output_type": "stream",
     "text": [
      "정수를 입력하면 3의 배수인지 판단해드립니다.: 5\n",
      "3의 배수가 아님\n"
     ]
    }
   ],
   "source": [
    "while 1 :\n",
    "    try:\n",
    "        a = int(input('정수를 입력하면 3의 배수인지 판단해드립니다.: '))\n",
    "        if a %3 == 0:\n",
    "            print(\"3의 배수\")\n",
    "            break\n",
    "        elif a%3 != 0:\n",
    "            print(\"3의 배수가 아님\")\n",
    "            break\n",
    "    except:\n",
    "        print(\"정수를 입력해주세요.\")\n",
    "        continue\n"
   ]
  },
  {
   "cell_type": "markdown",
   "metadata": {},
   "source": [
    "#### 4. 람다 함수를 이용해서 a의 b제곱에서 a x b를 더한 수를 구하는 식을 만들고 그 식을 이용해서  a, b가 아래와 같이 주어졌을 때 각각의 값을 구하세요. \n",
    "a = 2, b = 5 \\\n",
    "a= 5, b = 2"
   ]
  },
  {
   "cell_type": "code",
   "execution_count": 2,
   "metadata": {},
   "outputs": [
    {
     "name": "stdout",
     "output_type": "stream",
     "text": [
      "42\n",
      "35\n"
     ]
    }
   ],
   "source": [
    "x = lambda a, b : (a**b) + (a*b)\n",
    "\n",
    "print(x(2,5))\n",
    "print(x(5,2))"
   ]
  },
  {
   "cell_type": "markdown",
   "metadata": {},
   "source": [
    "#### 5. 10자리 정수를 입력한 후  콤마로 천단위를 구분하여 출력하세요."
   ]
  },
  {
   "cell_type": "code",
   "execution_count": 5,
   "metadata": {},
   "outputs": [
    {
     "name": "stdout",
     "output_type": "stream",
     "text": [
      "정수를 입력하면 천단위로 구분해드립니다> 50010\n",
      "0\n",
      "10\n"
     ]
    },
    {
     "ename": "TypeError",
     "evalue": "can only concatenate str (not \"tuple\") to str",
     "output_type": "error",
     "traceback": [
      "\u001b[1;31m---------------------------------------------------------------------------\u001b[0m",
      "\u001b[1;31mTypeError\u001b[0m                                 Traceback (most recent call last)",
      "\u001b[1;32m<ipython-input-5-34385f7e63d8>\u001b[0m in \u001b[0;36m<module>\u001b[1;34m\u001b[0m\n\u001b[0;32m      8\u001b[0m         \u001b[0mi\u001b[0m \u001b[1;33m+=\u001b[0m\u001b[1;36m1\u001b[0m\u001b[1;33m\u001b[0m\u001b[1;33m\u001b[0m\u001b[0m\n\u001b[0;32m      9\u001b[0m         \u001b[1;32mif\u001b[0m \u001b[0mi\u001b[0m \u001b[1;33m!=\u001b[0m\u001b[0mlen\u001b[0m\u001b[1;33m(\u001b[0m\u001b[0mnum\u001b[0m\u001b[1;33m)\u001b[0m \u001b[1;32mand\u001b[0m \u001b[0mi\u001b[0m \u001b[1;33m%\u001b[0m\u001b[1;36m3\u001b[0m \u001b[1;33m==\u001b[0m\u001b[1;36m0\u001b[0m\u001b[1;33m:\u001b[0m\u001b[1;33m\u001b[0m\u001b[1;33m\u001b[0m\u001b[0m\n\u001b[1;32m---> 10\u001b[1;33m             \u001b[0mret\u001b[0m \u001b[1;33m+=\u001b[0m \u001b[1;33m(\u001b[0m\u001b[0mc\u001b[0m\u001b[1;33m,\u001b[0m\u001b[1;34m','\u001b[0m\u001b[1;33m)\u001b[0m\u001b[1;33m\u001b[0m\u001b[1;33m\u001b[0m\u001b[0m\n\u001b[0m\u001b[0;32m     11\u001b[0m         \u001b[1;32melse\u001b[0m\u001b[1;33m:\u001b[0m\u001b[1;33m\u001b[0m\u001b[1;33m\u001b[0m\u001b[0m\n\u001b[0;32m     12\u001b[0m             \u001b[0mret\u001b[0m \u001b[1;33m+=\u001b[0m\u001b[0mc\u001b[0m\u001b[1;33m\u001b[0m\u001b[1;33m\u001b[0m\u001b[0m\n",
      "\u001b[1;31mTypeError\u001b[0m: can only concatenate str (not \"tuple\") to str"
     ]
    }
   ],
   "source": [
    "num = input('정수를 입력하면 천단위로 구분해드립니다> ')\n",
    "\n",
    "if num.isdigit():\n",
    "    num = num[::-1]\n",
    "    num = num\n",
    "    ret = ''\n",
    "    for i, c in enumerate(num):\n",
    "        i +=1\n",
    "        if i !=len(num) and i %3 ==0:\n",
    "            ret += (c,',')\n",
    "        else:\n",
    "            ret +=c\n",
    "        ret = ret[::-1]\n",
    "        print(ret)\n",
    "else :\n",
    "    print('입력한 내용은 숫자가 아닙니다.')"
   ]
  },
  {
   "cell_type": "code",
   "execution_count": 33,
   "metadata": {},
   "outputs": [
    {
     "name": "stdout",
     "output_type": "stream",
     "text": [
      "정수를 입력하면 천단위로 구분해드립니다> 4567\n"
     ]
    },
    {
     "data": {
      "text/plain": [
       "'7654'"
      ]
     },
     "execution_count": 33,
     "metadata": {},
     "output_type": "execute_result"
    }
   ],
   "source": [
    "a = input('정수를 입력하면 천단위로 구분해드립니다> ')\n",
    "\n",
    "\n",
    "if a == isdigit():\n",
    "    a = a[::-1]\n",
    "    "
   ]
  },
  {
   "cell_type": "markdown",
   "metadata": {},
   "source": [
    "#### 6. car_lists = [\"마티즈\", \"그랜저\", \"제네시스\"]를 파이썬 내장함수를 이용하여 아래와 같이 출력하세요. \n",
    "1번 차는 마티즈입니다.\\\n",
    "2번 차는 그랜저입니다.\\\n",
    "3번 차는 제네시스입니다."
   ]
  },
  {
   "cell_type": "code",
   "execution_count": 3,
   "metadata": {},
   "outputs": [
    {
     "name": "stdout",
     "output_type": "stream",
     "text": [
      "1번 차는 마티즈입니다.\n",
      "2번 차는 그랜저입니다.\n",
      "3번 차는 제네시스입니다.\n"
     ]
    }
   ],
   "source": [
    "car_lists = [\"마티즈\", \"그랜저\", \"제네시스\"]\n",
    "\n",
    "for i, car_name in enumerate(car_lists):\n",
    "    print('{}번 차는 {}입니다.'.format(i+1, car_name))"
   ]
  },
  {
   "cell_type": "markdown",
   "metadata": {},
   "source": [
    "#### 7. 100을 37로 나눈 몫과 나머지를 내장함수를 이용하여 구하세요.(튜플로 출력 필수) "
   ]
  },
  {
   "cell_type": "code",
   "execution_count": 4,
   "metadata": {},
   "outputs": [
    {
     "data": {
      "text/plain": [
       "(2, 26)"
      ]
     },
     "execution_count": 4,
     "metadata": {},
     "output_type": "execute_result"
    }
   ],
   "source": [
    "divmod(100,37)"
   ]
  },
  {
   "cell_type": "markdown",
   "metadata": {},
   "source": [
    "#### 8. list_number = list(np.arange(21,26))로 변수 선언하고 정수를 입력하면 그 정수 인덱스와 리스트에서 해당하는 값을 출력하는 프로그램을 작성하세요. 단, 모든 예외처리를 수행하며 특히 ValueError와 IndexError는 별도 구분해서 예외처리 한 후 '예외처리 완료'를 마지막으로 출력하세요.\n",
    "\n",
    "- 정수 입력 \\\n",
    "정수 입력> 5 \\\n",
    "5번째 요소: 25 \\\n",
    "예외 처리 완료\n",
    "\n",
    "- 문자 입력시 \\\n",
    "정수 입력> 가 \\\n",
    "정수를 입력해 주세요!\n",
    "예외 처리 완료\n",
    "\n",
    "- 6 입력시 \\\n",
    "정수 입력> 6 \\\n",
    "리스트의 인덱스를 벗어났어요!\n",
    "예외 처리 완료"
   ]
  },
  {
   "cell_type": "code",
   "execution_count": 7,
   "metadata": {},
   "outputs": [
    {
     "name": "stdout",
     "output_type": "stream",
     "text": [
      "정수 입력> 4\n",
      "4번째 요소 : 24\n",
      "예외처리 완료\n"
     ]
    }
   ],
   "source": [
    "import numpy as np\n",
    "list_number = list(np.arange(21,26))\n",
    "\n",
    "def identfy():\n",
    "    while 1 :\n",
    "        try:\n",
    "            i = int(input('정수 입력> '))\n",
    "            if i in range(0,6):\n",
    "                while 1:\n",
    "                    print(\"{}번째 요소 : {}\".format(i, list_number[i-1]))\n",
    "                    break\n",
    "        except ValueError:\n",
    "            print(\"잘못된 값을 입력했습니다!\")\n",
    "            continue\n",
    "        except IndexError:\n",
    "            print(\"잘못된 값을 입력했습니다!\")\n",
    "            continue\n",
    "        finally:\n",
    "            print(\"예외처리 완료\")\n",
    "            break\n",
    "\n",
    "identfy()\n"
   ]
  },
  {
   "cell_type": "markdown",
   "metadata": {},
   "source": [
    "#### 9. 사용자로부터 서로 다른 실수 두 개를 입력받고 첫 번째 와 두 번째중 큰 실수를 구하는 프로그램을 수행하세요."
   ]
  },
  {
   "cell_type": "code",
   "execution_count": 2,
   "metadata": {},
   "outputs": [
    {
     "name": "stdout",
     "output_type": "stream",
     "text": [
      "첫번째 실수를 입력해주세요> 5\n",
      "두번째 실수를 입력해주세요> 4\n",
      "5.0가 4.0보다 큽니다.\n"
     ]
    }
   ],
   "source": [
    "def flo():\n",
    "    while 1 :\n",
    "        try:\n",
    "            a = float(input(\"첫번째 실수를 입력해주세요> \"))\n",
    "            b = float(input(\"두번째 실수를 입력해주세요> \"))\n",
    "            if a > b :\n",
    "                print(\"{}가 {}보다 큽니다.\".format(a,b))\n",
    "                break\n",
    "            elif a < b :\n",
    "                print(\"{}가 {}보다 큽니다.\".format(b,a))\n",
    "                break\n",
    "        except:\n",
    "            print(\"실수를 입력해주세요!\")\n",
    "            continue\n",
    "flo()"
   ]
  },
  {
   "cell_type": "markdown",
   "metadata": {},
   "source": [
    "#### 10. 1부터 1000까지 아래와 같은 방식으로 2개의 수를  곱했을 때 가장 큰 수를 구하세요.\n",
    "\n",
    " (1 * 999),(2 * 998) ...(999 * 1)"
   ]
  },
  {
   "cell_type": "code",
   "execution_count": 8,
   "metadata": {},
   "outputs": [
    {
     "data": {
      "text/plain": [
       "250000"
      ]
     },
     "execution_count": 8,
     "metadata": {},
     "output_type": "execute_result"
    }
   ],
   "source": [
    "li1 = []\n",
    "for i in range(1000):\n",
    "    mul = i * (1000-i)\n",
    "    li1.append(mul)\n",
    "    i += 1\n",
    "max(li1)"
   ]
  },
  {
   "cell_type": "markdown",
   "metadata": {},
   "source": [
    "#### 11. 정규표현식을 사용하여 text에서 지역코드를 제외한 넘버만 출력하세요.\n",
    "text = \"문의사항이 있으면 032-232-3245로 연락주시기 바랍니다.\""
   ]
  },
  {
   "cell_type": "code",
   "execution_count": 13,
   "metadata": {},
   "outputs": [
    {
     "data": {
      "text/plain": [
       "'232-3245'"
      ]
     },
     "execution_count": 13,
     "metadata": {},
     "output_type": "execute_result"
    }
   ],
   "source": [
    "text = \"문의사항이 있으면 032-232-3245로 연락주시기 바랍니다.\"\n",
    "import re \n",
    "a = re.compile('\\d{3}[-](\\d{3}[-]\\d{4})')\n",
    "b = a.search(text)\n",
    "b.group(1)"
   ]
  },
  {
   "cell_type": "markdown",
   "metadata": {},
   "source": [
    "#### 12. 'abcdefghij' 에 대하여 중첩을 적용한 서브그룹 5개로 컴파일하여 group()함수를 이용하여 'bcdefgh'와 cdefg'를 출력하세요"
   ]
  },
  {
   "cell_type": "code",
   "execution_count": 30,
   "metadata": {},
   "outputs": [
    {
     "name": "stdout",
     "output_type": "stream",
     "text": [
      "bcdefgh\n",
      "cdefgh\n"
     ]
    }
   ],
   "source": [
    "import re \n",
    "text = 'abcdefghij'\n",
    "a = re.compile('a(b(c(de)(f(g))h))i')\n",
    "b = a.search(text)\n",
    "print(b.group(1))\n",
    "print(b.group(2))"
   ]
  },
  {
   "cell_type": "markdown",
   "metadata": {},
   "source": [
    "#### 13. [0, 1, 2, 3, 4, 5, 6, 7, 8, 9, 'a', 'b', 'c']에서 알파벳 문자만을 리스트로 출력하세요"
   ]
  },
  {
   "cell_type": "code",
   "execution_count": 59,
   "metadata": {},
   "outputs": [
    {
     "data": {
      "text/plain": [
       "['a', 'b', 'c']"
      ]
     },
     "execution_count": 59,
     "metadata": {},
     "output_type": "execute_result"
    }
   ],
   "source": [
    "li4 = [0, 1, 2, 3, 4, 5, 6, 7, 8, 9, 'a', 'b', 'c']\n",
    "\n",
    "li4[-3:]"
   ]
  },
  {
   "cell_type": "markdown",
   "metadata": {},
   "source": [
    "#### 14. 500 ~ 1000사이의 정수 중 5의 배수이거나  7의 배수인 수의 합을 구하세요"
   ]
  },
  {
   "cell_type": "code",
   "execution_count": 8,
   "metadata": {},
   "outputs": [
    {
     "name": "stdout",
     "output_type": "stream",
     "text": [
      "118394\n"
     ]
    }
   ],
   "source": [
    "sum = 0\n",
    "\n",
    "for i in range(500, 1001):\n",
    "    if (i%5==0) or (i%7==0):\n",
    "        sum += i\n",
    "    i += 1\n",
    "print(sum)"
   ]
  },
  {
   "cell_type": "markdown",
   "metadata": {},
   "source": [
    "#### 15. [    ]을 채워서 아래와 같이 출력하세요.\n",
    "[[3, 6, 9], [1, 4, 7], [2, 5, 8]]"
   ]
  },
  {
   "cell_type": "code",
   "execution_count": 60,
   "metadata": {},
   "outputs": [
    {
     "name": "stdout",
     "output_type": "stream",
     "text": [
      "[[3, 6, 9], [1, 4, 7], [2, 5, 8]]\n"
     ]
    }
   ],
   "source": [
    "numbers = [1,2,3,4,5,6,7,8,9]\n",
    "output = [[], [], []]\n",
    "\n",
    "for number in numbers:\n",
    "    output[number%3].append(number)\n",
    "print(output)"
   ]
  },
  {
   "cell_type": "markdown",
   "metadata": {},
   "source": [
    "####  16. 반복문으로 팩토리얼을 구하는 사용자 함수를 작성하고 5!, 10!를 구하세요."
   ]
  },
  {
   "cell_type": "code",
   "execution_count": 71,
   "metadata": {},
   "outputs": [
    {
     "name": "stdout",
     "output_type": "stream",
     "text": [
      "120\n",
      "3628800\n"
     ]
    }
   ],
   "source": [
    "def fac(x):\n",
    "    if x == 1:\n",
    "        return 1\n",
    "    elif x != 1:\n",
    "        return x *fac(x-1)\n",
    "\n",
    "print(fac(5))\n",
    "print(fac(10))"
   ]
  },
  {
   "cell_type": "markdown",
   "metadata": {},
   "source": [
    "#### 17. 문자열 리스트 states를 정형화하여 아래와 같이 출력하세요(내장함수 및 정규표현식 사용)"
   ]
  },
  {
   "cell_type": "markdown",
   "metadata": {},
   "source": [
    "states = ['   Alabama ', 'Georgia!', 'Georgia', 'georgia', 'FlOrIda',  \n",
    "          'south   carolina##', 'West virginia?']  \n",
    "\n",
    "[출력]\n",
    "['Alabama',  \n",
    " 'Georgia',  \n",
    " 'Georgia',  \n",
    " 'Georgia',  \n",
    " 'Florida',  \n",
    " 'South   Carolina',  \n",
    " 'West Virginia']  "
   ]
  },
  {
   "cell_type": "code",
   "execution_count": 9,
   "metadata": {},
   "outputs": [
    {
     "data": {
      "text/plain": [
       "['Alabama',\n",
       " 'Georgia',\n",
       " 'Georgia',\n",
       " 'Georgia',\n",
       " 'Florida',\n",
       " 'South Carolina',\n",
       " 'West Virginia']"
      ]
     },
     "execution_count": 9,
     "metadata": {},
     "output_type": "execute_result"
    }
   ],
   "source": [
    "states = [' Alabama ', 'Georgia!', 'Georgia', 'georgia', 'FlOrIda',\n",
    "'south carolina##', 'West virginia?']\n",
    "\n",
    "import re\n",
    "li =[]\n",
    "for i in states:\n",
    "    a = i.strip()\n",
    "    b = re.sub('[?!#]','',a)\n",
    "    c = b.title()\n",
    "    li.append(c)\n",
    "li"
   ]
  },
  {
   "cell_type": "markdown",
   "metadata": {},
   "source": [
    "####  18.게시물의 총 건수와 한 페이지에 보여 줄 게시물 수를 입력시 총 페이지 수를 출력하는 프로그램을 작성하세요. 단, 잘못 입력시 예외 처리 필수"
   ]
  },
  {
   "cell_type": "code",
   "execution_count": 12,
   "metadata": {},
   "outputs": [
    {
     "name": "stdout",
     "output_type": "stream",
     "text": [
      "게시물의 총 건수를 입력해주세요 : d\n",
      "숫자로 다시 입력해주세요 : \n",
      "게시물의 총 건수를 입력해주세요 : 5\n",
      "한 페이지에 보여 줄 게시물의 수를 입력해주세요 : 6\n"
     ]
    },
    {
     "data": {
      "text/plain": [
       "'총페이지수 : 1'"
      ]
     },
     "execution_count": 12,
     "metadata": {},
     "output_type": "execute_result"
    }
   ],
   "source": [
    "def board():\n",
    "    while 1 :\n",
    "        try :\n",
    "            a = int(input('게시물의 총 건수를 입력해주세요 : '))\n",
    "            b = int(input('한 페이지에 보여 줄 게시물의 수를 입력해주세요 : '))\n",
    "            if a / b <= 1:\n",
    "                return \"총페이지수 : 1\"\n",
    "            elif a / b > 1:\n",
    "                return \"총페이지수 : {}\".format(a // b )\n",
    "        except Exception as e:\n",
    "            print('숫자로 다시 입력해주세요 : ')\n",
    "            continue\n",
    "board()"
   ]
  },
  {
   "cell_type": "code",
   "execution_count": 17,
   "metadata": {},
   "outputs": [
    {
     "name": "stdout",
     "output_type": "stream",
     "text": [
      "게시물 총 건수를 입력하세요. > 5\n",
      "한 페이지에 보여 줄 게시물 수를 입력하세요. > 5\n",
      "총 페이지 수 : 1\n"
     ]
    }
   ],
   "source": [
    "# 이민찬님\n",
    "try:\n",
    "    total_post = int(input('게시물 총 건수를 입력하세요. > '))\n",
    "    per_page = int(input('한 페이지에 보여 줄 게시물 수를 입력하세요. > '))\n",
    "    if total_post < 0 or per_page <= 0:\n",
    "        raise(ValueError)\n",
    "    page = total_post // per_page\n",
    "    if total_post % per_page != 0:\n",
    "        page += 1\n",
    "    print('총 페이지 수 : %d' %page)\n",
    "except ValueError:\n",
    "    print('올바른 입력값을 넣어주세요.')\n",
    "except Exception as e:\n",
    "    print('예상치 못한 오류가 발생했습니다.', e)\n"
   ]
  },
  {
   "cell_type": "code",
   "execution_count": null,
   "metadata": {},
   "outputs": [],
   "source": [
    "# 임희진님\n",
    "try:\n",
    "    a = int(input('총 게시물 수를 입력하세요. '))\n",
    "    b = int(input('한 페이지에 보여줄 게시물 수를 입력하세요. '))\n",
    "    div = divmod(a,b)\n",
    "    if div[1] != 0:\n",
    "        print(f'총 페이지 수: {div[0]+1}')\n",
    "    else:\n",
    "        print(f'총 페이지 수: {div[0]}')\n",
    "except Exception as e:\n",
    "    print(e)\n"
   ]
  },
  {
   "cell_type": "markdown",
   "metadata": {},
   "source": [
    "#### 19. 발표할 인원을 입력하면 (파이썬의)랜덤으로 발표자를 리스트로 출력해주는 프로그램을 작성 후 다음을 수행하세요.(중복 허용하지 않음)\n",
    "- 발표자 1명\n",
    "- 발표자 5명\n",
    "- 발표자 28명 전원"
   ]
  },
  {
   "cell_type": "code",
   "execution_count": null,
   "metadata": {
    "scrolled": true
   },
   "outputs": [],
   "source": [
    "name = ['고영남', '김광훈', '김동일', '김진', '박기범', '박민아', '박시우', \n",
    "        '배송이', '송유빈', '신인철','오수문','우동주','이민찬','이범준',\n",
    "        '이슬','이원진','이종현','임희진','정하림','조경림','조현정',\n",
    "        '진유훈','채승혜','최윤진','최한결','최혜정','하도원','안아름']\n",
    "import random\n",
    "def ppt():\n",
    "    while 1 :\n",
    "        a = int(input('발표할 인원을 입력하세요 : '))\n",
    "        n_ppt =[]\n",
    "        if a == 28 :\n",
    "            print(\"발표자 28명 전원\")\n",
    "        for i in range(a):\n",
    "            pptor = random.sample(name, i+1)\n",
    "            a = pptor\n",
    "        \n",
    "        print(\"발표자 {}명, {}\".format(i+1, a))\n",
    "        break\n",
    "ppt()"
   ]
  },
  {
   "cell_type": "markdown",
   "metadata": {},
   "source": [
    "#### 20. 네이버 통합검색 사이트에서 빅데이터를 입력한 후 관련 뉴스의 타이틀만 선택하여 아래 포멧으로 출력하세요."
   ]
  },
  {
   "cell_type": "code",
   "execution_count": null,
   "metadata": {},
   "outputs": [],
   "source": [
    "1.'4년만에'…6개 보험사, 공공의료데이터 받는다(종합)\n",
    "2.부산시 금융 빅데이터 센터 구축 공모사업 선정\n",
    "3.\"중 의료 빅데이터업체 미 상장 보류…당국 규제강화 후 첫사례\"\n",
    "4.소비자원, 빅데이터로 소비자 분쟁 지원...中企 대응력 키운다\n",
    "5.KISA, 사이버보안 8억건 'AI 데이터셋' 구축 추진\n",
    "6.농식품 공공데이터 개방…가격·요리정보 활용 높아\n",
    "7.과학화훈련단 빅데이터 활용한 프로그램 만든다\n",
    "8.세종대, 하계방학 빅데이터 분석실무2급 프로그램 운영\n",
    "9.한국농수산식품유통공사, 범정부 빅데이터 플랫폼 연계 상담회 개최\n",
    "10.KISA, '사이버보안' AI 데이터셋 구축 착수"
   ]
  },
  {
   "cell_type": "code",
   "execution_count": 10,
   "metadata": {
    "scrolled": true
   },
   "outputs": [
    {
     "name": "stdout",
     "output_type": "stream",
     "text": [
      "1,'교육빅데이터위원회' 출범…교육데이터 개방·활용 논의\n",
      "2,\"진짜 돈되는 보고서 따로 있다\"…'빅데이터 투자' 특허 출원\n",
      "3,\"중 의료 빅데이터업체 미 상장 보류…당국 규제강화 후 첫사례\"\n",
      "4,부산시 ‘금융 빅데이터 센터’ 구축…디지털혁신 가속화\n",
      "5,삼성생명 등 6개 보험사, '공공의료 데이터 활용' 길 열렸다\n",
      "6,’Nowcast 포털‘로 빅데이터 기반 경제·사회 속보성 지표 서비스\n",
      "7,한전의 '전력 빅데이터'와 하나은행의 '금융 인센티브' 결합\n",
      "8,대학교 브랜드평판 6월 빅데이터 분석 1위는 서울대\n",
      "9,소비자원, 빅데이터로 소비자 분쟁 지원...中企 대응력 키운다\n",
      "10,보험사, 4년만에 공공 의료 데이터 쓸 수 있다\n"
     ]
    }
   ],
   "source": [
    "import requests as rq\n",
    "from bs4 import BeautifulSoup as bs\n",
    "URL = 'https://search.naver.com/search.naver?where=news&sm=tab_jum&query=%EB%B9%85%EB%8D%B0%EC%9D%B4%ED%84%B0'\n",
    "response = rq.get(URL)\n",
    "content = response.text\n",
    "soup = bs(content, 'html.parser')\n",
    "results = soup.select('div.news_wrap.api_ani_send >div > a')\n",
    "for i, r in enumerate(results):\n",
    "    print('{},{}'.format(i+1, r.text))"
   ]
  },
  {
   "cell_type": "code",
   "execution_count": 11,
   "metadata": {},
   "outputs": [
    {
     "data": {
      "text/plain": [
       "[<a class=\"news_tit\" href=\"http://yna.kr/AKR20210708144200530?did=1195m\" onclick=\"return goOtherCR(this, 'a=nws*a.tit&amp;r=1&amp;i=880000D8_000000000000000012514049&amp;g=001.0012514049&amp;u='+urlencode(this.href));\" target=\"_blank\" title=\"'교육빅데이터위원회' 출범…교육데이터 개방·활용 논의\">'교육<mark>빅데이터</mark>위원회' 출범…교육데이터 개방·활용 논의</a>,\n",
       " <a class=\"news_tit\" href=\"http://www.edaily.co.kr/news/newspath.asp?newsid=02174646629112880\" onclick=\"return goOtherCR(this, 'a=nws*a.tit&amp;r=6&amp;i=880000E7_000000000000000004979567&amp;g=018.0004979567&amp;u='+urlencode(this.href));\" target=\"_blank\" title=\"&quot;진짜 돈되는 보고서 따로 있다&quot;…'빅데이터 투자' 특허 출원\">\"진짜 돈되는 보고서 따로 있다\"…'<mark>빅데이터</mark> 투자' 특허 출원</a>,\n",
       " <a class=\"news_tit\" href=\"http://yna.kr/AKR20210708124900009?did=1195m\" onclick=\"return goOtherCR(this, 'a=nws*a.tit&amp;r=8&amp;i=880000D8_000000000000000012512972&amp;g=001.0012512972&amp;u='+urlencode(this.href));\" target=\"_blank\" title='\"중 의료 빅데이터업체 미 상장 보류…당국 규제강화 후 첫사례\"'>\"중 의료 <mark>빅데이터</mark>업체 미 상장 보류…당국 규제강화 후 첫사례\"</a>,\n",
       " <a class=\"news_tit\" href=\"http://news.kmib.co.kr/article/view.asp?arcid=0016028872&amp;code=61141111&amp;cp=nv\" onclick=\"return goOtherCR(this, 'a=nws*a.tit&amp;r=10&amp;i=8800006F_000000000000000001454330&amp;g=005.0001454330&amp;u='+urlencode(this.href));\" target=\"_blank\" title=\"부산시 ‘금융 빅데이터 센터’ 구축…디지털혁신 가속화\">부산시 ‘금융 <mark>빅데이터</mark> 센터’ 구축…디지털혁신 가속화</a>,\n",
       " <a class=\"news_tit\" href=\"https://view.asiae.co.kr/article/2021070815322641533\" onclick=\"return goOtherCR(this, 'a=nws*h.tit&amp;r=14&amp;i=88000385_000000000000000004934293&amp;g=277.0004934293&amp;u='+urlencode(this.href));\" target=\"_blank\" title=\"삼성생명 등 6개 보험사, '공공의료 데이터 활용' 길 열렸다\">삼성생명 등 6개 보험사, '공공의료 <mark>데이터</mark> 활용' 길 열렸다</a>,\n",
       " <a class=\"news_tit\" href=\"https://www.hellot.net/news/article.html?no=59640\" onclick=\"return goOtherCR(this, 'a=nws*b.tit&amp;r=19&amp;i=88166537_000000000000000000026534&amp;g=5417.0000026534&amp;u='+urlencode(this.href));\" target=\"_blank\" title=\"’Nowcast 포털‘로 빅데이터 기반 경제·사회 속보성 지표 서비스\">’Nowcast 포털‘로 <mark>빅데이터</mark> 기반 경제·사회 속보성 지표 서비스</a>,\n",
       " <a class=\"news_tit\" href=\"http://www.ajunews.com/view/20210709112630154\" onclick=\"return goOtherCR(this, 'a=nws*f.tit&amp;r=21&amp;i=8800058B_000000000000000002033049&amp;g=5090.0002033049&amp;u='+urlencode(this.href));\" target=\"_blank\" title=\"리서치알음, '빅데이터 투자 시스템' 특허 출원\">리서치알음, '<mark>빅데이터</mark> 투자 시스템' 특허 출원</a>,\n",
       " <a class=\"news_tit\" href=\"http://news.mt.co.kr/mtview.php?no=2021070911002620536\" onclick=\"return goOtherCR(this, 'a=nws*a.tit&amp;r=22&amp;i=880000C2_000000000000000004613970&amp;g=008.0004613970&amp;u='+urlencode(this.href));\" target=\"_blank\" title=\"한전의 '전력 빅데이터'와 하나은행의 '금융 인센티브' 결합\">한전의 '전력 <mark>빅데이터</mark>'와 하나은행의 '금융 인센티브' 결합</a>,\n",
       " <a class=\"news_tit\" href=\"http://www.thebigdata.co.kr/view.php?ud=20210709085018372007d270612f_23\" onclick=\"return goOtherCR(this, 'a=nws*b.tit&amp;r=25&amp;i=881843ee_000000000000000000093899&amp;g=5645.0000093899&amp;u='+urlencode(this.href));\" target=\"_blank\" title=\"대학교 브랜드평판 6월 빅데이터 분석 1위는 서울대\">대학교 브랜드평판 6월 <mark>빅데이터</mark> 분석 1위는 서울대</a>,\n",
       " <a class=\"news_tit\" href=\"http://www.etnews.com/20210708000145\" onclick=\"return goOtherCR(this, 'a=nws*j.tit&amp;r=28&amp;i=880000EA_000000000000000002956279&amp;g=030.0002956279&amp;u='+urlencode(this.href));\" target=\"_blank\" title=\"소비자원, 빅데이터로 소비자 분쟁 지원...中企 대응력 키운다\">소비자원, <mark>빅데이터</mark>로 소비자 분쟁 지원...中企 대응력 키운다</a>]"
      ]
     },
     "execution_count": 11,
     "metadata": {},
     "output_type": "execute_result"
    }
   ],
   "source": [
    "from bs4 import BeautifulSoup\n",
    "import requests\n",
    "req = requests.get('https://search.naver.com/search.naver?sm=tab_hty.top&where=news&query=%EB%B9%85%EB%8D%B0%EC%9D%B4%ED%84%B0&oquery=&tqi=hMjH8wprvN8sslOFM4wssssss3Z-305236')\n",
    "html = req.text\n",
    "# print(html)\n",
    "soup = BeautifulSoup(html,'html.parser')\n",
    "results = soup.select('div.news_wrap.api_ani_send > div > a')\n",
    "results\n",
    "# for i, r in enumerate(results):\n",
    "#     print('{}.{}'.format(i+1,r.text))"
   ]
  }
 ],
 "metadata": {
  "kernelspec": {
   "display_name": "Python 3",
   "language": "python",
   "name": "python3"
  },
  "language_info": {
   "codemirror_mode": {
    "name": "ipython",
    "version": 3
   },
   "file_extension": ".py",
   "mimetype": "text/x-python",
   "name": "python",
   "nbconvert_exporter": "python",
   "pygments_lexer": "ipython3",
   "version": "3.8.10"
  }
 },
 "nbformat": 4,
 "nbformat_minor": 2
}
