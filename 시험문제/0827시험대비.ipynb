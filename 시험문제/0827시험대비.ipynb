{
 "cells": [
  {
   "cell_type": "markdown",
   "id": "9eefbdb7",
   "metadata": {},
   "source": [
    "머신러닝은 데이터 가공/변환, 모델 학습/예측, 그리고 평가(Evaluation)의 프로세스"
   ]
  },
  {
   "cell_type": "markdown",
   "id": "936b1e25",
   "metadata": {},
   "source": [
    "### 회귀"
   ]
  },
  {
   "cell_type": "markdown",
   "id": "2e97e81f",
   "metadata": {},
   "source": [
    "### 회귀평가 지표"
   ]
  },
  {
   "cell_type": "markdown",
   "id": "6227284d",
   "metadata": {},
   "source": [
    "### 다항회귀분석"
   ]
  },
  {
   "cell_type": "markdown",
   "id": "a242889c",
   "metadata": {},
   "source": [
    "### 다중회귀분석"
   ]
  },
  {
   "cell_type": "markdown",
   "id": "4d3dfbfb",
   "metadata": {},
   "source": [
    "### Decision Tree - 붓꽃품종예측"
   ]
  },
  {
   "cell_type": "markdown",
   "id": "bfd205af",
   "metadata": {},
   "source": [
    "### 앙상블 학습 - voting"
   ]
  },
  {
   "cell_type": "markdown",
   "id": "b076d08f",
   "metadata": {},
   "source": [
    "- Random Forest"
   ]
  },
  {
   "cell_type": "markdown",
   "id": "0175de04",
   "metadata": {},
   "source": [
    "- GBM"
   ]
  },
  {
   "cell_type": "markdown",
   "id": "906df223",
   "metadata": {},
   "source": [
    "- XGBoost"
   ]
  },
  {
   "cell_type": "markdown",
   "id": "e2b1f5d5",
   "metadata": {},
   "source": [
    "- LightGBM"
   ]
  },
  {
   "cell_type": "markdown",
   "id": "32a79f76",
   "metadata": {},
   "source": [
    "### 교차검증 "
   ]
  },
  {
   "cell_type": "markdown",
   "id": "a885380f",
   "metadata": {},
   "source": [
    "- K fold"
   ]
  },
  {
   "cell_type": "markdown",
   "id": "291f9ef3",
   "metadata": {},
   "source": [
    "- Stratified K Fold"
   ]
  },
  {
   "cell_type": "markdown",
   "id": "dfceafd1",
   "metadata": {},
   "source": [
    "- cross_val_score()"
   ]
  },
  {
   "cell_type": "markdown",
   "id": "ddcb6c1b",
   "metadata": {},
   "source": [
    "### 분류평가 : 정확도, 정밀도, 재현율, F1, AUC"
   ]
  },
  {
   "cell_type": "markdown",
   "id": "a43a6bdc",
   "metadata": {},
   "source": [
    "#### 최종정검 사례1. 피마 인디언 당뇨병 예측"
   ]
  },
  {
   "cell_type": "markdown",
   "id": "b9fc2a98",
   "metadata": {},
   "source": [
    "#### 최종점검 사례2. 신용카드 사기 검출"
   ]
  }
 ],
 "metadata": {
  "kernelspec": {
   "display_name": "Python 3",
   "language": "python",
   "name": "python3"
  },
  "language_info": {
   "codemirror_mode": {
    "name": "ipython",
    "version": 3
   },
   "file_extension": ".py",
   "mimetype": "text/x-python",
   "name": "python",
   "nbconvert_exporter": "python",
   "pygments_lexer": "ipython3",
   "version": "3.9.5"
  }
 },
 "nbformat": 4,
 "nbformat_minor": 5
}
