{
 "cells": [
  {
   "cell_type": "markdown",
   "id": "83ac4c48",
   "metadata": {},
   "source": [
    "## 내장함수 & 사용자 함수"
   ]
  },
  {
   "cell_type": "markdown",
   "id": "4df9c1de",
   "metadata": {},
   "source": [
    "#### Q2. [1, -3,2,0,-5,6]에서 양수만 필터링해서 출력하세요. (사용자 함수 이용)"
   ]
  },
  {
   "cell_type": "code",
   "execution_count": 6,
   "id": "b80a85ac",
   "metadata": {},
   "outputs": [
    {
     "name": "stdout",
     "output_type": "stream",
     "text": [
      "[1, 2, 6]\n"
     ]
    }
   ],
   "source": [
    "li = [1, -3,2,0,-5,6]\n",
    "def pos(i):\n",
    "    if i > 0:\n",
    "        return i\n",
    "    \n",
    "a = list(filter(pos, li))\n",
    "print(a)"
   ]
  },
  {
   "cell_type": "markdown",
   "id": "cc1413d7",
   "metadata": {},
   "source": [
    "#### Q3. 내장함수를 이용하여 동일한 개수로 이루어진 자료형을 화살표 좌측에서 우측으로 변환하세요.  \n",
    "[1,2,3], [4,5,6] -> [(1,4), (2,5), (3,6)]  \n",
    "[1,2,3], [4,5,6],[7,8,9] -> [(1,4,7),(2,5,8),(3,6,9)]  \n",
    "('abc','def') -> [('a','d'), ('b','e'), ('c','f')]  "
   ]
  },
  {
   "cell_type": "code",
   "execution_count": 11,
   "id": "6317ac4a",
   "metadata": {},
   "outputs": [
    {
     "name": "stdout",
     "output_type": "stream",
     "text": [
      "[(1, 4), (2, 5), (3, 6)]\n",
      "[(1, 4, 7), (2, 5, 8), (3, 6, 9)]\n",
      "[('a', 'd'), ('b', 'e'), ('c', 'f')]\n"
     ]
    }
   ],
   "source": [
    "print(list(zip([1,2,3], [4,5,6])))\n",
    "print(list(zip([1,2,3], [4,5,6],[7,8,9])))\n",
    "print(list(zip('abc','def')))"
   ]
  },
  {
   "cell_type": "markdown",
   "id": "79bffd5e",
   "metadata": {},
   "source": [
    "### Q4. 입력으로 들어오는 모든 수의 평균 값을 계산해 주는 함수를 작성한 후 1,2,3을 입력한 결과를 출력하세요."
   ]
  },
  {
   "cell_type": "code",
   "execution_count": 29,
   "id": "3e19d013",
   "metadata": {},
   "outputs": [
    {
     "data": {
      "text/plain": [
       "2.0"
      ]
     },
     "execution_count": 29,
     "metadata": {},
     "output_type": "execute_result"
    }
   ],
   "source": [
    "def input1(*args):\n",
    "    sum = 0\n",
    "    for i in args:\n",
    "        sum += i\n",
    "    return sum / len(args)\n",
    "\n",
    "input1(1,2,3)"
   ]
  },
  {
   "cell_type": "markdown",
   "id": "6252ec49",
   "metadata": {},
   "source": [
    "#### Q5. strings를 문자의 크기 순서로 내림차순 정렬하세요.\n",
    "\n",
    "- strings = ['a', 'ca', 'bar', 'aaaa', 'ababa']"
   ]
  },
  {
   "cell_type": "code",
   "execution_count": 30,
   "id": "8f6e4e3e",
   "metadata": {},
   "outputs": [
    {
     "data": {
      "text/plain": [
       "['ababa', 'aaaa', 'bar', 'ca', 'a']"
      ]
     },
     "execution_count": 30,
     "metadata": {},
     "output_type": "execute_result"
    }
   ],
   "source": [
    "strings = ['a', 'ca', 'bar', 'aaaa', 'ababa']\n",
    "strings.sort(key=len, reverse=True)\n",
    "strings"
   ]
  },
  {
   "cell_type": "markdown",
   "id": "83ec7069",
   "metadata": {},
   "source": [
    "### Q6. strings를 다양한 문자가 포함된 순서로 정렬하세요.  \n",
    "\n",
    "- strings =('foo', 'card', 'bar', 'aaaa', 'abab')"
   ]
  },
  {
   "cell_type": "code",
   "execution_count": 40,
   "id": "c75a3cf7",
   "metadata": {},
   "outputs": [
    {
     "data": {
      "text/plain": [
       "['card', 'bar', 'ababa', 'foo', 'aaaa']"
      ]
     },
     "execution_count": 40,
     "metadata": {},
     "output_type": "execute_result"
    }
   ],
   "source": [
    "strings = ('foo', 'card', 'bar', 'aaaa', 'ababa')\n",
    "r1 = list(strings)\n",
    "r1.sort(key=lambda x :len(set(x)))\n",
    "r1[::-1] #arr[1:6:2] # index 1 부터 index 6 까지 두 칸 간격으로 즉 처음부터끝까지 -1칸 간격으로"
   ]
  },
  {
   "cell_type": "markdown",
   "id": "8d8f9656",
   "metadata": {},
   "source": [
    "#### Q7. 리스트 [1,2,3,4,5]의 항목을 무작위로 섞어서 출력하세요."
   ]
  },
  {
   "cell_type": "code",
   "execution_count": 45,
   "id": "da86929b",
   "metadata": {},
   "outputs": [
    {
     "data": {
      "text/plain": [
       "[3, 4, 2, 5, 1]"
      ]
     },
     "execution_count": 45,
     "metadata": {},
     "output_type": "execute_result"
    }
   ],
   "source": [
    "import random\n",
    "li3 = [1,2,3,4,5]\n",
    "random.shuffle(li3)\n",
    "li3"
   ]
  },
  {
   "cell_type": "markdown",
   "id": "cf5d1b6c",
   "metadata": {},
   "source": [
    "#### Q10. [1,2,3,4,5,6,7,8,9]에서 임의로 3개를 선택하여 출력하세요."
   ]
  },
  {
   "cell_type": "code",
   "execution_count": 46,
   "id": "30f738dd",
   "metadata": {},
   "outputs": [
    {
     "data": {
      "text/plain": [
       "[7, 4, 2]"
      ]
     },
     "execution_count": 46,
     "metadata": {},
     "output_type": "execute_result"
    }
   ],
   "source": [
    "li4 = [1,2,3,4,5,6,7,8,9]\n",
    "random.sample(li4,3)"
   ]
  },
  {
   "cell_type": "markdown",
   "id": "5c94ca0e",
   "metadata": {},
   "source": [
    "#### Q11. 게시물의 총 건수와 한 페이지에 보여줄 게시물 수를 입력시 총 페이지 수를 출력하는 프로그램"
   ]
  },
  {
   "cell_type": "code",
   "execution_count": 55,
   "id": "1ec4e885",
   "metadata": {},
   "outputs": [
    {
     "name": "stdout",
     "output_type": "stream",
     "text": [
      "게시물의 총 건수> 5\n",
      "한 페이지에 보여줄 게시물 수> 5\n"
     ]
    },
    {
     "data": {
      "text/plain": [
       "'1페이지'"
      ]
     },
     "execution_count": 55,
     "metadata": {},
     "output_type": "execute_result"
    }
   ],
   "source": [
    "def board():\n",
    "    a = int(input(\"게시물의 총 건수> \"))\n",
    "    b = int(input(\"한 페이지에 보여줄 게시물 수> \"))\n",
    "    if a / b <= 1 :\n",
    "        return'1페이지'\n",
    "    elif a / b > 1 :\n",
    "        return '{}페이지'.format(a//b)\n",
    "board()"
   ]
  },
  {
   "cell_type": "markdown",
   "id": "a3f3c186",
   "metadata": {},
   "source": [
    "## 예외처리"
   ]
  },
  {
   "cell_type": "markdown",
   "id": "2842c506",
   "metadata": {},
   "source": [
    "## 클래스"
   ]
  },
  {
   "cell_type": "markdown",
   "id": "a9969196",
   "metadata": {},
   "source": [
    "## 정규표현식"
   ]
  }
 ],
 "metadata": {
  "kernelspec": {
   "display_name": "Python 3",
   "language": "python",
   "name": "python3"
  },
  "language_info": {
   "codemirror_mode": {
    "name": "ipython",
    "version": 3
   },
   "file_extension": ".py",
   "mimetype": "text/x-python",
   "name": "python",
   "nbconvert_exporter": "python",
   "pygments_lexer": "ipython3",
   "version": "3.8.10"
  }
 },
 "nbformat": 4,
 "nbformat_minor": 5
}
