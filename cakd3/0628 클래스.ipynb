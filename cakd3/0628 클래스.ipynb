{
 "cells": [
  {
   "cell_type": "markdown",
   "id": "d0ffe43d",
   "metadata": {},
   "source": [
    "클래스 멤버, 클래스 메소드  \n",
    "클래스를 구성하는 주요 요소는 멤버(변수)와 메소드(함수)로 클래스 공간 내에서 정의  \n",
    "클래스 메소드는 첫 번째 인자가 반드시 self로 시작(객체 자체를 가리킴)  \n",
    "self는 이 클래스의 인스턴스 객체(obj)를 가리키는 참조자  \n",
    "인스턴스 객체에서 클래스 메소드를 호출 시 첫번째 인자인 self 생략"
   ]
  },
  {
   "cell_type": "code",
   "execution_count": 2,
   "id": "0b8b01cb",
   "metadata": {},
   "outputs": [
    {
     "name": "stdout",
     "output_type": "stream",
     "text": [
      "안녕하세요\n",
      "안녕하세요\n"
     ]
    }
   ],
   "source": [
    "class MyClass : \n",
    "    var = '안녕하세요'  #클래스 멤버\n",
    "    def sayHello(self): #클래스 메소드\n",
    "        return self.var\n",
    "    \n",
    "obj = MyClass()   #클래스의 모든 자원을 이용할 수 있다는 게 객체를 만드는 순간에 이루어지는 것.\n",
    "print(obj.var)\n",
    "print(obj.sayHello())"
   ]
  },
  {
   "cell_type": "markdown",
   "id": "4ce12f04",
   "metadata": {},
   "source": [
    "#### 클래스 멤버와 인스턴스 멤버 \n",
    "클래스 멤버는 클래스 메소드 바깥에서 선언되고 인스턴스 멤버는 클래스 메소드 안에서 self와 함께 선언"
   ]
  },
  {
   "cell_type": "code",
   "execution_count": 4,
   "id": "31c60f7a",
   "metadata": {},
   "outputs": [
    {
     "name": "stdout",
     "output_type": "stream",
     "text": [
      "안녕하세요\n",
      "안녕\n",
      "안녕하세요\n",
      "Hi\n"
     ]
    }
   ],
   "source": [
    "class MyClass:\n",
    "    var = '안녕하세요' #클래스 멤버 -> 클래스 메소드 밖에 있음\n",
    "    def sayHello(self): #클래스 메소드\n",
    "        param1 = '안녕' #지역변수\n",
    "        self.param2 = 'Hi' #인스턴스 멤버 -> 클래스 메소드 안에 있음, self와 함께 선언돼야함\n",
    "        print(param1)\n",
    "        print(self.var)\n",
    "        print(self.param2)\n",
    "\n",
    "obj = MyClass()\n",
    "print(obj.var)\n",
    "obj.sayHello()\n",
    "\n",
    "# obj.param1 -> sayHello안에 있는 애를 바로 부르니까 에러남"
   ]
  },
  {
   "cell_type": "code",
   "execution_count": 3,
   "id": "a1acab3d",
   "metadata": {},
   "outputs": [
    {
     "name": "stdout",
     "output_type": "stream",
     "text": [
      "안녕하세요\n",
      "철수! 다음에 또 보자\n"
     ]
    }
   ],
   "source": [
    "# 클래스 메소드\n",
    "# 클래스 내에서 정의되는 클래스 메소드는 첫번째 인자가 반드시 self여야 한다. \n",
    "class MyClass:\n",
    "    def sayHello(self):\n",
    "        print('안녕하세요')\n",
    "    def sayBye(self, name):\n",
    "        print('%s! 다음에 또 보자' %name)\n",
    "\n",
    "obj = MyClass()\n",
    "\n",
    "obj.sayHello()\n",
    "obj.sayBye('철수') #얘는 반드시 인자를 넣어줘야 함"
   ]
  },
  {
   "cell_type": "markdown",
   "id": "56677ad2",
   "metadata": {},
   "source": [
    "#### 클래스 생성자(인자가 없는 경우)\n",
    "#### 클래스의 인스턴스 객체가 생성될 때 자동적으로 호출되는 메소드"
   ]
  },
  {
   "cell_type": "code",
   "execution_count": 4,
   "id": "9fdb4ee5",
   "metadata": {},
   "outputs": [
    {
     "name": "stdout",
     "output_type": "stream",
     "text": [
      "MyClass 인스턴스 객체가 생성되었습니다.\n",
      "안녕하세요\n"
     ]
    }
   ],
   "source": [
    "class MyClass: \n",
    "    def __init__(self):  #얘는 생성자라서 자동적으로 호출돼서 이 아래 있는애들을 그냥 쓸 수 있음\n",
    "        self.var = '안녕하세요' #인스턴스멤버\n",
    "        print('MyClass 인스턴스 객체가 생성되었습니다.')\n",
    "\n",
    "obj = MyClass() #MyClass 인스턴스 객체가 생성되었습니다. -> 메소드를 안불러왔는대도 바로 호출이 됨.그게생성자.\n",
    "print(obj.var) #안녕하세요\n",
    "        "
   ]
  },
  {
   "cell_type": "markdown",
   "id": "92d9819d",
   "metadata": {},
   "source": [
    "#### 클래스 생성자(인자가 있는 경우)\n",
    "#### 클래스의 인스턴스 객체가 생성될 때 "
   ]
  },
  {
   "cell_type": "code",
   "execution_count": 5,
   "id": "6b6e825b",
   "metadata": {
    "scrolled": true
   },
   "outputs": [
    {
     "name": "stdout",
     "output_type": "stream",
     "text": [
      "생성자 인자로 전달받은 값은 <Kevin>입니다.\n",
      "Kevin\n"
     ]
    }
   ],
   "source": [
    "class MyClass:\n",
    "    def __init__(self,txt):\n",
    "        self.var = txt #인스턴스 멤버\n",
    "        print('생성자 인자로 전달받은 값은 <'+self.var+'>입니다.')\n",
    "        \n",
    "obj = MyClass('Kevin')\n",
    "print(obj.var)"
   ]
  },
  {
   "cell_type": "markdown",
   "id": "9b434c58",
   "metadata": {},
   "source": [
    "#### 클래스 소멸자\n",
    "#### 클래스 인스턴스 객체가 메모리에서 제거될 때 자동으로 호출되는 클래스 메소드"
   ]
  },
  {
   "cell_type": "code",
   "execution_count": 6,
   "id": "85455b07",
   "metadata": {
    "scrolled": true
   },
   "outputs": [
    {
     "name": "stdout",
     "output_type": "stream",
     "text": [
      "MyClass 인스턴스 객체가 메모리에서 제거됩니다.\n"
     ]
    }
   ],
   "source": [
    "class MyClass:\n",
    "    def __del__(self):\n",
    "        print('MyClass 인스턴스 객체가 메모리에서 제거됩니다.')\n",
    "obj = MyClass()\n",
    "del obj"
   ]
  },
  {
   "cell_type": "markdown",
   "id": "afac9315",
   "metadata": {},
   "source": [
    "#### 클래스 상속 : class 자식클래스(부모클래스)\n",
    "#### 어떤 클래스(부모)가 가지고 있는 모든 멤버나 메소드를 상속받는 클래스(자식)가 모두 사용할 수 있도록 해주는 것  \n",
    "#### 자식 클래스는 여러 부모 클래스로부터 상속받을 수 있으며 다중상속이라 한다.  \n",
    "방법 : class 자식클래스(부모클래스1 부모클래스2,...)"
   ]
  },
  {
   "cell_type": "markdown",
   "id": "c7c65b77",
   "metadata": {},
   "source": [
    "Q. 더하기Sum , 곱하기 Mul 클래스를 작성하고 상속을 받은 자식 클래스 Cal을 작성하여 덧셈과 곱셈과 뺄셈을 수행하세요."
   ]
  },
  {
   "cell_type": "code",
   "execution_count": 52,
   "id": "a9e01796",
   "metadata": {},
   "outputs": [
    {
     "name": "stdout",
     "output_type": "stream",
     "text": [
      "75\n"
     ]
    }
   ],
   "source": [
    "class MyCal:\n",
    "    def sum(self, a, *args):\n",
    "        result = a \n",
    "        for i in args:\n",
    "            result += i\n",
    "        return result\n",
    "    def mul(self, a, *args):\n",
    "        result = a\n",
    "        for i in args:\n",
    "            result *= i\n",
    "        return result\n",
    "\n",
    "class Cal(MyCal):\n",
    "    pass\n",
    "\n",
    "obj = Cal()\n",
    "print(obj.mul(5,3,5))"
   ]
  },
  {
   "cell_type": "code",
   "execution_count": 8,
   "id": "bc0fabb1",
   "metadata": {
    "scrolled": true
   },
   "outputs": [
    {
     "name": "stdout",
     "output_type": "stream",
     "text": [
      "3\n",
      "6\n"
     ]
    }
   ],
   "source": [
    "#선생님 답안\n",
    "class Sum:\n",
    "    def sum(self, n1, n2):\n",
    "        return n1 + n2\n",
    "class Mul:\n",
    "    def mul(self, n1, n2):\n",
    "        return n1*n2\n",
    "    \n",
    "class Cal(Sum, Mul): #다중 상속\n",
    "    def sub(self, n1, n2):\n",
    "        return n1 - n2\n",
    "    \n",
    "obj = Cal()\n",
    "print(obj.sum(1,2))\n",
    "print(obj.mul(2,3))"
   ]
  },
  {
   "cell_type": "markdown",
   "id": "4a445063",
   "metadata": {},
   "source": [
    "#### Q. 클래스 MyClass를 작성하고 객체를 생성하여 아래와 같이 출력하세요(생성자 사용)\n",
    "##### Kevin, 안녕하세요\n",
    "##### Kevin, 다음에 보자"
   ]
  },
  {
   "cell_type": "code",
   "execution_count": 50,
   "id": "ed948456",
   "metadata": {
    "scrolled": true
   },
   "outputs": [
    {
     "name": "stdout",
     "output_type": "stream",
     "text": [
      "kevin, 안녕하세요\n",
      "kevin! 다음에 보자\n"
     ]
    }
   ],
   "source": [
    "#생성자는 하나밖에 못쓰고, __init__밖에 없다. \n",
    "class MyClass:\n",
    "    def __init__(self,name):\n",
    "        self.name = name\n",
    "        print(\"%s, 안녕하세요\" % self.name)\n",
    "    def kevinbye(self,name):\n",
    "        self.name = name\n",
    "        print(\"%s! 다음에 보자\" % self.name)\n",
    "\n",
    "obj = MyClass('kevin')\n",
    "obj.kevinbye('kevin')\n",
    "\n"
   ]
  },
  {
   "cell_type": "code",
   "execution_count": 23,
   "id": "dcc8af08",
   "metadata": {},
   "outputs": [
    {
     "name": "stdout",
     "output_type": "stream",
     "text": [
      "kevin, 안녕하세요\n",
      "kevin! 다음에 보자\n"
     ]
    }
   ],
   "source": [
    "#한아름님\n",
    "class MyClass:\n",
    "    def __init__(self,name):\n",
    "        self.name = name\n",
    "        \n",
    "    def hello(self):\n",
    "        print(\"%s, 안녕하세요\" % self.name)\n",
    "        \n",
    "    def bye(self):\n",
    "        print(\"%s! 다음에 보자\" % self.name)\n",
    "        \n",
    "obj = MyClass(\"kevin\")\n",
    "\n",
    "obj.hello()\n",
    "obj.bye()\n"
   ]
  },
  {
   "cell_type": "code",
   "execution_count": 18,
   "id": "653289cb",
   "metadata": {},
   "outputs": [
    {
     "name": "stdout",
     "output_type": "stream",
     "text": [
      "홍길동님 안녕하세요\n",
      "홍길동님 다음에 보자\n"
     ]
    }
   ],
   "source": [
    "#신인철님\n",
    "class MyClass:\n",
    "    def sayHello(self,name):\n",
    "        print('%s님 안녕하세요' %name)\n",
    "    def sayBye(self,name):\n",
    "        print('%s님 다음에 보자' %name)\n",
    "        \n",
    "a = MyClass()\n",
    "a.sayHello('홍길동')\n",
    "a.sayBye('홍길동')\n"
   ]
  },
  {
   "cell_type": "markdown",
   "id": "64973be0",
   "metadata": {},
   "source": [
    "#### Q. 사용자 함수를 작성하여 기본가격 1000에 입력 받은 값을 추가한 가격을 산출하세요.\n",
    " (지역변수, 전역 변수 2가지 방법)"
   ]
  },
  {
   "cell_type": "code",
   "execution_count": 45,
   "id": "cb626722",
   "metadata": {},
   "outputs": [
    {
     "name": "stdout",
     "output_type": "stream",
     "text": [
      "추가 금액을 입력하세요 : 500\n",
      "1500\n",
      "추가 금액을 입력하세요 : 600\n",
      "1600\n"
     ]
    }
   ],
   "source": [
    "#지역변수\n",
    "def add1():\n",
    "    a = int(input(\"추가 금액을 입력하세요 : \"))\n",
    "    origin = 1000\n",
    "    return a + origin\n",
    "\n",
    "print(add1())\n",
    "\n",
    "\n",
    "#전역변수\n",
    "a = input(\"추가 금액을 입력하세요 : \")\n",
    "\n",
    "def add2():\n",
    "    global a\n",
    "    origin2 = 1000\n",
    "    a1 = int(a)\n",
    "    return a1 + origin2\n",
    "print(add2())"
   ]
  },
  {
   "cell_type": "code",
   "execution_count": null,
   "id": "9a594a10",
   "metadata": {},
   "outputs": [],
   "source": [
    "#### Q. "
   ]
  }
 ],
 "metadata": {
  "kernelspec": {
   "display_name": "Python 3",
   "language": "python",
   "name": "python3"
  },
  "language_info": {
   "codemirror_mode": {
    "name": "ipython",
    "version": 3
   },
   "file_extension": ".py",
   "mimetype": "text/x-python",
   "name": "python",
   "nbconvert_exporter": "python",
   "pygments_lexer": "ipython3",
   "version": "3.9.5"
  }
 },
 "nbformat": 4,
 "nbformat_minor": 5
}
