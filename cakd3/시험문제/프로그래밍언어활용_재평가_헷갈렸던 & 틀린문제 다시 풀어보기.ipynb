{
 "cells": [
  {
   "cell_type": "markdown",
   "metadata": {},
   "source": [
    "## 빅데이터 기반 AI 응용 솔루션 개발자 전문과정\n",
    "\n",
    "#### 교과목명 : 프로그래밍 언어 활용\n",
    "\n",
    "- 평가일 : 21.07.09\n",
    "- 성명 : 조경림\n",
    "- 점수 :\n",
    "\n",
    "※ 문제당 5점으로 채점"
   ]
  },
  {
   "cell_type": "markdown",
   "metadata": {},
   "source": [
    "#### 2. 아래 사용자 함수, 변수 리스트 및 2개의 내장함수를 각각 이용해서 [12, 14, 16, 18, 20], [6]를 출력하세요.(내장함수 2개 사용 필수) "
   ]
  },
  {
   "cell_type": "code",
   "execution_count": 5,
   "metadata": {},
   "outputs": [
    {
     "name": "stdout",
     "output_type": "stream",
     "text": [
      "[12, 14, 16, 18, 20]\n",
      "[6]\n"
     ]
    }
   ],
   "source": [
    "# 함수를 선언합니다.\n",
    "def power(item):\n",
    "    return item + item\n",
    "def under_7(item):\n",
    "    return item < 7\n",
    "\n",
    "# 변수를 선언합니다.\n",
    "list_input_a = [6,  7,  8,  9, 10]\n",
    "a = map(power,list_input_a)\n",
    "print(list(a))\n",
    "b= filter(under_7,list_input_a)\n",
    "print(list(b))"
   ]
  },
  {
   "cell_type": "markdown",
   "metadata": {},
   "source": [
    "#### 5. 10자리 정수를 입력한 후  콤마로 천단위를 구분하여 출력하세요."
   ]
  },
  {
   "cell_type": "code",
   "execution_count": 7,
   "metadata": {},
   "outputs": [
    {
     "name": "stdout",
     "output_type": "stream",
     "text": [
      "정수를 입력하세요 : 456123\n"
     ]
    },
    {
     "ename": "TypeError",
     "evalue": "can only concatenate str (not \"tuple\") to str",
     "output_type": "error",
     "traceback": [
      "\u001b[1;31m---------------------------------------------------------------------------\u001b[0m",
      "\u001b[1;31mTypeError\u001b[0m                                 Traceback (most recent call last)",
      "\u001b[1;32m<ipython-input-7-68abefff5bea>\u001b[0m in \u001b[0;36m<module>\u001b[1;34m\u001b[0m\n\u001b[0;32m      6\u001b[0m     \u001b[1;32mfor\u001b[0m \u001b[0mi\u001b[0m\u001b[1;33m,\u001b[0m \u001b[0mc\u001b[0m \u001b[1;32min\u001b[0m \u001b[0menumerate\u001b[0m\u001b[1;33m(\u001b[0m\u001b[0mnum\u001b[0m\u001b[1;33m)\u001b[0m\u001b[1;33m:\u001b[0m\u001b[1;33m\u001b[0m\u001b[1;33m\u001b[0m\u001b[0m\n\u001b[0;32m      7\u001b[0m         \u001b[1;32mif\u001b[0m \u001b[0mi\u001b[0m \u001b[1;33m!=\u001b[0m\u001b[0mlen\u001b[0m\u001b[1;33m(\u001b[0m\u001b[0mnum\u001b[0m\u001b[1;33m)\u001b[0m \u001b[1;32mand\u001b[0m \u001b[0mi\u001b[0m\u001b[1;33m%\u001b[0m\u001b[1;36m3\u001b[0m \u001b[1;33m==\u001b[0m\u001b[1;36m0\u001b[0m\u001b[1;33m:\u001b[0m\u001b[1;33m\u001b[0m\u001b[1;33m\u001b[0m\u001b[0m\n\u001b[1;32m----> 8\u001b[1;33m             \u001b[0mret\u001b[0m\u001b[1;33m+=\u001b[0m\u001b[1;33m(\u001b[0m\u001b[0mc\u001b[0m\u001b[1;33m,\u001b[0m\u001b[1;34m','\u001b[0m\u001b[1;33m)\u001b[0m\u001b[1;33m\u001b[0m\u001b[1;33m\u001b[0m\u001b[0m\n\u001b[0m\u001b[0;32m      9\u001b[0m         \u001b[1;32melse\u001b[0m \u001b[1;33m:\u001b[0m\u001b[1;33m\u001b[0m\u001b[1;33m\u001b[0m\u001b[0m\n\u001b[0;32m     10\u001b[0m             \u001b[0mret\u001b[0m \u001b[1;33m+=\u001b[0m \u001b[0mc\u001b[0m\u001b[1;33m\u001b[0m\u001b[1;33m\u001b[0m\u001b[0m\n",
      "\u001b[1;31mTypeError\u001b[0m: can only concatenate str (not \"tuple\") to str"
     ]
    }
   ],
   "source": [
    "num = input('정수를 입력하세요 : ')\n",
    "\n",
    "if num.isdigit():\n",
    "    num = num[::-1]\n",
    "    ret =''\n",
    "    for i, c in enumerate(num):\n",
    "        if i !=len(num) and i%3 ==0:\n",
    "            ret+=(c,',')\n",
    "        else :\n",
    "            ret += c\n",
    "            ret = ret[::-1]\n",
    "            print(ret)\n",
    "else : \n",
    "    print('잘못 입력하셨습니다.')"
   ]
  },
  {
   "cell_type": "markdown",
   "metadata": {},
   "source": [
    "#### 17. 문자열 리스트 states를 정형화하여 아래와 같이 출력하세요(내장함수 및 정규표현식 사용)"
   ]
  },
  {
   "cell_type": "markdown",
   "metadata": {},
   "source": [
    "states = ['   Alabama ', 'Georgia!', 'Georgia', 'georgia', 'FlOrIda',  \n",
    "          'south   carolina##', 'West virginia?']  \n",
    "\n",
    "[출력]\n",
    "['Alabama',  \n",
    " 'Georgia',  \n",
    " 'Georgia',  \n",
    " 'Georgia',  \n",
    " 'Florida',  \n",
    " 'South   Carolina',  \n",
    " 'West Virginia']  "
   ]
  },
  {
   "cell_type": "markdown",
   "metadata": {},
   "source": [
    "#### 19. 발표할 인원을 입력하면 (파이썬의)랜덤으로 발표자를 리스트로 출력해주는 프로그램을 작성 후 다음을 수행하세요.(중복 허용하지 않음)\n",
    "- 발표자 1명\n",
    "- 발표자 5명\n",
    "- 발표자 28명 전원"
   ]
  },
  {
   "cell_type": "markdown",
   "metadata": {},
   "source": [
    "#### 20. 네이버 통합검색 사이트에서 빅데이터를 입력한 후 관련 뉴스의 타이틀만 선택하여 아래 포멧으로 출력하세요."
   ]
  },
  {
   "cell_type": "code",
   "execution_count": null,
   "metadata": {},
   "outputs": [],
   "source": [
    "1.'4년만에'…6개 보험사, 공공의료데이터 받는다(종합)\n",
    "2.부산시 금융 빅데이터 센터 구축 공모사업 선정\n",
    "3.\"중 의료 빅데이터업체 미 상장 보류…당국 규제강화 후 첫사례\"\n",
    "4.소비자원, 빅데이터로 소비자 분쟁 지원...中企 대응력 키운다\n",
    "5.KISA, 사이버보안 8억건 'AI 데이터셋' 구축 추진\n",
    "6.농식품 공공데이터 개방…가격·요리정보 활용 높아\n",
    "7.과학화훈련단 빅데이터 활용한 프로그램 만든다\n",
    "8.세종대, 하계방학 빅데이터 분석실무2급 프로그램 운영\n",
    "9.한국농수산식품유통공사, 범정부 빅데이터 플랫폼 연계 상담회 개최\n",
    "10.KISA, '사이버보안' AI 데이터셋 구축 착수"
   ]
  }
 ],
 "metadata": {
  "kernelspec": {
   "display_name": "Python 3",
   "language": "python",
   "name": "python3"
  },
  "language_info": {
   "codemirror_mode": {
    "name": "ipython",
    "version": 3
   },
   "file_extension": ".py",
   "mimetype": "text/x-python",
   "name": "python",
   "nbconvert_exporter": "python",
   "pygments_lexer": "ipython3",
   "version": "3.8.10"
  }
 },
 "nbformat": 4,
 "nbformat_minor": 2
}
