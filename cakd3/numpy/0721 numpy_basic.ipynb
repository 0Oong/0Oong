{
 "cells": [
  {
   "cell_type": "markdown",
   "id": "92012757",
   "metadata": {},
   "source": [
    "#### Numpy는 \"Numerical Python\"의 약자로 대규모 다차원 배열과 행렬연산에 필요한 다양한 함수를 제공\n",
    "- Numerical python을 의미하는 넘파이는 파이썬에서 선형대수 기반의 프로그램을 쉽게 만들 수 있도록 지원하는 대표적인 패키지\n",
    "- 많은 머신러닝 알고리즘이 넘파이 기반으로 작성돼 있으며 알고리즘의 입출력 데이터를 넘파이 배열 타입으로 사용함\n",
    "- 넘파이의 기본 데이터 타입은 ndarray.ndarray를 이용해 넘파이에서 다차원 배열을 쉽게 생성하고 다양한 연산 수행\n",
    "\n",
    "#### Numpy 특징\n",
    "- 강력한 N차원 배열 객체\n",
    "- 정교한 브로드케스팅(Broadcast)기능\n",
    "- C/C++ 및 포트란 코드 통합 도구\n",
    "- 유용한 선형 대수학, 푸리에 변환 및 난수 기능\n",
    "- 범용적 데이터 처리에 사용 가능한 다차원 컨테이너"
   ]
  },
  {
   "cell_type": "code",
   "execution_count": 9,
   "id": "b58bac58",
   "metadata": {
    "scrolled": true
   },
   "outputs": [
    {
     "name": "stdout",
     "output_type": "stream",
     "text": [
      "[[ 0.84233467  0.1564447   1.06448085]\n",
      " [ 0.2612705   0.26489444 -0.78102877]] \n",
      "\n",
      "[[ 8.42334666  1.56444696 10.6448085 ]\n",
      " [ 2.61270504  2.64894442 -7.81028769]] \n",
      "\n",
      "[[10.84233467 10.1564447  11.06448085]\n",
      " [10.2612705  10.26489444  9.21897123]] \n",
      "\n",
      "[[ 1.68466933  0.31288939  2.1289617 ]\n",
      " [ 0.52254101  0.52978888 -1.56205754]] \n",
      "\n"
     ]
    }
   ],
   "source": [
    "import numpy as np\n",
    "data = np.random.randn(2,3)\n",
    "print(data,'\\n')\n",
    "print(data*10, '\\n')  #각각에 10이 곱해지는것, 그게 브로드캐스팅임\n",
    "print(data+10, '\\n')\n",
    "print(data+data, '\\n')"
   ]
  },
  {
   "cell_type": "markdown",
   "id": "a02758c8",
   "metadata": {},
   "source": [
    "#### 다차원 배열 \n",
    "<img src='numpy차원.jpg' STYLE = 'width:500px;'>\n",
    "\n",
    "3차원의 경우, (0,1)(1,3)(0,3)해서 2행2열짜리가 세 개가 있는 것"
   ]
  },
  {
   "cell_type": "code",
   "execution_count": 14,
   "id": "f448d56e",
   "metadata": {},
   "outputs": [
    {
     "data": {
      "text/plain": [
       "array([[1, 2, 3, 4],\n",
       "       [5, 6, 7, 8]])"
      ]
     },
     "execution_count": 14,
     "metadata": {},
     "output_type": "execute_result"
    }
   ],
   "source": [
    "data2 = [[1,2,3,4],[5,6,7,8]]\n",
    "arr2=np.array(data2)\n",
    "arr2"
   ]
  },
  {
   "cell_type": "code",
   "execution_count": 15,
   "id": "f8e460d0",
   "metadata": {},
   "outputs": [
    {
     "data": {
      "text/plain": [
       "array([[1, 2, 3, 4],\n",
       "       [5, 6, 7, 8]])"
      ]
     },
     "execution_count": 15,
     "metadata": {},
     "output_type": "execute_result"
    }
   ],
   "source": [
    "arr2=np.arange(1,9).reshape(2,4)\n",
    "arr2"
   ]
  },
  {
   "cell_type": "code",
   "execution_count": 18,
   "id": "477d1962",
   "metadata": {
    "scrolled": true
   },
   "outputs": [
    {
     "name": "stdout",
     "output_type": "stream",
     "text": [
      "2\n",
      "(2, 4)\n"
     ]
    }
   ],
   "source": [
    "print(arr2.ndim)\n",
    "print(arr2.shape)"
   ]
  },
  {
   "cell_type": "code",
   "execution_count": 19,
   "id": "3f97a63b",
   "metadata": {},
   "outputs": [
    {
     "name": "stdout",
     "output_type": "stream",
     "text": [
      "3\n",
      "(3, 2, 5)\n"
     ]
    }
   ],
   "source": [
    "# 3차원 배열\n",
    "array3=np.array([[[1,2,3,4,5],[6,7,8,9,10]],\n",
    "                [[1,2,3,4,5],[6,7,8,9,10]],\n",
    "                [[1,2,3,4,5],[6,7,8,9,10]]])\n",
    "print(array3.ndim) #몇차원인지 알려주는 함수 n, dimension\n",
    "print(array3.shape) #(3,2,5)는 3차원, 행, 열"
   ]
  },
  {
   "cell_type": "code",
   "execution_count": 27,
   "id": "d4cfd9e0",
   "metadata": {},
   "outputs": [
    {
     "name": "stdout",
     "output_type": "stream",
     "text": [
      "[0. 0. 0. 0. 0. 0. 0. 0. 0. 0.] \n",
      "\n",
      "[[0. 0. 0. 0. 0. 0.]\n",
      " [0. 0. 0. 0. 0. 0.]\n",
      " [0. 0. 0. 0. 0. 0.]] \n",
      "\n",
      "[[[0. 0.]\n",
      "  [0. 0.]\n",
      "  [0. 0.]]\n",
      "\n",
      " [[0. 0.]\n",
      "  [0. 0.]\n",
      "  [0. 0.]]]\n"
     ]
    }
   ],
   "source": [
    "print(np.zeros(10), '\\n')\n",
    "print(np.zeros((3,6)),'\\n')\n",
    "print(np.zeros((2,3,2)))"
   ]
  },
  {
   "cell_type": "code",
   "execution_count": 33,
   "id": "37a73e25",
   "metadata": {},
   "outputs": [
    {
     "name": "stdout",
     "output_type": "stream",
     "text": [
      "[1. 1. 1. 1. 1. 1. 1. 1. 1. 1.]\n",
      "[[1. 1. 1. 1. 1. 1.]\n",
      " [1. 1. 1. 1. 1. 1.]\n",
      " [1. 1. 1. 1. 1. 1.]]\n",
      "[[[1. 1.]\n",
      "  [1. 1.]\n",
      "  [1. 1.]]\n",
      "\n",
      " [[1. 1.]\n",
      "  [1. 1.]\n",
      "  [1. 1.]]]\n"
     ]
    }
   ],
   "source": [
    "print(np.ones(10))\n",
    "print(np.ones((3,6)))\n",
    "print(np.ones((2,3,2)))"
   ]
  },
  {
   "cell_type": "code",
   "execution_count": 37,
   "id": "ac0915be",
   "metadata": {},
   "outputs": [
    {
     "data": {
      "text/plain": [
       "array([ 0,  1,  2,  3,  4,  5,  6,  7,  8,  9, 10, 11, 12, 13, 14])"
      ]
     },
     "execution_count": 37,
     "metadata": {},
     "output_type": "execute_result"
    }
   ],
   "source": [
    "arr3 = np.arange(15)\n",
    "# arr3 = np.arange(0,15)\n",
    "arr3"
   ]
  },
  {
   "cell_type": "code",
   "execution_count": 39,
   "id": "f5a91941",
   "metadata": {
    "scrolled": true
   },
   "outputs": [
    {
     "data": {
      "text/plain": [
       "array([[ 0,  1,  2,  3,  4],\n",
       "       [ 5,  6,  7,  8,  9],\n",
       "       [10, 11, 12, 13, 14]])"
      ]
     },
     "execution_count": 39,
     "metadata": {},
     "output_type": "execute_result"
    }
   ],
   "source": [
    "# reshape 함수 \n",
    "arr3.reshape(3,5)  #15개니까 3행 5열로 맞춰줘야함\n",
    "# arr3.reshape(5,-1) 이런식으로 -1하면 열을 알아서 행열 맞춰줌\n",
    "# arr3.reshape(-1,5) 이런식으로 하면 행을 알아서 맞춰줌"
   ]
  },
  {
   "cell_type": "code",
   "execution_count": 47,
   "id": "15cd4f6b",
   "metadata": {},
   "outputs": [
    {
     "name": "stdout",
     "output_type": "stream",
     "text": [
      "[[ 0  1  2]\n",
      " [ 3  4  5]\n",
      " [ 6  7  8]\n",
      " [ 9 10 11]\n",
      " [12 13 14]]\n"
     ]
    },
    {
     "data": {
      "text/plain": [
       "array([[  0,   1,   2,   3,   4,   5,   6,   7,   8,   9,  10,  11,  12,\n",
       "         13,  14,  15,  16,  17,  18,  19,  20,  21,  22,  23,  24],\n",
       "       [ 25,  26,  27,  28,  29,  30,  31,  32,  33,  34,  35,  36,  37,\n",
       "         38,  39,  40,  41,  42,  43,  44,  45,  46,  47,  48,  49],\n",
       "       [ 50,  51,  52,  53,  54,  55,  56,  57,  58,  59,  60,  61,  62,\n",
       "         63,  64,  65,  66,  67,  68,  69,  70,  71,  72,  73,  74],\n",
       "       [ 75,  76,  77,  78,  79,  80,  81,  82,  83,  84,  85,  86,  87,\n",
       "         88,  89,  90,  91,  92,  93,  94,  95,  96,  97,  98,  99],\n",
       "       [100, 101, 102, 103, 104, 105, 106, 107, 108, 109, 110, 111, 112,\n",
       "        113, 114, 115, 116, 117, 118, 119, 120, 121, 122, 123, 124],\n",
       "       [125, 126, 127, 128, 129, 130, 131, 132, 133, 134, 135, 136, 137,\n",
       "        138, 139, 140, 141, 142, 143, 144, 145, 146, 147, 148, 149],\n",
       "       [150, 151, 152, 153, 154, 155, 156, 157, 158, 159, 160, 161, 162,\n",
       "        163, 164, 165, 166, 167, 168, 169, 170, 171, 172, 173, 174]])"
      ]
     },
     "execution_count": 47,
     "metadata": {},
     "output_type": "execute_result"
    }
   ],
   "source": [
    "# Q. 5행 3열, 7행 25열 다차원 배열을 생성하세요\n",
    "arr4 = np.arange(15).reshape(5,3)\n",
    "arr5 = np.arange(7*25).reshape(7,-1)\n",
    "\n",
    "print(arr4)\n",
    "arr5"
   ]
  },
  {
   "cell_type": "code",
   "execution_count": 59,
   "id": "65fab5c5",
   "metadata": {},
   "outputs": [
    {
     "name": "stdout",
     "output_type": "stream",
     "text": [
      "[[ 1  2  3  4  5  6  7  8  9 10 11 12 13 14 15 16 17 18 19 20 21 22 23 24\n",
      "  25 26 27 28 29 30]] \n",
      "\n",
      "[[ 1  2  3  4  5  6  7  8  9 10]\n",
      " [11 12 13 14 15 16 17 18 19 20]\n",
      " [21 22 23 24 25 26 27 28 29 30]] \n",
      "\n",
      "[[[ 1  2  3  4  5]\n",
      "  [ 6  7  8  9 10]\n",
      "  [11 12 13 14 15]]\n",
      "\n",
      " [[16 17 18 19 20]\n",
      "  [21 22 23 24 25]\n",
      "  [26 27 28 29 30]]]\n"
     ]
    }
   ],
   "source": [
    "# Q. 1~30 연속된 정수로 1차원,2차원,3차원 배열을 생성하세요.\n",
    "ar1 = np.arange(1,31).reshape(1,30)\n",
    "ar2 = ar1.reshape(3,10)\n",
    "ar3 = ar1.reshape(2,3,5)\n",
    "\n",
    "print(ar1,'\\n')\n",
    "print(ar2,'\\n')\n",
    "print(ar3)"
   ]
  },
  {
   "cell_type": "code",
   "execution_count": 66,
   "id": "9669edf2",
   "metadata": {},
   "outputs": [],
   "source": [
    "# Q. 연속된 정수 20으로 1차원 배열을 생성한 후 2차원,3차원 배열로 변환하세요.\n",
    "arar1 = np.arange(1,21)\n",
    "arar3 = arar1.reshape(2,2,5)\n",
    "arar2 = arar1.reshape(2,10)"
   ]
  },
  {
   "cell_type": "code",
   "execution_count": 70,
   "id": "e79a0fcf",
   "metadata": {},
   "outputs": [
    {
     "name": "stdout",
     "output_type": "stream",
     "text": [
      "[ 1  2  3  4  5  6  7  8  9 10 11 12 13 14 15 16 17 18 19 20 21 22 23 24\n",
      " 25 26 27 28 29 30] \n",
      "\n",
      "[[ 1  2  3  4  5  6  7  8  9 10]\n",
      " [11 12 13 14 15 16 17 18 19 20]\n",
      " [21 22 23 24 25 26 27 28 29 30]] \n",
      "\n",
      "[[[ 1  2  3  4  5]\n",
      "  [ 6  7  8  9 10]\n",
      "  [11 12 13 14 15]]\n",
      "\n",
      " [[16 17 18 19 20]\n",
      "  [21 22 23 24 25]\n",
      "  [26 27 28 29 30]]]\n"
     ]
    }
   ],
   "source": [
    "# Q. 연속된 정수 1~30으로 2차원 배열을 생성한 후 1차원, 3차원 배열로 변환하세요\n",
    "ar2 = np.arange(1,31).reshape(3,10)\n",
    "ar1 = ar2.reshape(30)\n",
    "ar3 = ar2.reshape(2,3,5)\n",
    "\n",
    "print(ar1,'\\n')\n",
    "print(ar2,'\\n')\n",
    "print(ar3)"
   ]
  },
  {
   "cell_type": "markdown",
   "id": "8a81b35d",
   "metadata": {},
   "source": [
    "참고 https://m.blog.naver.com/wideeyed/221533365486  (flatten,ravel,reshape 비교)\n",
    "\n",
    "https://rfriend.tistory.com/349 ravel 사용법"
   ]
  },
  {
   "cell_type": "code",
   "execution_count": 72,
   "id": "0dff9e93",
   "metadata": {},
   "outputs": [
    {
     "name": "stdout",
     "output_type": "stream",
     "text": [
      "[[[ 1  2  3]\n",
      "  [ 4  5  6]]\n",
      "\n",
      " [[ 7  8  9]\n",
      "  [10 11 12]]\n",
      "\n",
      " [[13 14 15]\n",
      "  [16 17 18]]\n",
      "\n",
      " [[19 20 21]\n",
      "  [22 23 24]]] \n",
      "\n",
      "[ 1  2  3  4  5  6  7  8  9 10 11 12 13 14 15 16 17 18 19 20 21 22 23 24] \n",
      "\n",
      "[[ 1  2  3  4]\n",
      " [ 5  6  7  8]\n",
      " [ 9 10 11 12]\n",
      " [13 14 15 16]\n",
      " [17 18 19 20]\n",
      " [21 22 23 24]]\n"
     ]
    }
   ],
   "source": [
    "# Q. 연속된 정수 1~24로 3차원 배열을 생성한 후 1차원, 2차원 배열로 변환하세요\n",
    "ar3 = np.arange(1,25).reshape(4,2,-1)\n",
    "ar1 = ar3.reshape(-1) #1차원은 -1만 넣어도 된다. 혹은 flatten() 함수를 사용하면 됨. ar1=ar3.flatten()\n",
    "ar2 = ar3.reshape(6,4)\n",
    "\n",
    "print(ar3,'\\n')\n",
    "print(ar1,'\\n')\n",
    "print(ar2)"
   ]
  },
  {
   "cell_type": "code",
   "execution_count": 81,
   "id": "b226d5e1",
   "metadata": {},
   "outputs": [
    {
     "data": {
      "text/plain": [
       "[[[0, 1], [2, 3], [4, 5]],\n",
       " [[6, 7], [8, 9], [10, 11]],\n",
       " [[12, 13], [14, 15], [16, 17]],\n",
       " [[18, 19], [20, 21], [22, 23]],\n",
       " [[24, 25], [26, 27], [28, 29]]]"
      ]
     },
     "execution_count": 81,
     "metadata": {},
     "output_type": "execute_result"
    }
   ],
   "source": [
    "# 배열을 리스트로 변환\n",
    "ar1 = np.arange(30).reshape(5,3,2)\n",
    "ar1.tolist()"
   ]
  },
  {
   "cell_type": "code",
   "execution_count": 82,
   "id": "8c3e148a",
   "metadata": {},
   "outputs": [
    {
     "data": {
      "text/plain": [
       "array([[7, 7],\n",
       "       [7, 7]])"
      ]
     },
     "execution_count": 82,
     "metadata": {},
     "output_type": "execute_result"
    }
   ],
   "source": [
    "# 어떤 수로 지정해준 행렬을 채우는 것\n",
    "a = np.full((2,2),7) #2행2열을 7로 채우기\n",
    "a"
   ]
  },
  {
   "cell_type": "markdown",
   "id": "76ded174",
   "metadata": {},
   "source": [
    "특수 행렬 : https://m.blog.naver.com/PostView.naver?isHttpsRedirect=true&blogId=ldj1725&logNo=220238788250\n",
    "\n",
    "대각행렬, 삼각행력, 항등행렬(단위행렬)\n",
    "\n",
    "https://math-development-geometry.tistory.com/52"
   ]
  },
  {
   "cell_type": "code",
   "execution_count": 83,
   "id": "342718ee",
   "metadata": {},
   "outputs": [
    {
     "data": {
      "text/plain": [
       "array([[1., 0., 0.],\n",
       "       [0., 1., 0.],\n",
       "       [0., 0., 1.]])"
      ]
     },
     "execution_count": 83,
     "metadata": {},
     "output_type": "execute_result"
    }
   ],
   "source": [
    "# 항등행렬, 단위행렬\n",
    "ar = np.eye(3)\n",
    "ar"
   ]
  },
  {
   "cell_type": "code",
   "execution_count": 89,
   "id": "76203d7f",
   "metadata": {
    "scrolled": true
   },
   "outputs": [
    {
     "name": "stdout",
     "output_type": "stream",
     "text": [
      "[[1 2 3]\n",
      " [4 5 6]]\n"
     ]
    },
    {
     "data": {
      "text/plain": [
       "array([[0, 0, 0],\n",
       "       [0, 0, 0]])"
      ]
     },
     "execution_count": 89,
     "metadata": {},
     "output_type": "execute_result"
    }
   ],
   "source": [
    "a = np.array([[1,2,3],[4,5,6]])\n",
    "print(a) \n",
    "b = np.zeros_like(a)  #a와 같은 형태로 제로로 만들어라라는 뜻\n",
    "b"
   ]
  },
  {
   "cell_type": "code",
   "execution_count": 90,
   "id": "30c59f50",
   "metadata": {
    "scrolled": true
   },
   "outputs": [
    {
     "data": {
      "text/plain": [
       "array([ 0.        ,  0.20408163,  0.40816327,  0.6122449 ,  0.81632653,\n",
       "        1.02040816,  1.2244898 ,  1.42857143,  1.63265306,  1.83673469,\n",
       "        2.04081633,  2.24489796,  2.44897959,  2.65306122,  2.85714286,\n",
       "        3.06122449,  3.26530612,  3.46938776,  3.67346939,  3.87755102,\n",
       "        4.08163265,  4.28571429,  4.48979592,  4.69387755,  4.89795918,\n",
       "        5.10204082,  5.30612245,  5.51020408,  5.71428571,  5.91836735,\n",
       "        6.12244898,  6.32653061,  6.53061224,  6.73469388,  6.93877551,\n",
       "        7.14285714,  7.34693878,  7.55102041,  7.75510204,  7.95918367,\n",
       "        8.16326531,  8.36734694,  8.57142857,  8.7755102 ,  8.97959184,\n",
       "        9.18367347,  9.3877551 ,  9.59183673,  9.79591837, 10.        ])"
      ]
     },
     "execution_count": 90,
     "metadata": {},
     "output_type": "execute_result"
    }
   ],
   "source": [
    "# 0~10 사이를 균등하게 50개로 나누어주는 것\n",
    "np.linspace(0,10)  #50을 지정하지 않아도 50개로 나누어줌\n",
    "\n",
    "# numpy.linspace(start, stop, num=50, endpoint=True, retstep=False, dtype=None, axis=0)[source]"
   ]
  },
  {
   "cell_type": "code",
   "execution_count": 93,
   "id": "733f02fe",
   "metadata": {},
   "outputs": [
    {
     "data": {
      "text/plain": [
       "(array([0.  , 0.25, 0.5 , 0.75, 1.  ]), 0.25)"
      ]
     },
     "execution_count": 93,
     "metadata": {},
     "output_type": "execute_result"
    }
   ],
   "source": [
    "np.linspace(0,1,5,retstep=True)  #5는 구간의 기준이 됨. 그래서 구간은 4개가 됨. 그래서 구간의 간격은 0.25가 되는것"
   ]
  },
  {
   "cell_type": "code",
   "execution_count": 103,
   "id": "4e660216",
   "metadata": {},
   "outputs": [
    {
     "data": {
      "text/plain": [
       "[<matplotlib.lines.Line2D at 0x7fc120ce2220>]"
      ]
     },
     "execution_count": 103,
     "metadata": {},
     "output_type": "execute_result"
    },
    {
     "data": {
      "image/png": "[encoded data removed]",
      "text/plain": [
       "<Figure size 432x288 with 1 Axes>"
      ]
     },
     "metadata": {},
     "output_type": "display_data"
    }
   ],
   "source": [
    "import matplotlib.pyplot as plt\n",
    "plt.style.use('seaborn-dark')\n",
    "x = np.linspace(0,1)\n",
    "y = np.linspace(0,50)\n",
    "\n",
    "plt.plot(x,y,'o')"
   ]
  },
  {
   "cell_type": "code",
   "execution_count": 104,
   "id": "f30d2326",
   "metadata": {
    "scrolled": true
   },
   "outputs": [
    {
     "data": {
      "text/plain": [
       "[<matplotlib.lines.Line2D at 0x7fc120ddfe50>]"
      ]
     },
     "execution_count": 104,
     "metadata": {},
     "output_type": "execute_result"
    },
    {
     "data": {
      "image/png": "[encoded data removed]",
      "text/plain": [
       "<Figure size 432x288 with 1 Axes>"
      ]
     },
     "metadata": {},
     "output_type": "display_data"
    }
   ],
   "source": [
    "import matplotlib.pyplot as plt\n",
    "plt.style.use('seaborn-dark')\n",
    "x = np.linspace(0,20,20)\n",
    "y = np.linspace(0.1,1,20)\n",
    "\n",
    "plt.plot(x,y,'o')  #https://codetorial.net/matplotlib/set_marker.html 문자모양알 수 있음"
   ]
  },
  {
   "cell_type": "code",
   "execution_count": 107,
   "id": "f33f674c",
   "metadata": {
    "scrolled": true
   },
   "outputs": [
    {
     "name": "stdout",
     "output_type": "stream",
     "text": [
      "0.0999999993810619\n",
      "1.0\n"
     ]
    },
    {
     "data": {
      "text/plain": [
       "array([ 1.25892541,  1.40400425,  1.565802  ,  1.74624535,  1.94748304,\n",
       "        2.1719114 ,  2.42220294,  2.70133812,  3.0126409 ,  3.35981829,\n",
       "        3.74700446,  4.17881006,  4.66037703,  5.19743987,  5.79639395,\n",
       "        6.46437163,  7.2093272 ,  8.04013161,  8.9666781 , 10.        ])"
      ]
     },
     "execution_count": 107,
     "metadata": {},
     "output_type": "execute_result"
    }
   ],
   "source": [
    "print(np.log10(1.25892541))\n",
    "print(np.log10(10))\n",
    "np.logspace(0.1,1,20)  #0.1을 로그값준것부터 1을 로그값준것까지, 19개 뽑음"
   ]
  },
  {
   "cell_type": "code",
   "execution_count": 110,
   "id": "c35540a4",
   "metadata": {
    "scrolled": true
   },
   "outputs": [
    {
     "data": {
      "image/png": "[encoded data removed]",
      "text/plain": [
       "<Figure size 432x288 with 1 Axes>"
      ]
     },
     "metadata": {},
     "output_type": "display_data"
    }
   ],
   "source": [
    "x = np.linspace(0,20,20)\n",
    "y = np.logspace(0.1,1,20)\n",
    "plt.plot(x,y,'o')\n",
    "\n",
    "plt.style.use('seaborn-dark')"
   ]
  },
  {
   "cell_type": "code",
   "execution_count": 117,
   "id": "17205815",
   "metadata": {},
   "outputs": [
    {
     "name": "stdout",
     "output_type": "stream",
     "text": [
      "int64\n",
      "[1. 2. 3. 4. 5.] float64\n"
     ]
    }
   ],
   "source": [
    "ar1 = np.array([1,2,3,4,5])\n",
    "print(ar1.dtype)\n",
    "float_ar1 = ar1.astype(np.float64)\n",
    "print(float_ar1, float_ar1.dtype)\n"
   ]
  },
  {
   "cell_type": "code",
   "execution_count": 120,
   "id": "476d683c",
   "metadata": {
    "scrolled": true
   },
   "outputs": [
    {
     "data": {
      "text/plain": [
       "array([ 1.25, -9.5 , 42.  ])"
      ]
     },
     "execution_count": 120,
     "metadata": {},
     "output_type": "execute_result"
    }
   ],
   "source": [
    "numeric_string=np.array(['1.25','-9.5','42'], dtype=np.string_)\n",
    "numeric_string.astype(float) #원래 numpy는 float24 써야하는데 float로 써도 자기가 인식함"
   ]
  },
  {
   "cell_type": "code",
   "execution_count": 130,
   "id": "67c3f703",
   "metadata": {},
   "outputs": [
    {
     "name": "stdout",
     "output_type": "stream",
     "text": [
      "float64\n",
      "[1 2 3] int64\n",
      "--------------\n",
      "<선생님 답안>\n",
      "[1.2 2.3 3. ] float64\n",
      "[1 2 3] int64\n"
     ]
    }
   ],
   "source": [
    "# Q. 정수와 실수로 구성된 list_e = [1.2,2.3,3]을 numpy를 이용해서 실수형과 정수형으로 각각 출력하세요. \n",
    "list_e = np.array([1.2,2.3,3])\n",
    "# a = list_e.astype(np.float64)\n",
    "b = list_e.astype(np.int64)\n",
    "\n",
    "print(list_e.dtype)\n",
    "# print(a, a.dtype)\n",
    "print(b, b.dtype)\n",
    "\n",
    "\n",
    "print('--------------')\n",
    "print('<선생님 답안>')\n",
    "# \n",
    "list_e = [1.2,2.3,3]\n",
    "ar_e1 = np.array(list_e)  #기본이 floate\n",
    "ar_e2 = ar_e1.astype('int') #int32, int64까지 굳이 써줄필요 없음\n",
    "\n",
    "print(ar_e1, ar_e1.dtype)\n",
    "print(ar_e2, ar_e2.dtype)"
   ]
  },
  {
   "cell_type": "code",
   "execution_count": 131,
   "id": "98ac2dea",
   "metadata": {},
   "outputs": [
    {
     "data": {
      "text/plain": [
       "array([[1, 2, 3],\n",
       "       [4, 5, 6]])"
      ]
     },
     "execution_count": 131,
     "metadata": {},
     "output_type": "execute_result"
    }
   ],
   "source": [
    "#배열의 산술연산\n",
    "arr = np.array([[1,2,3],[4,5,6]])\n",
    "arr"
   ]
  },
  {
   "cell_type": "code",
   "execution_count": 134,
   "id": "31600e5d",
   "metadata": {
    "scrolled": false
   },
   "outputs": [
    {
     "data": {
      "text/plain": [
       "array([[ 1,  4,  9],\n",
       "       [16, 25, 36]])"
      ]
     },
     "execution_count": 134,
     "metadata": {},
     "output_type": "execute_result"
    }
   ],
   "source": [
    "arr1 = arr * arr  #같은 위치끼리 곱함\n",
    "arr1"
   ]
  },
  {
   "cell_type": "code",
   "execution_count": 135,
   "id": "b447ba0a",
   "metadata": {
    "scrolled": true
   },
   "outputs": [
    {
     "data": {
      "text/plain": [
       "array([[0, 0, 0],\n",
       "       [0, 0, 0]])"
      ]
     },
     "execution_count": 135,
     "metadata": {},
     "output_type": "execute_result"
    }
   ],
   "source": [
    "arr2 = arr - arr #같은 위치끼리 뺌\n",
    "arr2"
   ]
  },
  {
   "cell_type": "code",
   "execution_count": 137,
   "id": "11cffa70",
   "metadata": {
    "scrolled": true
   },
   "outputs": [
    {
     "data": {
      "text/plain": [
       "array([[False, False, False],\n",
       "       [False, False, False]])"
      ]
     },
     "execution_count": 137,
     "metadata": {},
     "output_type": "execute_result"
    }
   ],
   "source": [
    "arr2 > arr1  #각위치끼리 비교해서 저게 맞으면 True, 츨리면 False"
   ]
  },
  {
   "cell_type": "code",
   "execution_count": 140,
   "id": "dfd682e2",
   "metadata": {
    "scrolled": true
   },
   "outputs": [
    {
     "data": {
      "text/plain": [
       "array([[1, 2, 3],\n",
       "       [4, 5, 6],\n",
       "       [7, 8, 9]])"
      ]
     },
     "execution_count": 140,
     "metadata": {},
     "output_type": "execute_result"
    }
   ],
   "source": [
    "ar2 = np.arange(1,10).reshape(3,3)\n",
    "ar2"
   ]
  },
  {
   "cell_type": "code",
   "execution_count": 141,
   "id": "96a4397e",
   "metadata": {},
   "outputs": [
    {
     "data": {
      "text/plain": [
       "array([7, 8, 9])"
      ]
     },
     "execution_count": 141,
     "metadata": {},
     "output_type": "execute_result"
    }
   ],
   "source": [
    "ar2 [2]  #numpy에선 loc, iloc 못써서 그냥 인덱싱으로 값 뽑아줘야 함"
   ]
  },
  {
   "cell_type": "code",
   "execution_count": 143,
   "id": "48e875a7",
   "metadata": {},
   "outputs": [
    {
     "data": {
      "text/plain": [
       "3"
      ]
     },
     "execution_count": 143,
     "metadata": {},
     "output_type": "execute_result"
    }
   ],
   "source": [
    "# 3을 뽑고 싶을 때\n",
    "ar2[0][2]\n",
    "ar2[0,2]"
   ]
  },
  {
   "cell_type": "code",
   "execution_count": 2,
   "id": "eb328573",
   "metadata": {
    "scrolled": true
   },
   "outputs": [
    {
     "data": {
      "text/plain": [
       "array([[ 0,  1,  2,  3],\n",
       "       [ 4,  5,  6,  7],\n",
       "       [ 8,  9, 10, 11],\n",
       "       [12, 13, 14, 15],\n",
       "       [16, 17, 18, 19]])"
      ]
     },
     "execution_count": 2,
     "metadata": {},
     "output_type": "execute_result"
    }
   ],
   "source": [
    "import numpy as np\n",
    "ar2 = np.arange(20).reshape(5,4)\n",
    "ar2"
   ]
  },
  {
   "cell_type": "code",
   "execution_count": 153,
   "id": "990c0f76",
   "metadata": {},
   "outputs": [
    {
     "data": {
      "text/plain": [
       "array([[1, 2, 3],\n",
       "       [5, 6, 7]])"
      ]
     },
     "execution_count": 153,
     "metadata": {},
     "output_type": "execute_result"
    }
   ],
   "source": [
    "ar2[:2, 1:]"
   ]
  },
  {
   "cell_type": "code",
   "execution_count": 5,
   "id": "6dcf42da",
   "metadata": {},
   "outputs": [
    {
     "name": "stdout",
     "output_type": "stream",
     "text": [
      "<원본>\n",
      "[[1 2 3]\n",
      " [4 5 6]\n",
      " [7 8 9]]\n",
      "\n",
      " ------- \n",
      "\n",
      "<첫번째>\n",
      "[[1 2]\n",
      " [4 5]]\n",
      "\n",
      " ------- \n",
      "\n",
      "<두번째>\n",
      "[[4 5 6]\n",
      " [7 8 9]]\n",
      "[[4 5 6]\n",
      " [7 8 9]]\n",
      "\n",
      " ------- \n",
      "\n",
      "<세번째>\n",
      "[[1 2 3]\n",
      " [4 5 6]\n",
      " [7 8 9]]\n",
      "[[1 2 3]\n",
      " [4 5 6]\n",
      " [7 8 9]]\n",
      "\n",
      " ------- \n",
      "\n",
      "<네번쨰>\n",
      "[[2 3]\n",
      " [5 6]]\n",
      "[[2 3]\n",
      " [5 6]]\n"
     ]
    }
   ],
   "source": [
    "# 과제\n",
    "\n",
    "ar2 = np.arange(1,10).reshape(3,3)\n",
    "print('<원본>')\n",
    "print(ar2)\n",
    "print('\\n','-------','\\n')\n",
    "print('<첫번째>')\n",
    "print(ar2[:2,:2])\n",
    "print('\\n','-------','\\n')\n",
    "print('<두번째>')\n",
    "print(ar2[1:3,:])\n",
    "print(ar2[1:3][:])\n",
    "print('\\n','-------','\\n')\n",
    "print('<세번째>')\n",
    "print(ar2[:,:])\n",
    "print(ar2[:][:])\n",
    "print('\\n','-------','\\n')\n",
    "print('<네번쨰>')\n",
    "print(ar2[:2,-2:])\n",
    "print(ar2[:2,1:])"
   ]
  },
  {
   "cell_type": "code",
   "execution_count": null,
   "id": "9eb02ed8",
   "metadata": {},
   "outputs": [],
   "source": [
    " 과제\n",
    " Q. ar2에서 슬라이싱을 사용해서 아래와 같이 출력하세요 \n",
    "[[1 2]\n",
    " [4 5]]\n",
    "\n",
    "(2가지 방법)\n",
    "[[4 5 6]\n",
    "[7 8 9]]\n",
    "\n",
    "[[1 2 3]\n",
    "[4 5 6]\n",
    "[7 8 9]]\n",
    "\n",
    "[[2 3]\n",
    "[5 6]]\n",
    "\n",
    "[1 4]\n",
    "\n"
   ]
  },
  {
   "cell_type": "code",
   "execution_count": 26,
   "id": "447d842c",
   "metadata": {},
   "outputs": [
    {
     "name": "stdout",
     "output_type": "stream",
     "text": [
      "['Bob' 'Joe' 'Will' 'Bob' 'Will' 'Joe' 'Joe'] \n",
      "\n",
      "[[ 0.48057676 -0.09836634 -1.08615578  0.18226316]\n",
      " [ 0.57951408  1.93990786 -0.42898143  0.76118895]\n",
      " [-1.67490282  0.12978868  1.48662155  0.80399408]\n",
      " [-0.59296506 -1.20966187  0.39622672 -0.18252097]\n",
      " [ 0.25955425 -2.49753217 -0.44988059  1.48994866]\n",
      " [ 1.10421289  0.95779688  1.11212933 -2.13650258]\n",
      " [-0.55132351  0.16579944  0.68415107 -0.74999111]]\n"
     ]
    }
   ],
   "source": [
    "import numpy as np\n",
    "names = np.array(['Bob','Joe', 'Will', 'Bob', 'Will', 'Joe', 'Joe'])\n",
    "data = np.random.randn(7,4)\n",
    "print(names,'\\n')\n",
    "print(data)"
   ]
  },
  {
   "cell_type": "code",
   "execution_count": 31,
   "id": "2f3b1c6d",
   "metadata": {
    "scrolled": true
   },
   "outputs": [
    {
     "data": {
      "text/plain": [
       "array([-1.08615578,  0.39622672])"
      ]
     },
     "execution_count": 31,
     "metadata": {},
     "output_type": "execute_result"
    }
   ],
   "source": [
    "data[names =='Bob',2]"
   ]
  },
  {
   "cell_type": "code",
   "execution_count": 28,
   "id": "701142a5",
   "metadata": {
    "scrolled": true
   },
   "outputs": [
    {
     "data": {
      "text/plain": [
       "array([[ 0.57951408,  1.93990786, -0.42898143,  0.76118895],\n",
       "       [-1.67490282,  0.12978868,  1.48662155,  0.80399408],\n",
       "       [ 0.25955425, -2.49753217, -0.44988059,  1.48994866],\n",
       "       [ 1.10421289,  0.95779688,  1.11212933, -2.13650258],\n",
       "       [-0.55132351,  0.16579944,  0.68415107, -0.74999111]])"
      ]
     },
     "execution_count": 28,
     "metadata": {},
     "output_type": "execute_result"
    }
   ],
   "source": [
    "data[names!='Bob']"
   ]
  },
  {
   "cell_type": "code",
   "execution_count": 29,
   "id": "a75e09a2",
   "metadata": {
    "scrolled": true
   },
   "outputs": [
    {
     "data": {
      "text/plain": [
       "array([[ 0.48057676, -0.09836634, -1.08615578,  0.18226316],\n",
       "       [-1.67490282,  0.12978868,  1.48662155,  0.80399408],\n",
       "       [-0.59296506, -1.20966187,  0.39622672, -0.18252097],\n",
       "       [ 0.25955425, -2.49753217, -0.44988059,  1.48994866]])"
      ]
     },
     "execution_count": 29,
     "metadata": {},
     "output_type": "execute_result"
    }
   ],
   "source": [
    "mask = (names=='Bob') | (names =='Will')\n",
    "data[mask]"
   ]
  },
  {
   "cell_type": "code",
   "execution_count": 32,
   "id": "c53f03d9",
   "metadata": {},
   "outputs": [
    {
     "data": {
      "text/plain": [
       "array([-0.09836634, -1.08615578, -0.42898143, -1.67490282, -0.59296506,\n",
       "       -1.20966187, -0.18252097, -2.49753217, -0.44988059, -2.13650258,\n",
       "       -0.55132351, -0.74999111])"
      ]
     },
     "execution_count": 32,
     "metadata": {},
     "output_type": "execute_result"
    }
   ],
   "source": [
    "data[data < 0] "
   ]
  },
  {
   "cell_type": "code",
   "execution_count": 34,
   "id": "2dde61e0",
   "metadata": {
    "scrolled": true
   },
   "outputs": [
    {
     "data": {
      "text/plain": [
       "array([[0.48057676, 0.        , 0.        , 0.18226316],\n",
       "       [0.57951408, 1.93990786, 0.        , 0.76118895],\n",
       "       [0.        , 0.12978868, 1.48662155, 0.80399408],\n",
       "       [0.        , 0.        , 0.39622672, 0.        ],\n",
       "       [0.25955425, 0.        , 0.        , 1.48994866],\n",
       "       [1.10421289, 0.95779688, 1.11212933, 0.        ],\n",
       "       [0.        , 0.16579944, 0.68415107, 0.        ]])"
      ]
     },
     "execution_count": 34,
     "metadata": {},
     "output_type": "execute_result"
    }
   ],
   "source": [
    "data[data<0]=0\n",
    "data"
   ]
  },
  {
   "cell_type": "code",
   "execution_count": 35,
   "id": "efa9a673",
   "metadata": {},
   "outputs": [
    {
     "data": {
      "text/plain": [
       "array([[7.        , 7.        , 7.        , 7.        ],\n",
       "       [0.57951408, 1.93990786, 0.        , 0.76118895],\n",
       "       [7.        , 7.        , 7.        , 7.        ],\n",
       "       [7.        , 7.        , 7.        , 7.        ],\n",
       "       [7.        , 7.        , 7.        , 7.        ],\n",
       "       [1.10421289, 0.95779688, 1.11212933, 0.        ],\n",
       "       [0.        , 0.16579944, 0.68415107, 0.        ]])"
      ]
     },
     "execution_count": 35,
     "metadata": {},
     "output_type": "execute_result"
    }
   ],
   "source": [
    "data[names!='Joe']=7\n",
    "data"
   ]
  },
  {
   "cell_type": "code",
   "execution_count": 36,
   "id": "65d5bd84",
   "metadata": {
    "scrolled": true
   },
   "outputs": [
    {
     "data": {
      "text/plain": [
       "array([[ 0,  1,  2,  3,  4],\n",
       "       [ 5,  6,  7,  8,  9],\n",
       "       [10, 11, 12, 13, 14]])"
      ]
     },
     "execution_count": 36,
     "metadata": {},
     "output_type": "execute_result"
    }
   ],
   "source": [
    "# 배열 전치\n",
    "ar = np.arange(15).reshape(3,5)\n",
    "ar"
   ]
  },
  {
   "cell_type": "code",
   "execution_count": 40,
   "id": "9958af60",
   "metadata": {
    "scrolled": true
   },
   "outputs": [
    {
     "data": {
      "text/plain": [
       "array([[ 0,  5, 10],\n",
       "       [ 1,  6, 11],\n",
       "       [ 2,  7, 12],\n",
       "       [ 3,  8, 13],\n",
       "       [ 4,  9, 14]])"
      ]
     },
     "execution_count": 40,
     "metadata": {},
     "output_type": "execute_result"
    }
   ],
   "source": [
    "# 기존에 3행5열이었던게 전치돼서 5행 3열이 됨, transpose써도 됨\n",
    "ar_t=ar.T\n",
    "ar_t"
   ]
  },
  {
   "cell_type": "code",
   "execution_count": 41,
   "id": "77cc28d5",
   "metadata": {
    "scrolled": true
   },
   "outputs": [
    {
     "data": {
      "text/plain": [
       "array([[ 0,  1,  2,  3,  4],\n",
       "       [ 5,  6,  7,  8,  9],\n",
       "       [10, 11, 12, 13, 14]])"
      ]
     },
     "execution_count": 41,
     "metadata": {},
     "output_type": "execute_result"
    }
   ],
   "source": [
    "ar=ar_t.T\n",
    "ar"
   ]
  },
  {
   "cell_type": "code",
   "execution_count": 43,
   "id": "d9335371",
   "metadata": {
    "scrolled": true
   },
   "outputs": [
    {
     "data": {
      "text/plain": [
       "array([[ 1.00793293, -0.97321324, -0.29906436],\n",
       "       [-0.78027165, -0.00459851, -0.28970106],\n",
       "       [ 0.19577866,  0.43052382,  0.60831165],\n",
       "       [-0.53689462, -0.44320098, -0.6593352 ],\n",
       "       [-0.49668122,  0.88345376, -0.60909491],\n",
       "       [-0.34279011, -0.72077745,  0.84145896]])"
      ]
     },
     "execution_count": 43,
     "metadata": {},
     "output_type": "execute_result"
    }
   ],
   "source": [
    "# np.random.randn(m,n) : 평균 0, 표준편차1인 표준정규분포 난수 matrix(m,n) 생성\n",
    "np.random.seed(0)\n",
    "ar = np.random.randn(6,3)\n",
    "ar"
   ]
  },
  {
   "cell_type": "code",
   "execution_count": 52,
   "id": "21290186",
   "metadata": {},
   "outputs": [
    {
     "data": {
      "text/plain": [
       "array([ 0,  3,  6,  9, 12, 15, 18, 21, 24, 27, 30, 33, 36, 39, 42, 45, 48,\n",
       "       51, 54, 57, 60, 63, 66, 69, 72, 75, 78, 81, 84, 87, 90, 93, 96, 99])"
      ]
     },
     "execution_count": 52,
     "metadata": {},
     "output_type": "execute_result"
    }
   ],
   "source": [
    "# Q. 0-100까지 배열에서 3의 배수인것만을 출력.\n",
    "a = np.arange(0,101)\n",
    "a[a%3==0]"
   ]
  },
  {
   "cell_type": "code",
   "execution_count": 59,
   "id": "7cb864e5",
   "metadata": {
    "scrolled": true
   },
   "outputs": [
    {
     "data": {
      "text/plain": [
       "array([  3,   5,   6,   9,  10,  12,  15,  18,  20,  21,  24,  25,  27,\n",
       "        30,  33,  35,  36,  39,  40,  42,  45,  48,  50,  51,  54,  55,\n",
       "        57,  60,  63,  65,  66,  69,  70,  72,  75,  78,  80,  81,  84,\n",
       "        85,  87,  90,  93,  95,  96,  99, 100])"
      ]
     },
     "execution_count": 59,
     "metadata": {},
     "output_type": "execute_result"
    }
   ],
   "source": [
    "# Q. 0-100까지 배열에서 3의 배수이거나 5의 배수인 것만을 출력.\n",
    "b = np.arange(1,101)\n",
    "b[(b%3==0)&(b%5==0)] #교집합\n",
    "b[(b%3==0)|(b%5==0)] #합집합"
   ]
  },
  {
   "cell_type": "code",
   "execution_count": 61,
   "id": "c2ec54e5",
   "metadata": {},
   "outputs": [
    {
     "data": {
      "text/plain": [
       "array([15, 30, 45, 60, 75, 90])"
      ]
     },
     "execution_count": 61,
     "metadata": {},
     "output_type": "execute_result"
    }
   ],
   "source": [
    "b[(b%3|b%5)==0] #얘도됨"
   ]
  },
  {
   "cell_type": "code",
   "execution_count": 66,
   "id": "aca5d842",
   "metadata": {},
   "outputs": [
    {
     "data": {
      "text/plain": [
       "array([[ 0.3415874 , -1.25088622,  0.92525075, -0.90478616],\n",
       "       [ 1.84369153,  1.52550724, -1.44553558,  0.37716061],\n",
       "       [-0.07055723,  0.60415971,  0.472149  ,  0.81991729],\n",
       "       [ 0.90751962, -0.58582287,  0.93755884, -0.25460809],\n",
       "       [ 0.97359871,  0.20728277,  1.09964197,  0.93989698]])"
      ]
     },
     "execution_count": 66,
     "metadata": {},
     "output_type": "execute_result"
    }
   ],
   "source": [
    "ar = np.random.randn(5,4)\n",
    "ar"
   ]
  },
  {
   "cell_type": "code",
   "execution_count": 69,
   "id": "7ea9772a",
   "metadata": {
    "scrolled": true
   },
   "outputs": [
    {
     "data": {
      "text/plain": [
       "0.3731"
      ]
     },
     "execution_count": 69,
     "metadata": {},
     "output_type": "execute_result"
    }
   ],
   "source": [
    "# 반올림\n",
    "ar.mean().round(4)"
   ]
  },
  {
   "cell_type": "code",
   "execution_count": 70,
   "id": "c6a88112",
   "metadata": {
    "scrolled": true
   },
   "outputs": [
    {
     "data": {
      "text/plain": [
       "7.4627"
      ]
     },
     "execution_count": 70,
     "metadata": {},
     "output_type": "execute_result"
    }
   ],
   "source": [
    "ar.sum().round(4)"
   ]
  },
  {
   "cell_type": "code",
   "execution_count": 73,
   "id": "0539d15d",
   "metadata": {
    "scrolled": true
   },
   "outputs": [
    {
     "name": "stdout",
     "output_type": "stream",
     "text": [
      "[1 2 3 4 5 6 7 8] \n",
      "\n"
     ]
    },
    {
     "data": {
      "text/plain": [
       "array([ 1,  3,  6, 10, 15, 21, 28, 36])"
      ]
     },
     "execution_count": 73,
     "metadata": {},
     "output_type": "execute_result"
    }
   ],
   "source": [
    "# 누적합계\n",
    "ar=np.arange(1,9)\n",
    "print(ar,'\\n')\n",
    "ar.cumsum()  #누적된 숫자를 나타내줌"
   ]
  },
  {
   "cell_type": "code",
   "execution_count": 81,
   "id": "d7c51e13",
   "metadata": {
    "scrolled": true
   },
   "outputs": [
    {
     "data": {
      "text/plain": [
       "array([[ 0,  1,  3],\n",
       "       [ 3,  7, 12],\n",
       "       [ 6, 13, 21]])"
      ]
     },
     "execution_count": 81,
     "metadata": {},
     "output_type": "execute_result"
    }
   ],
   "source": [
    "ar = np.arange(9).reshape(3,3)\n",
    "ar.cumsum(axis=0)  #행쪽으로 누적\n",
    "ar.cumsum(axis=1) #열쪽으로 누적"
   ]
  },
  {
   "cell_type": "code",
   "execution_count": 90,
   "id": "c12e86d3",
   "metadata": {
    "scrolled": true
   },
   "outputs": [
    {
     "name": "stdout",
     "output_type": "stream",
     "text": [
      "[ 0.10834955  0.26166848 -0.91475533  0.85823779  0.09433429 -1.48590386\n",
      " -1.90058426 -1.1375792  -1.76203889 -0.28862322] \n",
      "\n",
      "4\n",
      "4\n"
     ]
    }
   ],
   "source": [
    "ar = np.random.randn(10)\n",
    "print(ar,'\\n')\n",
    "\n",
    "print(len(ar[ar>0]))\n",
    "\n",
    "print((ar>0).sum())"
   ]
  },
  {
   "cell_type": "code",
   "execution_count": 93,
   "id": "e4635d46",
   "metadata": {},
   "outputs": [
    {
     "data": {
      "text/plain": [
       "False"
      ]
     },
     "execution_count": 93,
     "metadata": {},
     "output_type": "execute_result"
    }
   ],
   "source": [
    "# any 메서드 : 하나 이상의 값이 True인지 검사\n",
    "bools = np.array([False,False,True,True])\n",
    "bools.any()  #하나이상 있으니까 반환값으로 True가 나옴\n",
    "bools.all()  #모든 값이 True인지 확인하는 것이므로 얘는 False가 나옴"
   ]
  },
  {
   "cell_type": "code",
   "execution_count": 98,
   "id": "142baea5",
   "metadata": {
    "scrolled": true
   },
   "outputs": [
    {
     "name": "stdout",
     "output_type": "stream",
     "text": [
      "[[-1.08903444  0.98411729 -1.15920632 -0.43653709]\n",
      " [ 1.00924453  0.71338957 -0.72805772  0.83951646]\n",
      " [ 1.23902098 -1.78480389 -0.79618584 -1.40054127]\n",
      " [-0.18435058 -1.39119312  0.03625974 -0.81440556]] \n",
      "\n"
     ]
    },
    {
     "data": {
      "text/plain": [
       "array([[-2,  2, -2, -2],\n",
       "       [ 2,  2, -2,  2],\n",
       "       [ 2, -2, -2, -2],\n",
       "       [-2, -2,  2, -2]])"
      ]
     },
     "execution_count": 98,
     "metadata": {},
     "output_type": "execute_result"
    }
   ],
   "source": [
    "# 삼항식의 벡터화 버전(조건, a, b)\n",
    "ar = np.random.randn(4,4)\n",
    "print(ar,'\\n')\n",
    "\n",
    "np.where(ar > 0, 2, -2) #ar이 0보다 크면 / 2를 반환하고 /아니면 -2를 반환하라는 뜻"
   ]
  },
  {
   "cell_type": "code",
   "execution_count": 102,
   "id": "4301593f",
   "metadata": {
    "scrolled": true
   },
   "outputs": [
    {
     "data": {
      "text/plain": [
       "array([[-1.08903444,  2.        , -1.15920632, -0.43653709],\n",
       "       [ 2.        ,  2.        , -0.72805772,  2.        ],\n",
       "       [ 2.        , -1.78480389, -0.79618584, -1.40054127],\n",
       "       [-0.18435058, -1.39119312,  2.        , -0.81440556]])"
      ]
     },
     "execution_count": 102,
     "metadata": {},
     "output_type": "execute_result"
    }
   ],
   "source": [
    "# Q.ar에서 모든 양수를 2로 바꾼 뒤 출력\n",
    "np.where(ar > 0, 2, ar)"
   ]
  },
  {
   "cell_type": "code",
   "execution_count": 106,
   "id": "7f74533a",
   "metadata": {},
   "outputs": [
    {
     "name": "stdout",
     "output_type": "stream",
     "text": [
      "[-0.11489885  1.74303872 -0.32187919  0.82957109 -0.207318  ] \n",
      "\n",
      "[-0.32187919 -0.207318   -0.11489885  0.82957109  1.74303872]\n"
     ]
    }
   ],
   "source": [
    "# np.sort()\n",
    "ar=np.random.randn(5)\n",
    "print(ar,'\\n')\n",
    "print(np.sort(ar))  #ar을 다시 출력하변 sort가 반영안된채로 나옴!\n"
   ]
  },
  {
   "cell_type": "code",
   "execution_count": 111,
   "id": "8cec5d4d",
   "metadata": {},
   "outputs": [
    {
     "name": "stdout",
     "output_type": "stream",
     "text": [
      "[[ 7  1]\n",
      " [ 8 12]] \n",
      "\n",
      "[[ 8 12]\n",
      " [ 1  7]]\n"
     ]
    }
   ],
   "source": [
    "# 행렬이 2차원 이상일 경우 axis 축 값 설정을 통해 행,열,방향으로 정렬 수행\n",
    "ar2=np.array([[8,12],\n",
    "             [7,1]])\n",
    "sort_sr2_a0 = np.sort(ar2, axis=0)  #행방향 정렬\n",
    "print(sort_sr2_a0, '\\n')\n",
    "sort_sr2_a1 = np.sort(ar2, axis=1)  #열방향 정렬\n",
    "print(sort_sr2_a1)"
   ]
  },
  {
   "cell_type": "code",
   "execution_count": 117,
   "id": "a493e643",
   "metadata": {},
   "outputs": [
    {
     "name": "stdout",
     "output_type": "stream",
     "text": [
      "[-0.71952667 -0.11861612 -0.80811606 -0.71891095 -0.57354392 -0.38367719] \n",
      "\n",
      "[-0.80811606 -0.71952667 -0.71891095 -0.57354392 -0.38367719 -0.11861612]\n"
     ]
    }
   ],
   "source": [
    "# ndarray.sort() : 원본반영\n",
    "ar = np.random.randn(6)\n",
    "print(ar,'\\n')\n",
    "ar.sort()  #np.sort아니고 배열.sort , 얘한테 pinrt하면 반환하는 값이없다. 그냥 원본에 반영\n",
    "print(ar)"
   ]
  },
  {
   "cell_type": "code",
   "execution_count": 124,
   "id": "3db2b717",
   "metadata": {
    "scrolled": true
   },
   "outputs": [
    {
     "name": "stdout",
     "output_type": "stream",
     "text": [
      "[[ 1.76405235  0.40015721  0.97873798]\n",
      " [ 2.2408932   1.86755799 -0.97727788]\n",
      " [ 0.95008842 -0.15135721 -0.10321885]\n",
      " [ 0.4105985   0.14404357  1.45427351]\n",
      " [ 0.76103773  0.12167502  0.44386323]] \n",
      "\n",
      "[[ 0.40015721  0.97873798  1.76405235]\n",
      " [-0.97727788  1.86755799  2.2408932 ]\n",
      " [-0.15135721 -0.10321885  0.95008842]\n",
      " [ 0.14404357  0.4105985   1.45427351]\n",
      " [ 0.12167502  0.44386323  0.76103773]] \n",
      "\n",
      "[[-0.97727788 -0.10321885  0.76103773]\n",
      " [-0.15135721  0.4105985   0.95008842]\n",
      " [ 0.12167502  0.44386323  1.45427351]\n",
      " [ 0.14404357  0.97873798  1.76405235]\n",
      " [ 0.40015721  1.86755799  2.2408932 ]]\n"
     ]
    }
   ],
   "source": [
    "# 다차원\n",
    "np.random.seed(0)\n",
    "ar2 = np.random.randn(5,3)\n",
    "print(ar2, '\\n')\n",
    "\n",
    "ar2.sort(-1)  #1은 방향을 의미함, -1이 디폴트 열방향\n",
    "print(ar2,'\\n')  #열방향으로 sort하니까 각 행마다 열방향으로 솔트\n",
    "\n",
    "ar2.sort(0)  #행방향\n",
    "print(ar2)"
   ]
  },
  {
   "cell_type": "code",
   "execution_count": 125,
   "id": "a606c294",
   "metadata": {},
   "outputs": [
    {
     "data": {
      "text/plain": [
       "array([1, 2, 3])"
      ]
     },
     "execution_count": 125,
     "metadata": {},
     "output_type": "execute_result"
    }
   ],
   "source": [
    "ar = np.array([3,3,2,2,1,1])\n",
    "np.unique(ar)"
   ]
  },
  {
   "cell_type": "code",
   "execution_count": 131,
   "id": "c4c94e97",
   "metadata": {},
   "outputs": [
    {
     "data": {
      "text/plain": [
       "array([ True, False, False,  True,  True, False,  True])"
      ]
     },
     "execution_count": 131,
     "metadata": {},
     "output_type": "execute_result"
    }
   ],
   "source": [
    "values=np.array([6,0,0,3,2,5,6])\n",
    "np.in1d(values, [2,3,6])"
   ]
  },
  {
   "cell_type": "code",
   "execution_count": 135,
   "id": "1cdabfdd",
   "metadata": {
    "scrolled": true
   },
   "outputs": [
    {
     "data": {
      "text/plain": [
       "array([0, 1, 2, 3, 4, 5, 6, 7, 8, 9])"
      ]
     },
     "execution_count": 135,
     "metadata": {},
     "output_type": "execute_result"
    }
   ],
   "source": [
    "# 배열 데이터의 입출력 : np.save, np.load, .npy 형식\n",
    "arr = np.arange(10)\n",
    "np.save('some_array',arr) #만든 배열 저장\n",
    "np.load('some_array.npy') #불러오기\n",
    "\n"
   ]
  },
  {
   "cell_type": "markdown",
   "id": "2e5fa1e8",
   "metadata": {},
   "source": [
    "선형대수 \n",
    "<img src = '내적.jpg' STYLE = 'width:600px;'>\n",
    "\n",
    "벡터 a를 벡터 b와 같은 방향의 성분과 그렇지 않은 성분으로 분해한다고 할 때   \n",
    "$|a|cosθ$의 길이는 벡터 b와 같은 방향의 성분 길이와 같다.  \n",
    "\n",
    "벡터 a와 b의 내적은 벡터 b의 길이와 벡터 a에서 벡터 b와 같은 방향의 성분 길이를 곱한 것이다.\n",
    "\n",
    "- 행렬 내적은 행렬 곱이며 두 행렬 A와 B의 내적은 np.dot()을 이용해 계산이 가능\n",
    "- 행렬 내적의 특성으로 왼쪽 행렬의 열개수와 오른쪽 행렬의 행개수가 동일해야 내적 연산 가능"
   ]
  },
  {
   "cell_type": "code",
   "execution_count": 136,
   "id": "91f015e5",
   "metadata": {},
   "outputs": [
    {
     "name": "stdout",
     "output_type": "stream",
     "text": [
      "[[1 2 3]\n",
      " [4 5 6]] \n",
      "\n",
      "[[ 6. 23.]\n",
      " [-1.  7.]\n",
      " [ 8.  9.]]\n"
     ]
    }
   ],
   "source": [
    "# 행렬곱 : x.dot(y), np.dot(x,y)\n",
    "x = np.arange(1,7).reshape(2,3)\n",
    "y = np.array([[6.,23],[-1,7],[8,9]])\n",
    "print(x,'\\n')\n",
    "print(y)"
   ]
  },
  {
   "cell_type": "code",
   "execution_count": 137,
   "id": "bd46d186",
   "metadata": {
    "scrolled": true
   },
   "outputs": [
    {
     "data": {
      "text/plain": [
       "array([[ 28.,  64.],\n",
       "       [ 67., 181.]])"
      ]
     },
     "execution_count": 137,
     "metadata": {},
     "output_type": "execute_result"
    }
   ],
   "source": [
    "np.dot(x,y)"
   ]
  },
  {
   "cell_type": "markdown",
   "id": "802b0328",
   "metadata": {},
   "source": [
    "행렬 곱을 응용하여 신경망에 적용\n",
    "<img src = '행렬곱.jpg' STYLE = 'width:500px;'>\n",
    " 기울기, 가중치, 계수 기억하기"
   ]
  },
  {
   "cell_type": "code",
   "execution_count": 138,
   "id": "92f8246a",
   "metadata": {},
   "outputs": [
    {
     "data": {
      "text/plain": [
       "array([[1, 2, 1],\n",
       "       [2, 2, 3],\n",
       "       [1, 3, 1]])"
      ]
     },
     "execution_count": 138,
     "metadata": {},
     "output_type": "execute_result"
    }
   ],
   "source": [
    "# 역행렬: 어떤 행렬 A와 곱했을 때 곱셈에 대한 항등원인 단위행렬 E가 나오는 행렬\n",
    "# 나오는 행렬을 행렬A의 역행렬이라고 함 np.linalg.inv()\n",
    "np.random.seed(0)\n",
    "mt1 = np.random.randint(1,4,size=(3,3))\n",
    "mt1"
   ]
  },
  {
   "cell_type": "code",
   "execution_count": 141,
   "id": "9ddd0ce5",
   "metadata": {},
   "outputs": [
    {
     "data": {
      "text/plain": [
       "array([[ 7., -1., -4.],\n",
       "       [-1.,  0.,  1.],\n",
       "       [-4.,  1.,  2.]])"
      ]
     },
     "execution_count": 141,
     "metadata": {},
     "output_type": "execute_result"
    }
   ],
   "source": [
    "# 역행렬 만드는 방법\n",
    "mt2 = np.linalg.inv(mt1)\n",
    "mt2"
   ]
  },
  {
   "cell_type": "code",
   "execution_count": 142,
   "id": "cf93b203",
   "metadata": {},
   "outputs": [
    {
     "data": {
      "text/plain": [
       "array([[1., 0., 0.],\n",
       "       [0., 1., 0.],\n",
       "       [0., 0., 1.]])"
      ]
     },
     "execution_count": 142,
     "metadata": {},
     "output_type": "execute_result"
    }
   ],
   "source": [
    "# mt1,mt2 곱하면 단위행렬이 됨\n",
    "mt1.dot(mt2)"
   ]
  },
  {
   "cell_type": "code",
   "execution_count": null,
   "id": "c760c73b",
   "metadata": {},
   "outputs": [],
   "source": [
    "# Q. 아래 두 행렬을 np.arange, reshape를 이용해서 생성 각각 a1,b1으로 저장하고 \n",
    "# 행렬 내적을 계산한 결과를 출력하세요\n",
    "[[1 2 3]\n",
    "[4 5 6]]\n",
    "\n",
    "\n",
    "[[10 11]\n",
    "[12 13]\n",
    "[14 15]]\n",
    "\n"
   ]
  },
  {
   "cell_type": "code",
   "execution_count": 146,
   "id": "6f928a9d",
   "metadata": {
    "scrolled": true
   },
   "outputs": [
    {
     "name": "stdout",
     "output_type": "stream",
     "text": [
      "[[ 76  82]\n",
      " [184 199]]\n"
     ]
    }
   ],
   "source": [
    "a1 = np.arange(1,7).reshape(2,3)\n",
    "b1 = np.arange(10,16).reshape(3,2)\n",
    "\n",
    "col = np.dot(a1,b1)\n",
    "print(col)"
   ]
  },
  {
   "cell_type": "code",
   "execution_count": null,
   "id": "5471a871",
   "metadata": {},
   "outputs": [],
   "source": [
    "#"
   ]
  }
 ],
 "metadata": {
  "kernelspec": {
   "display_name": "Python 3",
   "language": "python",
   "name": "python3"
  },
  "language_info": {
   "codemirror_mode": {
    "name": "ipython",
    "version": 3
   },
   "file_extension": ".py",
   "mimetype": "text/x-python",
   "name": "python",
   "nbconvert_exporter": "python",
   "pygments_lexer": "ipython3",
   "version": "3.9.5"
  }
 },
 "nbformat": 4,
 "nbformat_minor": 5
}
