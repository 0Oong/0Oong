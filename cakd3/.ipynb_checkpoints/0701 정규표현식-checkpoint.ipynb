{
 "cells": [
  {
   "cell_type": "code",
   "execution_count": 4,
   "id": "28b7dcd2",
   "metadata": {
    "scrolled": true
   },
   "outputs": [
    {
     "name": "stdout",
     "output_type": "stream",
     "text": [
      "<re.Match object; span=(0, 7), match='python '>\n"
     ]
    },
    {
     "data": {
      "text/plain": [
       "'python '"
      ]
     },
     "execution_count": 4,
     "metadata": {},
     "output_type": "execute_result"
    }
   ],
   "source": [
    "import re\n",
    "text = 'python python'\n",
    "p = re.compile('[a-z]+\\s') #소문자 한개이상, 표시 및 스페이스 처리해야함\\s를 빼면 뽑아낼 때 스페이스는 빠짐\n",
    "m = p.match(text) #text에서 걸러내는 것\n",
    "print(m) #여기서 나오는 span은 인덱스값.\n",
    "m.group() #내가 원하는 값만 뽑아내는 것"
   ]
  },
  {
   "cell_type": "code",
   "execution_count": 5,
   "id": "cb021bbd",
   "metadata": {},
   "outputs": [
    {
     "name": "stdout",
     "output_type": "stream",
     "text": [
      "['python', 'python']\n"
     ]
    }
   ],
   "source": [
    "import re\n",
    "text = 'python python'\n",
    "p = re.compile('[a-z]+') \n",
    "m = p.findall(text) #match에 해당되는 걸 리스트로 뽑아주는 것.\n",
    "print(m)"
   ]
  },
  {
   "cell_type": "code",
   "execution_count": 8,
   "id": "56029da7",
   "metadata": {},
   "outputs": [
    {
     "name": "stdout",
     "output_type": "stream",
     "text": [
      "None\n"
     ]
    }
   ],
   "source": [
    "m = p.match('3python')\n",
    "print(m) #match되는게 없음 match는 처음부터 시작하고 소문자부터 시작해야하기 때문."
   ]
  },
  {
   "cell_type": "code",
   "execution_count": 9,
   "id": "12f1c52a",
   "metadata": {},
   "outputs": [
    {
     "data": {
      "text/plain": [
       "'python'"
      ]
     },
     "execution_count": 9,
     "metadata": {},
     "output_type": "execute_result"
    }
   ],
   "source": [
    "m = p.search('3python')\n",
    "m.group()"
   ]
  },
  {
   "cell_type": "code",
   "execution_count": 13,
   "id": "8a55d388",
   "metadata": {
    "scrolled": true
   },
   "outputs": [
    {
     "name": "stdout",
     "output_type": "stream",
     "text": [
      "<re.Match object; span=(1, 6), match='anker'>\n",
      "<re.Match object; span=(0, 6), match='banker'>\n",
      "anker\n",
      "banker\n"
     ]
    }
   ],
   "source": [
    "p = re.compile('[a-z]+')\n",
    "p1 = p.search('Banker')\n",
    "p2 = p.search('banker')\n",
    "print(p1)\n",
    "print(p2)\n",
    "print(p1.group())\n",
    "print(p2.group())"
   ]
  },
  {
   "cell_type": "code",
   "execution_count": 19,
   "id": "be124e62",
   "metadata": {},
   "outputs": [
    {
     "name": "stdout",
     "output_type": "stream",
     "text": [
      "<re.Match object; span=(5, 6), match='a'>\n"
     ]
    }
   ],
   "source": [
    "# Q. text 12345abc에서 'a'만 출력하세요\\\n",
    "import re\n",
    "text = '12345abc'\n",
    "p = re.compile('[a]')\n",
    "p1 = p.search(text)\n",
    "print(p1)"
   ]
  },
  {
   "cell_type": "code",
   "execution_count": 21,
   "id": "d481bde7",
   "metadata": {},
   "outputs": [
    {
     "data": {
      "text/plain": [
       "<re.Match object; span=(8, 9), match='A'>"
      ]
     },
     "execution_count": 21,
     "metadata": {},
     "output_type": "execute_result"
    }
   ],
   "source": [
    "# Q.'abc12345Abc'에서 'A'만 출력하세요\n",
    "text = 'abc12345Abc'\n",
    "s = re.compile('[A]')\n",
    "p = s.search(text)\n",
    "p"
   ]
  },
  {
   "cell_type": "code",
   "execution_count": 24,
   "id": "50373d79",
   "metadata": {},
   "outputs": [
    {
     "data": {
      "text/plain": [
       "'대'"
      ]
     },
     "execution_count": 24,
     "metadata": {},
     "output_type": "execute_result"
    }
   ],
   "source": [
    "# 'KOREA 대한민국'에서 '대'만 출력하세요.\n",
    "text = 'KOREA 대한민국'\n",
    "s = re.compile('[대]')\n",
    "p = s.search(text)\n",
    "p.group()"
   ]
  },
  {
   "cell_type": "code",
   "execution_count": 3,
   "id": "ae66b678",
   "metadata": {},
   "outputs": [
    {
     "ename": "NameError",
     "evalue": "name 're' is not defined",
     "output_type": "error",
     "traceback": [
      "\u001b[1;31m---------------------------------------------------------------------------\u001b[0m",
      "\u001b[1;31mNameError\u001b[0m                                 Traceback (most recent call last)",
      "\u001b[1;32m<ipython-input-3-1c7eb21236f2>\u001b[0m in \u001b[0;36m<module>\u001b[1;34m\u001b[0m\n\u001b[0;32m      1\u001b[0m \u001b[0mtext\u001b[0m \u001b[1;33m=\u001b[0m \u001b[1;34m'KOREA 대한민국'\u001b[0m\u001b[1;33m\u001b[0m\u001b[1;33m\u001b[0m\u001b[0m\n\u001b[1;32m----> 2\u001b[1;33m \u001b[0ms\u001b[0m \u001b[1;33m=\u001b[0m \u001b[0mre\u001b[0m\u001b[1;33m.\u001b[0m\u001b[0mcompile\u001b[0m\u001b[1;33m(\u001b[0m\u001b[1;34m'[가-힣]+'\u001b[0m\u001b[1;33m)\u001b[0m\u001b[1;33m\u001b[0m\u001b[1;33m\u001b[0m\u001b[0m\n\u001b[0m\u001b[0;32m      3\u001b[0m \u001b[0mp\u001b[0m \u001b[1;33m=\u001b[0m \u001b[0ms\u001b[0m\u001b[1;33m.\u001b[0m\u001b[0msearch\u001b[0m\u001b[1;33m(\u001b[0m\u001b[0mtext\u001b[0m\u001b[1;33m)\u001b[0m\u001b[1;33m\u001b[0m\u001b[1;33m\u001b[0m\u001b[0m\n\u001b[0;32m      4\u001b[0m \u001b[0mp\u001b[0m\u001b[1;33m.\u001b[0m\u001b[0mgroup\u001b[0m\u001b[1;33m(\u001b[0m\u001b[1;33m)\u001b[0m\u001b[1;33m\u001b[0m\u001b[1;33m\u001b[0m\u001b[0m\n",
      "\u001b[1;31mNameError\u001b[0m: name 're' is not defined"
     ]
    }
   ],
   "source": [
    "text = 'KOREA 대한민국'\n",
    "s = re.compile('[가-힣]+')\n",
    "p = s.search(text)\n",
    "p.group()"
   ]
  },
  {
   "cell_type": "code",
   "execution_count": 47,
   "id": "3aef8538",
   "metadata": {},
   "outputs": [
    {
     "name": "stdout",
     "output_type": "stream",
     "text": [
      "['1', '2', '2', '3', '3', '3', 'c']\n"
     ]
    }
   ],
   "source": [
    "# Q. '122333c'를 모두 출력하세요.\n",
    "text = '122333c'\n",
    "s = re.compile('[a-zA-Z0-9]')\n",
    "p = s.findall(text)\n",
    "print(p)"
   ]
  },
  {
   "cell_type": "code",
   "execution_count": 45,
   "id": "6d1b7e5f",
   "metadata": {},
   "outputs": [
    {
     "ename": "AttributeError",
     "evalue": "'NoneType' object has no attribute 'group'",
     "output_type": "error",
     "traceback": [
      "\u001b[1;31m---------------------------------------------------------------------------\u001b[0m",
      "\u001b[1;31mAttributeError\u001b[0m                            Traceback (most recent call last)",
      "\u001b[1;32m<ipython-input-45-6b62d4ec8de0>\u001b[0m in \u001b[0;36m<module>\u001b[1;34m\u001b[0m\n\u001b[0;32m      2\u001b[0m \u001b[0ms\u001b[0m \u001b[1;33m=\u001b[0m \u001b[0mre\u001b[0m\u001b[1;33m.\u001b[0m\u001b[0mcompile\u001b[0m\u001b[1;33m(\u001b[0m\u001b[1;34m'[a-z]+[1-9]+'\u001b[0m\u001b[1;33m)\u001b[0m\u001b[1;33m\u001b[0m\u001b[1;33m\u001b[0m\u001b[0m\n\u001b[0;32m      3\u001b[0m \u001b[0mp\u001b[0m \u001b[1;33m=\u001b[0m \u001b[0ms\u001b[0m\u001b[1;33m.\u001b[0m\u001b[0msearch\u001b[0m\u001b[1;33m(\u001b[0m\u001b[0mtext\u001b[0m\u001b[1;33m)\u001b[0m\u001b[1;33m\u001b[0m\u001b[1;33m\u001b[0m\u001b[0m\n\u001b[1;32m----> 4\u001b[1;33m \u001b[0mp\u001b[0m\u001b[1;33m.\u001b[0m\u001b[0mgroup\u001b[0m\u001b[1;33m(\u001b[0m\u001b[1;33m)\u001b[0m\u001b[1;33m\u001b[0m\u001b[1;33m\u001b[0m\u001b[0m\n\u001b[0m",
      "\u001b[1;31mAttributeError\u001b[0m: 'NoneType' object has no attribute 'group'"
     ]
    }
   ],
   "source": [
    "text = '122333c'\n",
    "s = re.compile('[a-z]+[1-9]+')\n",
    "p = s.search(text)\n",
    "p.group()"
   ]
  },
  {
   "cell_type": "code",
   "execution_count": 43,
   "id": "faee8060",
   "metadata": {},
   "outputs": [
    {
     "data": {
      "text/plain": [
       "<re.Match object; span=(0, 7), match='122333c'>"
      ]
     },
     "execution_count": 43,
     "metadata": {},
     "output_type": "execute_result"
    }
   ],
   "source": [
    "text='122333c'\n",
    "\n",
    "p=re.compile('[1-9]+[a-z]')\n",
    "m=p.search(text)\n",
    "m"
   ]
  },
  {
   "cell_type": "code",
   "execution_count": 55,
   "id": "b0d867c8",
   "metadata": {},
   "outputs": [
    {
     "data": {
      "text/plain": [
       "'1222222333c'"
      ]
     },
     "execution_count": 55,
     "metadata": {},
     "output_type": "execute_result"
    }
   ],
   "source": [
    "# Q. '1222222333c'를 모두 출력하세요.\n",
    "import re\n",
    "p = re.compile('12{6}3{3}c')\n",
    "text = '1222222333c'\n",
    "m = p.search(text)\n",
    "m.group()"
   ]
  },
  {
   "cell_type": "code",
   "execution_count": 56,
   "id": "b71fdf65",
   "metadata": {},
   "outputs": [
    {
     "data": {
      "text/plain": [
       "'aaaaBBBcccDDDeee'"
      ]
     },
     "execution_count": 56,
     "metadata": {},
     "output_type": "execute_result"
    }
   ],
   "source": [
    "# Q. 'aaaaBBBcccDDDeee'를 모두 출력하세요.\n",
    "p= re.compile('a{4}B{3}c{3}D{3}e{3}')\n",
    "text = 'aaaaBBBcccDDDeee'\n",
    "m = p.search(text)\n",
    "m.group()"
   ]
  },
  {
   "cell_type": "code",
   "execution_count": 73,
   "id": "54eefaaf",
   "metadata": {},
   "outputs": [
    {
     "name": "stdout",
     "output_type": "stream",
     "text": [
      "<re.Match object; span=(1, 2), match='C'>\n",
      "<re.Match object; span=(0, 1), match='C'>\n",
      "<re.Match object; span=(2, 3), match='C'>\n",
      "<re.Match object; span=(2, 3), match='C'>\n"
     ]
    }
   ],
   "source": [
    "# Q. BC, CC, ABC 모두 C가 출력되는 정규 표현식을 ()에 작성하세요. \n",
    "pattern = re.compile('A?C') #$C도 됨\n",
    "text1 = 'BC'\n",
    "text2 = 'CC'\n",
    "text3 = 'ABC'\n",
    "text4 = 'ABCD'\n",
    "p1 = pattern.search(text1)\n",
    "p2 = pattern.search(text2)\n",
    "p3 = pattern.search(text3)\n",
    "p4 = pattern.search(text4)\n",
    "print(p1)\n",
    "print(p2)\n",
    "print(p3)\n",
    "print(p4)"
   ]
  },
  {
   "cell_type": "code",
   "execution_count": 76,
   "id": "e8d1583e",
   "metadata": {},
   "outputs": [
    {
     "data": {
      "text/plain": [
       "['life is too short']"
      ]
     },
     "execution_count": 76,
     "metadata": {},
     "output_type": "execute_result"
    }
   ],
   "source": [
    "text = 'life is too short'\n",
    "p = re.compile('\\D+')\n",
    "m = p.findall(text)\n",
    "m"
   ]
  },
  {
   "cell_type": "code",
   "execution_count": 109,
   "id": "ffa75e3b",
   "metadata": {
    "scrolled": false
   },
   "outputs": [
    {
     "name": "stdout",
     "output_type": "stream",
     "text": [
      "life\n",
      "is\n",
      "too\n",
      "short\n"
     ]
    }
   ],
   "source": [
    "text = 'life is too short'\n",
    "results = p.finditer(text)\n",
    "for r in results: \n",
    "    print(r.group())"
   ]
  },
  {
   "cell_type": "code",
   "execution_count": 90,
   "id": "e2e4347a",
   "metadata": {
    "scrolled": true
   },
   "outputs": [
    {
     "name": "stdout",
     "output_type": "stream",
     "text": [
      "['1', '2', '3', '4', '1', '2', '3', '4']\n"
     ]
    }
   ],
   "source": [
    "# Q. '1234a1234a'에서 '1', '2', '3','4'를 모두 출력하세요\n",
    "txt = '1234a1234a'\n",
    "p = re.compile('[0-9]')\n",
    "r = p.findall(txt)\n",
    "print(r)"
   ]
  },
  {
   "cell_type": "code",
   "execution_count": 95,
   "id": "af44a5bc",
   "metadata": {},
   "outputs": [
    {
     "name": "stdout",
     "output_type": "stream",
     "text": [
      "['Python3', 'is', 'very', 'good', 'programming', 'language!']\n"
     ]
    }
   ],
   "source": [
    "# 'Python3 is very good programming language!'에서 \n",
    "# ['Python3', 'is', 'very', 'good', 'programming', 'languate']를 모두 출력하세요.\n",
    "txt = 'Python3 is very good programming language!'\n",
    "p = re.compile('[a-z]')\n",
    "r = re.split(\" \",txt)\n",
    "print(r)"
   ]
  },
  {
   "cell_type": "code",
   "execution_count": 104,
   "id": "5b7364e5",
   "metadata": {},
   "outputs": [
    {
     "name": "stdout",
     "output_type": "stream",
     "text": [
      "['Python', 'is', 'very', 'good', 'programming', 'language']\n"
     ]
    }
   ],
   "source": [
    "text = 'Python3 is very good programming language!'\n",
    "p = re.compile('[a-zA-Z]+')\n",
    "print(p.findall(text))"
   ]
  },
  {
   "cell_type": "code",
   "execution_count": 105,
   "id": "8a3fec77",
   "metadata": {},
   "outputs": [
    {
     "name": "stdout",
     "output_type": "stream",
     "text": [
      "<re.Match object; span=(0, 4), match='life'>\n",
      "<re.Match object; span=(0, 2), match='is'>\n",
      "<re.Match object; span=(0, 3), match='too'>\n",
      "<re.Match object; span=(0, 5), match='short'>\n"
     ]
    }
   ],
   "source": [
    "text = 'life is too short'\n",
    "p = re.compile('[a-z]+')\n",
    "m = p.match('life')\n",
    "l = p.match('is')\n",
    "k = p.match('too')\n",
    "q = p.match('short')\n",
    "print(m)\n",
    "print(l)\n",
    "print(k)\n",
    "print(q)"
   ]
  },
  {
   "cell_type": "code",
   "execution_count": 112,
   "id": "fc6c9e5e",
   "metadata": {},
   "outputs": [
    {
     "name": "stdout",
     "output_type": "stream",
     "text": [
      "python\n",
      "0\n",
      "6\n",
      "(0, 6)\n"
     ]
    }
   ],
   "source": [
    "# match 객체의 메소드\n",
    "import re\n",
    "p = re.compile('[a-z]+')\n",
    "m = p.match('python')\n",
    "print(m.group())\n",
    "print(m.start())\n",
    "print(m.end())\n",
    "print(m.span())"
   ]
  },
  {
   "cell_type": "code",
   "execution_count": 113,
   "id": "e83e5002",
   "metadata": {},
   "outputs": [
    {
     "name": "stdout",
     "output_type": "stream",
     "text": [
      "python\n",
      "2\n",
      "8\n",
      "(2, 8)\n"
     ]
    }
   ],
   "source": [
    "# search 객체의 메소드\n",
    "import re\n",
    "p = re.compile('[a-z]+')\n",
    "m = p.search('3 python')\n",
    "print(m.group())\n",
    "print(m.start())\n",
    "print(m.end())\n",
    "print(m.span())"
   ]
  },
  {
   "cell_type": "code",
   "execution_count": 116,
   "id": "488d3086",
   "metadata": {},
   "outputs": [
    {
     "data": {
      "text/plain": [
       "'python'"
      ]
     },
     "execution_count": 116,
     "metadata": {},
     "output_type": "execute_result"
    }
   ],
   "source": [
    "# 한번에 처리\n",
    "m = re.match('[a-z]+', 'python3')\n",
    "m.group()"
   ]
  },
  {
   "cell_type": "code",
   "execution_count": 126,
   "id": "53af0d8c",
   "metadata": {},
   "outputs": [
    {
     "name": "stdout",
     "output_type": "stream",
     "text": [
      "None\n",
      "<re.Match object; span=(0, 3), match='acb'>\n",
      "<re.Match object; span=(0, 6), match='a12?Ab'>\n"
     ]
    }
   ],
   "source": [
    "# Dot(.) 메타 문자는 개행(\\n)문자를 제외한 모든 문자와 매치\n",
    "import re\n",
    "p = re.compile('a.+b')\n",
    "m1 = p.match('a\\nb')\n",
    "m2 = p.match('acb')\n",
    "m3 = p.match('a12?Ab')\n",
    "\n",
    "print(m1)\n",
    "print(m2)\n",
    "print(m3)"
   ]
  },
  {
   "cell_type": "code",
   "execution_count": 2,
   "id": "7663f74d",
   "metadata": {},
   "outputs": [
    {
     "name": "stdout",
     "output_type": "stream",
     "text": [
      "<re.Match object; span=(0, 3), match='a\\nb'>\n"
     ]
    }
   ],
   "source": [
    "# 개행문자도 포함하려면? \n",
    "# re.DOTALL 옵션은 개행문자에 상관없이  검색시 사용\n",
    "import re\n",
    "p = re.compile('a.+', re.DOTALL)\n",
    "m1 = p.match('a\\nb')\n",
    "print(m1)"
   ]
  },
  {
   "cell_type": "code",
   "execution_count": 1,
   "id": "d1272225",
   "metadata": {},
   "outputs": [
    {
     "data": {
      "text/plain": [
       "'what are you doing?'"
      ]
     },
     "execution_count": 1,
     "metadata": {},
     "output_type": "execute_result"
    }
   ],
   "source": [
    "# Q. text에서 what are you doing?만 출력하세요\n",
    "text = 'what are you doing?\\nit is going to be late for school'\n",
    "\n",
    "import re\n",
    "r = re.compile('.+')\n",
    "i = r.match(text)\n",
    "i.group()"
   ]
  },
  {
   "cell_type": "code",
   "execution_count": 146,
   "id": "98cac0e2",
   "metadata": {},
   "outputs": [
    {
     "data": {
      "text/plain": [
       "'what are you doing?\\nit is going to be late for school'"
      ]
     },
     "execution_count": 146,
     "metadata": {},
     "output_type": "execute_result"
    }
   ],
   "source": [
    "text = 'what are you doing?\\nit is going to be late for school'\n",
    "\n",
    "import re\n",
    "r = re.compile('.+', re.DOTALL)\n",
    "i = r.match(text)\n",
    "i.group()"
   ]
  },
  {
   "cell_type": "code",
   "execution_count": 149,
   "id": "54f88363",
   "metadata": {
    "scrolled": false
   },
   "outputs": [
    {
     "name": "stdout",
     "output_type": "stream",
     "text": [
      "<re.Match object; span=(0, 6), match='python'>\n",
      "<re.Match object; span=(0, 6), match='Python'>\n",
      "<re.Match object; span=(0, 6), match='PYTHON'>\n"
     ]
    }
   ],
   "source": [
    "# re.IGNORECASE 또는 re.I 옵션은 대소문자 구분없이 매치를 수행\n",
    "p = re.compile('[a-z]+', re.I)\n",
    "print(p.match('python'))\n",
    "print(p.match('Python'))\n",
    "print(p.match('PYTHON3아'))"
   ]
  },
  {
   "cell_type": "code",
   "execution_count": 152,
   "id": "059e3b77",
   "metadata": {
    "scrolled": true
   },
   "outputs": [
    {
     "name": "stdout",
     "output_type": "stream",
     "text": [
      "<re.Match object; span=(2, 8), match='python'>\n",
      "<re.Match object; span=(4, 10), match='Python'>\n",
      "<re.Match object; span=(5, 11), match='PYTHON'>\n"
     ]
    }
   ],
   "source": [
    "print(p.search('3 python'))\n",
    "print(p.search('343 Python'))\n",
    "print(p.search('3434 PYTHON3아'))"
   ]
  },
  {
   "cell_type": "code",
   "execution_count": 158,
   "id": "0b2af4e6",
   "metadata": {},
   "outputs": [
    {
     "name": "stdout",
     "output_type": "stream",
     "text": [
      "Friend\n",
      "fRiend\n",
      "friEnd\n",
      "FRIEND\n"
     ]
    }
   ],
   "source": [
    "# Q. text에서 대소문자 구분없이 전체문장 모두 출력하세요.\n",
    "\n",
    "text = 'Friend fRiend friEnd FRIEND'\n",
    "\n",
    "p = re.compile('[a-z]+', re.I) #안에 friend 넣어도 됨. \n",
    "m = p.findall(text)\n",
    "for i in m:\n",
    "    print(i)"
   ]
  },
  {
   "cell_type": "code",
   "execution_count": 156,
   "id": "c8b9fe07",
   "metadata": {},
   "outputs": [
    {
     "name": "stdout",
     "output_type": "stream",
     "text": [
      "Friend fRiend friEnd FRIEND\n"
     ]
    }
   ],
   "source": [
    "p = re.compile('.+', re.I)\n",
    "p1 = p.match(text)\n",
    "print(p1.group())\n"
   ]
  },
  {
   "cell_type": "code",
   "execution_count": 179,
   "id": "15d7651a",
   "metadata": {},
   "outputs": [
    {
     "data": {
      "text/plain": [
       "['python one']"
      ]
     },
     "execution_count": 179,
     "metadata": {},
     "output_type": "execute_result"
    }
   ],
   "source": [
    "# 시작지점, 끝지점 문자열 지정\n",
    "import re\n",
    "p = re.compile('^python\\s\\w+')\n",
    "data = \"\"\"python one\n",
    "life is too short\n",
    "python two\n",
    "you need python\n",
    "python three\"\"\"\n",
    "p.findall(data)"
   ]
  },
  {
   "cell_type": "code",
   "execution_count": 8,
   "id": "cd7f9abb",
   "metadata": {},
   "outputs": [
    {
     "data": {
      "text/plain": [
       "['python one', 'python two', 'python three']"
      ]
     },
     "execution_count": 8,
     "metadata": {},
     "output_type": "execute_result"
    }
   ],
   "source": [
    "# re.MULTILINE 또는 re.M 옵션으로 ^ 메타 문자를 각 라인의 처음으로 인식시킴\n",
    "import re\n",
    "p = re.compile('^python\\s\\w+', re.M) #각 라인별로 처리\n",
    "data = \"\"\"python one\n",
    "life is too short\n",
    "python two\n",
    "you need python\n",
    "python three\"\"\"\n",
    "p.findall(data)"
   ]
  },
  {
   "cell_type": "code",
   "execution_count": 12,
   "id": "312c9148",
   "metadata": {},
   "outputs": [
    {
     "data": {
      "text/plain": [
       "[]"
      ]
     },
     "execution_count": 12,
     "metadata": {},
     "output_type": "execute_result"
    }
   ],
   "source": [
    "# Raw String : 정규식 문자열 앞에 r문자를 삽입하면 백슬래시 2개 대신 1개 사용\n",
    "p = re.compile('r\\\\section')\n",
    "p.match('\\section')\n",
    "p.findall('\\section\\section')\n"
   ]
  },
  {
   "cell_type": "code",
   "execution_count": 185,
   "id": "22030428",
   "metadata": {},
   "outputs": [
    {
     "data": {
      "text/plain": [
       "[]"
      ]
     },
     "execution_count": 185,
     "metadata": {},
     "output_type": "execute_result"
    }
   ],
   "source": [
    "p = re.compile('\\\\section')\n",
    "p.match('\\section')\n",
    "p.findall('\\section\\section')"
   ]
  },
  {
   "cell_type": "code",
   "execution_count": 197,
   "id": "871bf13e",
   "metadata": {},
   "outputs": [
    {
     "name": "stdout",
     "output_type": "stream",
     "text": [
      "<re.Match object; span=(0, 4), match='Crow'>\n",
      "<re.Match object; span=(0, 4), match='Life'>\n",
      "None\n",
      "\n",
      "None\n"
     ]
    }
   ],
   "source": [
    "# |(or와 동일한 의미), ^(문자열의 맨 처음), $(문자열의 끝)\n",
    "import re\n",
    "p = re.compile('Crow|Servo')\n",
    "m = p.match('CrowHello')\n",
    "print(m)\n",
    "print(re.search('^Life', 'Life is too short'))\n",
    "print(re.search('^Life', 'My Life'))\n",
    "print()\n",
    "print(re.search('Life$', 'Life is too short')) #끝이 Life가 아니라 안나옴"
   ]
  },
  {
   "cell_type": "code",
   "execution_count": 206,
   "id": "1a9d940b",
   "metadata": {},
   "outputs": [
    {
     "name": "stdout",
     "output_type": "stream",
     "text": [
      "['Life', 'Life']\n"
     ]
    }
   ],
   "source": [
    "# \\A : 문자열의 처음과 매치, 단, re.M옵션 사용해도 전체 문자열의 처음하고만 매치\n",
    "# \\Z : 문자열의 끝과 매치. 단, re.M 옵션 사용해도 전체 문자열의 끝하고만 매치 \n",
    "import re\n",
    "p = re.compile('\\ALife', re.M) #\\A을 사용하지 않는다면, Life가 세 개 나옴\n",
    "data = '''Life is too short\n",
    "Life is good\n",
    "Life is valuable'''\n",
    "\n",
    "print(p.findall(data))"
   ]
  },
  {
   "cell_type": "code",
   "execution_count": 204,
   "id": "a84cf389",
   "metadata": {},
   "outputs": [
    {
     "name": "stdout",
     "output_type": "stream",
     "text": [
      "['Life', 'Life', 'Life']\n"
     ]
    }
   ],
   "source": [
    "# ^\n",
    "p = re.compile('^Life', re.M)\n",
    "data = '''Life is too short\n",
    "Life is good\n",
    "Life is valueable'''\n",
    "print(p.findall(data))"
   ]
  },
  {
   "cell_type": "code",
   "execution_count": 210,
   "id": "730f98e5",
   "metadata": {},
   "outputs": [
    {
     "name": "stdout",
     "output_type": "stream",
     "text": [
      "['Life']\n",
      "['good']\n"
     ]
    }
   ],
   "source": [
    "import re\n",
    "p = re.compile('\\ALife', re.M) #\\A을 사용하지 않는다면, Life가 세 개 나옴\n",
    "data = '''Life is too short\n",
    "Life is good\n",
    "Life is valuable'''\n",
    "\n",
    "print(p.findall(data))\n",
    "p1 = re.compile('good\\Z', re.M)\n",
    "data1 = '''Life is too short\n",
    "Life is good\n",
    "Life is very good'''\n",
    "print(p1.findall(data1))"
   ]
  },
  {
   "cell_type": "code",
   "execution_count": 216,
   "id": "6d16041a",
   "metadata": {},
   "outputs": [
    {
     "name": "stdout",
     "output_type": "stream",
     "text": [
      "<re.Match object; span=(13, 17), match='home'>\n"
     ]
    }
   ],
   "source": [
    "# Q.'We are going home'에서 home만 출력하세요.\n",
    "import re\n",
    "text = 'We are going home'\n",
    "# p = re.compile('home\\Z')\n",
    "p = re.compile('home$')\n",
    "print(p.search(text))\n",
    " "
   ]
  },
  {
   "cell_type": "code",
   "execution_count": 217,
   "id": "197256d2",
   "metadata": {},
   "outputs": [
    {
     "name": "stdout",
     "output_type": "stream",
     "text": [
      "<re.Match object; span=(0, 4), match='home'>\n"
     ]
    }
   ],
   "source": [
    "# Q.'home sweet'에서 home만 출력하세요.\n",
    "text = 'home sweet'\n",
    "# p = re.compile('\\Ahome')\n",
    "p = re.compile('^home')\n",
    "print(p.search(text))"
   ]
  },
  {
   "cell_type": "code",
   "execution_count": 223,
   "id": "74f81747",
   "metadata": {},
   "outputs": [
    {
     "name": "stdout",
     "output_type": "stream",
     "text": [
      "<re.Match object; span=(0, 6), match='199305'>\n"
     ]
    }
   ],
   "source": [
    "# Q. '199305, 1926A, a93247' 에서 199305만 출력하세요\n",
    "txt = '199305, 1926A, a93247' \n",
    "import re\n",
    "p = re.compile('\\d+') \n",
    "# p = re.compile('\\A199305') \n",
    "# p = re.compile('^199305'') \n",
    "# p = re.compile('^\\d+') \n",
    "m = p.search(txt)\n",
    "print(m)"
   ]
  },
  {
   "cell_type": "code",
   "execution_count": null,
   "id": "27d7f19b",
   "metadata": {},
   "outputs": [],
   "source": [
    "# Q. '99food234, a93456\\n, a9356ba'에서 99food234만 출력하세요."
   ]
  },
  {
   "cell_type": "code",
   "execution_count": 233,
   "id": "ccd689cb",
   "metadata": {},
   "outputs": [
    {
     "name": "stdout",
     "output_type": "stream",
     "text": [
      "<re.Match object; span=(0, 9), match='99food234'>\n"
     ]
    }
   ],
   "source": [
    "txt = '99food234, a93456\\n, a9356ba'\n",
    "import re\n",
    "p = re.compile('\\w+')\n",
    "m = p.search(txt)\n",
    "print(m)"
   ]
  },
  {
   "cell_type": "code",
   "execution_count": 237,
   "id": "24b83ef0",
   "metadata": {},
   "outputs": [
    {
     "name": "stdout",
     "output_type": "stream",
     "text": [
      "<re.Match object; span=(3, 8), match='class'>\n",
      "None\n",
      "None\n",
      "<re.Match object; span=(6, 11), match='class'>\n"
     ]
    }
   ],
   "source": [
    "# \\b whitespace에 의한 구분, 예) the class is\n",
    "# \\B whitespace로 구분된 단어가 아닌 경우에만 매치 예) multiclasses\n",
    "p = re.compile(r'\\bclass\\b')\n",
    "print(p.search('no class at all')) #whitespace있어서 걸러낼 수있음\n",
    "print(p.search('the declassified algorithem')) #못걸러냄\n",
    "q = re.compile(r'\\Bclass\\B') #whiltespace 구분되지 않은 걸 찾아냄\n",
    "print(q.search('no class at all')) #None나옴\n",
    "print(q.search('the declassified algorithem')) #class만 걸러냄"
   ]
  },
  {
   "cell_type": "code",
   "execution_count": 262,
   "id": "867c9e2c",
   "metadata": {},
   "outputs": [
    {
     "name": "stdout",
     "output_type": "stream",
     "text": [
      "<re.Match object; span=(10, 22), match='032-232-3245'>\n",
      "<re.Match object; span=(10, 22), match='032-232-3245'>\n"
     ]
    }
   ],
   "source": [
    "# 1. 정규표현식을 사용하여 test에서 전화번호만 출력하세요.\n",
    "# text = '문의사항이 있으면 032-232-3245로 연락주시기 바랍니다.'\n",
    "text = '문의사항이 있으면 032-232-3245 로 연락주시기 바랍니다.'\n",
    "p = re.compile('\\d+-\\d+-\\d+')\n",
    "p1 = re.compile(r'\\b[0-9-]+\\b')\n",
    "print(p.search(text))\n",
    "print(p1.search(text))\n",
    "               "
   ]
  },
  {
   "cell_type": "code",
   "execution_count": 269,
   "id": "98d6a0af",
   "metadata": {},
   "outputs": [
    {
     "name": "stdout",
     "output_type": "stream",
     "text": [
      "['에러 1122', '에러 1033', '에러 xxx']\n"
     ]
    }
   ],
   "source": [
    "# Q.정규표현식을 사용하여 text에서 에러가 들어간 부분만 포함하는 리스트를 출력하세요.\n",
    "# text = \"에러 1122, 레퍼런스 오류, 에러1033, 아규먼트 오류, 에러 xxx\"\n",
    "text = \"에러 1122, 레퍼런스 오류, 에러 1033, 아규먼트 오류, 에러 xxx\"\n",
    "\n",
    "p = re.compile('에러\\s\\w+')\n",
    "print(p.findall(text))"
   ]
  },
  {
   "cell_type": "code",
   "execution_count": 287,
   "id": "d34dff7b",
   "metadata": {
    "scrolled": true
   },
   "outputs": [
    {
     "name": "stdout",
     "output_type": "stream",
     "text": [
      "['1 apple', '5 oranges', '3 boys', '4 girls', '10 army', '11 mr']\n"
     ]
    }
   ],
   "source": [
    "# (   )에 정규표현식을 작성하여 아래와 같이 출력하세요.\n",
    "# ['1 apple', '5 oranges', '3 boys', '4 girls', '10 army', '11 mr']\n",
    "\n",
    "import re\n",
    "li = '1 apple,5 oranges, 3 boys, 4 girls; 10 army| 11 mr'\n",
    "regex = re.compile('\\d+\\s\\w+')\n",
    "list = regex.findall(li)\n",
    "print(list)"
   ]
  },
  {
   "cell_type": "code",
   "execution_count": 292,
   "id": "e7227d7a",
   "metadata": {},
   "outputs": [
    {
     "name": "stdout",
     "output_type": "stream",
     "text": [
      "['1 apple', '5 orange', '3 boys', '4 girls', '0 army', '1 mr']\n"
     ]
    }
   ],
   "source": [
    "import re\n",
    "li = '1 apple,5 orange,3 boys,4 girls; 10 army| 11 mr'\n",
    "regex = re.compile('\\d\\s\\w+')\n",
    "list = regex.findall(li)\n",
    "print(list)\n"
   ]
  },
  {
   "cell_type": "code",
   "execution_count": 283,
   "id": "fa8ef381",
   "metadata": {},
   "outputs": [
    {
     "name": "stdout",
     "output_type": "stream",
     "text": [
      "['H', 'h', 'h']\n"
     ]
    }
   ],
   "source": [
    "# Q. text에서 'H, h'만 출력하세요.\n",
    "text = 'Hello my friend! Life is short you need Python!'\n",
    "import re\n",
    "p = re.compile('[hH]')\n",
    "m = p.findall(text)\n",
    "print(m)"
   ]
  },
  {
   "cell_type": "code",
   "execution_count": 285,
   "id": "be842623",
   "metadata": {},
   "outputs": [
    {
     "name": "stdout",
     "output_type": "stream",
     "text": [
      "['e', 'l', 'l', 'o', ' ', 'm', 'y', ' ', 'f', 'r', 'i', 'e', 'n', 'd', '!', ' ', 'L', 'i', 'f', 'e', ' ', 'i', 's', ' ', 's', 'o', 'r', 't', ' ', 'y', 'o', 'u', ' ', 'n', 'e', 'e', 'd', ' ', 'P', 'y', 't', 'o', 'n', '!']\n"
     ]
    }
   ],
   "source": [
    "# Q. text에서 'H, h'가 아닌 것을 출력하세요.\n",
    "text = 'Hello my friend! Life is short you need Python!'\n",
    "import re\n",
    "p = re.compile('[^hH]')\n",
    "m = p.findall(text)\n",
    "print(m)"
   ]
  },
  {
   "cell_type": "code",
   "execution_count": 296,
   "id": "3cf849e4",
   "metadata": {},
   "outputs": [
    {
     "name": "stdout",
     "output_type": "stream",
     "text": [
      "<re.Match object; span=(0, 9), match='ABCABCABC'>\n",
      "ABC\n",
      "ABCABCABC\n"
     ]
    }
   ],
   "source": [
    "# 그룹핑 : 매치된 문자열중에서 특정 부분의 문자열만 뽑아내는 경우 ()으로 만들어준다. \n",
    "p = re.compile('(ABC)+')\n",
    "m = p.search('ABCABCABC, OK?')\n",
    "print(m)\n",
    "print(m.group(1))\n",
    "print(m.group(0))\n"
   ]
  },
  {
   "cell_type": "code",
   "execution_count": 306,
   "id": "0fbdd806",
   "metadata": {
    "scrolled": false
   },
   "outputs": [
    {
     "name": "stdout",
     "output_type": "stream",
     "text": [
      "<re.Match object; span=(3, 9), match='ABCDEF'>\n",
      "ABCDEF\n",
      "ABCDEF\n",
      "AB\n",
      "CD\n",
      "EF\n"
     ]
    }
   ],
   "source": [
    "p = re.compile('((AB)(CD)(EF))+') #그룹 총 4개(두개씩 세개랑 큰 그룹 한개)\n",
    "m = p.search('DEFABCDEFDEF, OK?')\n",
    "print(m)\n",
    "print(m.group(1))\n",
    "print(m.group(0))\n",
    "print(m.group(2))\n",
    "print(m.group(3))\n",
    "print(m.group(4))\n",
    "#결론, 그룹이 클수록 출력되는 기준이 되고 왼쪽에서 오른쪽 순서임"
   ]
  },
  {
   "cell_type": "code",
   "execution_count": 309,
   "id": "1bc79c93",
   "metadata": {},
   "outputs": [
    {
     "name": "stdout",
     "output_type": "stream",
     "text": [
      "<re.Match object; span=(3, 9), match='ABCDEF'>\n",
      "AB\n",
      "ABCDEF\n",
      "CD\n",
      "EF\n"
     ]
    }
   ],
   "source": [
    "p = re.compile('(AB)(CD)(EF)+') #그룹 총 4개(두개씩 세개랑 큰 그룹 한개)\n",
    "m = p.search('DEFABCDEFDEF, OK?')\n",
    "print(m)\n",
    "print(m.group(1))\n",
    "print(m.group(0))\n",
    "print(m.group(2))\n",
    "print(m.group(3))"
   ]
  },
  {
   "cell_type": "code",
   "execution_count": 311,
   "id": "846f01b8",
   "metadata": {},
   "outputs": [
    {
     "name": "stdout",
     "output_type": "stream",
     "text": [
      "color socks and color shoes\n"
     ]
    }
   ],
   "source": [
    "import re\n",
    "p = re.compile('(blue|while|red)')\n",
    "print(p.sub('color', 'blue socks and red shoes'))\n"
   ]
  },
  {
   "cell_type": "code",
   "execution_count": 317,
   "id": "19c653fe",
   "metadata": {},
   "outputs": [
    {
     "data": {
      "text/plain": [
       "'abc'"
      ]
     },
     "execution_count": 317,
     "metadata": {},
     "output_type": "execute_result"
    }
   ],
   "source": [
    "# Q. '12345abc'에서 'abc'만 출력하세요.\n",
    "str = '12345abc'\n",
    "re.sub('\\d', '', str)"
   ]
  },
  {
   "cell_type": "code",
   "execution_count": 320,
   "id": "b4e9f840",
   "metadata": {},
   "outputs": [
    {
     "name": "stdout",
     "output_type": "stream",
     "text": [
      "abc\n"
     ]
    }
   ],
   "source": [
    "p = re.compile('\\d')\n",
    "print(p.sub('','12345abc'))"
   ]
  }
 ],
 "metadata": {
  "kernelspec": {
   "display_name": "Python 3",
   "language": "python",
   "name": "python3"
  },
  "language_info": {
   "codemirror_mode": {
    "name": "ipython",
    "version": 3
   },
   "file_extension": ".py",
   "mimetype": "text/x-python",
   "name": "python",
   "nbconvert_exporter": "python",
   "pygments_lexer": "ipython3",
   "version": "3.9.5"
  }
 },
 "nbformat": 4,
 "nbformat_minor": 5
}
