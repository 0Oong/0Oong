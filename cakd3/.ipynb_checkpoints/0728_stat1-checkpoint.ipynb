{
 "cells": [
  {
   "cell_type": "code",
   "execution_count": null,
   "id": "3a010582",
   "metadata": {},
   "outputs": [],
   "source": [
    "#샘플의 수가 많을 수록 모집단에 가까워진다 (물리적으로 어려우나 원리적으로는 그렇다)"
   ]
  },
  {
   "cell_type": "markdown",
   "id": "935ee097",
   "metadata": {},
   "source": [
    "[모집단 분포와 표본분포]\n",
    "- 모집단: 어떤 통계적 실험의 대상이 되는 모든 대상물. ex. 대한민국 모든 남성의 키 데이터, 2018 수능점수 데이터\n",
    "- 모집단 분포: 모집단은 데이터 집단이므로 어떠한 분포를 이루며 이 데이터가 이루는 확률 분포가 모집단 분포\n",
    "- 모수: 모집단의 특성을 나타내는 수치로 모평균, 모분산, 모표준편차, 모비율, 모상관관계 등 수능점수 전체데이터를 알고 싶은 것이 아니라 전체 수능점수 평균, 표준편차를 알고 싶어한다. 수능점수와 달리 일반적으로 대부분의 모집단 분포는 완전하게 알려진 것이 없으며 전수조사는 경제적, 공간적, 시간적 제약으로 인해 거의 불가능\n",
    "\n",
    "\n",
    "- 표본: 모집단의 모수(특성)을 알기 위하여 표본을 추출해서 모집단의 모수를 추정\n",
    "- 확률표본: 모집단을 구성하는 모든 구성원이 표본으로 뽑힐 확률을 동일하게 하여 추출한 표본. Random이란 무작위라는 의미로, 어떠한 의도를 가지지 않는다는 것을 의미하며, 모든 구 성원이 뽑힐 확률이 동일하다는 개념\n",
    "- 통계량: 확률표본의 특성을 설명하는 값으로 표본평균, 표본분산, 표본표준편차, 표본비율, 표본상관관계 등\\\n",
    "모수는 모집단이 변하지 않기 때문에 그 값이 변하지 않으나 통계량은 표본을 어떻게 추출하 느냐에 따라서 그 값이 다르게 나타난다.\n",
    "- 확률변수: 무작위 실험을 했을 때 특정 확률로 발생하는 각각의 결과를 수치값으로 표현한 변\n",
    "수, 동전의 앞과 뒤\n",
    "- 확률분포: 확률변수 X의 모든 값과 그 에 대응하는 확률값들의 분포, 동전의 앞 0.5, 뒤 0.5\\\n",
    "무작위로 표본 30개씩 반복해서 100번 추출하면 100번 추출한 표본 30개의 평균값들을 100 개 구할 수 있다. 추출된 표본들의 각 평균값들에 대한 발생 분포를 그려보면 특정 확률변수에 대응하는 확률을 가진 확률 분포를 그릴 수 있다. 이것을 통계량의 확률분포라고 할 수 있고 이를 표본분포라고 부른다.\n",
    "- 통계량이 확률 변수라는 의미: 확률변수의 확률분포가 수학적으로 설명가능한 분포(예, 정규\n",
    "분포)를 따른다고 하면 특정 확률변수와 확률함수를 알고 있다면 특정 사건이 일어날 확률을 계산할 수 있으며 더 나아가 모수와 통계량의 관계를 알고 있다면 그것을 통해 모수에 대한 통 계적인 추정을 할 수 있다. 즉 통계량의 확률 함수 또는 표본 분포를 안다고 가정하면 이를 이 용해 모수를 추정할 수 있다.\n",
    "\n",
    "- 분산 : 데이터와 평균값의 간의 거리\n",
    "\n"
   ]
  },
  {
   "cell_type": "code",
   "execution_count": 1,
   "id": "4510e606",
   "metadata": {},
   "outputs": [
    {
     "data": {
      "text/plain": [
       "array([2, 3, 3, 4, 4, 4, 4, 5, 5, 6])"
      ]
     },
     "execution_count": 1,
     "metadata": {},
     "output_type": "execute_result"
    }
   ],
   "source": [
    "import numpy as np \n",
    "import pandas as pd\n",
    "\n",
    "fish_data = np.array([2,3,3,4,4,4,4,5,5,6])\n",
    "fish_data"
   ]
  },
  {
   "cell_type": "code",
   "execution_count": 2,
   "id": "2f4f9ce1",
   "metadata": {},
   "outputs": [
    {
     "data": {
      "text/plain": [
       "40"
      ]
     },
     "execution_count": 2,
     "metadata": {},
     "output_type": "execute_result"
    }
   ],
   "source": [
    "np.sum(fish_data)"
   ]
  },
  {
   "cell_type": "code",
   "execution_count": 3,
   "id": "070f4441",
   "metadata": {},
   "outputs": [
    {
     "data": {
      "text/plain": [
       "10"
      ]
     },
     "execution_count": 3,
     "metadata": {},
     "output_type": "execute_result"
    }
   ],
   "source": [
    "len(fish_data)"
   ]
  },
  {
   "cell_type": "code",
   "execution_count": 5,
   "id": "360cb46d",
   "metadata": {},
   "outputs": [
    {
     "data": {
      "text/plain": [
       "4.0"
      ]
     },
     "execution_count": 5,
     "metadata": {},
     "output_type": "execute_result"
    }
   ],
   "source": [
    "#평균 \n",
    "N = len(fish_data)\n",
    "sum_value = np.sum(fish_data)\n",
    "mu = sum_value / N\n",
    "mu\n"
   ]
  },
  {
   "cell_type": "code",
   "execution_count": 6,
   "id": "fd15999e",
   "metadata": {},
   "outputs": [
    {
     "data": {
      "text/plain": [
       "4.0"
      ]
     },
     "execution_count": 6,
     "metadata": {},
     "output_type": "execute_result"
    }
   ],
   "source": [
    "np.mean(fish_data)"
   ]
  },
  {
   "cell_type": "code",
   "execution_count": 8,
   "id": "d02083de",
   "metadata": {},
   "outputs": [
    {
     "data": {
      "text/plain": [
       "1.2"
      ]
     },
     "execution_count": 8,
     "metadata": {},
     "output_type": "execute_result"
    }
   ],
   "source": [
    "#표본분산 \n",
    "sigma_2_sample = np.sum((fish_data-mu)**2) / N\n",
    "sigma_2_sample"
   ]
  },
  {
   "cell_type": "code",
   "execution_count": 9,
   "id": "23e6dbde",
   "metadata": {},
   "outputs": [
    {
     "data": {
      "text/plain": [
       "1.2"
      ]
     },
     "execution_count": 9,
     "metadata": {},
     "output_type": "execute_result"
    }
   ],
   "source": [
    "fish_data.var()"
   ]
  },
  {
   "cell_type": "code",
   "execution_count": 10,
   "id": "b807a827",
   "metadata": {},
   "outputs": [
    {
     "data": {
      "text/plain": [
       "1.2"
      ]
     },
     "execution_count": 10,
     "metadata": {},
     "output_type": "execute_result"
    }
   ],
   "source": [
    "np.var(fish_data)"
   ]
  },
  {
   "cell_type": "code",
   "execution_count": 11,
   "id": "1ec381cf",
   "metadata": {},
   "outputs": [
    {
     "data": {
      "text/plain": [
       "1.3333333333333333"
      ]
     },
     "execution_count": 11,
     "metadata": {},
     "output_type": "execute_result"
    }
   ],
   "source": [
    "# ddof=1으로 하면 값이 퍼짐\n",
    "np.var(fish_data,ddof=1)"
   ]
  },
  {
   "cell_type": "code",
   "execution_count": 12,
   "id": "bed75074",
   "metadata": {},
   "outputs": [
    {
     "data": {
      "text/plain": [
       "1.0954451150103321"
      ]
     },
     "execution_count": 12,
     "metadata": {},
     "output_type": "execute_result"
    }
   ],
   "source": [
    "np.std(fish_data)"
   ]
  },
  {
   "cell_type": "code",
   "execution_count": 13,
   "id": "dd5f7870",
   "metadata": {},
   "outputs": [
    {
     "data": {
      "text/plain": [
       "1.2"
      ]
     },
     "execution_count": 13,
     "metadata": {},
     "output_type": "execute_result"
    }
   ],
   "source": [
    "#표본분산 \n",
    "np.var(fish_data,ddof=0)"
   ]
  },
  {
   "cell_type": "code",
   "execution_count": 14,
   "id": "d62ec6d8",
   "metadata": {},
   "outputs": [
    {
     "data": {
      "text/plain": [
       "1.0954451150103321"
      ]
     },
     "execution_count": 14,
     "metadata": {},
     "output_type": "execute_result"
    }
   ],
   "source": [
    "#표준편차 \n",
    "np.std(fish_data,ddof=0)"
   ]
  },
  {
   "cell_type": "code",
   "execution_count": 15,
   "id": "bdeb24d9",
   "metadata": {},
   "outputs": [
    {
     "data": {
      "text/plain": [
       "1.3333333333333333"
      ]
     },
     "execution_count": 15,
     "metadata": {},
     "output_type": "execute_result"
    }
   ],
   "source": [
    "#불편분산\n",
    "np.var(fish_data,ddof=1)"
   ]
  },
  {
   "cell_type": "code",
   "execution_count": 17,
   "id": "fc0407c2",
   "metadata": {},
   "outputs": [
    {
     "data": {
      "text/plain": [
       "1.1547005383792515"
      ]
     },
     "execution_count": 17,
     "metadata": {},
     "output_type": "execute_result"
    }
   ],
   "source": [
    "#불편 표준 편차 \n",
    "np.std(fish_data,ddof=1)"
   ]
  },
  {
   "cell_type": "code",
   "execution_count": 19,
   "id": "2234e2c1",
   "metadata": {},
   "outputs": [
    {
     "data": {
      "text/plain": [
       "1.15"
      ]
     },
     "execution_count": 19,
     "metadata": {},
     "output_type": "execute_result"
    }
   ],
   "source": [
    "#소수점 2번째 자리까지 (1번버전)\n",
    "np.std(fish_data,ddof=1).round(2)\n",
    "\n",
    "#소수점 2번째 자리까지 (2번 버전)\n",
    "std2 = np.std(fish_data,ddof=1).round(2)\n",
    "\n",
    "np.round(std2,2)"
   ]
  },
  {
   "cell_type": "code",
   "execution_count": 35,
   "id": "521f36bf",
   "metadata": {},
   "outputs": [
    {
     "name": "stdout",
     "output_type": "stream",
     "text": [
      "7.0\n",
      "20.0\n",
      "4.47213595499958\n"
     ]
    },
    {
     "data": {
      "text/plain": [
       "0.0"
      ]
     },
     "execution_count": 35,
     "metadata": {},
     "output_type": "execute_result"
    }
   ],
   "source": [
    "# a의 평균, 분산, 표준편차, 편차의 평균 구하기 \n",
    "#분산과 표준편차는 n-1 적용\n",
    "a = np.arange(15)\n",
    "\n",
    "#평균\n",
    "m = np.mean(a)\n",
    "#분산\n",
    "v = np.var(a, ddof=1)\n",
    "#표준편차\n",
    "s = np.std(a, ddof=1)\n",
    "\n",
    "print(m)\n",
    "print(v)\n",
    "print(s)\n",
    "\n",
    "#편차평균 구하기 \n",
    "np.mean(a-m)\n"
   ]
  },
  {
   "cell_type": "markdown",
   "id": "9eb096e8",
   "metadata": {},
   "source": [
    "* 편차 평균이 왜 0이 나올까?\n",
    "원소들 : 5, 6, 7\n",
    "3개 수의 평균은 0 \n",
    "\n",
    "- 5-6 =-1\n",
    "- 6-6 =0\n",
    "- 7-6 =1\n",
    "\n",
    "* 결과 0 \n",
    "\n"
   ]
  },
  {
   "cell_type": "markdown",
   "id": "5fcc791d",
   "metadata": {},
   "source": [
    "### 편차평균이 왜 0이 나올까\n",
    "ar = np.arange(15)\n",
    "print(ar)\n",
    "print(ar-7) 을 해보시면\n",
    "\n",
    "[ 0  1  2  3  4  5  6  7  8  9 10 11 12 13 14]\n",
    "[-7 -6 -5 -4 -3 -2 -1  0  1  2  3  4  5  6  7]\n",
    "\n",
    "이런 값이 나오니.. 아래가 편차에요\n",
    "\n",
    "# 식 : print(a-m)"
   ]
  },
  {
   "cell_type": "code",
   "execution_count": null,
   "id": "d3aa4338",
   "metadata": {},
   "outputs": [],
   "source": [
    "### 중앙값 : 중간에 있는 값\n",
    "### 이상치가 있으면 중앙값을 더 참고해야 한다 "
   ]
  },
  {
   "cell_type": "code",
   "execution_count": 40,
   "id": "3f032e0d",
   "metadata": {},
   "outputs": [
    {
     "data": {
      "text/plain": [
       "4.75"
      ]
     },
     "execution_count": 40,
     "metadata": {},
     "output_type": "execute_result"
    }
   ],
   "source": [
    "### 사분위수 구하는 방법 (25%, 75%)\n",
    "from scipy import stats\n",
    "stats.scoreatpercentile(fish_data, 25)\n",
    "stats.scoreatpercentile(fish_data, 75)"
   ]
  },
  {
   "cell_type": "code",
   "execution_count": 39,
   "id": "5f0fa556",
   "metadata": {},
   "outputs": [
    {
     "data": {
      "text/plain": [
       "array([2, 3, 3, 4, 4, 4, 4, 5, 5, 6])"
      ]
     },
     "execution_count": 39,
     "metadata": {},
     "output_type": "execute_result"
    }
   ],
   "source": [
    "fish_data"
   ]
  },
  {
   "cell_type": "code",
   "execution_count": 41,
   "id": "6daaaa62",
   "metadata": {},
   "outputs": [
    {
     "data": {
      "text/plain": [
       "array([3.25, 4.75])"
      ]
     },
     "execution_count": 41,
     "metadata": {},
     "output_type": "execute_result"
    }
   ],
   "source": [
    "### 사분위수 구하는 방법 (25%, 75%)\n",
    "stats.scoreatpercentile(fish_data,[25,75])"
   ]
  },
  {
   "cell_type": "code",
   "execution_count": 44,
   "id": "893e565d",
   "metadata": {},
   "outputs": [],
   "source": [
    "fish_data2 = np.array([2,3,3,4,4,4,4,5,5,6,100])"
   ]
  },
  {
   "cell_type": "code",
   "execution_count": 46,
   "id": "faafe2fc",
   "metadata": {},
   "outputs": [
    {
     "name": "stdout",
     "output_type": "stream",
     "text": [
      "[  2   3   3   4   4   4   4   5   5   6 100]\n",
      "평균 :  12.73\n",
      "중앙값 :  4.0\n"
     ]
    }
   ],
   "source": [
    "print(fish_data2)\n",
    "print('평균 : ', fish_data2.mean().round(2))\n",
    "print('중앙값 : ', np.median(fish_data2))"
   ]
  },
  {
   "cell_type": "code",
   "execution_count": 5,
   "id": "96bd104e",
   "metadata": {},
   "outputs": [
    {
     "data": {
      "text/html": [
       "<div>\n",
       "<style scoped>\n",
       "    .dataframe tbody tr th:only-of-type {\n",
       "        vertical-align: middle;\n",
       "    }\n",
       "\n",
       "    .dataframe tbody tr th {\n",
       "        vertical-align: top;\n",
       "    }\n",
       "\n",
       "    .dataframe thead th {\n",
       "        text-align: right;\n",
       "    }\n",
       "</style>\n",
       "<table border=\"1\" class=\"dataframe\">\n",
       "  <thead>\n",
       "    <tr style=\"text-align: right;\">\n",
       "      <th></th>\n",
       "      <th>species</th>\n",
       "      <th>length</th>\n",
       "    </tr>\n",
       "  </thead>\n",
       "  <tbody>\n",
       "    <tr>\n",
       "      <th>0</th>\n",
       "      <td>A</td>\n",
       "      <td>2</td>\n",
       "    </tr>\n",
       "    <tr>\n",
       "      <th>1</th>\n",
       "      <td>A</td>\n",
       "      <td>3</td>\n",
       "    </tr>\n",
       "    <tr>\n",
       "      <th>2</th>\n",
       "      <td>A</td>\n",
       "      <td>4</td>\n",
       "    </tr>\n",
       "    <tr>\n",
       "      <th>3</th>\n",
       "      <td>B</td>\n",
       "      <td>6</td>\n",
       "    </tr>\n",
       "    <tr>\n",
       "      <th>4</th>\n",
       "      <td>B</td>\n",
       "      <td>8</td>\n",
       "    </tr>\n",
       "    <tr>\n",
       "      <th>5</th>\n",
       "      <td>B</td>\n",
       "      <td>10</td>\n",
       "    </tr>\n",
       "  </tbody>\n",
       "</table>\n",
       "</div>"
      ],
      "text/plain": [
       "  species  length\n",
       "0       A       2\n",
       "1       A       3\n",
       "2       A       4\n",
       "3       B       6\n",
       "4       B       8\n",
       "5       B      10"
      ]
     },
     "execution_count": 5,
     "metadata": {},
     "output_type": "execute_result"
    }
   ],
   "source": [
    "import pandas as pd\n",
    "\n",
    "fish_multi = pd.read_csv('/Users/chuka/Desktop/cakd3/stats/5_2_fm.csv')\n",
    "fish_multi"
   ]
  },
  {
   "cell_type": "code",
   "execution_count": 6,
   "id": "e7f33a2d",
   "metadata": {},
   "outputs": [
    {
     "name": "stdout",
     "output_type": "stream",
     "text": [
      "         length\n",
      "species        \n",
      "A             3\n",
      "B             8\n",
      "         length\n",
      "species        \n",
      "A           1.0\n",
      "B           2.0\n"
     ]
    },
    {
     "data": {
      "text/html": [
       "<div>\n",
       "<style scoped>\n",
       "    .dataframe tbody tr th:only-of-type {\n",
       "        vertical-align: middle;\n",
       "    }\n",
       "\n",
       "    .dataframe tbody tr th {\n",
       "        vertical-align: top;\n",
       "    }\n",
       "\n",
       "    .dataframe thead tr th {\n",
       "        text-align: left;\n",
       "    }\n",
       "\n",
       "    .dataframe thead tr:last-of-type th {\n",
       "        text-align: right;\n",
       "    }\n",
       "</style>\n",
       "<table border=\"1\" class=\"dataframe\">\n",
       "  <thead>\n",
       "    <tr>\n",
       "      <th></th>\n",
       "      <th colspan=\"8\" halign=\"left\">length</th>\n",
       "    </tr>\n",
       "    <tr>\n",
       "      <th></th>\n",
       "      <th>count</th>\n",
       "      <th>mean</th>\n",
       "      <th>std</th>\n",
       "      <th>min</th>\n",
       "      <th>25%</th>\n",
       "      <th>50%</th>\n",
       "      <th>75%</th>\n",
       "      <th>max</th>\n",
       "    </tr>\n",
       "    <tr>\n",
       "      <th>species</th>\n",
       "      <th></th>\n",
       "      <th></th>\n",
       "      <th></th>\n",
       "      <th></th>\n",
       "      <th></th>\n",
       "      <th></th>\n",
       "      <th></th>\n",
       "      <th></th>\n",
       "    </tr>\n",
       "  </thead>\n",
       "  <tbody>\n",
       "    <tr>\n",
       "      <th>A</th>\n",
       "      <td>3.0</td>\n",
       "      <td>3.0</td>\n",
       "      <td>1.0</td>\n",
       "      <td>2.0</td>\n",
       "      <td>2.5</td>\n",
       "      <td>3.0</td>\n",
       "      <td>3.5</td>\n",
       "      <td>4.0</td>\n",
       "    </tr>\n",
       "    <tr>\n",
       "      <th>B</th>\n",
       "      <td>3.0</td>\n",
       "      <td>8.0</td>\n",
       "      <td>2.0</td>\n",
       "      <td>6.0</td>\n",
       "      <td>7.0</td>\n",
       "      <td>8.0</td>\n",
       "      <td>9.0</td>\n",
       "      <td>10.0</td>\n",
       "    </tr>\n",
       "  </tbody>\n",
       "</table>\n",
       "</div>"
      ],
      "text/plain": [
       "        length                                    \n",
       "         count mean  std  min  25%  50%  75%   max\n",
       "species                                           \n",
       "A          3.0  3.0  1.0  2.0  2.5  3.0  3.5   4.0\n",
       "B          3.0  8.0  2.0  6.0  7.0  8.0  9.0  10.0"
      ]
     },
     "execution_count": 6,
     "metadata": {},
     "output_type": "execute_result"
    }
   ],
   "source": [
    "group=fish_multi.groupby('species')\n",
    "print(group.mean())\n",
    "print(group.std(ddof=1))\n",
    "group.describe()"
   ]
  },
  {
   "cell_type": "code",
   "execution_count": 7,
   "id": "87ab49e8",
   "metadata": {},
   "outputs": [
    {
     "name": "stdout",
     "output_type": "stream",
     "text": [
      "length    5.5\n",
      "dtype: float64\n",
      "length    3.082207\n",
      "dtype: float64\n"
     ]
    },
    {
     "data": {
      "text/html": [
       "<div>\n",
       "<style scoped>\n",
       "    .dataframe tbody tr th:only-of-type {\n",
       "        vertical-align: middle;\n",
       "    }\n",
       "\n",
       "    .dataframe tbody tr th {\n",
       "        vertical-align: top;\n",
       "    }\n",
       "\n",
       "    .dataframe thead th {\n",
       "        text-align: right;\n",
       "    }\n",
       "</style>\n",
       "<table border=\"1\" class=\"dataframe\">\n",
       "  <thead>\n",
       "    <tr style=\"text-align: right;\">\n",
       "      <th></th>\n",
       "      <th>length</th>\n",
       "    </tr>\n",
       "  </thead>\n",
       "  <tbody>\n",
       "    <tr>\n",
       "      <th>count</th>\n",
       "      <td>6.000000</td>\n",
       "    </tr>\n",
       "    <tr>\n",
       "      <th>mean</th>\n",
       "      <td>5.500000</td>\n",
       "    </tr>\n",
       "    <tr>\n",
       "      <th>std</th>\n",
       "      <td>3.082207</td>\n",
       "    </tr>\n",
       "    <tr>\n",
       "      <th>min</th>\n",
       "      <td>2.000000</td>\n",
       "    </tr>\n",
       "    <tr>\n",
       "      <th>25%</th>\n",
       "      <td>3.250000</td>\n",
       "    </tr>\n",
       "    <tr>\n",
       "      <th>50%</th>\n",
       "      <td>5.000000</td>\n",
       "    </tr>\n",
       "    <tr>\n",
       "      <th>75%</th>\n",
       "      <td>7.500000</td>\n",
       "    </tr>\n",
       "    <tr>\n",
       "      <th>max</th>\n",
       "      <td>10.000000</td>\n",
       "    </tr>\n",
       "  </tbody>\n",
       "</table>\n",
       "</div>"
      ],
      "text/plain": [
       "          length\n",
       "count   6.000000\n",
       "mean    5.500000\n",
       "std     3.082207\n",
       "min     2.000000\n",
       "25%     3.250000\n",
       "50%     5.000000\n",
       "75%     7.500000\n",
       "max    10.000000"
      ]
     },
     "execution_count": 7,
     "metadata": {},
     "output_type": "execute_result"
    }
   ],
   "source": [
    "group=pd.read_csv('/Users/chuka/Desktop/cakd3/stats/5_2_fm.csv')\n",
    "print(group.mean())\n",
    "print(group.std(ddof=1))\n",
    "group.describe()\n"
   ]
  },
  {
   "cell_type": "code",
   "execution_count": 49,
   "id": "e62b1003",
   "metadata": {},
   "outputs": [
    {
     "ename": "NameError",
     "evalue": "name 'fish_multi' is not defined",
     "output_type": "error",
     "traceback": [
      "\u001b[0;31m---------------------------------------------------------------------------\u001b[0m",
      "\u001b[0;31mNameError\u001b[0m                                 Traceback (most recent call last)",
      "\u001b[0;32m<ipython-input-49-f03952421a4d>\u001b[0m in \u001b[0;36m<module>\u001b[0;34m\u001b[0m\n\u001b[0;32m----> 1\u001b[0;31m \u001b[0mfish_multi\u001b[0m\u001b[0;34m.\u001b[0m\u001b[0mgroupby\u001b[0m\u001b[0;34m(\u001b[0m\u001b[0;34m'species'\u001b[0m\u001b[0;34m)\u001b[0m\u001b[0;34m.\u001b[0m\u001b[0magg\u001b[0m\u001b[0;34m(\u001b[0m\u001b[0;34m[\u001b[0m\u001b[0;34m'mean'\u001b[0m\u001b[0;34m,\u001b[0m\u001b[0;34m'var'\u001b[0m\u001b[0;34m,\u001b[0m\u001b[0;34m'std'\u001b[0m\u001b[0;34m]\u001b[0m\u001b[0;34m)\u001b[0m\u001b[0;34m\u001b[0m\u001b[0;34m\u001b[0m\u001b[0m\n\u001b[0m",
      "\u001b[0;31mNameError\u001b[0m: name 'fish_multi' is not defined"
     ]
    }
   ],
   "source": [
    "fish_multi.groupby('species').agg(['mean','var','std'])"
   ]
  },
  {
   "cell_type": "code",
   "execution_count": 8,
   "id": "fa2ae1c5",
   "metadata": {},
   "outputs": [
    {
     "data": {
      "text/html": [
       "<div>\n",
       "<style scoped>\n",
       "    .dataframe tbody tr th:only-of-type {\n",
       "        vertical-align: middle;\n",
       "    }\n",
       "\n",
       "    .dataframe tbody tr th {\n",
       "        vertical-align: top;\n",
       "    }\n",
       "\n",
       "    .dataframe thead th {\n",
       "        text-align: right;\n",
       "    }\n",
       "</style>\n",
       "<table border=\"1\" class=\"dataframe\">\n",
       "  <thead>\n",
       "    <tr style=\"text-align: right;\">\n",
       "      <th></th>\n",
       "      <th>length</th>\n",
       "    </tr>\n",
       "    <tr>\n",
       "      <th>species</th>\n",
       "      <th></th>\n",
       "    </tr>\n",
       "  </thead>\n",
       "  <tbody>\n",
       "    <tr>\n",
       "      <th>A</th>\n",
       "      <td>3</td>\n",
       "    </tr>\n",
       "    <tr>\n",
       "      <th>B</th>\n",
       "      <td>8</td>\n",
       "    </tr>\n",
       "  </tbody>\n",
       "</table>\n",
       "</div>"
      ],
      "text/plain": [
       "         length\n",
       "species        \n",
       "A             3\n",
       "B             8"
      ]
     },
     "metadata": {},
     "output_type": "display_data"
    },
    {
     "data": {
      "text/html": [
       "<div>\n",
       "<style scoped>\n",
       "    .dataframe tbody tr th:only-of-type {\n",
       "        vertical-align: middle;\n",
       "    }\n",
       "\n",
       "    .dataframe tbody tr th {\n",
       "        vertical-align: top;\n",
       "    }\n",
       "\n",
       "    .dataframe thead th {\n",
       "        text-align: right;\n",
       "    }\n",
       "</style>\n",
       "<table border=\"1\" class=\"dataframe\">\n",
       "  <thead>\n",
       "    <tr style=\"text-align: right;\">\n",
       "      <th></th>\n",
       "      <th>length</th>\n",
       "    </tr>\n",
       "    <tr>\n",
       "      <th>species</th>\n",
       "      <th></th>\n",
       "    </tr>\n",
       "  </thead>\n",
       "  <tbody>\n",
       "    <tr>\n",
       "      <th>A</th>\n",
       "      <td>1.0</td>\n",
       "    </tr>\n",
       "    <tr>\n",
       "      <th>B</th>\n",
       "      <td>2.0</td>\n",
       "    </tr>\n",
       "  </tbody>\n",
       "</table>\n",
       "</div>"
      ],
      "text/plain": [
       "         length\n",
       "species        \n",
       "A           1.0\n",
       "B           2.0"
      ]
     },
     "metadata": {},
     "output_type": "display_data"
    },
    {
     "data": {
      "text/html": [
       "<div>\n",
       "<style scoped>\n",
       "    .dataframe tbody tr th:only-of-type {\n",
       "        vertical-align: middle;\n",
       "    }\n",
       "\n",
       "    .dataframe tbody tr th {\n",
       "        vertical-align: top;\n",
       "    }\n",
       "\n",
       "    .dataframe thead tr th {\n",
       "        text-align: left;\n",
       "    }\n",
       "\n",
       "    .dataframe thead tr:last-of-type th {\n",
       "        text-align: right;\n",
       "    }\n",
       "</style>\n",
       "<table border=\"1\" class=\"dataframe\">\n",
       "  <thead>\n",
       "    <tr>\n",
       "      <th></th>\n",
       "      <th colspan=\"3\" halign=\"left\">length</th>\n",
       "    </tr>\n",
       "    <tr>\n",
       "      <th></th>\n",
       "      <th>mean</th>\n",
       "      <th>var</th>\n",
       "      <th>std</th>\n",
       "    </tr>\n",
       "    <tr>\n",
       "      <th>species</th>\n",
       "      <th></th>\n",
       "      <th></th>\n",
       "      <th></th>\n",
       "    </tr>\n",
       "  </thead>\n",
       "  <tbody>\n",
       "    <tr>\n",
       "      <th>A</th>\n",
       "      <td>3</td>\n",
       "      <td>1</td>\n",
       "      <td>1.0</td>\n",
       "    </tr>\n",
       "    <tr>\n",
       "      <th>B</th>\n",
       "      <td>8</td>\n",
       "      <td>4</td>\n",
       "      <td>2.0</td>\n",
       "    </tr>\n",
       "  </tbody>\n",
       "</table>\n",
       "</div>"
      ],
      "text/plain": [
       "        length         \n",
       "          mean var  std\n",
       "species                \n",
       "A            3   1  1.0\n",
       "B            8   4  2.0"
      ]
     },
     "metadata": {},
     "output_type": "display_data"
    }
   ],
   "source": [
    "#그룹별 통계량 계산\n",
    "grouped = fish_multi.groupby('species')\n",
    "display(grouped.mean())\n",
    "display(grouped.std())\n",
    "grouped.describe()\n",
    "\n",
    "\n",
    "#제발 짧게 쓰자\n",
    "display(fish_multi.groupby('species').agg(['mean','var','std']))"
   ]
  },
  {
   "cell_type": "code",
   "execution_count": 60,
   "id": "5a443ed2",
   "metadata": {},
   "outputs": [
    {
     "name": "stdout",
     "output_type": "stream",
     "text": [
      "      x   y\n",
      "0  18.5  34\n",
      "1  18.7  39\n",
      "2  19.1  41\n",
      "3  19.7  38\n",
      "4  21.5  45\n",
      "5  21.7  41\n",
      "6  21.8  52\n",
      "7  22.0  44\n",
      "8  23.4  44\n",
      "9  23.8  49\n",
      "x    1.909508\n",
      "y    5.292552\n",
      "dtype: float64\n"
     ]
    }
   ],
   "source": [
    "cov_data=pd.read_csv('/Users/chuka/Desktop/cakd3/stats/4_cov.csv')\n",
    "print(cov_data)\n",
    "print(cov_data.std(ddof=1))"
   ]
  },
  {
   "cell_type": "code",
   "execution_count": 67,
   "id": "fe5b6f12",
   "metadata": {},
   "outputs": [
    {
     "data": {
      "text/plain": [
       "array([[ 3.64622222,  7.67333333],\n",
       "       [ 7.67333333, 28.01111111]])"
      ]
     },
     "execution_count": 67,
     "metadata": {},
     "output_type": "execute_result"
    }
   ],
   "source": [
    "#공분산 행렬 구하기 \n",
    "import scipy as sp \n",
    "import numpy as np\n",
    "\n",
    "np.cov(cov_data.x,cov_data.y,ddof=1)"
   ]
  },
  {
   "cell_type": "code",
   "execution_count": 59,
   "id": "a30e891c",
   "metadata": {},
   "outputs": [
    {
     "data": {
      "text/html": [
       "<div>\n",
       "<style scoped>\n",
       "    .dataframe tbody tr th:only-of-type {\n",
       "        vertical-align: middle;\n",
       "    }\n",
       "\n",
       "    .dataframe tbody tr th {\n",
       "        vertical-align: top;\n",
       "    }\n",
       "\n",
       "    .dataframe thead th {\n",
       "        text-align: right;\n",
       "    }\n",
       "</style>\n",
       "<table border=\"1\" class=\"dataframe\">\n",
       "  <thead>\n",
       "    <tr style=\"text-align: right;\">\n",
       "      <th></th>\n",
       "      <th>species</th>\n",
       "      <th>length</th>\n",
       "    </tr>\n",
       "  </thead>\n",
       "  <tbody>\n",
       "    <tr>\n",
       "      <th>0</th>\n",
       "      <td>A</td>\n",
       "      <td>2</td>\n",
       "    </tr>\n",
       "    <tr>\n",
       "      <th>1</th>\n",
       "      <td>A</td>\n",
       "      <td>3</td>\n",
       "    </tr>\n",
       "    <tr>\n",
       "      <th>2</th>\n",
       "      <td>A</td>\n",
       "      <td>4</td>\n",
       "    </tr>\n",
       "    <tr>\n",
       "      <th>3</th>\n",
       "      <td>B</td>\n",
       "      <td>6</td>\n",
       "    </tr>\n",
       "    <tr>\n",
       "      <th>4</th>\n",
       "      <td>B</td>\n",
       "      <td>8</td>\n",
       "    </tr>\n",
       "  </tbody>\n",
       "</table>\n",
       "</div>"
      ],
      "text/plain": [
       "  species  length\n",
       "0       A       2\n",
       "1       A       3\n",
       "2       A       4\n",
       "3       B       6\n",
       "4       B       8"
      ]
     },
     "execution_count": 59,
     "metadata": {},
     "output_type": "execute_result"
    }
   ],
   "source": [
    "cov_data.head()"
   ]
  },
  {
   "cell_type": "code",
   "execution_count": 61,
   "id": "67b3239a",
   "metadata": {},
   "outputs": [
    {
     "data": {
      "text/plain": [
       "7.673333333333336"
      ]
     },
     "execution_count": 61,
     "metadata": {},
     "output_type": "execute_result"
    }
   ],
   "source": [
    "# 공분산 \n",
    "# x 의 편차, y 의 편차를 곱해서 합산한 뒤\n",
    "# N-1 로 나눈다.\n",
    "\n",
    "xm = np.mean(cov_data['x'])\n",
    "ym = np.mean(cov_data['y'])\n",
    "\n",
    "np.sum((cov_data['x']-xm) * (cov_data['y'] -ym))/(len(cov_data)-1)"
   ]
  },
  {
   "cell_type": "code",
   "execution_count": 62,
   "id": "34aac0a1",
   "metadata": {},
   "outputs": [
    {
     "data": {
      "text/plain": [
       "0   -3.634400\n",
       "1   -4.634844\n",
       "2   -4.262400\n",
       "3   -2.490400\n",
       "4    1.278933\n",
       "5    1.509600\n",
       "6    2.684933\n",
       "7    2.502267\n",
       "8    6.076933\n",
       "9    8.642711\n",
       "dtype: float64"
      ]
     },
     "execution_count": 62,
     "metadata": {},
     "output_type": "execute_result"
    }
   ],
   "source": [
    "#공분산 x, y / 길이 / 평균\n",
    "# sum((x - x평균) * (y - y평균)) / n-1   \n",
    "\n",
    "x = cov_data['x']\n",
    "y = cov_data['y']\n",
    "\n",
    "xN = len(x)\n",
    "yN = len(y)\n",
    "\n",
    "x_sum = np.sum(x)\n",
    "y_sum = np.sum(y)\n",
    "\n",
    "\n",
    "x_mu = x_sum / xN\n",
    "y_mu = x_sum / yN\n",
    "\n",
    "cor_v = (( x - x_mu) * ( y - y_mu)) / (xN-1)\n",
    "\n",
    "cor_v"
   ]
  },
  {
   "cell_type": "code",
   "execution_count": 69,
   "id": "f2ab3821",
   "metadata": {},
   "outputs": [
    {
     "data": {
      "text/plain": [
       "array([[1.       , 0.7592719],\n",
       "       [0.7592719, 1.       ]])"
      ]
     },
     "execution_count": 69,
     "metadata": {},
     "output_type": "execute_result"
    }
   ],
   "source": [
    "#상관 행렬 \n",
    "np.corrcoef(cov_data.x,cov_data.y)"
   ]
  },
  {
   "cell_type": "code",
   "execution_count": null,
   "id": "47cd0378",
   "metadata": {},
   "outputs": [],
   "source": [
    "#상관계수 풀어서 구하기 "
   ]
  }
 ],
 "metadata": {
  "kernelspec": {
   "display_name": "Python 3",
   "language": "python",
   "name": "python3"
  },
  "language_info": {
   "codemirror_mode": {
    "name": "ipython",
    "version": 3
   },
   "file_extension": ".py",
   "mimetype": "text/x-python",
   "name": "python",
   "nbconvert_exporter": "python",
   "pygments_lexer": "ipython3",
   "version": "3.9.5"
  }
 },
 "nbformat": 4,
 "nbformat_minor": 5
}
