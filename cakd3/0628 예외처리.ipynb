{
 "cells": [
  {
   "cell_type": "code",
   "execution_count": 1,
   "id": "f221b73b",
   "metadata": {},
   "outputs": [
    {
     "ename": "KeyboardInterrupt",
     "evalue": "Interrupted by user",
     "output_type": "error",
     "traceback": [
      "\u001b[1;31m---------------------------------------------------------------------------\u001b[0m",
      "\u001b[1;31mKeyboardInterrupt\u001b[0m                         Traceback (most recent call last)",
      "\u001b[1;32m<ipython-input-1-8e9d38af6983>\u001b[0m in \u001b[0;36m<module>\u001b[1;34m\u001b[0m\n\u001b[0;32m      5\u001b[0m \u001b[1;33m\u001b[0m\u001b[0m\n\u001b[0;32m      6\u001b[0m \u001b[1;31m#정수를 입력하지 않은 경우 예외 발생\u001b[0m\u001b[1;33m\u001b[0m\u001b[1;33m\u001b[0m\u001b[1;33m\u001b[0m\u001b[0m\n\u001b[1;32m----> 7\u001b[1;33m \u001b[0mnum_input\u001b[0m \u001b[1;33m=\u001b[0m \u001b[0mint\u001b[0m\u001b[1;33m(\u001b[0m\u001b[0minput\u001b[0m\u001b[1;33m(\u001b[0m\u001b[1;34m'정수 입력> '\u001b[0m\u001b[1;33m)\u001b[0m\u001b[1;33m)\u001b[0m\u001b[1;33m\u001b[0m\u001b[1;33m\u001b[0m\u001b[0m\n\u001b[0m\u001b[0;32m      8\u001b[0m \u001b[0mprint\u001b[0m\u001b[1;33m(\u001b[0m\u001b[1;34m'원의 반지름: '\u001b[0m\u001b[1;33m,\u001b[0m \u001b[0mnum_input\u001b[0m\u001b[1;33m)\u001b[0m\u001b[1;33m\u001b[0m\u001b[1;33m\u001b[0m\u001b[0m\n\u001b[0;32m      9\u001b[0m \u001b[1;31m#실행은 되지만 여기에 정수가 아니라 string을 넣을 경우 'Value error가 뜸'\u001b[0m\u001b[1;33m\u001b[0m\u001b[1;33m\u001b[0m\u001b[1;33m\u001b[0m\u001b[0m\n",
      "\u001b[1;32mC:\\ca_da\\anaconda\\envs\\cakd3\\lib\\site-packages\\ipykernel\\kernelbase.py\u001b[0m in \u001b[0;36mraw_input\u001b[1;34m(self, prompt)\u001b[0m\n\u001b[0;32m    858\u001b[0m                 \u001b[1;34m\"raw_input was called, but this frontend does not support input requests.\"\u001b[0m\u001b[1;33m\u001b[0m\u001b[1;33m\u001b[0m\u001b[0m\n\u001b[0;32m    859\u001b[0m             )\n\u001b[1;32m--> 860\u001b[1;33m         return self._input_request(str(prompt),\n\u001b[0m\u001b[0;32m    861\u001b[0m             \u001b[0mself\u001b[0m\u001b[1;33m.\u001b[0m\u001b[0m_parent_ident\u001b[0m\u001b[1;33m,\u001b[0m\u001b[1;33m\u001b[0m\u001b[1;33m\u001b[0m\u001b[0m\n\u001b[0;32m    862\u001b[0m             \u001b[0mself\u001b[0m\u001b[1;33m.\u001b[0m\u001b[0m_parent_header\u001b[0m\u001b[1;33m,\u001b[0m\u001b[1;33m\u001b[0m\u001b[1;33m\u001b[0m\u001b[0m\n",
      "\u001b[1;32mC:\\ca_da\\anaconda\\envs\\cakd3\\lib\\site-packages\\ipykernel\\kernelbase.py\u001b[0m in \u001b[0;36m_input_request\u001b[1;34m(self, prompt, ident, parent, password)\u001b[0m\n\u001b[0;32m    902\u001b[0m             \u001b[1;32mexcept\u001b[0m \u001b[0mKeyboardInterrupt\u001b[0m\u001b[1;33m:\u001b[0m\u001b[1;33m\u001b[0m\u001b[1;33m\u001b[0m\u001b[0m\n\u001b[0;32m    903\u001b[0m                 \u001b[1;31m# re-raise KeyboardInterrupt, to truncate traceback\u001b[0m\u001b[1;33m\u001b[0m\u001b[1;33m\u001b[0m\u001b[1;33m\u001b[0m\u001b[0m\n\u001b[1;32m--> 904\u001b[1;33m                 \u001b[1;32mraise\u001b[0m \u001b[0mKeyboardInterrupt\u001b[0m\u001b[1;33m(\u001b[0m\u001b[1;34m\"Interrupted by user\"\u001b[0m\u001b[1;33m)\u001b[0m \u001b[1;32mfrom\u001b[0m \u001b[1;32mNone\u001b[0m\u001b[1;33m\u001b[0m\u001b[1;33m\u001b[0m\u001b[0m\n\u001b[0m\u001b[0;32m    905\u001b[0m             \u001b[1;32mexcept\u001b[0m \u001b[0mException\u001b[0m \u001b[1;32mas\u001b[0m \u001b[0me\u001b[0m\u001b[1;33m:\u001b[0m\u001b[1;33m\u001b[0m\u001b[1;33m\u001b[0m\u001b[0m\n\u001b[0;32m    906\u001b[0m                 \u001b[0mself\u001b[0m\u001b[1;33m.\u001b[0m\u001b[0mlog\u001b[0m\u001b[1;33m.\u001b[0m\u001b[0mwarning\u001b[0m\u001b[1;33m(\u001b[0m\u001b[1;34m\"Invalid Message:\"\u001b[0m\u001b[1;33m,\u001b[0m \u001b[0mexc_info\u001b[0m\u001b[1;33m=\u001b[0m\u001b[1;32mTrue\u001b[0m\u001b[1;33m)\u001b[0m\u001b[1;33m\u001b[0m\u001b[1;33m\u001b[0m\u001b[0m\n",
      "\u001b[1;31mKeyboardInterrupt\u001b[0m: Interrupted by user"
     ]
    }
   ],
   "source": [
    "#구분 오류 : 프로그램 실행전에 발생하는 오류\n",
    "#예외 또는 런타임 오류 : 프로그램 실행중에 발생하는 오류 \n",
    "\n",
    "#syntax error : 구문 에러 : print(('예외를 강제로 발생!))\n",
    "\n",
    "#정수를 입력하지 않은 경우 예외 발생\n",
    "num_input = int(input('정수 입력> '))\n",
    "print('원의 반지름: ', num_input)\n",
    "#실행은 되지만 여기에 정수가 아니라 string을 넣을 경우 'Value error가 뜸'"
   ]
  },
  {
   "cell_type": "code",
   "execution_count": null,
   "id": "439df6c1",
   "metadata": {},
   "outputs": [],
   "source": [
    "#조건문으로 예외 처리\n",
    "user_input = input('정수입력> ')\n",
    "if user_input.isdigit():\n",
    "    num_input = int(user_input)\n",
    "    print('원의 반지름: ', num_input)\n",
    "else:\n",
    "    print('정수를 입력하지 않았습니다.')"
   ]
  },
  {
   "cell_type": "code",
   "execution_count": null,
   "id": "5d8c958f",
   "metadata": {},
   "outputs": [],
   "source": [
    "print('안녕하세요')\n",
    "print(param) #name error발생. param은 매개변수이기 때문에\n"
   ]
  },
  {
   "cell_type": "code",
   "execution_count": null,
   "id": "ef1304a6",
   "metadata": {},
   "outputs": [],
   "source": [
    "param = 1\n",
    "print('안녕하세요')\n",
    "print(param) #name error발생. param은 매개변수이기 때문에\n",
    "\n",
    "#하지만 매개변수를 넣어주면 입력이 된다"
   ]
  },
  {
   "cell_type": "code",
   "execution_count": null,
   "id": "39b8f860",
   "metadata": {},
   "outputs": [],
   "source": [
    "#프로그램이 실행되는 동안 오류가 발생하면 프로그래밍이 더 이상 진행될 수 없는 상태가 되는데,\n",
    "#이를 예외라고 한다. \n",
    "#예외가 발생해도 프로그램을 중단하지 않고 예외에 대한 적절한 처리를 하여 프로그램을 \n",
    "#계속 진행하도록 하는 구문이 try ~ except\n",
    "\n",
    "try : \n",
    "    print('안녕하세요')\n",
    "    print(param)\n",
    "except : \n",
    "    print('예외가 발생했습니다')"
   ]
  },
  {
   "cell_type": "code",
   "execution_count": null,
   "id": "2f0e0a16",
   "metadata": {},
   "outputs": [],
   "source": [
    "try : \n",
    "    print('안녕하세요')\n",
    "except : \n",
    "    print('예외가 발생했습니다')\n",
    "else :\n",
    "    print('예외가 발생하지 않았습니다.')"
   ]
  },
  {
   "cell_type": "code",
   "execution_count": 2,
   "id": "b9a2ac40",
   "metadata": {},
   "outputs": [
    {
     "name": "stdout",
     "output_type": "stream",
     "text": [
      "안녕하세요\n",
      "예외가 발생했습니다\n",
      "무조건 실행하는 코드\n"
     ]
    }
   ],
   "source": [
    "try : \n",
    "    print('안녕하세요')\n",
    "    print(param)\n",
    "except : \n",
    "    print('예외가 발생했습니다')\n",
    "finally : \n",
    "    print('무조건 실행하는 코드')"
   ]
  },
  {
   "cell_type": "code",
   "execution_count": 20,
   "id": "058d8e28",
   "metadata": {},
   "outputs": [
    {
     "name": "stdout",
     "output_type": "stream",
     "text": [
      "name 'param' is not defined\n"
     ]
    }
   ],
   "source": [
    "#코드에서 예외 발생 내용을 확인하고자 하는 경우 처리 방법\n",
    "try : \n",
    "    print(param)\n",
    "except Exception as e : \n",
    "    print(e)"
   ]
  },
  {
   "cell_type": "code",
   "execution_count": null,
   "id": "f5b4ddcb",
   "metadata": {},
   "outputs": [],
   "source": [
    "try : \n",
    "    print(param)\n",
    "except Exception as e : \n",
    "    print(e)"
   ]
  },
  {
   "cell_type": "code",
   "execution_count": null,
   "id": "cfe9ad3b",
   "metadata": {},
   "outputs": [],
   "source": [
    "import time\n",
    "count = 1\n",
    "try : \n",
    "    while True:\n",
    "        print(count)\n",
    "        count += 1\n",
    "        time.sleep(0.5)\n",
    "except KeyboardInterrupt:\n",
    "    print('사용자에 의해 프로그램이 중단되었습니다.')"
   ]
  },
  {
   "cell_type": "markdown",
   "id": "19854d65",
   "metadata": {},
   "source": [
    "#### Q.리스트 ['52','273','32','문자','103']에서 숫자 부분만 출력하세요(예외처리 수행)"
   ]
  },
  {
   "cell_type": "code",
   "execution_count": null,
   "id": "57cd60c7",
   "metadata": {},
   "outputs": [],
   "source": [
    "li = ['52','273','32','문자','103']\n",
    "result = []\n",
    "try : \n",
    "    for i in li :\n",
    "        if i == int:\n",
    "            li.append(i)\n",
    "        print(result)\n",
    "except :\n",
    "    print('출력이 안됩니다.')"
   ]
  },
  {
   "cell_type": "code",
   "execution_count": null,
   "id": "341a081f",
   "metadata": {},
   "outputs": [],
   "source": [
    "list_input = ['52','273','32','문자','103']\n",
    "list_num = []\n",
    "for i in list_input:\n",
    "    try:\n",
    "        int(i)\n",
    "        list_num.append(i)\n",
    "    except :\n",
    "        pass\n",
    "print(list_num)"
   ]
  },
  {
   "cell_type": "markdown",
   "id": "de23d503",
   "metadata": {},
   "source": [
    "#### Q. 정수를 입력하면 '정수', 정수가 아니면 '정수 아님'을 출력하세요."
   ]
  },
  {
   "cell_type": "code",
   "execution_count": null,
   "id": "0ec6feed",
   "metadata": {
    "scrolled": true
   },
   "outputs": [],
   "source": [
    "a = input('아무거나 입력하세요 : ')\n",
    "\n",
    "try : \n",
    "    int(a)\n",
    "    print('정수')\n",
    "except :\n",
    "    print('정수아님')\n"
   ]
  },
  {
   "cell_type": "code",
   "execution_count": 4,
   "id": "c6825567",
   "metadata": {},
   "outputs": [
    {
     "name": "stdout",
     "output_type": "stream",
     "text": [
      "정수입력> 5\n",
      "정수\n"
     ]
    }
   ],
   "source": [
    "\n",
    "try : \n",
    "    num_input = int(input('정수입력> '))\n",
    "except :\n",
    "    print('정수 아님')\n",
    "else : \n",
    "    print('정수')\n"
   ]
  },
  {
   "cell_type": "markdown",
   "id": "7862eeb0",
   "metadata": {},
   "source": [
    "#### Q. 정수를 입력하면 '입력 정수' > '예외 발생하지 않음' > '프로그램 종료'\n",
    "#### Q. 정수가 아니면 '입력값' > '정수 아님' > '프로그램 종료' 순서대로 출력하세요"
   ]
  },
  {
   "cell_type": "code",
   "execution_count": 16,
   "id": "3a8280f9",
   "metadata": {},
   "outputs": [
    {
     "name": "stdout",
     "output_type": "stream",
     "text": [
      "아무거나 입력하세요 : 5\n",
      "예외 발생하지 않음\n",
      "프로그램 종료\n"
     ]
    }
   ],
   "source": [
    "a = input('아무거나 입력하세요 : ')\n",
    "\n",
    "try : \n",
    "    int(a)\n",
    "    print('예외 발생하지 않음')\n",
    "except : \n",
    "    print('정수아님')   \n",
    "finally : \n",
    "    print('프로그램 종료')"
   ]
  },
  {
   "cell_type": "code",
   "execution_count": 14,
   "id": "b931c473",
   "metadata": {
    "scrolled": false
   },
   "outputs": [
    {
     "name": "stdout",
     "output_type": "stream",
     "text": [
      "아무거나 입력하세요 : 5\n",
      "정수\n",
      "프로그램 종료\n"
     ]
    }
   ],
   "source": [
    "try : \n",
    "    a = int(input('아무거나 입력하세요 : '))\n",
    "except : \n",
    "    print('정수아님')\n",
    "else : \n",
    "    print('정수')\n",
    "finally : \n",
    "    print('프로그램 종료')"
   ]
  },
  {
   "cell_type": "markdown",
   "id": "043d88f6",
   "metadata": {},
   "source": [
    "#### Q. 아래 코드에서 try ~ except ~ finally를 사용하여  'finally 구문이 실행되었습니다.'를 출력하세요"
   ]
  },
  {
   "cell_type": "code",
   "execution_count": 19,
   "id": "abd537f2",
   "metadata": {
    "scrolled": true
   },
   "outputs": [
    {
     "name": "stdout",
     "output_type": "stream",
     "text": [
      "프로그램이 시작되었습니다\n",
      "try 구문이 시작되었습니다.\n",
      "finally 구문이 실행되었습니다.\n",
      "프로그램이 종료되었습니다\n"
     ]
    }
   ],
   "source": [
    "print('프로그램이 시작되었습니다')\n",
    "while True :\n",
    "    try : \n",
    "        print ('try 구문이 시작되었습니다.')\n",
    "        break\n",
    "        print('try 구문의 break 키워드 뒤입니다.')\n",
    "    except :\n",
    "        print('execpt 구문이 실행되었습니다.')\n",
    "    finally : \n",
    "        print('finally 구문이 실행되었습니다.')\n",
    "    print('while 반복문의 마지막 줄입니다.')\n",
    "print('프로그램이 종료되었습니다')\n"
   ]
  },
  {
   "cell_type": "markdown",
   "id": "61201c95",
   "metadata": {},
   "source": [
    "#### Q. 숫자 대신 문자를 입력시 예외가 발생되는데 아래 코드를 수정해서\n",
    "#### 예외 객체의 자료형과 예외 객체 자체를 출력하세요"
   ]
  },
  {
   "cell_type": "code",
   "execution_count": 33,
   "id": "9755a1ae",
   "metadata": {},
   "outputs": [
    {
     "name": "stdout",
     "output_type": "stream",
     "text": [
      "정수입력>ㅇㅇ\n",
      "<class 'ValueError'>\n",
      "invalid literal for int() with base 10: 'ㅇㅇ'\n"
     ]
    }
   ],
   "source": [
    "try : \n",
    "    num_input = int(input('정수입력>' ))\n",
    "    print('원의 반지름: ', num_input)\n",
    "    print('원의 둘레: ', 2*3.14*num_input)\n",
    "    print('원의 넓이: ',3.14*num_input*num_input)\n",
    "except Exception as e:\n",
    "    print(type(e))\n",
    "    print((e))"
   ]
  },
  {
   "cell_type": "markdown",
   "id": "5df8f83b",
   "metadata": {},
   "source": [
    "(위 내용 설명)\n",
    "나중에 클래스를 배우는데 클래스가 자료형임. 붕어빵을 찍어내는 기계가 있으면 붕어빵이 객체임\n",
    "클래스를 가지고 객체를 만드는게 붕어빵을 만드는데, 그 붕어빵에는 기계가 갖고 있는 모든 기능이 다 들어있음\n",
    "붕어빵 기계 하나 만들어서 붕어빵 찍어내는건 쉬우니까.\n",
    "클래스를 만들어서 거기의 모든 자원 , 변수, 함수 그리고 클래스의 함수를 특별히 '메소드'라고 함\n",
    "변수와 메소드 이런 것들을 이용할 수 있음 객체를 만들면\n",
    "그럼 ValueError라는 클래스가 Exception안에 있는 것\n",
    "클래스도 하나의 타입임.\n",
    "그런데 e가 쓴 객체는 그 중에 ValueError인 것"
   ]
  },
  {
   "cell_type": "code",
   "execution_count": null,
   "id": "0aa446de",
   "metadata": {},
   "outputs": [],
   "source": [
    "#과제\n",
    "#Q. 아래 코드를 모든 예외를 처리할 수 있도록 보완하세요\n",
    "list_num = [52,273,32,72,100]\n",
    "try : \n",
    "    num_input = int(input('정수 입력> '))\n",
    "    print('{}번째 요소 : {}'.format(num_input, list_num[num_input]))\n",
    "    예외.발생()\n",
    "except ...github 참고"
   ]
  },
  {
   "cell_type": "code",
   "execution_count": null,
   "id": "dc83516d",
   "metadata": {},
   "outputs": [],
   "source": []
  }
 ],
 "metadata": {
  "kernelspec": {
   "display_name": "Python 3",
   "language": "python",
   "name": "python3"
  },
  "language_info": {
   "codemirror_mode": {
    "name": "ipython",
    "version": 3
   },
   "file_extension": ".py",
   "mimetype": "text/x-python",
   "name": "python",
   "nbconvert_exporter": "python",
   "pygments_lexer": "ipython3",
   "version": "3.8.10"
  }
 },
 "nbformat": 4,
 "nbformat_minor": 5
}
