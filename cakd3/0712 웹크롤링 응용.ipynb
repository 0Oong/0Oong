{
 "cells": [
  {
   "cell_type": "markdown",
   "id": "3bc87d16",
   "metadata": {},
   "source": [
    "selenimu 모듈\n",
    "- 웹 어플리케이션 테스트를 위한 프레임워크 : 홈페이지 테스트용으로 사용\n",
    "- 사용자가 아닌 프로그램이 웹 브라우저를 제어할 수 있도록 지원\n",
    "- 웹 브라우저마다 클라이언트 프로그램(Web Driver)이 별도로 필요(웹 브라우저 <-> 프로그램간 통신 목적)\n",
    "- 크롤링 보다는 웹을 제어하는 목적이 더 큼\n",
    "- pip install selenium\n",
    "- web driver 설치(크롬 버전 확인):\n",
    "- 압축 해체한 후 chromedriver.exe를 적당한 경로로 이동\n",
    "- selenimu 모듈 호출 후 설치한 web driver 경로를 지정\n",
    "\n",
    "이벤트로 제어하기 : 브라우저를 직접 제어하기 때문에 직접 컨트롤하여 마우스 클릭, 키보드 입력, 자바 스크립트 이벤트 처리 가능\n",
    "- 마우스 클릭 : click()\n",
    "- 키보드 입력 : send_keys()\n",
    "- 자바스크립트 삽입 : execute_script()\n",
    "- 입력 양식 전송 : submit()\n",
    "- 스크린샷 : screenshot(파일이름)\n",
    "- 글자 지움 : clear()\n",
    "- 뒤로가기 : back()\n",
    "- 앞으로 가기 : forward()"
   ]
  },
  {
   "cell_type": "code",
   "execution_count": 1,
   "id": "6befa44a",
   "metadata": {
    "scrolled": true
   },
   "outputs": [
    {
     "name": "stdout",
     "output_type": "stream",
     "text": [
      "Requirement already satisfied: selenium in /Applications/anaconda3/envs/cakd3/lib/python3.9/site-packages (3.141.0)\r\n",
      "Requirement already satisfied: urllib3 in /Applications/anaconda3/envs/cakd3/lib/python3.9/site-packages (from selenium) (1.26.6)\r\n"
     ]
    }
   ],
   "source": [
    "!pip install selenium"
   ]
  },
  {
   "cell_type": "code",
   "execution_count": 26,
   "id": "43708681",
   "metadata": {},
   "outputs": [],
   "source": [
    "import selenium\n",
    "from selenium import webdriver\n",
    "url = 'https://naver.com'\n",
    "path = '/Users/joy/chromedriver'\n",
    "driver = webdriver.Chrome(path)\n",
    "driver.get(url)"
   ]
  },
  {
   "cell_type": "code",
   "execution_count": 30,
   "id": "9a3d8459",
   "metadata": {},
   "outputs": [],
   "source": [
    "driver.close() #브라우저를 닫음"
   ]
  },
  {
   "cell_type": "code",
   "execution_count": 28,
   "id": "69cd6df9",
   "metadata": {},
   "outputs": [],
   "source": [
    "# driver.maximize_window() 화면 꽉차게\n",
    "driver.minimize_window()  #화면 최소화"
   ]
  },
  {
   "cell_type": "code",
   "execution_count": 29,
   "id": "0c2cc011",
   "metadata": {},
   "outputs": [
    {
     "data": {
      "text/plain": [
       "'https://www.naver.com/'"
      ]
     },
     "execution_count": 29,
     "metadata": {},
     "output_type": "execute_result"
    }
   ],
   "source": [
    "driver.current_url"
   ]
  },
  {
   "cell_type": "code",
   "execution_count": null,
   "id": "7637ed6f",
   "metadata": {},
   "outputs": [],
   "source": [
    "셀레니움 함수\n",
    "- find_element_by_id : id 속성을 사용하여 접근\n",
    "- find_element(s)_by_class_name : 클래스를 사용하여 접근\n",
    "- find_element(s)_by_name : name 속성을 사용하여 접근 \n",
    "- find_element(s)_by_xpath: xpath 속성을 사용하여 접근\n",
    "- find_element(s)_by_link_text : 앵커태그(a 태그)에 사용되는 텍스트로 접근\n",
    "- find_element(s)_by_partial_link_text: 앵커태그(a 태그)에 사용되는 일부 텍스트로 접근\n",
    "- find_element(s)_by_tag_name : 태그를 사용하여 접근\n",
    "- find_element(s)_by_css_selector: css 선택자를 사용하여 접근"
   ]
  },
  {
   "cell_type": "code",
   "execution_count": 3,
   "id": "b46350b3",
   "metadata": {
    "scrolled": true
   },
   "outputs": [
    {
     "name": "stdout",
     "output_type": "stream",
     "text": [
      "빅 데이터 정의 | Oracle 대한민국\n",
      "빅데이터(big data) 이해 - 정의, 분석, 기술, 특징, 사례 연구\n",
      "서울특별시 빅데이터 캠퍼스\n",
      "빅 데이터 프로세싱 - 나무위키\n",
      "빅데이터란? | 고급 빅 데이터 분석 | SAP Insights\n",
      "K-ICT 빅데이터센터\n"
     ]
    }
   ],
   "source": [
    "from selenium import webdriver\n",
    "from selenium.webdriver.common.keys import Keys\n",
    "import time\n",
    "driver = webdriver.Chrome('/Users/joy/chromedriver')\n",
    "driver.get('https://google.com')\n",
    "search_box = driver.find_element_by_xpath('/html/body/div[1]/div[3]/form/div[1]/div[1]/div[1]/div/div[2]/input')\n",
    "search_box.send_keys('빅데이터')\n",
    "search_box.send_keys(Keys.RETURN)\n",
    "\n",
    "elements = driver.find_elements_by_xpath('//*[@id=\"rso\"]/div/div/div/div/a/h3')\n",
    "for e in elements:\n",
    "    print(e.text)\n",
    "    print(e.text, file=open('dataset/test_sel.txt', 'a', encoding='utf-8'))  #a는 누적하겠다는 뜻\n",
    "time.sleep(3)\n",
    "driver.close()\n",
    "    "
   ]
  },
  {
   "cell_type": "code",
   "execution_count": 1,
   "id": "6c11cdf2",
   "metadata": {},
   "outputs": [
    {
     "ename": "SyntaxError",
     "evalue": "invalid syntax (<ipython-input-1-fb828f8c977f>, line 24)",
     "output_type": "error",
     "traceback": [
      "\u001b[0;36m  File \u001b[0;32m\"<ipython-input-1-fb828f8c977f>\"\u001b[0;36m, line \u001b[0;32m24\u001b[0m\n\u001b[0;31m    driver.close()\u001b[0m\n\u001b[0m    ^\u001b[0m\n\u001b[0;31mSyntaxError\u001b[0m\u001b[0;31m:\u001b[0m invalid syntax\n"
     ]
    }
   ],
   "source": [
    "# Q. 구글 검색에서 '이대역 맛집'을 찾아 상위 10개만 저장하세요(셀레니움 이용)  -> 다른 사람들 과제 확인해보기\n",
    "from selenium import webdriver\n",
    "from selenium.webdriver.common.keys import Keys\n",
    "import time\n",
    "url = 'https://google.com'\n",
    "driver = webdriver.Chrome('/Users/joy/chromedriver')\n",
    "driver.get(url)\n",
    "\n",
    "search_box = driver.find_element_by_xpath('/html/body/div[1]/div[3]/form/div[1]/div[1]/div[1]/div/div[2]/input') \n",
    "search_box.send_keys('이대역 채식 맛집')\n",
    "search_box.send_keys(Keys.RETURN)\n",
    "\n",
    "element1 = driver.find_element_by_xpath('//*[@id=\"rso\"]/div[1]/div/div/div/div/div[5]/div/g-more-link/a/div')\n",
    "element1.click()\n",
    "\n",
    "\n",
    "elements = driver.find_elements_by_css_selector('tsuid > div.uMdZh.tIxNaf.mnr-c > div > a > div > div.dbg0pd > div')\n",
    "\n",
    "for e in elements:\n",
    "    print(e.text)\n",
    "    print(e.text, file=open('dataset/res_sel.txt','a',encoding='utf-8')\n",
    "          \n",
    "# time.sleep(2)\n",
    "driver.close()\n",
    "# //*[@id=\"tsuid10\"]/div[3]/div/a/div/div[3]/div\n",
    "#tsuid9 > div.uMdZh.tIxNaf.mnr-c > div > a > div > div.dbg0pd > div\n",
    "#tsuid10 > div.uMdZh.tIxNaf.mnr-c > div > a > div > div.dbg0pd > div"
   ]
  },
  {
   "cell_type": "code",
   "execution_count": 32,
   "id": "00c948bd",
   "metadata": {},
   "outputs": [],
   "source": [
    "#네이버 사이트 불러오기\n",
    "import selenium\n",
    "from selenium import webdriver\n",
    "from selenium.webdriver.common.keys import Keys\n",
    "url = 'https://naver.com'\n",
    "path = '/Users/joy/chromedriver'\n",
    "driver = webdriver.Chrome(path)\n",
    "driver.get(url)\n",
    "driver.maximize_window()\n",
    "# webdriver.Chrome('/Users/joy/chromedriver').get('https://naver.com')"
   ]
  },
  {
   "cell_type": "code",
   "execution_count": 17,
   "id": "9128c3b6",
   "metadata": {},
   "outputs": [],
   "source": [
    "# 로그인 이동 > 홈 이동 class name 이용\n",
    "import time\n",
    "driver.find_element_by_class_name('link_login').click()\n",
    "time.sleep(2)\n",
    "driver.back()"
   ]
  },
  {
   "cell_type": "code",
   "execution_count": 18,
   "id": "fa00a249",
   "metadata": {},
   "outputs": [],
   "source": [
    "driver.forward() #다시 로그인 페이지로"
   ]
  },
  {
   "cell_type": "code",
   "execution_count": 19,
   "id": "b12b181e",
   "metadata": {},
   "outputs": [],
   "source": [
    "driver.refresh() #새로고침\n",
    "time.sleep(2)\n",
    "driver.back() #홈페이지로"
   ]
  },
  {
   "cell_type": "code",
   "execution_count": 33,
   "id": "9612146a",
   "metadata": {},
   "outputs": [],
   "source": [
    "# 검색어 입력 - id 이용\n",
    "elem = driver.find_element_by_id('query')\n",
    "elem.send_keys('빅데이터')\n",
    "elem.send_keys(Keys.ENTER)"
   ]
  },
  {
   "cell_type": "code",
   "execution_count": 34,
   "id": "07923650",
   "metadata": {},
   "outputs": [
    {
     "data": {
      "text/plain": [
       "<selenium.webdriver.remote.webelement.WebElement (session=\"0d375acc8de52eb1e732ab45fad4fa7f\", element=\"3cd4c955-0fd7-47a0-9672-010edc7ac3d7\")>"
      ]
     },
     "execution_count": 34,
     "metadata": {},
     "output_type": "execute_result"
    }
   ],
   "source": [
    "# 빅데이터 검색했을 때 하이퍼링크만 추출해보기 - a태그의 \n",
    "elem = driver.find_element_by_tag_name('a')\n",
    "elem"
   ]
  },
  {
   "cell_type": "code",
   "execution_count": 35,
   "id": "e3538036",
   "metadata": {},
   "outputs": [
    {
     "name": "stdout",
     "output_type": "stream",
     "text": [
      "https://search.naver.com/search.naver?where=nexearch&sm=top_hty&fbm=0&ie=utf8&query=%EB%B9%85%EB%8D%B0%EC%9D%B4%ED%84%B0#lnb\n",
      "https://search.naver.com/search.naver?where=nexearch&sm=top_hty&fbm=0&ie=utf8&query=%EB%B9%85%EB%8D%B0%EC%9D%B4%ED%84%B0#content\n",
      "https://www.naver.com/\n",
      "https://search.naver.com/search.naver?where=nexearch&sm=top_hty&fbm=0&ie=utf8&query=%EB%B9%85%EB%8D%B0%EC%9D%B4%ED%84%B0#\n",
      "https://search.naver.com/search.naver?where=nexearch&sm=top_hty&fbm=0&ie=utf8&query=%EB%B9%85%EB%8D%B0%EC%9D%B4%ED%84%B0#\n"
     ]
    }
   ],
   "source": [
    "# 모든 a 태그의 href 속성 - 5개만 뽑기\n",
    "elems = driver.find_elements_by_tag_name('a')\n",
    "for i, e in enumerate(elems):\n",
    "    if i < 5:\n",
    "        print(e.get_attribute('href'))\n",
    "    else:\n",
    "        pass"
   ]
  },
  {
   "cell_type": "code",
   "execution_count": 37,
   "id": "3c08cb39",
   "metadata": {},
   "outputs": [],
   "source": [
    "# 다음 사이트로 이동\n",
    "driver.get('http://daum.net')"
   ]
  },
  {
   "cell_type": "code",
   "execution_count": 41,
   "id": "8b4a6d1b",
   "metadata": {},
   "outputs": [],
   "source": [
    "# 검색 - 엔터눌러서 하기\n",
    "elem=driver.find_element_by_name('q')\n",
    "elem.send_keys('빅데이터')\n",
    "elem.send_keys(Keys.ENTER)"
   ]
  },
  {
   "cell_type": "code",
   "execution_count": 43,
   "id": "240a55c4",
   "metadata": {},
   "outputs": [],
   "source": [
    "driver.back()"
   ]
  },
  {
   "cell_type": "code",
   "execution_count": 46,
   "id": "fe1ecdfe",
   "metadata": {},
   "outputs": [],
   "source": [
    "# 검색 - xpath로 검색 버튼 눌러서 하기\n",
    "elem=driver.find_element_by_name('q')\n",
    "elem.send_keys('빅데이터')\n",
    "elem = driver.find_element_by_xpath('//*[@id=\"daumSearch\"]/fieldset/div/div/button[2]')\n",
    "elem.click()"
   ]
  },
  {
   "cell_type": "code",
   "execution_count": 47,
   "id": "a2808812",
   "metadata": {},
   "outputs": [],
   "source": [
    "driver.refresh()\n",
    " "
   ]
  }
 ],
 "metadata": {
  "kernelspec": {
   "display_name": "Python 3",
   "language": "python",
   "name": "python3"
  },
  "language_info": {
   "codemirror_mode": {
    "name": "ipython",
    "version": 3
   },
   "file_extension": ".py",
   "mimetype": "text/x-python",
   "name": "python",
   "nbconvert_exporter": "python",
   "pygments_lexer": "ipython3",
   "version": "3.9.5"
  }
 },
 "nbformat": 4,
 "nbformat_minor": 5
}
