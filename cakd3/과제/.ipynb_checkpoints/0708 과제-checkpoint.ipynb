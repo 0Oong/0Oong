{
 "cells": [
  {
   "cell_type": "code",
   "execution_count": 10,
   "id": "a6079956",
   "metadata": {},
   "outputs": [
    {
     "data": {
      "text/html": [
       "<div>\n",
       "<style scoped>\n",
       "    .dataframe tbody tr th:only-of-type {\n",
       "        vertical-align: middle;\n",
       "    }\n",
       "\n",
       "    .dataframe tbody tr th {\n",
       "        vertical-align: top;\n",
       "    }\n",
       "\n",
       "    .dataframe thead th {\n",
       "        text-align: right;\n",
       "    }\n",
       "</style>\n",
       "<table border=\"1\" class=\"dataframe\">\n",
       "  <thead>\n",
       "    <tr style=\"text-align: right;\">\n",
       "      <th></th>\n",
       "      <th>0</th>\n",
       "      <th>1</th>\n",
       "      <th>2</th>\n",
       "      <th>3</th>\n",
       "      <th>4</th>\n",
       "    </tr>\n",
       "  </thead>\n",
       "  <tbody>\n",
       "    <tr>\n",
       "      <th>0</th>\n",
       "      <td>9</td>\n",
       "      <td>1</td>\n",
       "      <td>10</td>\n",
       "      <td>11</td>\n",
       "      <td>11</td>\n",
       "    </tr>\n",
       "    <tr>\n",
       "      <th>1</th>\n",
       "      <td>5</td>\n",
       "      <td>17</td>\n",
       "      <td>19</td>\n",
       "      <td>19</td>\n",
       "      <td>12</td>\n",
       "    </tr>\n",
       "    <tr>\n",
       "      <th>2</th>\n",
       "      <td>14</td>\n",
       "      <td>12</td>\n",
       "      <td>11</td>\n",
       "      <td>8</td>\n",
       "      <td>17</td>\n",
       "    </tr>\n",
       "    <tr>\n",
       "      <th>3</th>\n",
       "      <td>6</td>\n",
       "      <td>15</td>\n",
       "      <td>11</td>\n",
       "      <td>1</td>\n",
       "      <td>4</td>\n",
       "    </tr>\n",
       "    <tr>\n",
       "      <th>4</th>\n",
       "      <td>7</td>\n",
       "      <td>16</td>\n",
       "      <td>7</td>\n",
       "      <td>9</td>\n",
       "      <td>2</td>\n",
       "    </tr>\n",
       "  </tbody>\n",
       "</table>\n",
       "</div>"
      ],
      "text/plain": [
       "    0   1   2   3   4\n",
       "0   9   1  10  11  11\n",
       "1   5  17  19  19  12\n",
       "2  14  12  11   8  17\n",
       "3   6  15  11   1   4\n",
       "4   7  16   7   9   2"
      ]
     },
     "execution_count": 10,
     "metadata": {},
     "output_type": "execute_result"
    }
   ],
   "source": [
    "# 과제\n",
    "# Q. 5행 5열의 리스트, 배열, 사전 형태의 데이터를 데이터 프레임으로\n",
    "# 변환하여 출력하세요(가능한한 의미있는 데이터로 작성)\n",
    "import pandas as pd\n",
    "import numpy as np\n",
    "# 배열을 데이터프레임으로 만드는 것 :\n",
    "a = np.random.randint(1,20,size=(5,5))\n",
    "df1 = pd.DataFrame(a)\n",
    "\n",
    "#리스트를 데이터프레임으로 만드는 것 :\n",
    "b = [1,4,6,7,2]\n",
    "df2 = pd.DataFrame(b) \n",
    "df2\n",
    "\n",
    "# 혹은 배열을 리스트로 만든 후 데이터프레임으로 만들기:\n",
    "b1 = a.tolist()\n",
    "df3=pd.DataFrame(b1)\n",
    "df3\n",
    "\n",
    "# 사전을 데이터프레임으로 만들기\n",
    "# c = {1 : 'a', 2:'b', 3:'c'}\n"
   ]
  },
  {
   "cell_type": "code",
   "execution_count": null,
   "id": "bc487b95",
   "metadata": {},
   "outputs": [],
   "source": [
    "# Q. 위에서 변환한 데이터 프레임에서 데이터 변경, 삭제, 전치, 인덱스 등\n",
    "# 처리를 한 후 다시 리스트, 배열, 사전 형태로 변환하여 출력하세요."
   ]
  }
 ],
 "metadata": {
  "kernelspec": {
   "display_name": "Python 3",
   "language": "python",
   "name": "python3"
  },
  "language_info": {
   "codemirror_mode": {
    "name": "ipython",
    "version": 3
   },
   "file_extension": ".py",
   "mimetype": "text/x-python",
   "name": "python",
   "nbconvert_exporter": "python",
   "pygments_lexer": "ipython3",
   "version": "3.9.5"
  }
 },
 "nbformat": 4,
 "nbformat_minor": 5
}
