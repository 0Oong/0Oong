{
 "cells": [
  {
   "cell_type": "markdown",
   "id": "83ab88a1",
   "metadata": {},
   "source": [
    "## [과제]\n",
    "#### Q1. 문자열 리스트 states를 정형화하여 아래와 같이 출력하세요."
   ]
  },
  {
   "cell_type": "markdown",
   "id": "2018afba",
   "metadata": {},
   "source": [
    "states = [['   Alabama ', 'Georgia!', 'Georgia', 'georgia', 'FlOrIda',  \n",
    "          'south   carolina##', 'West virginia?']  \n",
    "[출력]  \n",
    "['Alabama',  \n",
    " 'Georgia',  \n",
    " 'Georgia',  \n",
    " 'Georgia',  \n",
    " 'Florida',  \n",
    " 'South   Carolina',  \n",
    " 'West Virginia']  "
   ]
  },
  {
   "cell_type": "code",
   "execution_count": 4,
   "id": "29ff161d",
   "metadata": {
    "scrolled": true
   },
   "outputs": [
    {
     "data": {
      "text/plain": [
       "['Alabama',\n",
       " 'Georgia',\n",
       " 'Georgia',\n",
       " 'Georgia',\n",
       " 'Florida',\n",
       " 'South Carolina',\n",
       " 'West Virginia']"
      ]
     },
     "execution_count": 4,
     "metadata": {},
     "output_type": "execute_result"
    }
   ],
   "source": [
    "#방법1\n",
    "states = [' Alabama ', 'Georgia!', 'Georgia', 'georgia', 'FlOrIda',\n",
    "'south carolina##', 'West virginia?']\n",
    "\n",
    "def a1(character):\n",
    "    return character.strip(' !#?').title()\n",
    "\n",
    "list(map(lambda x : a1(x), states))"
   ]
  },
  {
   "cell_type": "code",
   "execution_count": 5,
   "id": "f2b6f57c",
   "metadata": {},
   "outputs": [
    {
     "data": {
      "text/plain": [
       "['Alabama',\n",
       " 'Georgia',\n",
       " 'Georgia',\n",
       " 'Georgia',\n",
       " 'Florida',\n",
       " 'South Carolina',\n",
       " 'West Virginia']"
      ]
     },
     "execution_count": 5,
     "metadata": {},
     "output_type": "execute_result"
    }
   ],
   "source": [
    "#방법2\n",
    "states = [' Alabama ', 'Georgia!', 'Georgia', 'georgia', 'FlOrIda',\n",
    "'south carolina##', 'West virginia?']\n",
    "\n",
    "def a1(character):\n",
    "    a=character.strip(' !#?')\n",
    "    b=a.title()\n",
    "    return b\n",
    "list(map(lambda x : a1(x), states))"
   ]
  },
  {
   "cell_type": "code",
   "execution_count": 25,
   "id": "e4a6fe15",
   "metadata": {},
   "outputs": [
    {
     "data": {
      "text/plain": [
       "['Alabama',\n",
       " 'Georgia',\n",
       " 'Georgia',\n",
       " 'Georgia',\n",
       " 'Florida',\n",
       " 'South Carolina',\n",
       " 'West Virginia']"
      ]
     },
     "execution_count": 25,
     "metadata": {},
     "output_type": "execute_result"
    }
   ],
   "source": [
    "#방법3\n",
    "states = [' Alabama ', 'Georgia!', 'Georgia', 'georgia', 'FlOrIda',\n",
    "'south carolina##', 'West virginia?']\n",
    "\n",
    "import re\n",
    "\n",
    "def nor1(strings):\n",
    "    result = []\n",
    "    for i in strings:\n",
    "        i = i.strip()\n",
    "        i = re.sub('[!#?]', '', i)\n",
    "        i = i.title()\n",
    "        result.append(i)\n",
    "    return result\n",
    "\n",
    "nor1(states)"
   ]
  },
  {
   "cell_type": "markdown",
   "id": "beefce9b",
   "metadata": {},
   "source": [
    "#### Q2. 1000명에 대하여 아래와 같이 출력하세요. \n",
    "- bmi = round(int(weitght)/ ((int(height)/100) ** 2),2)  \n",
    "이름 : 라바  \n",
    "몸무게 : 80  \n",
    "키 : 146  \n",
    "bmi =   \n",
    "결과 : 과체중  \n",
    "BMI가 18.5 이하면 저체중 ／ 18.5 ~ 22.9 사이면 정상 ／ 23.0 ~ 24.9 사이면 과체중 ／ 25.0 이상부터는 비만으로 판정."
   ]
  },
  {
   "cell_type": "code",
   "execution_count": null,
   "id": "ef014a9a",
   "metadata": {},
   "outputs": [],
   "source": [
    "#방법 1\n",
    "import random\n",
    "hanguls = ('가나다라마바사아자차카타파하')\n",
    "    \n",
    "def bmi1(height, weight):\n",
    "    height = height * 0.01\n",
    "    bmi = weight / (height*height)\n",
    "    if bmi <= 18.5 :\n",
    "        return '결과 : 저체중'\n",
    "    elif 18.5 < bmi <30.0 :\n",
    "        return'결과 : 정상'\n",
    "    elif 23.0 < bmi < 24.9 : \n",
    "        return'결과 : 과체중'\n",
    "    else : \n",
    "        return'결과 : 비만'\n",
    "        \n",
    "with open('profile.txt', 'w') as file:\n",
    "    for i in range(1000):\n",
    "        name = random.choice(hanguls) + random.choice(hanguls)\n",
    "        height = random.randrange(140, 200)\n",
    "        weight = random.randrange(40, 80)\n",
    "        bmi = weight / (height*height*0.01*0.01)\n",
    "        file.write(\"이름 : {}\\n키 : {}\\n몸무게 : {}\\nBmi : {:0.2f}\\n{}\\n\\n\".format(name,height,weight,bmi,bmi1(height, weight)))\n",
    "        \n",
    "with open(\"profile.txt\",'r') as file:\n",
    "    data = file.read()\n",
    "    print(data)"
   ]
  },
  {
   "cell_type": "markdown",
   "id": "bf563332",
   "metadata": {},
   "source": [
    "#### Q3. 사칙연산 기능을 포함하는 모듈 cal4.py를 작성 후 임포트해서 사칙연산을 수행하세요"
   ]
  },
  {
   "cell_type": "code",
   "execution_count": null,
   "id": "d16ccb04",
   "metadata": {},
   "outputs": [],
   "source": [
    "def cal4(tp, a, *args):\n",
    "    if tp == 'add':\n",
    "        result = a\n",
    "        for i in args:\n",
    "            result +=i\n",
    "            \n",
    "    elif tp == 'minus':\n",
    "        result = a\n",
    "        for i in args:\n",
    "            result -= i\n",
    "            \n",
    "    elif tp == 'multiple':\n",
    "        result = a \n",
    "        for i in args:\n",
    "            result *= i\n",
    "            \n",
    "    elif tp == 'division':\n",
    "        try :\n",
    "            result = a\n",
    "            for i in args:\n",
    "                result /= i\n",
    "                \n",
    "        except ZeroDivisionError:\n",
    "            print('0은 입력할 수 없습니다. 다시 입력해주세요')\n",
    "            \n",
    "    else :\n",
    "        print('잘못 입력하셨습니다.')    \n",
    "    print(result)\n",
    "    \n",
    "    \n",
    "cal4('division', 5, 0)"
   ]
  },
  {
   "cell_type": "code",
   "execution_count": 4,
   "id": "31350720",
   "metadata": {},
   "outputs": [
    {
     "data": {
      "text/plain": [
       "'C:\\\\workplace\\\\cakd3\\\\programming\\\\과제'"
      ]
     },
     "execution_count": 4,
     "metadata": {},
     "output_type": "execute_result"
    }
   ],
   "source": [
    "import os\n",
    "\n",
    "%pwd"
   ]
  },
  {
   "cell_type": "code",
   "execution_count": 3,
   "id": "5f0203a7",
   "metadata": {
    "scrolled": true
   },
   "outputs": [
    {
     "name": "stdout",
     "output_type": "stream",
     "text": [
      "9\n"
     ]
    }
   ],
   "source": [
    "import cal4\n",
    "\n",
    "cal4.cal4('add',5,4)"
   ]
  }
 ],
 "metadata": {
  "kernelspec": {
   "display_name": "Python 3",
   "language": "python",
   "name": "python3"
  },
  "language_info": {
   "codemirror_mode": {
    "name": "ipython",
    "version": 3
   },
   "file_extension": ".py",
   "mimetype": "text/x-python",
   "name": "python",
   "nbconvert_exporter": "python",
   "pygments_lexer": "ipython3",
   "version": "3.8.10"
  }
 },
 "nbformat": 4,
 "nbformat_minor": 5
}
