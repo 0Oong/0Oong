{
 "cells": [
  {
   "cell_type": "code",
   "execution_count": 18,
   "id": "80f4c03e",
   "metadata": {},
   "outputs": [
    {
     "name": "stdout",
     "output_type": "stream",
     "text": [
      "      0     1     2     3     4\n",
      "0   6.0  10.0   8.0   4.0   5.0\n",
      "1   7.0  14.0  14.0  11.0  14.0\n",
      "2  16.0  14.0  17.0  16.0  19.0\n",
      "3  23.0  24.0  19.0  26.0  20.0\n",
      "4   NaN   NaN   NaN   NaN   NaN\n",
      "     0    1     2     3     4\n",
      "0  6.0  8.0   4.0  -2.0  -3.0\n",
      "1 -3.0  2.0   0.0  -5.0  -4.0\n",
      "2 -4.0 -8.0  -7.0 -10.0  -9.0\n",
      "3 -7.0 -8.0 -15.0 -10.0 -18.0\n",
      "4  NaN  NaN   NaN   NaN   NaN\n",
      "       0      1     2      3     4\n",
      "0    0.0    9.0  12.0    3.0   4.0\n",
      "1   10.0   48.0  49.0   24.0  45.0\n",
      "2   60.0   33.0  60.0   39.0  70.0\n",
      "3  120.0  128.0  34.0  144.0  19.0\n",
      "4    NaN    NaN   NaN    NaN   NaN\n",
      "          0         1         2         3         4\n",
      "0       inf  9.000000  3.000000  0.333333  0.250000\n",
      "1  0.400000  1.333333  1.000000  0.375000  0.555556\n",
      "2  0.600000  0.272727  0.416667  0.230769  0.357143\n",
      "3  0.533333  0.500000  0.117647  0.444444  0.052632\n",
      "4       NaN       NaN       NaN       NaN       NaN\n"
     ]
    }
   ],
   "source": [
    "### Q. 데이터프레임 df1, df2를 생성하고 첫번째 행을 r1,r2에\n",
    "### 첫번째 열을 c1,c2에 저장한 후 다음 연산을 수행하세요\n",
    "# - df1 + df2\n",
    "# - df1-r1\n",
    "# - df1-c1\n",
    "\n",
    "import pandas as pd\n",
    "import numpy as np\n",
    "np.random.seed(1)\n",
    "df1 = pd.DataFrame(np.random.randint(1,10,size=(5,5)))\n",
    "df2 = pd.DataFrame(np.arange(20).reshape((4,5)))\n",
    "\n",
    "df_add = df1.add(df2)\n",
    "df_sub = df1.sub(df2)\n",
    "df_mul = df1.mul(df2)\n",
    "df_div = df1.div(df2)\n",
    "\n",
    "print(df_add)\n",
    "print(df_sub) \n",
    "print(df_mul)\n",
    "print(df_div)"
   ]
  },
  {
   "cell_type": "code",
   "execution_count": null,
   "id": "9d2ebc0b",
   "metadata": {},
   "outputs": [],
   "source": [
    "#rdiv() : 역수로 나누는 것\n",
    "# 덧셈, 곱셈, 뺄셈 경우도 연산 사례 수행"
   ]
  },
  {
   "cell_type": "code",
   "execution_count": 19,
   "id": "3390e3f2",
   "metadata": {},
   "outputs": [
    {
     "name": "stdout",
     "output_type": "stream",
     "text": [
      "      0     1     2     3     4\n",
      "0   6.0  10.0   8.0   4.0   5.0\n",
      "1   7.0  14.0  14.0  11.0  14.0\n",
      "2  16.0  14.0  17.0  16.0  19.0\n",
      "3  23.0  24.0  19.0  26.0  20.0\n",
      "4   NaN   NaN   NaN   NaN   NaN\n",
      "     0    1     2     3     4\n",
      "0 -6.0 -8.0  -4.0   2.0   3.0\n",
      "1  3.0 -2.0   0.0   5.0   4.0\n",
      "2  4.0  8.0   7.0  10.0   9.0\n",
      "3  7.0  8.0  15.0  10.0  18.0\n",
      "4  NaN  NaN   NaN   NaN   NaN\n",
      "       0      1     2      3     4\n",
      "0    0.0    9.0  12.0    3.0   4.0\n",
      "1   10.0   48.0  49.0   24.0  45.0\n",
      "2   60.0   33.0  60.0   39.0  70.0\n",
      "3  120.0  128.0  34.0  144.0  19.0\n",
      "4    NaN    NaN   NaN    NaN   NaN\n",
      "          0         1         2         3     4\n",
      "0  0.000000  0.111111  0.333333  3.000000   4.0\n",
      "1  2.500000  0.750000  1.000000  2.666667   1.8\n",
      "2  1.666667  3.666667  2.400000  4.333333   2.8\n",
      "3  1.875000  2.000000  8.500000  2.250000  19.0\n",
      "4       NaN       NaN       NaN       NaN   NaN\n"
     ]
    }
   ],
   "source": [
    "df_radd = df1.radd(df2)\n",
    "df_rsub = df1.rsub(df2)\n",
    "df_rmul = df1.rmul(df2)\n",
    "df_rdiv = df1.rdiv(df2)\n",
    "\n",
    "print(df_radd)\n",
    "print(df_rsub) \n",
    "print(df_rmul)\n",
    "print(df_rdiv)"
   ]
  }
 ],
 "metadata": {
  "kernelspec": {
   "display_name": "Python 3",
   "language": "python",
   "name": "python3"
  },
  "language_info": {
   "codemirror_mode": {
    "name": "ipython",
    "version": 3
   },
   "file_extension": ".py",
   "mimetype": "text/x-python",
   "name": "python",
   "nbconvert_exporter": "python",
   "pygments_lexer": "ipython3",
   "version": "3.9.5"
  }
 },
 "nbformat": 4,
 "nbformat_minor": 5
}
