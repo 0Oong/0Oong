{
 "cells": [
  {
   "cell_type": "markdown",
   "id": "1e6da1db",
   "metadata": {},
   "source": [
    "Q.내장함수를 이용해서 list = [0,1,2,3,4,5,6]에서 2를 삭제 후 출력하세요.\n",
    "삭제하는 내장함수 찾아서 하기"
   ]
  },
  {
   "cell_type": "markdown",
   "id": "da660f31",
   "metadata": {},
   "source": [
    "Q.내장함수를 이용해서 list = [0,1,2,3,4,5,6에서 모든 원소를 삭제 후 출력하세요.\n",
    "#얘도 내장함수 찾아서 하기"
   ]
  },
  {
   "cell_type": "markdown",
   "id": "e590993a",
   "metadata": {},
   "source": [
    "Q. list = [0,1,2,3,4,5,6]에 3,7이 포함되어 있는지 확인하세요."
   ]
  },
  {
   "cell_type": "code",
   "execution_count": null,
   "id": "8bbe5a1f",
   "metadata": {},
   "outputs": [],
   "source": [
    "list1 = [0,1,2,3,4,5,6]\n",
    "print(3 in list1)\n",
    "print(7 in list1)"
   ]
  },
  {
   "cell_type": "code",
   "execution_count": null,
   "id": "739775be",
   "metadata": {
    "scrolled": true
   },
   "outputs": [],
   "source": [
    "# Q. numbers 내부에 들어 있는 숫자가 몇 번 등장하는 지를 출력하는 코드를 작성하세요. \n",
    "numbers = [3,6,6,5,8,2,9,7,4,3,6,3,5,8,2,9,7,4]\n",
    "#오수문씨\n",
    "for i in range(min(numbers),(max(numbers)+1)):\n",
    "    s = numbers.count(i)\n",
    "    if s!=0:\n",
    "        print(\"{}이 {}번 포함되어 있습니다.\".format(i,s))"
   ]
  },
  {
   "cell_type": "code",
   "execution_count": null,
   "id": "c46635e3",
   "metadata": {},
   "outputs": [],
   "source": [
    "#한아름씨\n",
    "numbers = [3,6,6,5,8,2,9,7,4,3,6,3,5,8,2,9,7,4]\n",
    "st = list(set(numbers))\n",
    "for i in st:\n",
    "    print(\"{}는 {}번 들어있습니다.\".format(i, numbers.count(i)))"
   ]
  },
  {
   "cell_type": "code",
   "execution_count": null,
   "id": "dfeddaa5",
   "metadata": {},
   "outputs": [],
   "source": [
    "# Q. list를 [6,5,4,3,2,1,0]으로 출력하세요(2가지 방법)\n",
    "li2 = [0,1,2,3,4,5,6]\n",
    "\n",
    "li2.sort()\n",
    "print(list(reversed(li2)))"
   ]
  },
  {
   "cell_type": "code",
   "execution_count": null,
   "id": "6ed1d0ae",
   "metadata": {
    "scrolled": true
   },
   "outputs": [],
   "source": [
    "# Q. list = ['a','b','c']을 for문을 사용해서 아래와 같이 출력하세요.\n",
    "#1번째는 a입니다.\n",
    "#2번째는 b입니다.\n",
    "#3번째는 c입니다.\n",
    "\n",
    "l1 = ['a', 'b', 'c']\n",
    "\n",
    "for i in l1:\n",
    "    print('{}번째 자리는 {}입니다.\\n'.format(l1.index(i), i)) "
   ]
  },
  {
   "cell_type": "code",
   "execution_count": null,
   "id": "bee3acc5",
   "metadata": {},
   "outputs": [],
   "source": [
    "#index와 값을 동시에 반환함\n",
    "li2 = ['a', 'b', 'c']\n",
    "for i, value in enumerate(li2):\n",
    "     print('{}번째 자리는 {}입니다.\\n'.format(i+1, value)) "
   ]
  },
  {
   "cell_type": "code",
   "execution_count": null,
   "id": "1a6050bf",
   "metadata": {},
   "outputs": [],
   "source": [
    "# Q. 코딩을 한줄로 작성해서 동일한 결과를 출력하세요. list안에서 하면 됨\n",
    "list = []\n",
    "for i in range(0,20,2):\n",
    "    list.append(i*i)\n",
    "print(list)"
   ]
  },
  {
   "cell_type": "code",
   "execution_count": 1,
   "id": "27949865",
   "metadata": {},
   "outputs": [
    {
     "data": {
      "text/plain": [
       "[0, 4, 16, 36, 64, 100, 144, 196, 256, 324]"
      ]
     },
     "execution_count": 1,
     "metadata": {},
     "output_type": "execute_result"
    }
   ],
   "source": [
    "list(map(lambda x: x*x, range(0,20,2)))"
   ]
  },
  {
   "cell_type": "markdown",
   "id": "27efaa26",
   "metadata": {},
   "source": [
    " Q. list = [0,1,2,3,4,5,6,7,8,9]에서 아래와 같이 출력하세요.\n",
    "list = [0,1,2,3,4,5,6,7,8,9]\n",
    "[0,2,4,6,8]\n",
    "[1,3,5,7,9]\n",
    "[2,1,0]"
   ]
  },
  {
   "cell_type": "code",
   "execution_count": 6,
   "id": "02340603",
   "metadata": {},
   "outputs": [
    {
     "name": "stdout",
     "output_type": "stream",
     "text": [
      "[0, 2, 4, 6, 8]\n",
      "[1, 3, 5, 7, 9]\n",
      "[2, 1, 0]\n",
      "[0, 2, 4, 6, 8]\n",
      "[2, 1, 0]\n",
      "[9, 8, 7, 6, 5, 4, 3, 2, 1, 0]\n"
     ]
    }
   ],
   "source": [
    "list_6 = [0,1,2,3,4,5,6,7,8,9] \n",
    "print(list_6[0:10:2])\n",
    "print(list_6[1:10:2])\n",
    "\n",
    "A = list_6[0:3]\n",
    "A.reverse()\n",
    "print(A)\n",
    "\n",
    "print(list_6[0::2])\n",
    "print(list_6[2::-1])\n",
    "\n",
    "print(list_6[::-1])"
   ]
  },
  {
   "cell_type": "markdown",
   "id": "2f0d8319",
   "metadata": {},
   "source": [
    "Q. join 함수를 이용해서 ['a','b','c']을 아래와 같이 출력하세요. a::b::c"
   ]
  },
  {
   "cell_type": "markdown",
   "id": "cebe9734",
   "metadata": {},
   "source": [
    "Q. 사용자 함수를 이용해서 여러개의 숫자를 입력하면 그 숫자들의 곱을 구하세요."
   ]
  },
  {
   "cell_type": "markdown",
   "id": "03495e86",
   "metadata": {},
   "source": [
    "Q. 두 개의 숫자를 인자로 적용하면 4칙 연산을 수행하는 사용자 함수를 작성한 후 \n",
    "5,3을 대입한 결과를 튜플로 출력하세요. 단, 소수점은 없게 처리"
   ]
  },
  {
   "cell_type": "code",
   "execution_count": 9,
   "id": "e36e08cf",
   "metadata": {},
   "outputs": [
    {
     "data": {
      "text/plain": [
       "(8, 2.0, 16, 2)"
      ]
     },
     "execution_count": 9,
     "metadata": {},
     "output_type": "execute_result"
    }
   ],
   "source": [
    "def cal(a,b):\n",
    "    add = \"{:.0f}\".format(a+b)\n",
    "    sub = round(a-b, 1) #round(a,b)는 반올림 a는 지정값, b는 소수점 자리, 안쓰면 디폴트 값으로 0입니다.\n",
    "    mul = round(a*b)\n",
    "    div = \"{:.2f}\".format(a/b)\n",
    "    return int(add), sub, mul, float(div) #int는 정수라 float을 해야 실수 가능\n",
    "cal(5.12,3.1)"
   ]
  },
  {
   "cell_type": "code",
   "execution_count": 10,
   "id": "39d42294",
   "metadata": {
    "scrolled": true
   },
   "outputs": [
    {
     "data": {
      "text/plain": [
       "(8, 15, 2, 2)"
      ]
     },
     "execution_count": 10,
     "metadata": {},
     "output_type": "execute_result"
    }
   ],
   "source": [
    "def cal2(a,b):\n",
    "    return a+b, a*b, a-b, round(a/b)\n",
    "cal2(5,3)"
   ]
  },
  {
   "cell_type": "markdown",
   "id": "b29ba3ed",
   "metadata": {},
   "source": [
    "Q. 뺄셈, 나눗셈 멀티 계산 함수를 작성"
   ]
  },
  {
   "cell_type": "code",
   "execution_count": 31,
   "id": "d1d38cc1",
   "metadata": {},
   "outputs": [
    {
     "name": "stdout",
     "output_type": "stream",
     "text": [
      "0.5\n"
     ]
    }
   ],
   "source": [
    "#한아름씨\n",
    "def sub_div(tp, a, *args):\n",
    "    if tp == \"div\" and args !=0:\n",
    "        result = a\n",
    "        for i in args:\n",
    "            result /= i\n",
    "            \n",
    "    elif tp == \"sub\" :\n",
    "        result = a\n",
    "        for i in args:\n",
    "            result -= i\n",
    "    else:\n",
    "        result = \"잘못입력\"\n",
    "    print (result)\n",
    "\n",
    "sub_div(\"div\", 1,2,1)"
   ]
  },
  {
   "cell_type": "code",
   "execution_count": 15,
   "id": "6044a8e0",
   "metadata": {},
   "outputs": [
    {
     "name": "stdout",
     "output_type": "stream",
     "text": [
      "2\n"
     ]
    }
   ],
   "source": [
    "# Q. 아래를 완성하여 2를 출력하세요.\n",
    "a = 3\n",
    "def vartest(a):\n",
    "    a -= 1\n",
    "    return a\n",
    "a = vartest(a)\n",
    "print(a)"
   ]
  },
  {
   "cell_type": "code",
   "execution_count": 17,
   "id": "024f58df",
   "metadata": {},
   "outputs": [
    {
     "name": "stdout",
     "output_type": "stream",
     "text": [
      "\n"
     ]
    }
   ],
   "source": [
    "# Q. 데이터를 입력하지 않으면 종료되는 코딩을 수행하세요.\n",
    "#단 반복적으로 작업을 수행할 수 있음\n",
    "\n",
    "while 1 :\n",
    "    data = input()\n",
    "    if not data: break        "
   ]
  },
  {
   "cell_type": "code",
   "execution_count": null,
   "id": "3ac1a367",
   "metadata": {},
   "outputs": [],
   "source": [
    "# Q. 반복문으로 팩토리얼을 구하는 사용자 함수를 작성하고 5!, 10!를 구하세요."
   ]
  },
  {
   "cell_type": "markdown",
   "id": "124a182d",
   "metadata": {},
   "source": [
    "#### Q. 재귀란 '자기자신을 호출하는 것'을 의미한다. 재귀함수를 이용해서 팩토리얼을 구하는\n",
    "#작성하고 1!, 5!, 10!를 구하세요.\n",
    "#factorial(n) = n * factorial(n-1) (n>=1)"
   ]
  },
  {
   "cell_type": "code",
   "execution_count": 22,
   "id": "26a4beae",
   "metadata": {},
   "outputs": [
    {
     "ename": "TypeError",
     "evalue": "fac1() missing 1 required positional argument: 'a'",
     "output_type": "error",
     "traceback": [
      "\u001b[1;31m---------------------------------------------------------------------------\u001b[0m",
      "\u001b[1;31mTypeError\u001b[0m                                 Traceback (most recent call last)",
      "\u001b[1;32m<ipython-input-22-86fe239238a3>\u001b[0m in \u001b[0;36m<module>\u001b[1;34m\u001b[0m\n\u001b[0;32m      7\u001b[0m         \u001b[1;32mreturn\u001b[0m \u001b[1;34m'오류'\u001b[0m\u001b[1;33m\u001b[0m\u001b[1;33m\u001b[0m\u001b[0m\n\u001b[0;32m      8\u001b[0m \u001b[1;33m\u001b[0m\u001b[0m\n\u001b[1;32m----> 9\u001b[1;33m \u001b[0mprint\u001b[0m\u001b[1;33m(\u001b[0m\u001b[0mfac1\u001b[0m\u001b[1;33m(\u001b[0m\u001b[1;33m)\u001b[0m\u001b[1;33m)\u001b[0m\u001b[1;33m\u001b[0m\u001b[1;33m\u001b[0m\u001b[0m\n\u001b[0m",
      "\u001b[1;31mTypeError\u001b[0m: fac1() missing 1 required positional argument: 'a'"
     ]
    }
   ],
   "source": [
    "def fac1(a):\n",
    "    if a== 1 : \n",
    "        return 1\n",
    "    elif a > 1 :\n",
    "        return a * fac1(a-1)\n",
    "    elif a <= 0 :\n",
    "        return '오류'\n",
    "\n",
    "print(fac1())"
   ]
  },
  {
   "cell_type": "code",
   "execution_count": 24,
   "id": "dfdf74b6",
   "metadata": {},
   "outputs": [
    {
     "name": "stdout",
     "output_type": "stream",
     "text": [
      "(78.53981633974483, 31.41592653589793)\n",
      "(314.1592653589793, 62.83185307179586)\n"
     ]
    }
   ],
   "source": [
    "# Q. 원의 면적과 둘레의 길이를 구하는 사용자 함수를 작성하여 반지름이 5와 10일때 면적과 둘레를 구하세요\n",
    "#이민찬\n",
    "from math import pi\n",
    "def get_circle_info(r):\n",
    "    return r*r*pi, 2*r*pi\n",
    "\n",
    "print(get_circle_info(5))\n",
    "print(get_circle_info(10))"
   ]
  },
  {
   "cell_type": "code",
   "execution_count": null,
   "id": "7968fde0",
   "metadata": {},
   "outputs": [],
   "source": [
    "# Q. '안녕!'을 10번 출력하는 사용자 함수를 작성하여 실행하세요."
   ]
  },
  {
   "cell_type": "markdown",
   "id": "7acd3040",
   "metadata": {},
   "source": [
    "#Q. 내장함수를 이용하여 [1,2,3,4,5]를 [1.0,2.0,3.0,4.0,5.0]로 변환하세요."
   ]
  },
  {
   "cell_type": "code",
   "execution_count": 28,
   "id": "621db752",
   "metadata": {},
   "outputs": [
    {
     "name": "stdout",
     "output_type": "stream",
     "text": [
      "[1.0, 2.0, 3.0, 4.0, 5.0]\n"
     ]
    }
   ],
   "source": [
    "l1 = [1,2,3,4,5]\n",
    "l1 = list(map(float, l1))\n",
    "print(l1) "
   ]
  },
  {
   "cell_type": "code",
   "execution_count": 29,
   "id": "b9313437",
   "metadata": {},
   "outputs": [
    {
     "name": "stdout",
     "output_type": "stream",
     "text": [
      "[1, 4, 9, 16, 25]\n"
     ]
    }
   ],
   "source": [
    "# Q. 내장함수 map()를 이용하여 [1,2,3,4,5]를 [1,4,9,16,25]로 변환하세요.\n",
    "list_i = [1,2,3,4,5]\n",
    "list_i = list(map(lambda x : x*x, list_i))\n",
    "print(list_i)"
   ]
  }
 ],
 "metadata": {
  "kernelspec": {
   "display_name": "Python 3",
   "language": "python",
   "name": "python3"
  },
  "language_info": {
   "codemirror_mode": {
    "name": "ipython",
    "version": 3
   },
   "file_extension": ".py",
   "mimetype": "text/x-python",
   "name": "python",
   "nbconvert_exporter": "python",
   "pygments_lexer": "ipython3",
   "version": "3.8.10"
  }
 },
 "nbformat": 4,
 "nbformat_minor": 5
}
