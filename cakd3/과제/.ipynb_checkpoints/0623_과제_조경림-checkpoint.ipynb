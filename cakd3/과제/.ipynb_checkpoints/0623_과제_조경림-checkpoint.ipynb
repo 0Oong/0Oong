{
 "cells": [
  {
   "cell_type": "code",
   "execution_count": 5,
   "id": "999b0c9f",
   "metadata": {},
   "outputs": [
    {
     "name": "stdout",
     "output_type": "stream",
     "text": [
      "3 6 9 12 15 18 "
     ]
    }
   ],
   "source": [
    "#Q 1~20 사이의 정수에서 3의 배수만 출력하세요.\n",
    "\n",
    "for i in range(1, 21):\n",
    "    if i %3 == 0:\n",
    "        print(i, end=' ')"
   ]
  },
  {
   "cell_type": "code",
   "execution_count": 6,
   "id": "61240e5a",
   "metadata": {},
   "outputs": [
    {
     "name": "stdout",
     "output_type": "stream",
     "text": [
      "96 97 98 99 100 "
     ]
    }
   ],
   "source": [
    "#Q. 1~100 범위의 정수에서 95보다 큰 정수만 출력하세요.\n",
    "\n",
    "for i in range(1, 101):\n",
    "    if i > 95:\n",
    "        print(i, end=' ')\n"
   ]
  },
  {
   "cell_type": "code",
   "execution_count": 3,
   "id": "bbe1036c",
   "metadata": {},
   "outputs": [
    {
     "data": {
      "text/plain": [
       "array([5, 0, 3, 3, 7, 9, 3, 5, 2, 4])"
      ]
     },
     "execution_count": 3,
     "metadata": {},
     "output_type": "execute_result"
    }
   ],
   "source": [
    "import numpy as np\n",
    "np.random.seed(0)\n",
    "num = np.random.randint(10, size=10)\n",
    "num"
   ]
  },
  {
   "cell_type": "code",
   "execution_count": 7,
   "id": "b23b9d83",
   "metadata": {},
   "outputs": [
    {
     "data": {
      "text/plain": [
       "[7, 9]"
      ]
     },
     "execution_count": 7,
     "metadata": {},
     "output_type": "execute_result"
    }
   ],
   "source": [
    "#Q. [5,0,3,3,7,9,3,5,2,4]에서 7,9만 출력하세요.\n",
    "\n",
    "x = [5,0,3,3,7,9,3,5,2,4]\n",
    "x[4:6]"
   ]
  },
  {
   "cell_type": "code",
   "execution_count": 12,
   "id": "57383ed8",
   "metadata": {},
   "outputs": [
    {
     "name": "stdout",
     "output_type": "stream",
     "text": [
      "[0, 9]\n"
     ]
    }
   ],
   "source": [
    "#Q. [5,0,3,3,7,9,3,5,2,4]에서 0,9만 출력하세요.\n",
    "x = [5,0,3,3,7,9,3,5,2,4]\n",
    "print([x[1], x[5]])"
   ]
  },
  {
   "cell_type": "code",
   "execution_count": 4,
   "id": "7a2c7548",
   "metadata": {},
   "outputs": [
    {
     "data": {
      "text/plain": [
       "[0, 1, 2, 3, 4, 5, 6, 7, 8, 9, 10, 11, 12, 13, 14, 15, 16, 17, 18, 19]"
      ]
     },
     "execution_count": 4,
     "metadata": {},
     "output_type": "execute_result"
    }
   ],
   "source": [
    "num = np.arange(20).tolist()\n",
    "num"
   ]
  },
  {
   "cell_type": "code",
   "execution_count": 13,
   "id": "068016e9",
   "metadata": {},
   "outputs": [
    {
     "data": {
      "text/plain": [
       "[10, 11, 12]"
      ]
     },
     "execution_count": 13,
     "metadata": {},
     "output_type": "execute_result"
    }
   ],
   "source": [
    "#Q. num에서 10,11,12만 출력하세요.\n",
    "num[10:13]"
   ]
  },
  {
   "cell_type": "code",
   "execution_count": 3,
   "id": "1f9d3ef1",
   "metadata": {},
   "outputs": [
    {
     "name": "stdout",
     "output_type": "stream",
     "text": [
      "10 11 12 "
     ]
    }
   ],
   "source": [
    "\n",
    "for number in range(0, 20):\n",
    "    if number < 10:\n",
    "        continue\n",
    "    elif number > 12 :\n",
    "        continue\n",
    "    else :\n",
    "        print(number, end=' ')"
   ]
  },
  {
   "cell_type": "code",
   "execution_count": 23,
   "id": "9b0d5366",
   "metadata": {},
   "outputs": [
    {
     "name": "stdout",
     "output_type": "stream",
     "text": [
      "24750\n"
     ]
    }
   ],
   "source": [
    "#Q. 500~1000사이의 정수 중 3과 5의 공배수의 합을 구하세요\n",
    "\n",
    "x = 499\n",
    "sum = 0\n",
    "\n",
    "while x < 1001 :\n",
    "    if x %15 == 0:\n",
    "        sum += x\n",
    "    x += 1\n",
    "\n",
    "print(sum)\n"
   ]
  },
  {
   "cell_type": "code",
   "execution_count": 8,
   "id": "9a4eda58",
   "metadata": {},
   "outputs": [
    {
     "name": "stdout",
     "output_type": "stream",
     "text": [
      "24750\n"
     ]
    }
   ],
   "source": [
    "sum = 0\n",
    "for x in range (500, 1001):\n",
    "    if x %3 ==0 and x %5 ==0:\n",
    "        sum += x\n",
    "    else:\n",
    "        continue\n",
    "print(sum)\n"
   ]
  },
  {
   "cell_type": "code",
   "execution_count": 24,
   "id": "73f070f3",
   "metadata": {},
   "outputs": [
    {
     "name": "stdout",
     "output_type": "stream",
     "text": [
      "14210\n"
     ]
    }
   ],
   "source": [
    "#Q. 1 ~1000 사이의 정수 중 5와 7의 공배수의 합을 구하세요.\n",
    "\n",
    "x = 0\n",
    "sum = 0\n",
    "\n",
    "while x < 1001:\n",
    "    if x %35 == 0:\n",
    "        sum += x\n",
    "    x +=1\n",
    "    \n",
    "print(sum)"
   ]
  },
  {
   "cell_type": "code",
   "execution_count": 145,
   "id": "a2ac8528",
   "metadata": {},
   "outputs": [
    {
     "name": "stdout",
     "output_type": "stream",
     "text": [
      "[12, 24, 36, 48, 60, 72, 84, 96]\n"
     ]
    }
   ],
   "source": [
    "#Q. 1~100 사이의 정수 중  3과 4의 공배수를 리스트로 구하세요. * 리스트로 구하는 방법\n",
    "a = []\n",
    "for x in range(1, 101):\n",
    "    if x %12 == 0:\n",
    "       a.append(x)\n",
    "    x += 1\n",
    "print(a)"
   ]
  },
  {
   "cell_type": "code",
   "execution_count": 106,
   "id": "de9d9c8f",
   "metadata": {},
   "outputs": [
    {
     "name": "stdout",
     "output_type": "stream",
     "text": [
      "12 24 36 48 60 72 84 96 "
     ]
    }
   ],
   "source": [
    "\n",
    "def bae(a,b):\n",
    "    i = 1\n",
    "    while a*b*i < 100:\n",
    "        print(a*b*i, end=' ')\n",
    "        i+=1\n",
    "\n",
    "bae(3, 4)"
   ]
  },
  {
   "cell_type": "code",
   "execution_count": 69,
   "id": "999a831e",
   "metadata": {},
   "outputs": [
    {
     "name": "stdout",
     "output_type": "stream",
     "text": [
      "2520\n"
     ]
    }
   ],
   "source": [
    "#Q. 3~7사이의 정수의 곱을 구하세요.\n",
    "\n",
    "def cal1(a,b):\n",
    "    return a * b\n",
    "\n",
    "i = 1\n",
    "sum = 1\n",
    "while i < 8:\n",
    "    if i >2 :\n",
    "        sum *= i\n",
    "    i += 1\n",
    "print(sum)"
   ]
  },
  {
   "cell_type": "code",
   "execution_count": 9,
   "id": "a2680fed",
   "metadata": {},
   "outputs": [
    {
     "data": {
      "text/plain": [
       "25"
      ]
     },
     "execution_count": 9,
     "metadata": {},
     "output_type": "execute_result"
    }
   ],
   "source": [
    "#Q. 2,3을 더한 후 5를 곱하는 계산 값을 람다함수를 이용하여 구하세요.\n",
    "\n",
    "x = lambda a, b, c : (a+b)*c\n",
    "x(2,3,5)"
   ]
  },
  {
   "cell_type": "code",
   "execution_count": 11,
   "id": "b545325b",
   "metadata": {},
   "outputs": [
    {
     "data": {
      "text/plain": [
       "1"
      ]
     },
     "execution_count": 11,
     "metadata": {},
     "output_type": "execute_result"
    }
   ],
   "source": [
    "#Q. 2와 5를 더한 후 3으로 나눈 나머지 값을 사용자 함수를 이용하여 구하세요. \n",
    "\n",
    "def per_1(a,b,c):\n",
    "    return (a + b)%c \n",
    "\n",
    "per_1(2,5,3)"
   ]
  },
  {
   "cell_type": "code",
   "execution_count": 59,
   "id": "50052add",
   "metadata": {},
   "outputs": [
    {
     "name": "stdout",
     "output_type": "stream",
     "text": [
      "\n",
      "                       It is true\n",
      "'Python is fit for data analysis'\n",
      "\n"
     ]
    }
   ],
   "source": [
    "input_a = \"\"\"\n",
    "                       It is true\n",
    "'Python is fit for data analysis'\n",
    "\"\"\"\n",
    "print(input_a)"
   ]
  },
  {
   "cell_type": "code",
   "execution_count": 21,
   "id": "f2ebec2d",
   "metadata": {},
   "outputs": [
    {
     "name": "stdout",
     "output_type": "stream",
     "text": [
      "It is true\n",
      "'Python is fit for data analysis'\n",
      "\n"
     ]
    }
   ],
   "source": [
    "#Q. 문장열 앞의 공백을 제거하고 아래와 같이 출력하세요(구글링) *모르겠음. \n",
    "#It is true\n",
    "#'Python is fit for data analysis'\n",
    "input_a = \"\"\"\n",
    "                       It is true\n",
    "'Python is fit for data analysis'\n",
    "\"\"\"\n",
    "st_input = input_a.lstrip()\n",
    "print(st_input)"
   ]
  },
  {
   "cell_type": "code",
   "execution_count": 74,
   "id": "33bf7115",
   "metadata": {},
   "outputs": [
    {
     "data": {
      "text/plain": [
       "['10', '20', '30', '40', '50']"
      ]
     },
     "execution_count": 74,
     "metadata": {},
     "output_type": "execute_result"
    }
   ],
   "source": [
    "#Q. \"10/20/30/40/50을 '/'를 기준으로 구분하여 아래와 같이 출력하세요.\" 문자열 자르기\n",
    "#['10','20','30','40','50']\n",
    "\n",
    "num_li =\"10/20/30/40/50\"\n",
    "num_li.split('/')\n",
    " \n",
    "    \n"
   ]
  },
  {
   "cell_type": "code",
   "execution_count": 182,
   "id": "bcbad4e0",
   "metadata": {},
   "outputs": [
    {
     "data": {
      "text/plain": [
       "datetime.datetime(2021, 6, 23, 14, 41, 54, 497620)"
      ]
     },
     "execution_count": 182,
     "metadata": {},
     "output_type": "execute_result"
    }
   ],
   "source": [
    "import datetime\n",
    "now = datetime.datetime.now()\n",
    "now"
   ]
  },
  {
   "cell_type": "code",
   "execution_count": 146,
   "id": "b758a1d8",
   "metadata": {},
   "outputs": [
    {
     "name": "stdout",
     "output_type": "stream",
     "text": [
      "2021 년 6 월 23 일 16 시 58 분 42 초\n"
     ]
    }
   ],
   "source": [
    "#Q. 현재의 날씨와 시간을 다음과 같이 포멧으로 표현하세요.\n",
    "# 2021년 6월 23일 09시 01분 01초\n",
    "import datetime\n",
    "t = datetime.datetime.now()\n",
    "t\n",
    "\n",
    "print(t.year,\"년\", t.month,\"월\", t.day, \"일\", t.hour, \"시\", t.minute, \"분\", t.second, \"초\") "
   ]
  },
  {
   "cell_type": "code",
   "execution_count": 22,
   "id": "9c85799d",
   "metadata": {},
   "outputs": [
    {
     "name": "stdout",
     "output_type": "stream",
     "text": [
      "2021년 6월 24일 9시 40분 17초\n"
     ]
    }
   ],
   "source": [
    "import datetime\n",
    "t = datetime.datetime.now()\n",
    "t\n",
    "\n",
    "print(\"{}년 {}월 {}일 {}시 {}분 {}초\".format(t.year, t.month, t.day, t.hour, t.minute, t.second))"
   ]
  },
  {
   "cell_type": "code",
   "execution_count": 27,
   "id": "0b71d3c4",
   "metadata": {
    "scrolled": false
   },
   "outputs": [
    {
     "name": "stdout",
     "output_type": "stream",
     "text": [
      "정수를 입력하세요 :  5\n",
      "정수를 입력하세요 :  4\n",
      "다시 입력하세요.\n",
      "정수를 입력하세요 :  6\n",
      "정수를 입력하세요 :  6\n",
      "36\n"
     ]
    }
   ],
   "source": [
    "#Q. 짝수와 짝수를 입력하면 곱한 값을 출력하고 홀수와 홀수를 입력하면 덧셈값을 출력하고 그 외는 다시 입력하라는 메시지를 출력하세요.*모르겠다.\n",
    "while 1 :\n",
    "    a = int(input(\"정수를 입력하세요 :  \"))\n",
    "    b = int(input(\"정수를 입력하세요 :  \"))\n",
    "    if a %2 == 0 and b %2 ==0:\n",
    "        print(a*b)\n",
    "        break\n",
    "    elif a %2 != 0 and b %2 !=0:\n",
    "        print(a+b)\n",
    "        break \n",
    "    else:\n",
    "        print(\"다시 입력하세요.\")\n",
    "        continue\n"
   ]
  },
  {
   "cell_type": "code",
   "execution_count": 11,
   "id": "39361291",
   "metadata": {},
   "outputs": [
    {
     "name": "stdout",
     "output_type": "stream",
     "text": [
      "2500\n"
     ]
    }
   ],
   "source": [
    "#Q. 1부터 100까지 아래와 같이 2개의 수를 곱해서 가장 큰 수를 구하세요.\n",
    "# [1*99, 2*98...98*2, 99*1]\n",
    "\n",
    "a = 1\n",
    "x = []\n",
    "while a < 100 : \n",
    "    sum = a * (100-a)\n",
    "    x.append(sum)\n",
    "    a += 1\n",
    "\n",
    "print(max(x))\n"
   ]
  },
  {
   "cell_type": "code",
   "execution_count": 16,
   "id": "eac64169",
   "metadata": {},
   "outputs": [
    {
     "name": "stdout",
     "output_type": "stream",
     "text": [
      "2500\n"
     ]
    }
   ],
   "source": [
    "a = 1\n",
    "x = []\n",
    "for a in range(1, 101):\n",
    "    sum = a * (100 - a)\n",
    "    x.append(sum)\n",
    "    a += 1\n",
    "print(max(x))"
   ]
  },
  {
   "cell_type": "code",
   "execution_count": 154,
   "id": "069c03b0",
   "metadata": {},
   "outputs": [
    {
     "name": "stdout",
     "output_type": "stream",
     "text": [
      "10\n"
     ]
    }
   ],
   "source": [
    "a = [7, 2, 1, 8, 9, 10]\n",
    "print(max(a))"
   ]
  },
  {
   "cell_type": "code",
   "execution_count": 212,
   "id": "fef3274f",
   "metadata": {
    "scrolled": true
   },
   "outputs": [
    {
     "name": "stdout",
     "output_type": "stream",
     "text": [
      "[[1, 4, 7], [2, 5, 8], [3, 6, 9]]\n"
     ]
    }
   ],
   "source": [
    "#Q. [     ]을 채워서 아래의 출력과 같이 출력하세요. #출력 [[1,4,7],[2,5,8],[3,6,9]]\n",
    "numbers = [1,2,3,4,5,6,7,8,9]\n",
    "output = [[],[],[]]\n",
    "\n",
    "for number in numbers:\n",
    "    output[number%3-1].append(number)\n",
    "print(output)\n"
   ]
  },
  {
   "cell_type": "code",
   "execution_count": 23,
   "id": "f0fed1fa",
   "metadata": {},
   "outputs": [
    {
     "name": "stdout",
     "output_type": "stream",
     "text": [
      "[[1, 4, 7], [2, 5, 8], [3, 6, 9]]\n"
     ]
    }
   ],
   "source": [
    "numbers = [1,2,3,4,5,6,7,8,9]\n",
    "output = [[],[],[]]\n",
    "\n",
    "for number in numbers:\n",
    "    output[(number+2)%3].append(number)\n",
    "print(output)\n"
   ]
  },
  {
   "cell_type": "markdown",
   "id": "2a196777",
   "metadata": {},
   "source": [
    "## Q. 커피 자판기 프로그램\n",
    "- 시나리오 : 자판기 커피 재고 5잔, 커피 1잔 가격 300원, 재고 범위내에서 300원 이상 돈을 넣으면 거스름돈과 커피를 주고 그렇지 않으면 반환하며 재고가 소진되면 안내멘트 출력\n",
    "- 각 case별 멘트 출력은 상황에 맞게 장착\n",
    "- while, if-elif-else 제어문을 사용하여 작성"
   ]
  },
  {
   "cell_type": "code",
   "execution_count": 17,
   "id": "3c8ab4fd",
   "metadata": {},
   "outputs": [
    {
     "name": "stdout",
     "output_type": "stream",
     "text": [
      "넣으실 돈을 입력해주세요 : 300\n",
      "커피를 가져가세요\n"
     ]
    }
   ],
   "source": [
    "money = int(input(\"넣으실 돈을 입력해주세요 : \"))\n",
    "sum = 5 \n",
    "\n",
    "while sum != 0 :\n",
    "    if money > 300:\n",
    "        print(\"남은 돈을 가져가세요.\") \n",
    "        sum -= 1\n",
    "        break\n",
    "    elif money == 300:\n",
    "        print(\"커피를 가져가세요\")\n",
    "        sum -= 1\n",
    "        break\n",
    "    else :\n",
    "        print(\"반환된 돈을 가져가세요.\")\n",
    "        break\n",
    "        \n",
    "\n",
    "    "
   ]
  }
 ],
 "metadata": {
  "kernelspec": {
   "display_name": "Python 3",
   "language": "python",
   "name": "python3"
  },
  "language_info": {
   "codemirror_mode": {
    "name": "ipython",
    "version": 3
   },
   "file_extension": ".py",
   "mimetype": "text/x-python",
   "name": "python",
   "nbconvert_exporter": "python",
   "pygments_lexer": "ipython3",
   "version": "3.8.10"
  }
 },
 "nbformat": 4,
 "nbformat_minor": 5
}
