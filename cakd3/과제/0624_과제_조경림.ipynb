{
 "cells": [
  {
   "cell_type": "markdown",
   "id": "22d23f61",
   "metadata": {},
   "source": [
    "리스트를 다루는 함수들 : https://dororongju.tistory.com/36"
   ]
  },
  {
   "cell_type": "markdown",
   "id": "6e76efb4",
   "metadata": {},
   "source": [
    "Q.내장함수를 이용해서 list1 = [0,1,2,3,4,5,6]에서 2를 삭제 후 출력하세요.\n",
    "삭제하는 내장함수 찾아서 하기"
   ]
  },
  {
   "cell_type": "code",
   "execution_count": 66,
   "id": "ba3eed89",
   "metadata": {},
   "outputs": [
    {
     "data": {
      "text/plain": [
       "[0, 1, 3, 4, 5, 6]"
      ]
     },
     "execution_count": 66,
     "metadata": {},
     "output_type": "execute_result"
    }
   ],
   "source": [
    "#방법1 - 인덱스의 위치요소 제거\n",
    "list1 = [0,1,2,3,4,5,6]\n",
    "list1.pop(2)   \n",
    "list1"
   ]
  },
  {
   "cell_type": "code",
   "execution_count": 67,
   "id": "f6ebdf02",
   "metadata": {},
   "outputs": [
    {
     "data": {
      "text/plain": [
       "[0, 1, 3, 4, 5, 6]"
      ]
     },
     "execution_count": 67,
     "metadata": {},
     "output_type": "execute_result"
    }
   ],
   "source": [
    "#방법2 - 해당 값의 요소 제거\n",
    "list2 = [0,1,2,3,4,5,6]\n",
    "list2.remove(2)   \n",
    "list2"
   ]
  },
  {
   "cell_type": "code",
   "execution_count": 68,
   "id": "7b8e701b",
   "metadata": {},
   "outputs": [
    {
     "data": {
      "text/plain": [
       "[]"
      ]
     },
     "execution_count": 68,
     "metadata": {},
     "output_type": "execute_result"
    }
   ],
   "source": [
    "# Q.내장함수를 이용해서 list = [0,1,2,3,4,5,6]에서 모든 원소를 삭제 후 출력하세요.\n",
    "#얘도 내장함수 찾아서 하기\n",
    "list3 = [0,1,2,3,4,5,6]\n",
    "list3.clear()\n",
    "list3"
   ]
  },
  {
   "cell_type": "code",
   "execution_count": 3,
   "id": "70e93f87",
   "metadata": {},
   "outputs": [
    {
     "name": "stdout",
     "output_type": "stream",
     "text": [
      "False\n",
      "None\n"
     ]
    }
   ],
   "source": [
    "# Q. list = [0,1,2,3,4,5,6]에 3,7이 포함되어 있는지 확인하세요.\n",
    "list4 = [0,1,2,3,4,5,6]\n",
    "def ide(*args):\n",
    "    if args in list4:\n",
    "        print(\"True\")\n",
    "    else:\n",
    "        print(\"False\")\n",
    "print(ide(3,7))"
   ]
  },
  {
   "cell_type": "code",
   "execution_count": 5,
   "id": "d434ea87",
   "metadata": {},
   "outputs": [
    {
     "name": "stdout",
     "output_type": "stream",
     "text": [
      "4는 2번 들어있습니다.\n"
     ]
    }
   ],
   "source": [
    "# Q. numbers 내부에 들어 있는 숫자가 몇 번 등장하는 지를 출력하는 코드를 작성하세요. \n",
    "numbers = [3,6,6,5,8,2,9,7,4,3,6,3,5,8,2,9,7,4]\n",
    "\n",
    "def count1(i):\n",
    "    if i in numbers:\n",
    "        data = numbers.count(i)\n",
    "        print('{}는 {}번 들어있습니다.'.format(i,data))\n",
    "    else:\n",
    "        print(\"리스트에 없는 숫자입니다. 다시 입력해주세요.\")\n",
    "\n",
    "count1(4)"
   ]
  },
  {
   "cell_type": "markdown",
   "id": "7de98898",
   "metadata": {},
   "source": [
    "Q. list를 [6,5,4,3,2,1,0]으로 출력하세요(2가지 방법)"
   ]
  },
  {
   "cell_type": "code",
   "execution_count": 71,
   "id": "33bcf2bd",
   "metadata": {},
   "outputs": [
    {
     "data": {
      "text/plain": [
       "[6, 5, 4, 3, 2, 1, 0]"
      ]
     },
     "execution_count": 71,
     "metadata": {},
     "output_type": "execute_result"
    }
   ],
   "source": [
    "# 방법1.\n",
    "list5 = [0,1,2,3,4,5,6]\n",
    "list5.reverse()\n",
    "list5"
   ]
  },
  {
   "cell_type": "code",
   "execution_count": 72,
   "id": "dc5d9994",
   "metadata": {
    "scrolled": true
   },
   "outputs": [
    {
     "data": {
      "text/plain": [
       "[6, 5, 4, 3, 2, 1, 0]"
      ]
     },
     "execution_count": 72,
     "metadata": {},
     "output_type": "execute_result"
    }
   ],
   "source": [
    "# 방법2.\n",
    "list(range(6, -1, -1))"
   ]
  },
  {
   "cell_type": "code",
   "execution_count": 73,
   "id": "953af9ea",
   "metadata": {
    "scrolled": true
   },
   "outputs": [
    {
     "name": "stdout",
     "output_type": "stream",
     "text": [
      "0번째 자리는 a입니다.\n",
      "\n",
      "1번째 자리는 b입니다.\n",
      "\n",
      "2번째 자리는 c입니다.\n",
      "\n"
     ]
    }
   ],
   "source": [
    "# Q. list = ['a','b','c']을 for문을 사용해서 아래와 같이 출력하세요.\n",
    "#1번째는 a입니다.\n",
    "#2번째는 b입니다.\n",
    "#3번째는 c입니다.\n",
    "\n",
    "l1 = ['a', 'b', 'c']\n",
    "\n",
    "for i in l1:\n",
    "    place = l1.index(i)\n",
    "    print('{}번째 자리는 {}입니다.\\n'.format(place, i))  "
   ]
  },
  {
   "cell_type": "code",
   "execution_count": 74,
   "id": "2eb3ed68",
   "metadata": {},
   "outputs": [
    {
     "name": "stdout",
     "output_type": "stream",
     "text": [
      "[0, 4, 16, 36, 64, 100, 144, 196, 256, 324]\n"
     ]
    }
   ],
   "source": [
    "# Q. 코딩을 한줄로 작성해서 동일한 결과를 출력하세요. list안에서 하면 됨\n",
    "list7 = []\n",
    "for i in range(0,20,2):\n",
    "    list7.append(i*i)\n",
    "print(list7)"
   ]
  },
  {
   "cell_type": "code",
   "execution_count": 7,
   "id": "b6dc4180",
   "metadata": {},
   "outputs": [
    {
     "name": "stdout",
     "output_type": "stream",
     "text": [
      "[0, 4, 16, 36, 64, 100, 144, 196, 256, 324]\n"
     ]
    }
   ],
   "source": [
    "print([i*i for i in range(0,20,2)])\n"
   ]
  },
  {
   "cell_type": "code",
   "execution_count": 13,
   "id": "aa05206b",
   "metadata": {},
   "outputs": [
    {
     "name": "stdout",
     "output_type": "stream",
     "text": [
      "1\n",
      "3\n",
      "1\n",
      "3\n",
      "1\n",
      "3\n",
      "1\n",
      "3\n",
      "1\n",
      "3\n"
     ]
    }
   ],
   "source": [
    "def a(b,a=1):\n",
    "    \n",
    "    for i in range(5):    \n",
    "        print(a)\n",
    "        print(b)\n",
    "a(3)"
   ]
  },
  {
   "cell_type": "code",
   "execution_count": 75,
   "id": "a53bb69f",
   "metadata": {
    "scrolled": true
   },
   "outputs": [
    {
     "name": "stdout",
     "output_type": "stream",
     "text": [
      "[0, 2, 4, 6, 8]\n",
      "[1, 3, 5, 7, 9]\n",
      "[0, 1, 2]\n"
     ]
    }
   ],
   "source": [
    "# Q. list = [0,1,2,3,4,5,6,7,8,9]에서 아래와 같이 출력하세요.\n",
    "l2 = [0,1,2,3,4,5,6,7,8,9]\n",
    "#[0,2,4,6,8]\n",
    "#[1,3,5,7,9]\n",
    "#[2,1,0]\n",
    "a = []\n",
    "b = []\n",
    "c = []\n",
    "\n",
    "for i in l2:\n",
    "    if i %2 ==0 :\n",
    "        a.append(i)\n",
    "    if i %2 ==1 :\n",
    "        b.append(i)\n",
    "    if i <= 2:\n",
    "        c.append(i)\n",
    "print(a)\n",
    "print(b)\n",
    "print(c)"
   ]
  },
  {
   "cell_type": "code",
   "execution_count": 76,
   "id": "d42f9a6a",
   "metadata": {},
   "outputs": [
    {
     "name": "stdout",
     "output_type": "stream",
     "text": [
      "a::b::c\n"
     ]
    }
   ],
   "source": [
    "# Q. join 함수를 이용해서 ['a','b','c']을 아래와 같이 출력하세요.\n",
    "#a::b::c\n",
    "str_list = ['a','b','c']\n",
    "str = \"::\".join(str_list)\n",
    "print(str)"
   ]
  },
  {
   "cell_type": "code",
   "execution_count": 77,
   "id": "de40aad6",
   "metadata": {},
   "outputs": [
    {
     "data": {
      "text/plain": [
       "24"
      ]
     },
     "execution_count": 77,
     "metadata": {},
     "output_type": "execute_result"
    }
   ],
   "source": [
    "# Q. 사용자 함수를 이용해서 여러개의 숫자를 입력하면여 그 숫자들의 곱을 구하세요.\n",
    "\n",
    "def abc(*args):\n",
    "    sum = 1\n",
    "    for i in args:\n",
    "        sum *= i\n",
    "    return sum\n",
    "    \n",
    "abc(2,3,4)\n"
   ]
  },
  {
   "cell_type": "code",
   "execution_count": 78,
   "id": "7ef5be8c",
   "metadata": {},
   "outputs": [
    {
     "data": {
      "text/plain": [
       "(8, 2, 15, 1)"
      ]
     },
     "execution_count": 78,
     "metadata": {},
     "output_type": "execute_result"
    }
   ],
   "source": [
    "# Q. 두 개의 숫자를 인자로 적용하면 4칙 연산을 수행하는 사용자 함수를 작성한 후 \n",
    "# 5,3을 대입한 결과를 튜플로 출력하세요. 단, 소수점은 없게 처리\n",
    "\n",
    "def cal1(a,b):\n",
    "    return a+b, a-b, a*b, a//b\n",
    "cal1(5,3)"
   ]
  },
  {
   "cell_type": "code",
   "execution_count": 102,
   "id": "d8237821",
   "metadata": {},
   "outputs": [
    {
     "name": "stdout",
     "output_type": "stream",
     "text": [
      "정수를 입력해주세요 : 5\n",
      "정수를 입력해주세요 : 5\n",
      "5빼기 5는 0입니다.\n",
      "5나누기 4는 1입니다.\n"
     ]
    }
   ],
   "source": [
    "def minus1():\n",
    "    a = int(input(\"정수를 입력해주세요 : \"))\n",
    "    b = int(input(\"정수를 입력해주세요 : \"))\n",
    "    sum2 = a - b\n",
    "    say2 = (\"{}빼기 {}는 {}입니다.\\n\").format(a,b,sum2)\n",
    "    return say2\n",
    "    \n",
    "def division1():\n",
    "    sum1 = a // b\n",
    "    say = (\"{}나누기 {}는 {}입니다.\").format(a,b,sum1)\n",
    "    return say\n",
    "\n",
    "def main():\n",
    "    return minus1() + division1()\n",
    "\n",
    "print(main())\n",
    "\n"
   ]
  },
  {
   "cell_type": "code",
   "execution_count": 103,
   "id": "026634f5",
   "metadata": {},
   "outputs": [
    {
     "data": {
      "text/plain": [
       "2"
      ]
     },
     "execution_count": 103,
     "metadata": {},
     "output_type": "execute_result"
    }
   ],
   "source": [
    "# Q. 아래를 완성하여 2를 출력하세요.\n",
    "a = 3\n",
    "def vartest(a):\n",
    "    a -= 1\n",
    "    return a\n",
    "\n",
    "vartest(3)"
   ]
  },
  {
   "cell_type": "code",
   "execution_count": 53,
   "id": "82541541",
   "metadata": {},
   "outputs": [
    {
     "name": "stdout",
     "output_type": "stream",
     "text": [
      "아무거나 입력하세요.: \n",
      "종료합니다.\n"
     ]
    }
   ],
   "source": [
    "# Q. 데이터를 입력하지 않으면 종료되는 코딩을 수행하세요.\n",
    "#단 반복적으로 작업을 수행할 수 있음.\n",
    "\n",
    "while 1:\n",
    "    a = input(\"아무거나 입력하세요.: \")\n",
    "    if a == float and a == str :\n",
    "        continue\n",
    "    elif a == \"\":\n",
    "        print(\"종료합니다.\")\n",
    "        break\n"
   ]
  },
  {
   "cell_type": "code",
   "execution_count": 63,
   "id": "8676fa43",
   "metadata": {},
   "outputs": [
    {
     "name": "stdout",
     "output_type": "stream",
     "text": [
      "120\n",
      "3628800\n"
     ]
    }
   ],
   "source": [
    "# Q. 반복문으로 팩토리얼을 구하는 사용자 함수를 작성하고 5!, 10!를 구하세요.\n",
    "\n",
    "def re1(a):\n",
    "    sum = 1\n",
    "    for i in range(1, 1+a):\n",
    "        sum *= i\n",
    "    return sum\n",
    "\n",
    "print(re1(5))\n",
    "print(re1(10))"
   ]
  },
  {
   "cell_type": "code",
   "execution_count": 65,
   "id": "d0ecf8dc",
   "metadata": {},
   "outputs": [
    {
     "name": "stdout",
     "output_type": "stream",
     "text": [
      "120\n",
      "1\n",
      "3628800\n"
     ]
    }
   ],
   "source": [
    "#Q. 재귀란 '자기자신을 호출하는 것'을 의미한다. 재귀함수를 이용해서 팩토리얼을 구하는\n",
    "#작성하고 1!, 5!, 10!를 구하세요.\n",
    "#factorial(n) = n * factorial(n-1) (n>=1)\n",
    "\n",
    "def fac1(a):\n",
    "    if a == 1 :\n",
    "        return 1\n",
    "    elif a > 1 :\n",
    "        return a * fac1(a-1)\n",
    "print(fac1(5))\n",
    "print(fac1(1))\n",
    "print(fac1(10))"
   ]
  },
  {
   "cell_type": "code",
   "execution_count": 43,
   "id": "6c8f29e3",
   "metadata": {},
   "outputs": [
    {
     "name": "stdout",
     "output_type": "stream",
     "text": [
      "반지름이 5일 때, 면적 78.50, 둘레 31.40\n",
      "반지름이 10일 때, 면적 314.00, 둘레 62.80\n"
     ]
    }
   ],
   "source": [
    "# Q. 원의 면적과 둘레의 길이를 구하는 사용자 함수를 작성하여 반지름이 5와 10일때 면적과 둘레를 구하세요\n",
    "def round1 (a):\n",
    "    pi = 3.14\n",
    "    rr = a*a*pi\n",
    "    rline = 2*a*pi\n",
    "    return \"반지름이 {}일 때, 면적 {:0.2f}, 둘레 {:0.2f}\".format(a, rr, rline)\n",
    "\n",
    "\n",
    "\n",
    "print(round1(5))\n",
    "print(round1(10))\n",
    "\n"
   ]
  },
  {
   "cell_type": "code",
   "execution_count": 9,
   "id": "15c22aa5",
   "metadata": {},
   "outputs": [
    {
     "name": "stdout",
     "output_type": "stream",
     "text": [
      "안녕!\n",
      "안녕!\n",
      "안녕!\n",
      "안녕!\n",
      "안녕!\n",
      "안녕!\n",
      "안녕!\n",
      "안녕!\n",
      "안녕!\n",
      "안녕!\n"
     ]
    }
   ],
   "source": [
    "# Q. '안녕!'을 10번 출력하는 사용자 함수를 작성하여 실행하세요.\n",
    "\n",
    "def hello():\n",
    "    for i in range(10):\n",
    "        print(\"안녕!\")\n",
    "\n",
    "hello()\n",
    "        "
   ]
  },
  {
   "cell_type": "code",
   "execution_count": 104,
   "id": "9129286d",
   "metadata": {},
   "outputs": [
    {
     "name": "stdout",
     "output_type": "stream",
     "text": [
      "[1.0, 2.0, 3.0, 4.0, 5.0]\n"
     ]
    }
   ],
   "source": [
    "#Q. 내장함수를 이용하여 [1,2,3,4,5]를 [1.0,2.0,3.0,4.0,5.0]로 변환하세요.\n",
    "#방법1\n",
    "list5 = [1,2,3,4,5]\n",
    "sum = []\n",
    "for i in list5:\n",
    "    a = float(i)\n",
    "    sum.append(a)\n",
    "print(sum)"
   ]
  },
  {
   "cell_type": "code",
   "execution_count": 2,
   "id": "2e4efa95",
   "metadata": {},
   "outputs": [
    {
     "name": "stdout",
     "output_type": "stream",
     "text": [
      "[1.0, 2.0, 3.0, 4.0, 5.0]\n"
     ]
    }
   ],
   "source": [
    "#방법2\n",
    "a = [1,2,3,4,5]\n",
    "b = list(map(float,a))\n",
    "print(b)"
   ]
  },
  {
   "cell_type": "code",
   "execution_count": 1,
   "id": "a69c4d0c",
   "metadata": {},
   "outputs": [
    {
     "name": "stdout",
     "output_type": "stream",
     "text": [
      "[1, 4, 9, 16, 25]\n"
     ]
    }
   ],
   "source": [
    "# Q. 내장함수 map()를 이용하여 [1,2,3,4,5]를 [1,4,9,16,25]로 변환하세요.\n",
    "\n",
    "list_6 = [1,2,3,4,5]\n",
    "def mul_mul(i):\n",
    "    return i ** 2\n",
    "\n",
    "a = list(map(mul_mul, list_6))\n",
    "    \n",
    "print(a)"
   ]
  }
 ],
 "metadata": {
  "kernelspec": {
   "display_name": "Python 3",
   "language": "python",
   "name": "python3"
  },
  "language_info": {
   "codemirror_mode": {
    "name": "ipython",
    "version": 3
   },
   "file_extension": ".py",
   "mimetype": "text/x-python",
   "name": "python",
   "nbconvert_exporter": "python",
   "pygments_lexer": "ipython3",
   "version": "3.8.10"
  }
 },
 "nbformat": 4,
 "nbformat_minor": 5
}
