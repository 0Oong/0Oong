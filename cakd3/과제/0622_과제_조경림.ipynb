{
 "cells": [
  {
   "cell_type": "code",
   "execution_count": 14,
   "id": "98ab7d38",
   "metadata": {
    "scrolled": false
   },
   "outputs": [
    {
     "name": "stdout",
     "output_type": "stream",
     "text": [
      "2\n",
      "1\n"
     ]
    }
   ],
   "source": [
    "# 5를 2로 나누었을 때의 몫과 나머지를 구하세요\n",
    "\n",
    "a = 5\n",
    "b = 2\n",
    "c = a // b #몫\n",
    "d = a % b #나머지\n",
    "print(c)\n",
    "print(d)"
   ]
  },
  {
   "cell_type": "code",
   "execution_count": 2,
   "id": "526190ea",
   "metadata": {},
   "outputs": [
    {
     "name": "stdout",
     "output_type": "stream",
     "text": [
      "2\n",
      "1\n"
     ]
    }
   ],
   "source": [
    "print(5//2)\n",
    "print(5%2)"
   ]
  },
  {
   "cell_type": "code",
   "execution_count": 19,
   "id": "0b5c6786",
   "metadata": {},
   "outputs": [
    {
     "name": "stdout",
     "output_type": "stream",
     "text": [
      "1030301\n"
     ]
    }
   ],
   "source": [
    "# 101의 3승을 구하시오\n",
    "z = 101\n",
    "y = 101 ** 3\n",
    "print(y)"
   ]
  },
  {
   "cell_type": "code",
   "execution_count": 20,
   "id": "134798a8",
   "metadata": {
    "scrolled": true
   },
   "outputs": [
    {
     "name": "stdout",
     "output_type": "stream",
     "text": [
      "python 3.8.3\n"
     ]
    }
   ],
   "source": [
    "#python과 3.8.3을 합쳐서 python 3.8.3으로 출력하시오\n",
    "print('python'+' 3.8.3') #혹은 print(\"python, \"3.8.3\")"
   ]
  },
  {
   "cell_type": "code",
   "execution_count": 4,
   "id": "dd7b4576",
   "metadata": {},
   "outputs": [
    {
     "name": "stdout",
     "output_type": "stream",
     "text": [
      "15\n"
     ]
    },
    {
     "data": {
      "text/plain": [
       "int"
      ]
     },
     "execution_count": 4,
     "metadata": {},
     "output_type": "execute_result"
    }
   ],
   "source": [
    "#a = 5, a='10' a=15일때 a의 자료형은 무엇인가?\n",
    "\n",
    "#A. 프린트하면 마지막으로 a에 입력된 15가 나오므로 정수 15\n",
    "\n",
    "a=5\n",
    "a='10'\n",
    "a=15\n",
    "print(a) #추가\n",
    "type(a)"
   ]
  },
  {
   "cell_type": "code",
   "execution_count": 3,
   "id": "f0d84ef0",
   "metadata": {},
   "outputs": [
    {
     "data": {
      "text/plain": [
       "2"
      ]
     },
     "execution_count": 3,
     "metadata": {},
     "output_type": "execute_result"
    }
   ],
   "source": [
    "#5의 3승을 3으로 나누었을 때의 나머지를 복합 대입 연산자를 이용해서 구하세요\n",
    "\n",
    "num=5\n",
    "num**=3\n",
    "num%=3\n",
    "num"
   ]
  },
  {
   "cell_type": "code",
   "execution_count": 11,
   "id": "83afb139",
   "metadata": {},
   "outputs": [
    {
     "data": {
      "text/plain": [
       "2"
      ]
     },
     "execution_count": 11,
     "metadata": {},
     "output_type": "execute_result"
    }
   ],
   "source": [
    "#한줄에 계산식\n",
    "num = 5; num**=3; num%=3\n",
    "num"
   ]
  },
  {
   "cell_type": "code",
   "execution_count": 4,
   "id": "72090877",
   "metadata": {},
   "outputs": [
    {
     "name": "stdout",
     "output_type": "stream",
     "text": [
      "이름이 뭐예요?조경림\n"
     ]
    },
    {
     "data": {
      "text/plain": [
       "'조경림'"
      ]
     },
     "execution_count": 4,
     "metadata": {},
     "output_type": "execute_result"
    }
   ],
   "source": [
    "# 이름을 물어보고 답하는 내용을 출력하세요 \n",
    "input(\"이름이 뭐예요?\")"
   ]
  },
  {
   "cell_type": "code",
   "execution_count": 18,
   "id": "c0811eb3",
   "metadata": {},
   "outputs": [
    {
     "name": "stdout",
     "output_type": "stream",
     "text": [
      "숫자를 입력하세요 : 3\n",
      "숫자를 입력하세요 : 4\n",
      "숫자를 입력하세요 : 5\n",
      "16\n"
     ]
    }
   ],
   "source": [
    "#숫자 3개를 입력해서 첫번째 숫자를 두번째 숫자 승한 뒤에 세번째 숫자로 나누었을 때 몫을 구하세요\n",
    "num1=input(\"숫자를 입력하세요 : \")\n",
    "num2=input(\"숫자를 입력하세요 : \")\n",
    "num3=input(\"숫자를 입력하세요 : \")\n",
    "\n",
    "result1 = int(num1)\n",
    "result2 = int(num2)\n",
    "result3 = int(num3)\n",
    "\n",
    "result1**=result2\n",
    "result1//=result3\n",
    "\n",
    "print(result1)\n"
   ]
  },
  {
   "cell_type": "code",
   "execution_count": 17,
   "id": "1f1c71cc",
   "metadata": {},
   "outputs": [
    {
     "name": "stdout",
     "output_type": "stream",
     "text": [
      "숫자를 입력하세요 : 3\n",
      "숫자를 입력하세요 : 7\n",
      "숫자를 입력하세요 : 9\n",
      "243.0\n"
     ]
    }
   ],
   "source": [
    "num1=(input(\"숫자를 입력하세요 : \"))\n",
    "result1 = int(num1)\n",
    "num2=(input(\"숫자를 입력하세요 : \"))\n",
    "result2 = int(num2)\n",
    "num3=(input(\"숫자를 입력하세요 : \"))\n",
    "result3 = int(num3)\n",
    "\n",
    "print(result1 ** result2 / result3)\n"
   ]
  },
  {
   "cell_type": "code",
   "execution_count": 12,
   "id": "85f5b085",
   "metadata": {},
   "outputs": [
    {
     "name": "stdout",
     "output_type": "stream",
     "text": [
      "1을 입력하세요.4\n",
      "2를 입력하세요.5\\\n",
      "3을 입력하세요.5\n",
      "4를 입력하세요.5\n",
      "5를 입력하세요.5\n",
      "45\\555\n"
     ]
    }
   ],
   "source": [
    "#1부터 5까지 입력해서 12345를 출력하세요.\n",
    "n1 = input(\"1을 입력하세요.\")\n",
    "n2 = input(\"2를 입력하세요.\")\n",
    "n3 = input(\"3을 입력하세요.\")\n",
    "n4 = input(\"4를 입력하세요.\")\n",
    "n5 = input(\"5를 입력하세요.\")\n",
    "\n",
    "str1 = str(n1)\n",
    "str2 = str(n2)\n",
    "str3 = str(n3)\n",
    "str4 = str(n4)\n",
    "str5 = str(n5)\n",
    "\n",
    "print(str1+str2+str3+str4+str5)"
   ]
  },
  {
   "cell_type": "code",
   "execution_count": 26,
   "id": "35d8b97c",
   "metadata": {},
   "outputs": [
    {
     "name": "stdout",
     "output_type": "stream",
     "text": [
      "[0, 1, 2, 3, 4, 5, 6, 7, 8, 'b', 'c']\n"
     ]
    }
   ],
   "source": [
    "#[0,1,2,3,4,5,6,7,8,9,'a',b','c']에서 9와 'a'를 삭제 후 리스트로 출력하세요\n",
    "a = [0,1,2,3,4,5,6,7,8,9,'a','b','c']\n",
    "del a[-4]\n",
    "del a[-3]\n",
    "         \n",
    "print(a)"
   ]
  },
  {
   "cell_type": "code",
   "execution_count": 14,
   "id": "eda4c96c",
   "metadata": {},
   "outputs": [
    {
     "name": "stdout",
     "output_type": "stream",
     "text": [
      "[0, 1, 2, 3, 4, 5, 6, 7, 8, 'b', 'c']\n"
     ]
    }
   ],
   "source": [
    "a = [0,1,2,3,4,5,6,7,8,9,'a','b','c']\n",
    "del a[-4:-2]\n",
    "print(a)"
   ]
  },
  {
   "cell_type": "code",
   "execution_count": 28,
   "id": "528edc46",
   "metadata": {},
   "outputs": [
    {
     "name": "stdout",
     "output_type": "stream",
     "text": [
      "[0, 1, 2, 3, 4, 5, 6, 7, 8, 9, 'b']\n"
     ]
    }
   ],
   "source": [
    "#[0,1,2,3,4,5,6,7,8,9,'b','c']에서 'c'를 삭제 후 출력하세요.\n",
    "b = [0,1,2,3,4,5,6,7,8,9,'b','c']\n",
    "del b[-1]\n",
    "\n",
    "print(b)"
   ]
  },
  {
   "cell_type": "code",
   "execution_count": 31,
   "id": "37271884",
   "metadata": {},
   "outputs": [
    {
     "name": "stdout",
     "output_type": "stream",
     "text": [
      "[9, 8, 8, 6, 5, 4, 4, 4, 3, 1]\n"
     ]
    }
   ],
   "source": [
    "#[4,8,5,4,6,4,3,8,1,9]를 내림차순으로 정렬하세요.\n",
    "c = [4,8,5,4,6,4,3,8,1,9]\n",
    "\n",
    "c_d = sorted(c, reverse=True)\n",
    "print(c_d)"
   ]
  },
  {
   "cell_type": "code",
   "execution_count": 42,
   "id": "10a83143",
   "metadata": {},
   "outputs": [
    {
     "name": "stdout",
     "output_type": "stream",
     "text": [
      "태어난 해를 알려주세요 : 1996\n",
      "쥐 띠입니다.\n"
     ]
    }
   ],
   "source": [
    "#Q.태어난 연도를 입력받아 띠를 출력하는 프로그램을 작성하세요.\n",
    "#원숭이, 닭, 개, 돼지, 쥐, 소, 범, 토끼, 용, 뱀, 말, 양\n",
    "year_input = int(input(\"태어난 해를 알려주세요 : \"))\n",
    "birth_year = year_input%12\n",
    "\n",
    "if birth_year==0:\n",
    "    print(\"원숭이 띠입니다.\")\n",
    "    \n",
    "elif birth_year==1:\n",
    "    print(\"닭 띠입니다.\")\n",
    "    \n",
    "elif birth_year==2:\n",
    "    print(\"개 띠입니다.\")\n",
    "    \n",
    "elif birth_year==3:\n",
    "    print(\"돼지 띠입니다.\")\n",
    "    \n",
    "elif birth_year==4:\n",
    "    print(\"쥐 띠입니다.\")\n",
    "    \n",
    "elif birth_year==5:\n",
    "    print(\"소 띠입니다.\")\n",
    "\n",
    "elif birth_year==6:\n",
    "    print(\"범 띠입니다.\")\n",
    "\n",
    "elif birth_year==7:\n",
    "    print(\"토끼 띠입니다.\")\n",
    "    \n",
    "elif birth_year==8:\n",
    "    print(\"용 띠입니다.\")\n",
    "    \n",
    "elif birth_year==9:\n",
    "    print(\"뱀 띠입니다.\")\n",
    "    \n",
    "elif birth_year==10:\n",
    "    print(\"말 띠입니다.\")\n",
    "    \n",
    "else :\n",
    "    print(\"양 띠입니다.\")\n",
    "    "
   ]
  },
  {
   "cell_type": "markdown",
   "id": "6c0c387f",
   "metadata": {},
   "source": [
    "## Q 계절 구분 프로그램\n",
    "- 시나리오 : 3-5월은 봄, 6-8월은 여름, 9-11월은 가을, 12-2월은 겨울로 구분, 지금 계절을 알려주는 프로그램\n",
    "- 각 계절별 출력 멘트는 계절에 맞게 창작\n",
    "- if 조건문으로 datetime 모듈을 import해서 datetime.now 함수를 사용해서 작성"
   ]
  },
  {
   "cell_type": "code",
   "execution_count": 50,
   "id": "b58de371",
   "metadata": {},
   "outputs": [
    {
     "name": "stdout",
     "output_type": "stream",
     "text": [
      "몇 월인지 알려주세요 : 4\n",
      "봄입니다.\n"
     ]
    }
   ],
   "source": [
    "season_input=input(\"몇 월인지 알려주세요 : \")\n",
    "spring = ['3월','4월','5월','3','4','5']\n",
    "summer = ['6월', '7월','8월', '6','7','8']\n",
    "fall = ['9월','10월','11월','9','10','11']\n",
    "winter = ['12월', '1월', '2월', '12','1','2']\n",
    "\n",
    "if season_input in spring:\n",
    "    print(\"봄입니다.\")\n",
    "\n",
    "elif season_input in summer:\n",
    "    print(\"여름입니다.\")\n",
    "    \n",
    "elif season_input in fall:\n",
    "    print(\"가을입니다.\")\n",
    "    \n",
    "else :\n",
    "    print(\"겨울입니다.\")"
   ]
  },
  {
   "cell_type": "code",
   "execution_count": 18,
   "id": "394fff3a",
   "metadata": {
    "scrolled": false
   },
   "outputs": [
    {
     "data": {
      "text/plain": [
       "datetime.datetime(2021, 6, 23, 10, 8, 59, 124588)"
      ]
     },
     "execution_count": 18,
     "metadata": {},
     "output_type": "execute_result"
    }
   ],
   "source": [
    "import datetime\n",
    "t = datetime.datetime.now()\n",
    "t"
   ]
  },
  {
   "cell_type": "code",
   "execution_count": 19,
   "id": "bbb0068f",
   "metadata": {},
   "outputs": [
    {
     "data": {
      "text/plain": [
       "6"
      ]
     },
     "execution_count": 19,
     "metadata": {},
     "output_type": "execute_result"
    }
   ],
   "source": [
    "import datetime\n",
    "t = datetime.datetime.now()\n",
    "t.month"
   ]
  },
  {
   "cell_type": "code",
   "execution_count": 21,
   "id": "ca77573e",
   "metadata": {},
   "outputs": [
    {
     "name": "stdout",
     "output_type": "stream",
     "text": [
      "여름입니다.\n"
     ]
    }
   ],
   "source": [
    "import datetime\n",
    "t = datetime.datetime.now()\n",
    "if 3<= t.month <=5:\n",
    "    print(\"봄입니다.\")\n",
    "\n",
    "if 6<= t.month <=8:\n",
    "    print(\"여름입니다.\")\n",
    "    \n",
    "if 9<= t.month <=11:\n",
    "    print(\"가을입니다.\")\n",
    "    \n",
    "if 1<= t.month <=2 or t.month ==12:\n",
    "    print(\"겨울입니다.\")"
   ]
  }
 ],
 "metadata": {
  "kernelspec": {
   "display_name": "Python 3",
   "language": "python",
   "name": "python3"
  },
  "language_info": {
   "codemirror_mode": {
    "name": "ipython",
    "version": 3
   },
   "file_extension": ".py",
   "mimetype": "text/x-python",
   "name": "python",
   "nbconvert_exporter": "python",
   "pygments_lexer": "ipython3",
   "version": "3.8.10"
  }
 },
 "nbformat": 4,
 "nbformat_minor": 5
}
