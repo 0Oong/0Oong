{
 "cells": [
  {
   "cell_type": "code",
   "execution_count": null,
   "id": "8f778d9d",
   "metadata": {},
   "outputs": [],
   "source": [
    "# 과제\n",
    "# Q1. index를 기준으로 3개 그룹으로 구분하여 a:평균, b:최대값, c:합계를 \n",
    "# 각각 계산하여 출력하세요.\n",
    "d_g = df.groupby('index').mean()\n",
    "d_g"
   ]
  },
  {
   "cell_type": "code",
   "execution_count": null,
   "id": "d03e5808",
   "metadata": {},
   "outputs": [],
   "source": [
    "# 과제\n",
    "# Q2. deck 열의 NaN 갯수를 계산하세요.\n",
    "import seaborn as sns\n",
    "titanic_df = sns.load_dataset('titanic')\n",
    "titanic_df.head()"
   ]
  },
  {
   "cell_type": "code",
   "execution_count": null,
   "id": "6d879752",
   "metadata": {},
   "outputs": [],
   "source": [
    "# 과제\n",
    "# Q3. titanic_df의 처음 5개 행에서 null 값을 찾아 출력하세요.(True, False로)"
   ]
  },
  {
   "cell_type": "code",
   "execution_count": null,
   "id": "b67027dd",
   "metadata": {},
   "outputs": [],
   "source": [
    "# 과제\n",
    "# Q4. titanic_df의 각 칼럼별 null의 갯수를 for 반복문을 사용해서 구한 후 \n",
    "# 출력하세요. (missing_count는 예외 처리하고 처리 방식은 0을 출력함 \n",
    "# - null 값이 없으면 0  )"
   ]
  },
  {
   "cell_type": "code",
   "execution_count": null,
   "id": "b8783b46",
   "metadata": {},
   "outputs": [],
   "source": [
    "# 과제\n",
    "# Q5. 'mpg'를 'kpl' 로 환산하여 새로운 열을 생성하고 처음 3개 행을 소수점 아래 \n",
    "# 둘째 자리에서 반올림하여 출력하세요.\n",
    "import pandas as pd\n",
    "auto_df = pd.read_csv('./dataset/auto-mpg.csv')\n",
    "auto_df.head()"
   ]
  },
  {
   "cell_type": "code",
   "execution_count": null,
   "id": "fa30fc7a",
   "metadata": {},
   "outputs": [],
   "source": [
    "# 과제\n",
    "# Q6. titanic_df 데이터 셋을 전처리하고 탐색하여 데이터 셋에 대한 설명 및\n",
    "# 분석 과제를 기술하세요 (전처리 최소 5개 이상)"
   ]
  }
 ],
 "metadata": {
  "kernelspec": {
   "display_name": "Python 3",
   "language": "python",
   "name": "python3"
  },
  "language_info": {
   "codemirror_mode": {
    "name": "ipython",
    "version": 3
   },
   "file_extension": ".py",
   "mimetype": "text/x-python",
   "name": "python",
   "nbconvert_exporter": "python",
   "pygments_lexer": "ipython3",
   "version": "3.9.5"
  }
 },
 "nbformat": 4,
 "nbformat_minor": 5
}
