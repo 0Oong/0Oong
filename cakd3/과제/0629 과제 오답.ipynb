{
 "cells": [
  {
   "cell_type": "code",
   "execution_count": null,
   "id": "f3fe9b5d",
   "metadata": {},
   "outputs": [],
   "source": [
    "# Q12. 출생년도를 입력하면 그해 성별 인기순 상위 10개 이름을 출력하세요.\n",
    "from os.path import exists\n",
    "\n",
    "def getTop10BabyName(year):\n",
    "    nameF = {}\n",
    "    nameM = {}\n",
    "    \n",
    "    filename = 'data/names/yob%s.txt' %year\n",
    "    if not exists(filename):\n",
    "        print('[%s] 파일이 존재하지 않습니다.' %filename)\n",
    "        return None\n",
    "    \n",
    "    with open(filename, 'r') as f:\n",
    "        data = f.readlines()\n",
    "        for d in data:\n",
    "            if d[-1] == '\\n':\n",
    "                d = d[:-1]\n",
    "                \n",
    "            tmp = d.split(',')\n",
    "            name = tmp[0]\n",
    "            sex = tmp[1]\n",
    "            birth = tmp[2]\n",
    "            \n",
    "            if sex == 'F':\n",
    "                ret = nameF\n",
    "            else:\n",
    "                ret = nameM  #이미 nameF가 저장돼 있는 상태에서 더 저장됨\n",
    "                \n",
    "            if name in ret:\n",
    "                ret[name] += int(birth) #ret[키값]에 대해 value값이 더해짐\n",
    "            else:\n",
    "                ret[name] = int(birth)\n",
    "    retF = sorted(nameF.items(), key = lambda x:x[1], reverse = True)  #x[0]은 키값, x[1]은 value값\n",
    "    retM = sorted(nameM.items(), key = lambda x:x[1], reverse = True)  #내림차순으로 정렬\n",
    "    \n",
    "    for i,name in enumerate(retF): #이미 내림차순으로 정렬했기 때문에 위의10개씩 뽑으면 됨\n",
    "        if i > 9:\n",
    "            break\n",
    "        print('TOP_%d 여자아기 이름: %s' %(i+1, name))\n",
    "        \n",
    "    for i,name in enumerate(retM):\n",
    "        if i >9:\n",
    "            break\n",
    "        print('TOP_%d 남자아기 이름: %s' %(i+1, name))\n",
    "y = input('인기순 상위 10개 이름을 알고 싶은 출생년도를 입력하세요> ')\n",
    "getTop10BabyName(y)"
   ]
  }
 ],
 "metadata": {
  "kernelspec": {
   "display_name": "Python 3",
   "language": "python",
   "name": "python3"
  },
  "language_info": {
   "codemirror_mode": {
    "name": "ipython",
    "version": 3
   },
   "file_extension": ".py",
   "mimetype": "text/x-python",
   "name": "python",
   "nbconvert_exporter": "python",
   "pygments_lexer": "ipython3",
   "version": "3.8.10"
  }
 },
 "nbformat": 4,
 "nbformat_minor": 5
}
