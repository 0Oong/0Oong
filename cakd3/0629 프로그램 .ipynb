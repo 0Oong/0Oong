{
 "cells": [
  {
   "cell_type": "markdown",
   "id": "a05907e3",
   "metadata": {},
   "source": [
    "#### Q.사용자가 입력한 게임 회수만큼 로또 번호를 출력하는 프로그램을 작성하세요.(로또 번호 중복되면 안됨)"
   ]
  },
  {
   "cell_type": "code",
   "execution_count": 51,
   "id": "32424727",
   "metadata": {
    "scrolled": false
   },
   "outputs": [
    {
     "name": "stdout",
     "output_type": "stream",
     "text": [
      "[1, 32, 38, 7, 4, 40]\n",
      "[13, 25, 32, 40, 6, 5]\n",
      "[37, 30, 42, 45, 19, 24]\n",
      "[7, 39, 33, 9, 2, 26]\n",
      "[16, 26, 21, 45, 4, 38]\n",
      "[10, 6, 4, 16, 15, 32]\n"
     ]
    }
   ],
   "source": [
    "import random\n",
    "r = list(range(1,46))\n",
    "\n",
    "for i in range(6):\n",
    "    lt = random.sample(r,6)\n",
    "    print(lt)"
   ]
  },
  {
   "cell_type": "code",
   "execution_count": 56,
   "id": "a4365ea3",
   "metadata": {},
   "outputs": [
    {
     "name": "stdout",
     "output_type": "stream",
     "text": [
      "로또 회수를 입력하세요3\n",
      "로또번호 1:  [21, 24, 25, 27, 39, 45]\n",
      "로또번호 2:  [4, 10, 19, 20, 31, 41]\n",
      "로또번호 3:  [4, 13, 22, 23, 31, 38]\n"
     ]
    }
   ],
   "source": [
    "from random import shuffle\n",
    "from time import sleep\n",
    "\n",
    "gnum = int(input('로또 회수를 입력하세요'))\n",
    "for i in range(gnum):  #다중 for문\n",
    "    lt = [x+1 for x in range(45)]  #1-45가 됨. x+1이니까 46까지라\n",
    "    ret = []\n",
    "    for j in range(6):\n",
    "        shuffle(lt)\n",
    "        num = lt.pop() #뽑은건 pop으로 없애주는 것. 그럼 안겹치게 리스트에 넣을수있음\n",
    "        ret.append(num)\n",
    "        ret.sort()\n",
    "    print('로또번호 %d: '%(i+1), end=' ') #인덱스는 0번부터니까 +1해준것\n",
    "    print(ret)\n",
    "    sleep(0.5)"
   ]
  },
  {
   "cell_type": "code",
   "execution_count": 57,
   "id": "7d406e51",
   "metadata": {},
   "outputs": [
    {
     "name": "stdout",
     "output_type": "stream",
     "text": [
      "로또 회수를 입력하세요5\n",
      "[6, 27, 3, 43, 22, 20]\n",
      "[14, 45, 9, 33, 32, 7]\n",
      "[9, 21, 24, 27, 14, 4]\n",
      "[29, 13, 8, 4, 24, 37]\n",
      "[12, 38, 16, 4, 5, 8]\n"
     ]
    }
   ],
   "source": [
    "gnum = int(input('로또 회수를 입력하세요'))\n",
    "\n",
    "for i in range(gnum):\n",
    "    li = []\n",
    "    for j in range(6):\n",
    "        lt = random.randint(1,46)\n",
    "        while lt in li:  #중복피하기 위해 사용\n",
    "            lt = random.randint(1,46) #같은거 안나올때까지 계속 도는 것. \n",
    "        li.append(lt)\n",
    "    print(li)"
   ]
  },
  {
   "cell_type": "code",
   "execution_count": 1,
   "id": "3096c1a0",
   "metadata": {},
   "outputs": [
    {
     "ename": "KeyboardInterrupt",
     "evalue": "Interrupted by user",
     "output_type": "error",
     "traceback": [
      "\u001b[1;31m---------------------------------------------------------------------------\u001b[0m",
      "\u001b[1;31mKeyboardInterrupt\u001b[0m                         Traceback (most recent call last)",
      "\u001b[1;32m<ipython-input-1-d8afbea93fec>\u001b[0m in \u001b[0;36m<module>\u001b[1;34m\u001b[0m\n\u001b[0;32m      2\u001b[0m \u001b[1;33m\u001b[0m\u001b[0m\n\u001b[0;32m      3\u001b[0m \u001b[1;33m\u001b[0m\u001b[0m\n\u001b[1;32m----> 4\u001b[1;33m \u001b[1;32mclass\u001b[0m \u001b[0mLottery\u001b[0m\u001b[1;33m:\u001b[0m\u001b[1;33m\u001b[0m\u001b[1;33m\u001b[0m\u001b[0m\n\u001b[0m\u001b[0;32m      5\u001b[0m     \u001b[0ma\u001b[0m \u001b[1;33m=\u001b[0m \u001b[0mint\u001b[0m\u001b[1;33m(\u001b[0m\u001b[0minput\u001b[0m\u001b[1;33m(\u001b[0m\u001b[1;34m'반복할 횟수를 입력해주세요: '\u001b[0m\u001b[1;33m)\u001b[0m\u001b[1;33m)\u001b[0m\u001b[1;33m\u001b[0m\u001b[1;33m\u001b[0m\u001b[0m\n\u001b[0;32m      6\u001b[0m     \u001b[1;32mfor\u001b[0m \u001b[0mi\u001b[0m \u001b[1;32min\u001b[0m \u001b[0mrange\u001b[0m\u001b[1;33m(\u001b[0m\u001b[0ma\u001b[0m\u001b[1;33m)\u001b[0m\u001b[1;33m:\u001b[0m\u001b[1;33m\u001b[0m\u001b[1;33m\u001b[0m\u001b[0m\n",
      "\u001b[1;32m<ipython-input-1-d8afbea93fec>\u001b[0m in \u001b[0;36mLottery\u001b[1;34m()\u001b[0m\n\u001b[0;32m      3\u001b[0m \u001b[1;33m\u001b[0m\u001b[0m\n\u001b[0;32m      4\u001b[0m \u001b[1;32mclass\u001b[0m \u001b[0mLottery\u001b[0m\u001b[1;33m:\u001b[0m\u001b[1;33m\u001b[0m\u001b[1;33m\u001b[0m\u001b[0m\n\u001b[1;32m----> 5\u001b[1;33m     \u001b[0ma\u001b[0m \u001b[1;33m=\u001b[0m \u001b[0mint\u001b[0m\u001b[1;33m(\u001b[0m\u001b[0minput\u001b[0m\u001b[1;33m(\u001b[0m\u001b[1;34m'반복할 횟수를 입력해주세요: '\u001b[0m\u001b[1;33m)\u001b[0m\u001b[1;33m)\u001b[0m\u001b[1;33m\u001b[0m\u001b[1;33m\u001b[0m\u001b[0m\n\u001b[0m\u001b[0;32m      6\u001b[0m     \u001b[1;32mfor\u001b[0m \u001b[0mi\u001b[0m \u001b[1;32min\u001b[0m \u001b[0mrange\u001b[0m\u001b[1;33m(\u001b[0m\u001b[0ma\u001b[0m\u001b[1;33m)\u001b[0m\u001b[1;33m:\u001b[0m\u001b[1;33m\u001b[0m\u001b[1;33m\u001b[0m\u001b[0m\n\u001b[0;32m      7\u001b[0m         \u001b[0mlottery_number\u001b[0m \u001b[1;33m=\u001b[0m\u001b[1;33m[\u001b[0m\u001b[1;33m]\u001b[0m\u001b[1;33m\u001b[0m\u001b[1;33m\u001b[0m\u001b[0m\n",
      "\u001b[1;32mC:\\ca_da\\anaconda\\envs\\cakd3\\lib\\site-packages\\ipykernel\\kernelbase.py\u001b[0m in \u001b[0;36mraw_input\u001b[1;34m(self, prompt)\u001b[0m\n\u001b[0;32m    858\u001b[0m                 \u001b[1;34m\"raw_input was called, but this frontend does not support input requests.\"\u001b[0m\u001b[1;33m\u001b[0m\u001b[1;33m\u001b[0m\u001b[0m\n\u001b[0;32m    859\u001b[0m             )\n\u001b[1;32m--> 860\u001b[1;33m         return self._input_request(str(prompt),\n\u001b[0m\u001b[0;32m    861\u001b[0m             \u001b[0mself\u001b[0m\u001b[1;33m.\u001b[0m\u001b[0m_parent_ident\u001b[0m\u001b[1;33m,\u001b[0m\u001b[1;33m\u001b[0m\u001b[1;33m\u001b[0m\u001b[0m\n\u001b[0;32m    862\u001b[0m             \u001b[0mself\u001b[0m\u001b[1;33m.\u001b[0m\u001b[0m_parent_header\u001b[0m\u001b[1;33m,\u001b[0m\u001b[1;33m\u001b[0m\u001b[1;33m\u001b[0m\u001b[0m\n",
      "\u001b[1;32mC:\\ca_da\\anaconda\\envs\\cakd3\\lib\\site-packages\\ipykernel\\kernelbase.py\u001b[0m in \u001b[0;36m_input_request\u001b[1;34m(self, prompt, ident, parent, password)\u001b[0m\n\u001b[0;32m    902\u001b[0m             \u001b[1;32mexcept\u001b[0m \u001b[0mKeyboardInterrupt\u001b[0m\u001b[1;33m:\u001b[0m\u001b[1;33m\u001b[0m\u001b[1;33m\u001b[0m\u001b[0m\n\u001b[0;32m    903\u001b[0m                 \u001b[1;31m# re-raise KeyboardInterrupt, to truncate traceback\u001b[0m\u001b[1;33m\u001b[0m\u001b[1;33m\u001b[0m\u001b[1;33m\u001b[0m\u001b[0m\n\u001b[1;32m--> 904\u001b[1;33m                 \u001b[1;32mraise\u001b[0m \u001b[0mKeyboardInterrupt\u001b[0m\u001b[1;33m(\u001b[0m\u001b[1;34m\"Interrupted by user\"\u001b[0m\u001b[1;33m)\u001b[0m \u001b[1;32mfrom\u001b[0m \u001b[1;32mNone\u001b[0m\u001b[1;33m\u001b[0m\u001b[1;33m\u001b[0m\u001b[0m\n\u001b[0m\u001b[0;32m    905\u001b[0m             \u001b[1;32mexcept\u001b[0m \u001b[0mException\u001b[0m \u001b[1;32mas\u001b[0m \u001b[0me\u001b[0m\u001b[1;33m:\u001b[0m\u001b[1;33m\u001b[0m\u001b[1;33m\u001b[0m\u001b[0m\n\u001b[0;32m    906\u001b[0m                 \u001b[0mself\u001b[0m\u001b[1;33m.\u001b[0m\u001b[0mlog\u001b[0m\u001b[1;33m.\u001b[0m\u001b[0mwarning\u001b[0m\u001b[1;33m(\u001b[0m\u001b[1;34m\"Invalid Message:\"\u001b[0m\u001b[1;33m,\u001b[0m \u001b[0mexc_info\u001b[0m\u001b[1;33m=\u001b[0m\u001b[1;32mTrue\u001b[0m\u001b[1;33m)\u001b[0m\u001b[1;33m\u001b[0m\u001b[1;33m\u001b[0m\u001b[0m\n",
      "\u001b[1;31mKeyboardInterrupt\u001b[0m: Interrupted by user"
     ]
    }
   ],
   "source": [
    "import random\n",
    "\n",
    "\n",
    "class Lottery:\n",
    "    a = int(input('반복할 횟수를 입력해주세요: '))\n",
    "    for i in range(a):\n",
    "        lottery_number =[]   \n",
    "    def lotte(self, a):    \n",
    "        for new_number in range(1,7) : \n",
    "            new_number = random.randrange(1, 46)\n",
    "            lottery_number.append(new_number)\n",
    "        \n",
    "        return '로또 번호는 {}입니다.'.format(lottery_number)\n",
    "\n",
    "obj = Lottery()\n",
    "obj.lotte(5)"
   ]
  },
  {
   "cell_type": "code",
   "execution_count": 50,
   "id": "1b2e1e17",
   "metadata": {},
   "outputs": [
    {
     "ename": "IndentationError",
     "evalue": "unexpected indent (<ipython-input-50-2673b63d323d>, line 6)",
     "output_type": "error",
     "traceback": [
      "\u001b[1;36m  File \u001b[1;32m\"<ipython-input-50-2673b63d323d>\"\u001b[1;36m, line \u001b[1;32m6\u001b[0m\n\u001b[1;33m    new_num = random.sample(range(1,46),6)\u001b[0m\n\u001b[1;37m    ^\u001b[0m\n\u001b[1;31mIndentationError\u001b[0m\u001b[1;31m:\u001b[0m unexpected indent\n"
     ]
    }
   ],
   "source": [
    "import random\n",
    "class Lottery:\n",
    "  def lottery(self):\n",
    "    a = int(input('반복할 횟수를 입력해주세요: '))\n",
    "    for i in range(a):\n",
    "      new_num = random.sample(range(1,46),6)\n",
    "      print('로또 번호는 {}입니다.'.format(new_num))\n",
    "\n",
    "obj = Lottery()\n",
    "obj.lottery()"
   ]
  },
  {
   "cell_type": "code",
   "execution_count": null,
   "id": "d5605187",
   "metadata": {},
   "outputs": [],
   "source": [
    "#임희진님\n",
    "import random\n",
    "\n",
    "def lotte(n):\n",
    "    while n >= 1:\n",
    "        for i in range(n):\n",
    "            lottery = random.sample(range(1,46), 6)\n",
    "            print(lottery)\n",
    "        break \n",
    "    else:\n",
    "         print(\"다시 입력하세요.\")\n",
    "\n",
    "lotte(6)"
   ]
  },
  {
   "cell_type": "code",
   "execution_count": null,
   "id": "2302a01b",
   "metadata": {
    "scrolled": true
   },
   "outputs": [],
   "source": [
    "import random\n",
    "\n",
    "\n",
    "\n",
    "def lotte():\n",
    "    a = int(input('반복할 횟수를 입력해주세요: '))\n",
    "    for i in range(a):\n",
    "        new_number1 = random.randrange(1, 46)\n",
    "        new_number2 = random.randrange(1, 46)\n",
    "        new_number3 = random.randrange(1, 46)\n",
    "        new_number4 = random.randrange(1, 46)\n",
    "        new_number5 = random.randrange(1, 46)\n",
    "        new_number6 = random.randrange(1, 46)\n",
    "        print('로또 번호는 [{}],[{}],[{}],[{}],[{}],[{}]입니다.'.format(new_number1, new_number2, new_number3, new_number4, new_number5, new_number6))\n",
    "    \n",
    "lotte()"
   ]
  },
  {
   "cell_type": "markdown",
   "id": "de1758c8",
   "metadata": {},
   "source": [
    "#### Q2. 남녀 파트너 정해주기 프로그램을 작성하세요.(5개 커플)"
   ]
  },
  {
   "cell_type": "code",
   "execution_count": null,
   "id": "1f0ca0d7",
   "metadata": {
    "scrolled": false
   },
   "outputs": [],
   "source": [
    "import random\n",
    "girls = ['가','나','다','라','마']\n",
    "boys = ['a', 'b', 'c', 'd', 'e']   \n",
    "\n",
    "random.shuffle(girls)\n",
    "random.shuffle(boys)\n",
    "\n",
    "for g,v in zip(girls, boys):\n",
    "    print(g,v)"
   ]
  },
  {
   "cell_type": "code",
   "execution_count": null,
   "id": "d29918ba",
   "metadata": {},
   "outputs": [],
   "source": [
    "import random\n",
    "g1 = ['1','2','3','4','5']\n",
    "g2 = ['a','b','c','d','e']\n",
    "\n",
    "random.shuffle(g1)\n",
    "random.shuffle(g2)\n",
    "\n",
    "a = list(zip(g1, g2))\n",
    "\n",
    "print(\"새롭게 정해진 짝은 다음과 같습니다. : {}\".format(a))"
   ]
  },
  {
   "cell_type": "code",
   "execution_count": null,
   "id": "d334a0f7",
   "metadata": {},
   "outputs": [],
   "source": [
    "#방법2\n",
    "\n",
    "g1 = ['1','2','3','4','5']\n",
    "g2 = ['a','b','c','d','e']\n",
    "\n",
    "import random\n",
    "random.shuffle(g1)\n",
    "random.shuffle(g2)\n",
    "\n",
    "i = 0\n",
    "while i <5:\n",
    "    C = g1[i], g2[i]\n",
    "    print(list(C))\n",
    "    i+=1"
   ]
  },
  {
   "cell_type": "markdown",
   "id": "6c3bc574",
   "metadata": {},
   "source": [
    "#### Q3. 입력받은 문자열의 각 문자를 그 다음 문자로 변경하여 출력하세요."
   ]
  },
  {
   "cell_type": "code",
   "execution_count": null,
   "id": "91cd95d5",
   "metadata": {},
   "outputs": [],
   "source": [
    "#박민아님\n",
    "x = input('문자를 입력하세요 : ')\n",
    "x[1:]+x[0]"
   ]
  },
  {
   "cell_type": "code",
   "execution_count": 59,
   "id": "5ba19931",
   "metadata": {},
   "outputs": [
    {
     "name": "stdout",
     "output_type": "stream",
     "text": [
      "문장입력: 123\n",
      "231\n"
     ]
    }
   ],
   "source": [
    "text = input('문장입력: ')\n",
    "ret = ''\n",
    "for i in range(len(text)):\n",
    "    if i != len(text)-1:\n",
    "        ret += text[i+1]\n",
    "    else:\n",
    "        ret += text[0]\n",
    "print(ret)"
   ]
  },
  {
   "cell_type": "markdown",
   "id": "33a87465",
   "metadata": {},
   "source": [
    "#### Q4. url에서 호스트 도메인을 추출하여 출력하세요.\n",
    "url = 'http://news.naver.com/main/read.nhn?mode=LSD&mid=shm&sid1=105&oid=028&aid=0002334601'"
   ]
  },
  {
   "cell_type": "code",
   "execution_count": null,
   "id": "a1239ab3",
   "metadata": {},
   "outputs": [],
   "source": [
    "url = 'http://news.naver.com/main/read.nhn?mode=LSD&mid=shm&sid1=105&oid=028&aid=0002334601'\n",
    "url[:27]"
   ]
  },
  {
   "cell_type": "code",
   "execution_count": 2,
   "id": "7dc6ecc3",
   "metadata": {},
   "outputs": [
    {
     "name": "stdout",
     "output_type": "stream",
     "text": [
      "news.naver.com\n"
     ]
    }
   ],
   "source": [
    "#박민아님\n",
    "url = 'http://news.naver.com/main/read.nhn?mode=LSD&mid=shm&sid1=105&oid=028&aid=0002334601'\n",
    "a = url.split('/')\n",
    "domain = a[2]\n",
    "print(domain)"
   ]
  },
  {
   "cell_type": "markdown",
   "id": "cada00bf",
   "metadata": {},
   "source": [
    "#### Q5. url에서 쿼리문을 추출하여 출력하세요. url에서 '?'뒤에 표시되는 문자열을 쿼리 문자열이라고 하며 변수=값 사이 &로 구분되어 나열된다.\n",
    "url = 'http://news.naver.com/main/read.nhn?mode=LSD&mid=shm&sid1=105&oid=028&aid=0002334601'"
   ]
  },
  {
   "cell_type": "code",
   "execution_count": null,
   "id": "6085f58b",
   "metadata": {},
   "outputs": [],
   "source": [
    "url = 'http://news.naver.com/main/read.nhn?mode=LSD&mid=shm&sid1=105&oid=028&aid=0002334601'\n",
    "url[36:]"
   ]
  },
  {
   "cell_type": "code",
   "execution_count": 11,
   "id": "7a421d3a",
   "metadata": {},
   "outputs": [
    {
     "name": "stdout",
     "output_type": "stream",
     "text": [
      "mode=LSD\n",
      "mid=shm\n",
      "sid1=105\n",
      "oid=028\n",
      "aid=0002334601\n"
     ]
    }
   ],
   "source": [
    "url = 'http://news.naver.com/main/read.nhn?mode=LSD&mid=shm&sid1=105&oid=028&aid=0002334601'\n",
    "a = url.split('?')\n",
    "domain = a[1]\n",
    "queries = a[1].split('&')\n",
    "for query in queries:\n",
    "    print(query)"
   ]
  },
  {
   "cell_type": "markdown",
   "id": "c39915c5",
   "metadata": {},
   "source": [
    "#### Q6. 텍스트 파일(mydata.txt)을 읽고  파일의 내용에서 나타나는 문자들에 대해 자주 나타나는 문자들을 아래와 같이 순서대로 출력하세요.  \n",
    "[ ] -> [177]회 나타남  \n",
    "[e] -> [97]회 나타남  \n",
    "[t] -> [85]회 나타남"
   ]
  },
  {
   "cell_type": "code",
   "execution_count": 14,
   "id": "f7440399",
   "metadata": {
    "scrolled": false
   },
   "outputs": [
    {
     "name": "stdout",
     "output_type": "stream",
     "text": [
      "[ ] -> [177]회 나타남\n",
      "[e] -> [97]회 나타남\n",
      "[t] -> [85]회 나타남\n",
      "[a] -> [78]회 나타남\n",
      "[o] -> [73]회 나타남\n",
      "[n] -> [60]회 나타남\n",
      "[s] -> [60]회 나타남\n",
      "[r] -> [54]회 나타남\n",
      "[i] -> [50]회 나타남\n",
      "[h] -> [48]회 나타남\n",
      "[l] -> [34]회 나타남\n",
      "[u] -> [27]회 나타남\n",
      "[d] -> [24]회 나타남\n",
      "[c] -> [23]회 나타남\n",
      "[w] -> [20]회 나타남\n",
      "[m] -> [20]회 나타남\n",
      "[f] -> [17]회 나타남\n",
      "[p] -> [15]회 나타남\n",
      "[y] -> [15]회 나타남\n",
      "[b] -> [13]회 나타남\n",
      "[g] -> [11]회 나타남\n",
      "[v] -> [9]회 나타남\n",
      "['] -> [8]회 나타남\n",
      "[k] -> [7]회 나타남\n",
      "[!] -> [2]회 나타남\n"
     ]
    }
   ],
   "source": [
    "f = open('C:\\workplace\\cakd3\\programming\\data\\mydata.txt', 'r')\n",
    "data = f.read()\n",
    "result = set(data)\n",
    "r1 = list(result)\n",
    "r1.sort(key=lambda x : data.count(x))\n",
    "r1.reverse()\n",
    "r1.remove('\\n') #개행제외\n",
    "for i in r1:\n",
    "    print(\"[{}] -> [{}]회 나타남\".format(i, data.count(i)))"
   ]
  },
  {
   "cell_type": "markdown",
   "id": "a7e3564a",
   "metadata": {},
   "source": [
    "#### Q7. mydata.txt 파일에 들어있는 단어수를 계산하여 출력하세요."
   ]
  },
  {
   "cell_type": "code",
   "execution_count": 16,
   "id": "661ae645",
   "metadata": {},
   "outputs": [
    {
     "name": "stdout",
     "output_type": "stream",
     "text": [
      "전체 개수는 213개입니다.\n"
     ]
    }
   ],
   "source": [
    "with open('C:\\workplace\\cakd3\\programming\\data\\mydata.txt', 'r') as f:\n",
    "    data = f.read()\n",
    "    r1 = data.split()\n",
    "    print(\"전체 개수는 {}개입니다.\".format(len(r1)))"
   ]
  },
  {
   "cell_type": "markdown",
   "id": "aa1d4523",
   "metadata": {},
   "source": [
    "#### Q8. 사용자가 입력한 단어가 mydata.txt 파일에 포함된 개수를 계산하여 출력하세요."
   ]
  },
  {
   "cell_type": "code",
   "execution_count": 26,
   "id": "bd82692d",
   "metadata": {
    "scrolled": true
   },
   "outputs": [
    {
     "ename": "SyntaxError",
     "evalue": "unexpected EOF while parsing (<ipython-input-26-dbac7b72f4ef>, line 5)",
     "output_type": "error",
     "traceback": [
      "\u001b[1;36m  File \u001b[1;32m\"<ipython-input-26-dbac7b72f4ef>\"\u001b[1;36m, line \u001b[1;32m5\u001b[0m\n\u001b[1;33m    print('{}는 {}개 있습니다.'.format(input1, r1.count(input1))\u001b[0m\n\u001b[1;37m                                                          ^\u001b[0m\n\u001b[1;31mSyntaxError\u001b[0m\u001b[1;31m:\u001b[0m unexpected EOF while parsing\n"
     ]
    }
   ],
   "source": [
    "with open('C:\\workplace\\cakd3\\programming\\data\\mydata.txt', 'r') as f:\n",
    "    data = f.read()\n",
    "    r1 = data.split()\n",
    "    input1 = input(\"단어 아무거나 : \")\n",
    "    print('{}는 {}개 있습니다.'.format(input1, r1.count(input1))"
   ]
  },
  {
   "cell_type": "code",
   "execution_count": 35,
   "id": "1d9d84f2",
   "metadata": {},
   "outputs": [
    {
     "ename": "KeyboardInterrupt",
     "evalue": "Interrupted by user",
     "output_type": "error",
     "traceback": [
      "\u001b[1;31m---------------------------------------------------------------------------\u001b[0m",
      "\u001b[1;31mKeyboardInterrupt\u001b[0m                         Traceback (most recent call last)",
      "\u001b[1;32m<ipython-input-35-b3ccfbe2fc5a>\u001b[0m in \u001b[0;36m<module>\u001b[1;34m\u001b[0m\n\u001b[0;32m      3\u001b[0m     \u001b[0mdata\u001b[0m \u001b[1;33m=\u001b[0m \u001b[0mfile\u001b[0m\u001b[1;33m.\u001b[0m\u001b[0mread\u001b[0m\u001b[1;33m(\u001b[0m\u001b[1;33m)\u001b[0m\u001b[1;33m\u001b[0m\u001b[1;33m\u001b[0m\u001b[0m\n\u001b[0;32m      4\u001b[0m     \u001b[0mword\u001b[0m \u001b[1;33m=\u001b[0m \u001b[0mdata\u001b[0m\u001b[1;33m.\u001b[0m\u001b[0msplit\u001b[0m\u001b[1;33m(\u001b[0m\u001b[1;33m)\u001b[0m\u001b[1;33m\u001b[0m\u001b[1;33m\u001b[0m\u001b[0m\n\u001b[1;32m----> 5\u001b[1;33m     \u001b[0mword_input\u001b[0m \u001b[1;33m=\u001b[0m \u001b[0minput\u001b[0m\u001b[1;33m(\u001b[0m\u001b[1;34m'단어 입력: '\u001b[0m\u001b[1;33m)\u001b[0m\u001b[1;33m\u001b[0m\u001b[1;33m\u001b[0m\u001b[0m\n\u001b[0m\u001b[0;32m      6\u001b[0m     \u001b[0mprint\u001b[0m\u001b[1;33m(\u001b[0m\u001b[1;34m'{}는 {}개 있습니다.'\u001b[0m\u001b[1;33m.\u001b[0m\u001b[0mformat\u001b[0m\u001b[1;33m(\u001b[0m\u001b[0mword_input\u001b[0m\u001b[1;33m,\u001b[0m \u001b[0mword\u001b[0m\u001b[1;33m.\u001b[0m\u001b[0mcount\u001b[0m\u001b[1;33m(\u001b[0m\u001b[0mword_input\u001b[0m\u001b[1;33m)\u001b[0m\u001b[1;33m)\u001b[0m\u001b[1;33m)\u001b[0m\u001b[1;33m\u001b[0m\u001b[1;33m\u001b[0m\u001b[0m\n",
      "\u001b[1;32mC:\\ca_da\\anaconda\\envs\\cakd3\\lib\\site-packages\\ipykernel\\kernelbase.py\u001b[0m in \u001b[0;36mraw_input\u001b[1;34m(self, prompt)\u001b[0m\n\u001b[0;32m    858\u001b[0m                 \u001b[1;34m\"raw_input was called, but this frontend does not support input requests.\"\u001b[0m\u001b[1;33m\u001b[0m\u001b[1;33m\u001b[0m\u001b[0m\n\u001b[0;32m    859\u001b[0m             )\n\u001b[1;32m--> 860\u001b[1;33m         return self._input_request(str(prompt),\n\u001b[0m\u001b[0;32m    861\u001b[0m             \u001b[0mself\u001b[0m\u001b[1;33m.\u001b[0m\u001b[0m_parent_ident\u001b[0m\u001b[1;33m,\u001b[0m\u001b[1;33m\u001b[0m\u001b[1;33m\u001b[0m\u001b[0m\n\u001b[0;32m    862\u001b[0m             \u001b[0mself\u001b[0m\u001b[1;33m.\u001b[0m\u001b[0m_parent_header\u001b[0m\u001b[1;33m,\u001b[0m\u001b[1;33m\u001b[0m\u001b[1;33m\u001b[0m\u001b[0m\n",
      "\u001b[1;32mC:\\ca_da\\anaconda\\envs\\cakd3\\lib\\site-packages\\ipykernel\\kernelbase.py\u001b[0m in \u001b[0;36m_input_request\u001b[1;34m(self, prompt, ident, parent, password)\u001b[0m\n\u001b[0;32m    902\u001b[0m             \u001b[1;32mexcept\u001b[0m \u001b[0mKeyboardInterrupt\u001b[0m\u001b[1;33m:\u001b[0m\u001b[1;33m\u001b[0m\u001b[1;33m\u001b[0m\u001b[0m\n\u001b[0;32m    903\u001b[0m                 \u001b[1;31m# re-raise KeyboardInterrupt, to truncate traceback\u001b[0m\u001b[1;33m\u001b[0m\u001b[1;33m\u001b[0m\u001b[1;33m\u001b[0m\u001b[0m\n\u001b[1;32m--> 904\u001b[1;33m                 \u001b[1;32mraise\u001b[0m \u001b[0mKeyboardInterrupt\u001b[0m\u001b[1;33m(\u001b[0m\u001b[1;34m\"Interrupted by user\"\u001b[0m\u001b[1;33m)\u001b[0m \u001b[1;32mfrom\u001b[0m \u001b[1;32mNone\u001b[0m\u001b[1;33m\u001b[0m\u001b[1;33m\u001b[0m\u001b[0m\n\u001b[0m\u001b[0;32m    905\u001b[0m             \u001b[1;32mexcept\u001b[0m \u001b[0mException\u001b[0m \u001b[1;32mas\u001b[0m \u001b[0me\u001b[0m\u001b[1;33m:\u001b[0m\u001b[1;33m\u001b[0m\u001b[1;33m\u001b[0m\u001b[0m\n\u001b[0;32m    906\u001b[0m                 \u001b[0mself\u001b[0m\u001b[1;33m.\u001b[0m\u001b[0mlog\u001b[0m\u001b[1;33m.\u001b[0m\u001b[0mwarning\u001b[0m\u001b[1;33m(\u001b[0m\u001b[1;34m\"Invalid Message:\"\u001b[0m\u001b[1;33m,\u001b[0m \u001b[0mexc_info\u001b[0m\u001b[1;33m=\u001b[0m\u001b[1;32mTrue\u001b[0m\u001b[1;33m)\u001b[0m\u001b[1;33m\u001b[0m\u001b[1;33m\u001b[0m\u001b[0m\n",
      "\u001b[1;31mKeyboardInterrupt\u001b[0m: Interrupted by user"
     ]
    }
   ],
   "source": [
    "# 최윤진님\n",
    "with open('data/mydata.txt','r') as file:\n",
    "    data = file.read()\n",
    "    word = data.split()\n",
    "    word_input = input('단어 입력: ')\n",
    "    print('{}는 {}개 있습니다.'.format(word_input, word.count(word_input)))"
   ]
  },
  {
   "cell_type": "markdown",
   "id": "45b1dc86",
   "metadata": {},
   "source": [
    "#### Q9. mydata.txt 파일에서 특정 단어 t1을  다른 단어 t2로 변경하여 출력하세요."
   ]
  },
  {
   "cell_type": "code",
   "execution_count": null,
   "id": "55aee463",
   "metadata": {},
   "outputs": [],
   "source": [
    "with open('C:\\workplace\\cakd3\\programming\\data\\mydata.txt', 'r') as f:\n",
    "    data = f.read()\n",
    "    print(data.replace('a', 'A'))\n",
    "    print(data)"
   ]
  },
  {
   "cell_type": "markdown",
   "id": "16199399",
   "metadata": {},
   "source": [
    "#### Q10. 주어진 데이터에서 1880년에서 2015년까지 연도별 출생아 수를 출력하세요.\n",
    "filename = 'data/names/yob%d.txt' %y"
   ]
  },
  {
   "cell_type": "code",
   "execution_count": 30,
   "id": "7685fd27",
   "metadata": {},
   "outputs": [
    {
     "ename": "SyntaxError",
     "evalue": "invalid syntax (<ipython-input-30-b0783a2d91fb>, line 3)",
     "output_type": "error",
     "traceback": [
      "\u001b[1;36m  File \u001b[1;32m\"<ipython-input-30-b0783a2d91fb>\"\u001b[1;36m, line \u001b[1;32m3\u001b[0m\n\u001b[1;33m    for i in file.readlines()\u001b[0m\n\u001b[1;37m                              ^\u001b[0m\n\u001b[1;31mSyntaxError\u001b[0m\u001b[1;31m:\u001b[0m invalid syntax\n"
     ]
    }
   ],
   "source": [
    "with open('data/names/yob1880.txt','r') as file:\n",
    "    data = file.read()    \n",
    "    while i in not line:\n",
    "        \n",
    "        "
   ]
  },
  {
   "cell_type": "code",
   "execution_count": null,
   "id": "2da3c1b8",
   "metadata": {},
   "outputs": [],
   "source": [
    "year = list(range(1880,2016))\n",
    "for y in year:\n",
    "    filename = 'data/names/yob%d.txt' %y\n",
    "    with open(filename, 'r') as file:\n",
    "        total = 0\n",
    "        for line in file:\n",
    "            (name, sex, birth) = line.strip().split(',')\n",
    "            birth = int(birth)\n",
    "            total += birth\n",
    "            \n",
    "        print('{}년도 출생아 수 : {}명'.format(y, total))\n",
    "        \n",
    "    \n",
    "        \n"
   ]
  },
  {
   "cell_type": "markdown",
   "id": "42d7fc2b",
   "metadata": {},
   "source": [
    "#### Q11. 주어진 데이터에서 연도별 성별 출생아 수를 계산하여 출력하세요."
   ]
  },
  {
   "cell_type": "code",
   "execution_count": 41,
   "id": "1a73a363",
   "metadata": {},
   "outputs": [
    {
     "name": "stdout",
     "output_type": "stream",
     "text": [
      "1880년도 출생한 여아: 90994명, 남아: 110490명\n",
      "1881년도 출생한 여아: 91953명, 남아: 100743명\n",
      "1882년도 출생한 여아: 107847명, 남아: 113686명\n",
      "1883년도 출생한 여아: 112319명, 남아: 104625명\n",
      "1884년도 출생한 여아: 129019명, 남아: 114442명\n",
      "1885년도 출생한 여아: 133055명, 남아: 107799명\n",
      "1886년도 출생한 여아: 144533명, 남아: 110784명\n",
      "1887년도 출생한 여아: 145982명, 남아: 101412명\n",
      "1888년도 출생한 여아: 178622명, 남아: 120851명\n",
      "1889년도 출생한 여아: 178366명, 남아: 110580명\n",
      "1890년도 출생한 여아: 190377명, 남아: 111025명\n",
      "1891년도 출생한 여아: 185480명, 남아: 101191명\n",
      "1892년도 출생한 여아: 212339명, 남아: 122035명\n",
      "1893년도 출생한 여아: 212905명, 남아: 112319명\n",
      "1894년도 출생한 여아: 222921명, 남아: 115769명\n",
      "1895년도 출생한 여아: 233626명, 남아: 117395명\n",
      "1896년도 출생한 여아: 237918명, 남아: 119566명\n",
      "1897년도 출생한 여아: 234200명, 남아: 112757명\n",
      "1898년도 출생한 여아: 258770명, 남아: 122686명\n",
      "1899년도 출생한 여아: 233023명, 남아: 106210명\n",
      "1900년도 출생한 여아: 299795명, 남아: 150479명\n",
      "1901년도 출생한 여아: 239345명, 남아: 106468명\n",
      "1902년도 출생한 여아: 264075명, 남아: 122658명\n",
      "1903년도 출생한 여아: 261970명, 남아: 119231명\n",
      "1904년도 출생한 여아: 275363명, 남아: 128126명\n",
      "1905년도 출생한 여아: 291619명, 남아: 132308명\n",
      "1906년도 출생한 여아: 295302명, 남아: 133155명\n",
      "1907년도 출생한 여아: 318567명, 남아: 146827명\n",
      "1908년도 출생한 여아: 334314명, 남아: 154338명\n",
      "1909년도 출생한 여아: 347230명, 남아: 163996명\n",
      "1910년도 출생한 여아: 396505명, 남아: 194210명\n",
      "1911년도 출생한 여아: 418308명, 남아: 225970명\n",
      "1912년도 출생한 여아: 558120명, 남아: 429946명\n",
      "1913년도 출생한 여아: 624547명, 남아: 512565명\n",
      "1914년도 출생한 여아: 761581명, 남아: 654765명\n",
      "1915년도 출생한 여아: 983864명, 남아: 848584명\n",
      "1916년도 출생한 여아: 1044341명, 남아: 890091명\n",
      "1917년도 출생한 여아: 1081272명, 남아: 925490명\n",
      "1918년도 출생한 여아: 1157638명, 남아: 1013488명\n",
      "1919년도 출생한 여아: 1130129명, 남아: 980142명\n",
      "1920년도 출생한 여아: 1198291명, 남아: 1064375명\n",
      "1921년도 출생한 여아: 1233066명, 남아: 1101467명\n",
      "1922년도 출생한 여아: 1200991명, 남아: 1088188명\n",
      "1923년도 출생한 여아: 1206385명, 남아: 1096136명\n",
      "1924년도 출생한 여아: 1248900명, 남아: 1132787명\n",
      "1925년도 출생한 여아: 1217394명, 남아: 1115935명\n",
      "1926년도 출생한 여아: 1185398명, 남아: 1110536명\n",
      "1927년도 출생한 여아: 1192408명, 남아: 1126943명\n",
      "1928년도 출생한 여아: 1153292명, 남아: 1107652명\n",
      "1929년도 출생한 여아: 1116541명, 남아: 1075606명\n",
      "1930년도 출생한 여아: 1125951명, 남아: 1097399명\n",
      "1931년도 출생한 여아: 1064686명, 남아: 1039574명\n",
      "1932년도 출생한 여아: 1067115명, 남아: 1044134명\n",
      "1933년도 출생한 여아: 1007880명, 남아: 991410명\n",
      "1934년도 출생한 여아: 1044177명, 남아: 1032485명\n",
      "1935년도 출생한 여아: 1048541명, 남아: 1041226명\n",
      "1936년도 출생한 여아: 1040353명, 남아: 1037153명\n",
      "1937년도 출생한 여아: 1063974명, 남아: 1066567명\n",
      "1938년도 출생한 여아: 1103408명, 남아: 1109082명\n",
      "1939년도 출생한 여아: 1096608명, 남아: 1106758명\n",
      "1940년도 출생한 여아: 1143445명, 남아: 1159067명\n",
      "1941년도 출생한 여아: 1208042명, 남아: 1228201명\n",
      "1942년도 출생한 여아: 1350657명, 남아: 1380978명\n",
      "1943년도 출생한 여아: 1395231명, 남아: 1427148명\n",
      "1944년도 출생한 여아: 1327177명, 남아: 1362788명\n",
      "1945년도 출생한 여아: 1307048명, 남아: 1345701명\n",
      "1946년도 출생한 여아: 1571259명, 남아: 1623907명\n",
      "1947년도 출생한 여아: 1772707명, 남아: 1829449명\n",
      "1948년도 출생한 여아: 1697824명, 남아: 1754555명\n",
      "1949년도 출생한 여아: 1710869명, 남아: 1773803명\n",
      "1950년도 출생한 여아: 1713070명, 남아: 1790441명\n",
      "1951년도 출생한 여아: 1800867명, 남아: 1882875명\n",
      "1952년도 출생한 여아: 1854357명, 남아: 1943773명\n",
      "1953년도 출생한 여아: 1881331명, 남아: 1972427명\n",
      "1954년도 출생한 여아: 1942114명, 남아: 2039245명\n",
      "1955년도 출생한 여아: 1955030명, 남아: 2059116명\n",
      "1956년도 출생한 여아: 2007628명, 남아: 2114471명\n",
      "1957년도 출생한 여아: 2044598명, 남아: 2156486명\n",
      "1958년도 출생한 여아: 2011058명, 남아: 2120770명\n",
      "1959년도 출생한 여아: 2023031명, 남아: 2133240명\n",
      "1960년도 출생한 여아: 2022015명, 남아: 2132133명\n",
      "1961년도 출생한 여아: 2017748명, 남아: 2122830명\n",
      "1962년도 출생한 여아: 1966591명, 남아: 2068664명\n",
      "1963년도 출생한 여아: 1927367명, 남아: 2031402명\n",
      "1964년도 출생한 여아: 1894819명, 남아: 1993019명\n",
      "1965년도 출생한 여아: 1765095명, 남아: 1860778명\n",
      "1966년도 출생한 여아: 1692010명, 남아: 1783661명\n",
      "1967년도 출생한 여아: 1650938명, 남아: 1744201명\n",
      "1968년도 출생한 여아: 1640266명, 남아: 1738548명\n",
      "1969년도 출생한 여아: 1686995명, 남아: 1789029명\n",
      "1970년도 출생한 여아: 1748140명, 남아: 1859084명\n",
      "1971년도 출생한 여아: 1663643명, 남아: 1768942명\n",
      "1972년도 출생한 여아: 1521174명, 남아: 1622377명\n",
      "1973년도 출생한 여아: 1458204명, 남아: 1559181명\n",
      "1974년도 출생한 여아: 1467435명, 남아: 1572957명\n",
      "1975년도 출생한 여아: 1457848명, 남아: 1562083명\n",
      "1976년도 출생한 여아: 1465129명, 남아: 1569794명\n",
      "1977년도 출생한 여아: 1533158명, 남아: 1643774명\n",
      "1978년도 출생한 여아: 1531848명, 남아: 1642585명\n",
      "1979년도 출생한 여아: 1605311명, 남아: 1722250명\n",
      "1980년도 출생한 여아: 1660338명, 남아: 1784565명\n",
      "1981년도 출생한 여아: 1667939명, 남아: 1791674명\n",
      "1982년도 출생한 여아: 1693266명, 남아: 1814920명\n",
      "1983년도 출생한 여아: 1670535명, 남아: 1792834명\n",
      "1984년도 출생한 여아: 1683618명, 남아: 1804899명\n",
      "1985년도 출생한 여아: 1720634명, 남아: 1848058명\n",
      "1986년도 출생한 여아: 1715317명, 남아: 1841254명\n",
      "1987년도 출생한 여아: 1738411명, 남아: 1866620명\n",
      "1988년도 출생한 여아: 1780508명, 남아: 1913680명\n",
      "1989년도 출생한 여아: 1843408명, 남아: 2000593명\n",
      "1990년도 출생한 여아: 1898230명, 남아: 2053312명\n",
      "1991년도 출생한 여아: 1874788명, 남아: 2019911명\n",
      "1992년도 출생한 여아: 1843647명, 남아: 1996889명\n",
      "1993년도 출생한 여아: 1808774명, 남아: 1960836명\n",
      "1994년도 출생한 여아: 1785440명, 남아: 1931567명\n",
      "1995년도 출생한 여아: 1758292명, 남아: 1903295명\n",
      "1996년도 출생한 여아: 1752703명, 남아: 1893926명\n",
      "1997년도 출생한 여아: 1740409명, 남아: 1884831명\n",
      "1998년도 출생한 여아: 1766593명, 남아: 1911032명\n",
      "1999년도 출생한 여아: 1773421명, 남아: 1919720명\n",
      "2000년도 출생한 여아: 1815467명, 남아: 1963393명\n",
      "2001년도 출생한 여아: 1800016명, 남아: 1942232명\n",
      "2002년도 출생한 여아: 1796206명, 남아: 1940791명\n",
      "2003년도 출생한 여아: 1826432명, 남아: 1974524명\n",
      "2004년도 출생한 여아: 1835366명, 남아: 1983991명\n",
      "2005년도 출생한 여아: 1846825명, 남아: 1996273명\n",
      "2006년도 출생한 여아: 1900092명, 남아: 2054077명\n",
      "2007년도 출생한 여아: 1921385명, 남아: 2074138명\n",
      "2008년도 출생한 여아: 1889483명, 남아: 2038689명\n",
      "2009년도 출생한 여아: 1835518명, 남아: 1981950명\n",
      "2010년도 출생한 여아: 1775857명, 남아: 1917024명\n",
      "2011년도 출생한 여아: 1757183명, 남아: 1897192명\n",
      "2012년도 출생한 여아: 1758838명, 남아: 1894735명\n",
      "2013년도 출생한 여아: 1752158명, 남아: 1888935명\n",
      "2014년도 출생한 여아: 1783445명, 남아: 1917773명\n",
      "2015년도 출생한 여아: 1781725명, 남아: 1913059명\n"
     ]
    }
   ],
   "source": [
    "#상대경로\n",
    "year = list(range(1880,2016))\n",
    "for y in year:\n",
    "    filename = 'data/names/yob%d.txt' %y\n",
    "    with open(filename, 'r') as file:\n",
    "        total_f = 0\n",
    "        total_m = 0\n",
    "        for line in file:\n",
    "            (name, sex, birth) = line.strip().split(',')\n",
    "            if sex == 'F':\n",
    "                birth = int(birth)\n",
    "                total_f += birth\n",
    "            else :\n",
    "                birth = int(birth)\n",
    "                total_m += birth\n",
    "            \n",
    "        print('{}년도 출생한 여아: {}명, 남아: {}명'.format(y, total_f, total_m))"
   ]
  },
  {
   "cell_type": "code",
   "execution_count": null,
   "id": "f3d62354",
   "metadata": {},
   "outputs": [],
   "source": [
    "#진유훈씨거 보기"
   ]
  },
  {
   "cell_type": "markdown",
   "id": "c01c0c15",
   "metadata": {},
   "source": [
    "#### Q12. 출생년도를 입력하면 그해 인기순 상위10개 이름을 출력하세요."
   ]
  },
  {
   "cell_type": "code",
   "execution_count": 46,
   "id": "3ff53e08",
   "metadata": {},
   "outputs": [
    {
     "ename": "ValueError",
     "evalue": "I/O operation on closed file.",
     "output_type": "error",
     "traceback": [
      "\u001b[1;31m---------------------------------------------------------------------------\u001b[0m",
      "\u001b[1;31mValueError\u001b[0m                                Traceback (most recent call last)",
      "\u001b[1;32m<ipython-input-46-f02283ba2369>\u001b[0m in \u001b[0;36m<module>\u001b[1;34m\u001b[0m\n\u001b[0;32m     10\u001b[0m     \u001b[1;32mfor\u001b[0m \u001b[0mi\u001b[0m \u001b[1;32min\u001b[0m \u001b[0mrange\u001b[0m\u001b[1;33m(\u001b[0m\u001b[1;36m10\u001b[0m\u001b[1;33m)\u001b[0m\u001b[1;33m:\u001b[0m\u001b[1;33m\u001b[0m\u001b[1;33m\u001b[0m\u001b[0m\n\u001b[0;32m     11\u001b[0m         \u001b[0mprint\u001b[0m \u001b[1;33m(\u001b[0m\u001b[1;34mf\"{i+1}위 : {total_n[i][0]}, {int(total_n[i][2])}명\"\u001b[0m\u001b[1;33m)\u001b[0m\u001b[1;33m\u001b[0m\u001b[1;33m\u001b[0m\u001b[0m\n\u001b[1;32m---> 12\u001b[1;33m \u001b[0myear_b\u001b[0m\u001b[1;33m(\u001b[0m\u001b[1;36m1980\u001b[0m\u001b[1;33m)\u001b[0m\u001b[1;33m\u001b[0m\u001b[1;33m\u001b[0m\u001b[0m\n\u001b[0m",
      "\u001b[1;32m<ipython-input-46-f02283ba2369>\u001b[0m in \u001b[0;36myear_b\u001b[1;34m(year)\u001b[0m\n\u001b[0;32m      3\u001b[0m         \u001b[0mtotal_n\u001b[0m \u001b[1;33m=\u001b[0m \u001b[1;33m[\u001b[0m\u001b[1;33m]\u001b[0m\u001b[1;33m\u001b[0m\u001b[1;33m\u001b[0m\u001b[0m\n\u001b[0;32m      4\u001b[0m     \u001b[1;32mwhile\u001b[0m \u001b[1;32mTrue\u001b[0m\u001b[1;33m:\u001b[0m\u001b[1;33m\u001b[0m\u001b[1;33m\u001b[0m\u001b[0m\n\u001b[1;32m----> 5\u001b[1;33m         \u001b[0mline\u001b[0m \u001b[1;33m=\u001b[0m \u001b[0mf\u001b[0m\u001b[1;33m.\u001b[0m\u001b[0mreadline\u001b[0m\u001b[1;33m(\u001b[0m\u001b[1;33m)\u001b[0m\u001b[1;33m\u001b[0m\u001b[1;33m\u001b[0m\u001b[0m\n\u001b[0m\u001b[0;32m      6\u001b[0m         \u001b[1;32mif\u001b[0m \u001b[1;32mnot\u001b[0m \u001b[0mline\u001b[0m\u001b[1;33m:\u001b[0m\u001b[1;33m\u001b[0m\u001b[1;33m\u001b[0m\u001b[0m\n\u001b[0;32m      7\u001b[0m             \u001b[1;32mbreak\u001b[0m\u001b[1;33m\u001b[0m\u001b[1;33m\u001b[0m\u001b[0m\n",
      "\u001b[1;31mValueError\u001b[0m: I/O operation on closed file."
     ]
    }
   ],
   "source": [
    "def year_b(year):\n",
    "    with open('data/names/yob%d.txt' %year,'r') as f:\n",
    "        total_n = []\n",
    "    while True:\n",
    "        line = f.readline()\n",
    "        if not line:\n",
    "            break\n",
    "        total_n.append(line.split(\",\"))\n",
    "    total_n.sort(key = lambda x : int(x[2]), reverse = True)\n",
    "    for i in range(10):\n",
    "        print (f\"{i+1}위 : {total_n[i][0]}, {int(total_n[i][2])}명\")\n",
    "year_b(1980)"
   ]
  },
  {
   "cell_type": "code",
   "execution_count": null,
   "id": "98ebdb67",
   "metadata": {},
   "outputs": [],
   "source": [
    "# 선생님\n"
   ]
  },
  {
   "cell_type": "markdown",
   "id": "6a530a6f",
   "metadata": {},
   "source": [
    "#### Q13. 음식점의 음식 주문가격 산출 프로그램을 자유롭게 작성하세요"
   ]
  },
  {
   "cell_type": "code",
   "execution_count": null,
   "id": "e71d9620",
   "metadata": {},
   "outputs": [],
   "source": [
    "class Order:\n",
    "    def __init__(self, menu):\n",
    "        self.menu = menu\n",
    "    def menu_name(self):\n",
    "        if self.menu == '밥':\n",
    "            return '1000원입니다.'\n",
    "        elif self.menu == '찌개':\n",
    "            return '10000원입니다.'\n",
    "        elif self.menu == '밥, 찌개':\n",
    "            return '11000원입니다.'\n",
    "\n",
    "obj = Order('밥')\n",
    "obj.menu_name()\n",
    "        "
   ]
  },
  {
   "cell_type": "markdown",
   "id": "04f59bb9",
   "metadata": {},
   "source": [
    "#### Q14. Player가 3승할 때까지 계속 진행되는 가위바위보 게임 프로그램을 작성하세요. 게임은 Player와 컴퓨터간 진행"
   ]
  },
  {
   "cell_type": "code",
   "execution_count": 39,
   "id": "fd41a690",
   "metadata": {},
   "outputs": [
    {
     "name": "stdout",
     "output_type": "stream",
     "text": [
      "가위, 바위, 보 중에 하나를 입력하세요: 바위\n"
     ]
    },
    {
     "data": {
      "text/plain": [
       "'컴퓨터 : 바위, 비겼습니다.'"
      ]
     },
     "execution_count": 39,
     "metadata": {},
     "output_type": "execute_result"
    }
   ],
   "source": [
    "import random\n",
    "\n",
    "class RockScissorPaper:\n",
    "    def __init__(self, hands):\n",
    "        self.hands = hands\n",
    "    def computer(self):\n",
    "        self.hands = input('가위, 바위, 보 중에 하나를 입력하세요: ')\n",
    "        cases = ['가위', '바위', '보']\n",
    "        computer1 = random.choice(cases)\n",
    "        if self.hands == '가위' and computer1 == '보':\n",
    "            return '컴퓨터 : 보, 당신이 이겼습니다.'\n",
    "        elif self.hands == '가위' and computer1 == '가위' :\n",
    "            return '컴퓨터 : 가위, 비겼습니다.'\n",
    "        elif self.hands == '가위' and computer1 == '바위':\n",
    "            return '컴퓨터 : 바위,당신이 졌습니다.'\n",
    "        if self.hands == '바위' and computer1 == '보':\n",
    "            return '컴퓨터 : 보, 당신이 졌습니다.'\n",
    "        elif self.hands == '바위' and computer1 == '가위' :\n",
    "            return '컴퓨터 : 가위, 당신이 이겼습니다.'\n",
    "        elif self.hands == '바위' and computer1 == '바위':\n",
    "            return '컴퓨터 : 바위, 비겼습니다.'\n",
    "        if self.hands == '보' and computer1 == '보':\n",
    "            return '컴퓨터 : 보, 비겼습니다.'\n",
    "        elif self.hands == '보' and computer1 == '가위' :\n",
    "            return '컴퓨터 : 가위, 당신이 졌습니다.'\n",
    "        elif self.hands == '보' and computer1 == '바위':\n",
    "            return '컴퓨터 : 바위, 당신이 이겼습니다.'\n",
    "        else :\n",
    "            return '잘못입력하셨습니다.'\n",
    " \n",
    "obj = RockScissorPaper('가위')\n",
    "obj.computer()"
   ]
  },
  {
   "cell_type": "markdown",
   "id": "84b934eb",
   "metadata": {},
   "source": [
    "#### Q15. 컴퓨터가 랜덤하게 생성하는 숫자 맞추기 게임 프로그램을 작성하세요."
   ]
  },
  {
   "cell_type": "code",
   "execution_count": null,
   "id": "d5c712b9",
   "metadata": {
    "scrolled": false
   },
   "outputs": [
    {
     "name": "stdout",
     "output_type": "stream",
     "text": [
      "1-20사이의, 컴퓨터가 랜덤하게 생성하는 숫자를 맞춰보세요 : 50\n",
      "컴퓨터가 생성한 숫자 : 16, 틀렸습니다.\n"
     ]
    }
   ],
   "source": [
    "import random\n",
    "\n",
    "\n",
    "while 1 :\n",
    "    try:\n",
    "        answer = int(input('1-20사이의, 컴퓨터가 랜덤하게 생성하는 숫자를 맞춰보세요 : '))\n",
    "        random_num = random.randint(1,21)\n",
    "        if random_num == answer:\n",
    "            print('컴퓨터가 생성한 숫자 : {}, 정답입니다.'.format(random_num))\n",
    "            break\n",
    "        else:\n",
    "            while random_num != answer :\n",
    "                print('컴퓨터가 생성한 숫자 : {}, 틀렸습니다.'.format(random_num))\n",
    "                break\n",
    "    except Exception as e:\n",
    "        print(\"범위 내의 숫자만 입력해주세요.\")"
   ]
  },
  {
   "cell_type": "code",
   "execution_count": null,
   "id": "4b3d0cdd",
   "metadata": {},
   "outputs": [],
   "source": [
    "#진유훈씨거 해보기"
   ]
  }
 ],
 "metadata": {
  "kernelspec": {
   "display_name": "Python 3",
   "language": "python",
   "name": "python3"
  },
  "language_info": {
   "codemirror_mode": {
    "name": "ipython",
    "version": 3
   },
   "file_extension": ".py",
   "mimetype": "text/x-python",
   "name": "python",
   "nbconvert_exporter": "python",
   "pygments_lexer": "ipython3",
   "version": "3.8.10"
  }
 },
 "nbformat": 4,
 "nbformat_minor": 5
}
