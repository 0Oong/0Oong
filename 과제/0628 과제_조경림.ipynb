{
 "cells": [
  {
   "cell_type": "markdown",
   "id": "df9bf627",
   "metadata": {},
   "source": [
    "#### 예외처리"
   ]
  },
  {
   "cell_type": "code",
   "execution_count": 76,
   "id": "c04defdb",
   "metadata": {},
   "outputs": [
    {
     "name": "stdout",
     "output_type": "stream",
     "text": [
      "정수 입력> 5\n",
      "리스트의 인덱스를 벗어났어요. 0-4사이의 값을 다시 입력해주세요.\n",
      "<class 'IndexError'> list index out of range\n",
      "정수 입력> d\n",
      "모든 예외 처리\n"
     ]
    },
    {
     "ename": "ValueError",
     "evalue": "invalid literal for int() with base 10: 'd'",
     "output_type": "error",
     "traceback": [
      "\u001b[1;31m---------------------------------------------------------------------------\u001b[0m",
      "\u001b[1;31mIndexError\u001b[0m                                Traceback (most recent call last)",
      "\u001b[1;32m<ipython-input-76-8c159e8914cc>\u001b[0m in \u001b[0;36m<module>\u001b[1;34m\u001b[0m\n\u001b[0;32m      5\u001b[0m     \u001b[0mnum_input\u001b[0m \u001b[1;33m=\u001b[0m \u001b[0mint\u001b[0m\u001b[1;33m(\u001b[0m\u001b[0minput\u001b[0m\u001b[1;33m(\u001b[0m\u001b[1;34m'정수 입력> '\u001b[0m\u001b[1;33m)\u001b[0m\u001b[1;33m)\u001b[0m\u001b[1;33m\u001b[0m\u001b[1;33m\u001b[0m\u001b[0m\n\u001b[1;32m----> 6\u001b[1;33m     \u001b[0mprint\u001b[0m\u001b[1;33m(\u001b[0m\u001b[1;34m'{}번째 요소: {}'\u001b[0m\u001b[1;33m.\u001b[0m\u001b[0mformat\u001b[0m\u001b[1;33m(\u001b[0m\u001b[0mnum_input\u001b[0m\u001b[1;33m,\u001b[0m \u001b[0mlist_num\u001b[0m\u001b[1;33m[\u001b[0m\u001b[0mnum_input\u001b[0m\u001b[1;33m]\u001b[0m\u001b[1;33m)\u001b[0m\u001b[1;33m)\u001b[0m\u001b[1;33m\u001b[0m\u001b[1;33m\u001b[0m\u001b[0m\n\u001b[0m\u001b[0;32m      7\u001b[0m \u001b[1;33m\u001b[0m\u001b[0m\n",
      "\u001b[1;31mIndexError\u001b[0m: list index out of range",
      "\nDuring handling of the above exception, another exception occurred:\n",
      "\u001b[1;31mValueError\u001b[0m                                Traceback (most recent call last)",
      "\u001b[1;32m<ipython-input-76-8c159e8914cc>\u001b[0m in \u001b[0;36m<module>\u001b[1;34m\u001b[0m\n\u001b[0;32m     17\u001b[0m     \u001b[0mprint\u001b[0m\u001b[1;33m(\u001b[0m\u001b[0mtype\u001b[0m\u001b[1;33m(\u001b[0m\u001b[0mexception\u001b[0m\u001b[1;33m)\u001b[0m\u001b[1;33m,\u001b[0m\u001b[0mexception\u001b[0m\u001b[1;33m)\u001b[0m\u001b[1;33m\u001b[0m\u001b[1;33m\u001b[0m\u001b[0m\n\u001b[0;32m     18\u001b[0m \u001b[1;33m\u001b[0m\u001b[0m\n\u001b[1;32m---> 19\u001b[1;33m     \u001b[0mnum_input2\u001b[0m \u001b[1;33m=\u001b[0m \u001b[0mint\u001b[0m\u001b[1;33m(\u001b[0m\u001b[0minput\u001b[0m\u001b[1;33m(\u001b[0m\u001b[1;34m'정수 입력> '\u001b[0m\u001b[1;33m)\u001b[0m\u001b[1;33m)\u001b[0m\u001b[1;33m\u001b[0m\u001b[1;33m\u001b[0m\u001b[0m\n\u001b[0m\u001b[0;32m     20\u001b[0m     \u001b[0mprint\u001b[0m\u001b[1;33m(\u001b[0m\u001b[1;34m'{}번째 요소: {}'\u001b[0m\u001b[1;33m.\u001b[0m\u001b[0mformat\u001b[0m\u001b[1;33m(\u001b[0m\u001b[0mnum_input\u001b[0m\u001b[1;33m,\u001b[0m \u001b[0mlist_num\u001b[0m\u001b[1;33m[\u001b[0m\u001b[0mnum_input2\u001b[0m\u001b[1;33m]\u001b[0m\u001b[1;33m)\u001b[0m\u001b[1;33m)\u001b[0m\u001b[1;33m\u001b[0m\u001b[1;33m\u001b[0m\u001b[0m\n\u001b[0;32m     21\u001b[0m \u001b[1;33m\u001b[0m\u001b[0m\n",
      "\u001b[1;31mValueError\u001b[0m: invalid literal for int() with base 10: 'd'"
     ]
    }
   ],
   "source": [
    "# 과제\n",
    "# Q. 아래 코드를 모든 예외를 처리할 수 있도록 보완하세요.\n",
    "list_num = [52,273,32,72,100]\n",
    "try:\n",
    "    num_input = int(input('정수 입력> '))\n",
    "    print('{}번째 요소: {}'.format(num_input, list_num[num_input]))\n",
    "    \n",
    "except ValueError as exception:\n",
    "    print('0-4사이의 값의 정수로 다시 입력해주세요')\n",
    "    print(type(exception),exception)\n",
    "\n",
    "    num_input1 = int(input('정수 입력> '))\n",
    "    print('{}번째 요소: {}'.format(num_input, list_num[num_input1]))\n",
    "    \n",
    "except IndexError as exception:\n",
    "    print('리스트의 인덱스를 벗어났어요. 0-4사이의 값을 다시 입력해주세요.')\n",
    "    print(type(exception),exception)\n",
    "    \n",
    "    num_input2 = int(input('정수 입력> '))\n",
    "    print('{}번째 요소: {}'.format(num_input, list_num[num_input2]))\n",
    "    \n",
    "except Exception as e:\n",
    "    print(e)\n",
    "\n",
    "finally:\n",
    "    print('모든 예외 처리')"
   ]
  },
  {
   "cell_type": "code",
   "execution_count": null,
   "id": "0b3caeee",
   "metadata": {},
   "outputs": [],
   "source": []
  },
  {
   "cell_type": "markdown",
   "id": "ec111ad1",
   "metadata": {},
   "source": [
    "#### 클래스"
   ]
  },
  {
   "cell_type": "code",
   "execution_count": 19,
   "id": "8c976140",
   "metadata": {
    "scrolled": true
   },
   "outputs": [
    {
     "name": "stdout",
     "output_type": "stream",
     "text": [
      "가격을 입력하세요\n",
      "가격 : 1600원\n",
      "가격 : 1450원\n"
     ]
    }
   ],
   "source": [
    "# Q1. 기본가격 1000원인 3개의 상품에 대하여 임의의 추가 가격을 인수로 대입시 더한 가격을 산출하세요(클래스를 이용)\n",
    "class ProductPrice:\n",
    "    def productprice1(self, additional):\n",
    "        try : \n",
    "            int(additional)\n",
    "            return '가격 : {}원'.format(1000 + additional)\n",
    "        except :\n",
    "            return \"가격을 입력하세요\"\n",
    "    def productprice2(self, additional):\n",
    "        try : \n",
    "            int(additional)\n",
    "            return '가격 : {}원'.format(1000 + additional)\n",
    "        except :\n",
    "            return \"가격을 입력하세요\"\n",
    "    def productprice3(self, additional):\n",
    "        try : \n",
    "            int(additional)\n",
    "            return '가격 : {}원'.format(1000 + additional)\n",
    "        except :\n",
    "            return \"가격을 입력하세요\"\n",
    "            \n",
    "obj = ProductPrice()\n",
    "print(obj.productprice1('ㄱ'))\n",
    "print(obj.productprice2(600))\n",
    "print(obj.productprice3(450))"
   ]
  },
  {
   "cell_type": "code",
   "execution_count": 22,
   "id": "a95ed454",
   "metadata": {},
   "outputs": [
    {
     "name": "stdout",
     "output_type": "stream",
     "text": [
      "1500\n"
     ]
    }
   ],
   "source": [
    "class Shop : \n",
    "    def __init__(self):\n",
    "        self.p = 1000\n",
    "    def sum(self, price):\n",
    "        self.p += price\n",
    "        return self.p\n",
    "\n",
    "obj1 = Shop()\n",
    "\n",
    "print(obj1.sum(500))"
   ]
  },
  {
   "cell_type": "code",
   "execution_count": 23,
   "id": "78238035",
   "metadata": {},
   "outputs": [
    {
     "name": "stdout",
     "output_type": "stream",
     "text": [
      "가격 : 1500원\n",
      "가격 : 1350원\n"
     ]
    }
   ],
   "source": [
    "# Q2. 기본가격 1000원인 2개의 상품에 대하여 임의의 추가 가격을 입력시 아래 두개의 \n",
    "# 방식으로 산출하세요(class 이용)\n",
    "# - price1 : 기본가격 + 추가가격\n",
    "# - price2 : (기본가격 + 추가가격) * 90%\n",
    "\n",
    "class AdditionalPrice:\n",
    "    def additionalprice1(self, additional):\n",
    "        try : \n",
    "            int(additional)\n",
    "            return '가격 : {}원'.format(1000 + additional)\n",
    "        except :\n",
    "            return \"가격을 입력하세요\"\n",
    "    def additionalprice2(self, additional):\n",
    "        try : \n",
    "            int(additional)\n",
    "            return '가격 : {:0.0f}원'.format((1000 + additional)*0.9)\n",
    "        except :\n",
    "            return \"가격을 입력하세요\"\n",
    "\n",
    "obj = AdditionalPrice()\n",
    "print(obj.additionalprice1(500))\n",
    "print(obj.additionalprice2(500))"
   ]
  },
  {
   "cell_type": "code",
   "execution_count": 147,
   "id": "9615314b",
   "metadata": {},
   "outputs": [
    {
     "name": "stdout",
     "output_type": "stream",
     "text": [
      "나는 nini이야.\n",
      "<class 'str'>\n"
     ]
    }
   ],
   "source": [
    "# Q3. 임의의 클래스를 작성한 후 인스턴스를 생성하고 그것의 타입을 확인하세요.\n",
    "class Random1:\n",
    "    def random1(self, name):\n",
    "        self.name = name\n",
    "        print('나는 {}이야.'.format(self.name))\n",
    "        print(type(self.name))\n",
    "obj = Random1()\n",
    "obj.random1('nini')"
   ]
  },
  {
   "cell_type": "code",
   "execution_count": 27,
   "id": "97ae88cf",
   "metadata": {},
   "outputs": [
    {
     "name": "stdout",
     "output_type": "stream",
     "text": [
      "계산을 시작합니다.\n",
      "덧셈 : 5 + 3 = 8\n",
      "뺼셈 : 5 - 3 = 2\n",
      "곱셈 : 5 * 3 = 15\n",
      "나눗셈 : 5 / 3 = 1.67\n"
     ]
    }
   ],
   "source": [
    "import time\n",
    "class Cal4:\n",
    "    def __init__(self, n1, n2):\n",
    "        print(\"계산을 시작합니다.\")\n",
    "        time.sleep(0.5)\n",
    "        self.n1 = n1\n",
    "        self.n2 = n2\n",
    "        \n",
    "    def sum1(self):\n",
    "        time.sleep(0.5)\n",
    "        return \"덧셈 : {} + {} = {}\".format(self.n1, self.n2, self.n1 + self.n2)\n",
    "        \n",
    "    def min1(self):\n",
    "        time.sleep(0.5)\n",
    "        return \"뺼셈 : {} - {} = {}\".format(self.n1, self.n2, self.n1 - self.n2)\n",
    "    \n",
    "    def mul(self):\n",
    "        time.sleep(0.5)\n",
    "        return \"곱셈 : {} * {} = {}\".format(self.n1, self.n2, self.n1*self.n2)\n",
    "    def div(self):\n",
    "        time.sleep(0.5)\n",
    "        try :\n",
    "            return \"나눗셈 : {} / {} = {:0.2}\".format(self.n1, self.n2, self.n1/self.n2) \n",
    "        \n",
    "        except ZeroDivisionError:\n",
    "            time.sleep(0.5)\n",
    "            print('0은 나눌 수 없습니다. 다시 입력해주세요')\n",
    "\n",
    "    \n",
    "     \n",
    "        \n",
    "\n",
    "    \n",
    "obj = Cal4(5,3)       \n",
    "print(obj.sum1())\n",
    "print(obj.min1())\n",
    "print(obj.mul())\n",
    "print(obj.div())"
   ]
  },
  {
   "cell_type": "code",
   "execution_count": 32,
   "id": "87d9bc43",
   "metadata": {},
   "outputs": [
    {
     "name": "stdout",
     "output_type": "stream",
     "text": [
      "계산을 시작합니다.\n",
      "15\n",
      "2\n",
      "15\n",
      "1.0\n"
     ]
    }
   ],
   "source": [
    "# Q5. 4칙 연산 기능을 포함한 Cal4 클래스(set 메소드 이용)를 작성하고 이 클래스를 \n",
    "# 이용하여 cal 계산기 객체를 만든 후 두개의 수를 입력하여 사칙연산을 수행한 결과를 \n",
    "# 출력하세요.\n",
    "\n",
    "import time\n",
    "class Cal4:\n",
    "    print(\"계산을 시작합니다.\")\n",
    "    def sum1(self, a, *args):\n",
    "        result = a\n",
    "        for i in args:\n",
    "            result += i\n",
    "        return result\n",
    "    def min1(self, a, *args):\n",
    "        result = a\n",
    "        for i in args:\n",
    "            result -= i\n",
    "        return result\n",
    "    def mul(self, a, *args):\n",
    "        result = a\n",
    "        for i in args:\n",
    "            result *= i\n",
    "        return result\n",
    "    def div(self, a, *args):\n",
    "        try :\n",
    "            result = a\n",
    "            for i in args:\n",
    "                result /= a\n",
    "            return result\n",
    "        except ZeroDivisionError:\n",
    "            print('0은 입력할 수 없습니다. 다시 입력해주세요')\n",
    "        \n",
    "   \n",
    "\n",
    "    \n",
    "obj = Cal4()   \n",
    "print(obj.sum1(5,3,7))\n",
    "print(obj.min1(5,3))\n",
    "print(obj.mul(5,3))\n",
    "# print(obj.div(5,3))"
   ]
  },
  {
   "cell_type": "code",
   "execution_count": 33,
   "id": "133b678c",
   "metadata": {},
   "outputs": [
    {
     "ename": "SyntaxError",
     "evalue": "invalid syntax (<ipython-input-33-f27b57738574>, line 8)",
     "output_type": "error",
     "traceback": [
      "\u001b[1;36m  File \u001b[1;32m\"<ipython-input-33-f27b57738574>\"\u001b[1;36m, line \u001b[1;32m8\u001b[0m\n\u001b[1;33m    def sum1(self, self.first, *args):\u001b[0m\n\u001b[1;37m                       ^\u001b[0m\n\u001b[1;31mSyntaxError\u001b[0m\u001b[1;31m:\u001b[0m invalid syntax\n"
     ]
    }
   ],
   "source": [
    "# 얘 args이용해서 해보기 \n",
    "class Cal4:\n",
    "    first = int(input('입력1> '))\n",
    "    second = int(input('입력2> '))\n",
    "    def setdat(self, first, second):\n",
    "        self.first = first\n",
    "        self.second = second\n",
    "    \n",
    "    def sum1(self, a, *args):\n",
    "        result = a\n",
    "        for i in args:\n",
    "            result += i\n",
    "        return result\n",
    "    def min1(self, a, *args):\n",
    "        result = a\n",
    "        for i in args:\n",
    "            result -= i\n",
    "        return result\n",
    "    def mul(self, a, *args):\n",
    "        result = a\n",
    "        for i in args:\n",
    "            result *= i\n",
    "        return result\n",
    "    def div(self, a, *args):\n",
    "        try :\n",
    "            result = a\n",
    "            for i in args:\n",
    "                result /= a\n",
    "            return result\n",
    "        except ZeroDivisionError:\n",
    "            print('0은 입력할 수 없습니다. 다시 입력해주세요')\n",
    "               "
   ]
  },
  {
   "cell_type": "code",
   "execution_count": 35,
   "id": "887a08fe",
   "metadata": {},
   "outputs": [],
   "source": [
    "# Q6. Order 클래스를 상속받아 extraOrder 클래스를 작성하고 extraCustomer의 \n",
    "# 주문가격을 다음과 같이 산출하였다. \n",
    "# ExtraOrder 클래스를 작성하세요\n",
    "\n",
    "class Order: \n",
    "    def __init__(self, name): \n",
    "        self.customer = 0 \n",
    "        self.name = name \n",
    "    def order(self, price): \n",
    "        self.customer += price \n",
    "        return self.customer \n",
    "\n",
    "class extraOrder(Order):\n",
    "    pass\n",
    "\n"
   ]
  },
  {
   "cell_type": "code",
   "execution_count": 63,
   "id": "6096f031",
   "metadata": {},
   "outputs": [
    {
     "data": {
      "text/plain": [
       "'500원'"
      ]
     },
     "execution_count": 63,
     "metadata": {},
     "output_type": "execute_result"
    }
   ],
   "source": [
    "# Q7. Order 클래스를 상속받아 extraOrder 클래스에서 메소드 오버라이딩하여 출력가격에 '원'이 추가되도록 출력하세요.\n",
    "class Order:\n",
    "  def __init__(self, name): \n",
    "    self.customer = 0 \n",
    "    self.name = name\n",
    "  def order(self, price): \n",
    "    self.customer += price \n",
    "    return self.customer\n",
    "\n",
    "class extraOrder(Order):\n",
    "  def order(self, price):\n",
    "    self.customer += price \n",
    "    return \"{}원\".format(self.customer)\n",
    "\n",
    "  \n",
    "obj = extraOrder(500) \n",
    "obj.order(500)  "
   ]
  },
  {
   "cell_type": "code",
   "execution_count": 64,
   "id": "c24aa569",
   "metadata": {},
   "outputs": [
    {
     "name": "stdout",
     "output_type": "stream",
     "text": [
      "안녕하세요. Kevin님,\n",
      "업무미팅은 5시 입니다.\n"
     ]
    }
   ],
   "source": [
    "# Q8. 업무미팅이 2시임을 알려주는 자동 이메일을 클래스 AutoEmail을 작성하여 \n",
    "# 아래와 같이 출력하세요.\n",
    "# 안녕하세요. kevin님, \n",
    "# 업무미팅은 2시입니다.\n",
    "\n",
    "class AutoEmail:\n",
    "    def Hi(self, name, time):\n",
    "        self.name = name\n",
    "        self.time = time\n",
    "        print('안녕하세요. {}님,'.format(self.name))\n",
    "        print('업무미팅은 {}시 입니다.'.format(self.time))\n",
    "        \n",
    "obj = AutoEmail()\n",
    "obj.Hi('Kevin',5)"
   ]
  },
  {
   "cell_type": "code",
   "execution_count": 74,
   "id": "9d772bcf",
   "metadata": {},
   "outputs": [
    {
     "data": {
      "text/plain": [
       "'안녕하세요. Kevin님, 업무미팅은 5시 입니다.'"
      ]
     },
     "execution_count": 74,
     "metadata": {},
     "output_type": "execute_result"
    }
   ],
   "source": [
    "class AutoEmail:\n",
    "    def __init__(self, name, time):\n",
    "        self.name = name\n",
    "        self.time = time\n",
    "    def message(self):\n",
    "        return '안녕하세요. {}님, 업무미팅은 {}시 입니다.'.format(self.name, self.time)\n",
    "    \n",
    "obj = AutoEmail('Kevin',5)\n",
    "obj.message()"
   ]
  },
  {
   "cell_type": "markdown",
   "id": "133a273f",
   "metadata": {},
   "source": [
    "#### 날짜/시간"
   ]
  },
  {
   "cell_type": "code",
   "execution_count": 9,
   "id": "f243e2d8",
   "metadata": {},
   "outputs": [
    {
     "name": "stdout",
     "output_type": "stream",
     "text": [
      "1624923167.5461242\n",
      "Tue Jun 29 08:32:47 2021\n"
     ]
    }
   ],
   "source": [
    "# Q1. 1609160537.371015을 \"Sat Jun 26 08:35:03 2021\" 포멧으로 출력하세요.\n",
    "\n",
    "import time\n",
    "print(time.time())\n",
    "print(time.strftime('%c', time.localtime(time.time())))"
   ]
  },
  {
   "cell_type": "code",
   "execution_count": 38,
   "id": "d90cefe2",
   "metadata": {},
   "outputs": [
    {
     "data": {
      "text/plain": [
       "'Fri Apr 21 20:15:37 1989'"
      ]
     },
     "execution_count": 38,
     "metadata": {},
     "output_type": "execute_result"
    }
   ],
   "source": [
    "# 다시 해보기\n",
    "import time\n",
    "t = time.localtime(609160537.371015)\n",
    "time.asctime(t)"
   ]
  },
  {
   "cell_type": "code",
   "execution_count": 10,
   "id": "cc986483",
   "metadata": {},
   "outputs": [
    {
     "data": {
      "text/plain": [
       "'Tue Jun 29 08:33:05 2021'"
      ]
     },
     "execution_count": 10,
     "metadata": {},
     "output_type": "execute_result"
    }
   ],
   "source": [
    "# Q2. 현재 날짜와 시간을 \"Sat Jun 26 08:35:03 2021\" 포멧으로 출력하세요.\n",
    "\n",
    "import time\n",
    "time.strftime('%c', time.localtime(time.time()))"
   ]
  },
  {
   "cell_type": "code",
   "execution_count": 39,
   "id": "24a3c941",
   "metadata": {},
   "outputs": [
    {
     "data": {
      "text/plain": [
       "'2021년-06월-29일 09시:42분:11초'"
      ]
     },
     "execution_count": 39,
     "metadata": {},
     "output_type": "execute_result"
    }
   ],
   "source": [
    "# Q3. 현재 시간을 년-월-일 시:분:초로 출력하세요.\n",
    "\n",
    "import time\n",
    "time.strftime('%Y년-%m월-%d일 %H시:%M분:%S초', time.localtime(time.time()))"
   ]
  },
  {
   "cell_type": "code",
   "execution_count": 41,
   "id": "7be1cb60",
   "metadata": {
    "scrolled": true
   },
   "outputs": [
    {
     "data": {
      "text/plain": [
       "'2021년-06월-29일 09:43:55'"
      ]
     },
     "execution_count": 41,
     "metadata": {},
     "output_type": "execute_result"
    }
   ],
   "source": [
    "time.strftime('%Y년-%m월-%d일 %X', time.localtime(time.time()))"
   ]
  },
  {
   "cell_type": "code",
   "execution_count": 42,
   "id": "3da195f9",
   "metadata": {},
   "outputs": [
    {
     "data": {
      "text/plain": [
       "'2021년-06월-29일 09시:44분:41초'"
      ]
     },
     "execution_count": 42,
     "metadata": {},
     "output_type": "execute_result"
    }
   ],
   "source": [
    "from time import strftime\n",
    "strftime('%Y년-%m월-%d일 %H시:%M분:%S초', time.localtime(time.time()))"
   ]
  },
  {
   "cell_type": "code",
   "execution_count": 54,
   "id": "0c2ce82e",
   "metadata": {},
   "outputs": [
    {
     "name": "stdout",
     "output_type": "stream",
     "text": [
      "오늘은 [2021-01-01]이후 [180]일이 지났습니다.\n"
     ]
    }
   ],
   "source": [
    "# Q4. 올해 경과된 날짜수 계산하세요\n",
    "\n",
    "from time import localtime\n",
    "\n",
    "t = localtime()\n",
    "\n",
    "start_day = '%d-01-01' %(t.tm_year)\n",
    "elapsed_day = t.tm_yday\n",
    "\n",
    "print('오늘은 [%s]이후 [%d]일이 지났습니다.' %(start_day, elapsed_day))"
   ]
  },
  {
   "cell_type": "code",
   "execution_count": 51,
   "id": "7445335d",
   "metadata": {
    "scrolled": true
   },
   "outputs": [
    {
     "ename": "SyntaxError",
     "evalue": "leading zeros in decimal integer literals are not permitted; use an 0o prefix for octal integers (<ipython-input-51-ea901d160723>, line 3)",
     "output_type": "error",
     "traceback": [
      "\u001b[1;36m  File \u001b[1;32m\"<ipython-input-51-ea901d160723>\"\u001b[1;36m, line \u001b[1;32m3\u001b[0m\n\u001b[1;33m    datetime.datetime(2021,06,28) - datetime.datetime(2021,01,01)\u001b[0m\n\u001b[1;37m                            ^\u001b[0m\n\u001b[1;31mSyntaxError\u001b[0m\u001b[1;31m:\u001b[0m leading zeros in decimal integer literals are not permitted; use an 0o prefix for octal integers\n"
     ]
    }
   ],
   "source": [
    "# 이덕재\n",
    "import datetime\n",
    "datetime.datetime(2021,06,28) - datetime.datetime(2021,01,01)"
   ]
  },
  {
   "cell_type": "code",
   "execution_count": 52,
   "id": "867ffd72",
   "metadata": {},
   "outputs": [
    {
     "name": "stdout",
     "output_type": "stream",
     "text": [
      "179일 지났습니다\n"
     ]
    }
   ],
   "source": [
    "# 권준기\n",
    "import datetime as dt\n",
    "\n",
    "\n",
    "newyear=dt.datetime(2021,1,1)\n",
    "today=dt.datetime.now()\n",
    "\n",
    "days=today-newyear\n",
    "\n",
    "print(\"%s일 지났습니다\" %days.days)\n"
   ]
  },
  {
   "cell_type": "code",
   "execution_count": 55,
   "id": "e8a6dc1a",
   "metadata": {},
   "outputs": [
    {
     "data": {
      "text/plain": [
       "datetime.timedelta(days=179)"
      ]
     },
     "execution_count": 55,
     "metadata": {},
     "output_type": "execute_result"
    }
   ],
   "source": [
    "import datetime\n",
    "datetime.datetime(2021,6,29)-datetime.datetime(2021,1,1)\n"
   ]
  },
  {
   "cell_type": "code",
   "execution_count": 2,
   "id": "090b0b4c",
   "metadata": {},
   "outputs": [
    {
     "data": {
      "text/plain": [
       "'2021-06-29 오늘은 Tuesday입니다.'"
      ]
     },
     "execution_count": 2,
     "metadata": {},
     "output_type": "execute_result"
    }
   ],
   "source": [
    "# Q5. 현재 요일을 \"2021-6-26 오늘은 토요일입니다.\"와 같은 형식으로 출력하세요.\n",
    "import time\n",
    "time.strftime('%Y-%m-%d 오늘은 %A입니다.', time.localtime(time.time()))"
   ]
  },
  {
   "cell_type": "code",
   "execution_count": null,
   "id": "338977d4",
   "metadata": {},
   "outputs": [],
   "source": [
    "print(str(today).split()[0],)"
   ]
  },
  {
   "cell_type": "code",
   "execution_count": 59,
   "id": "996befea",
   "metadata": {},
   "outputs": [
    {
     "name": "stdout",
     "output_type": "stream",
     "text": [
      "500000500000\n",
      "time : 91.66407585144043\n"
     ]
    }
   ],
   "source": [
    "# 1000 밀리초(ms) = 1초\n",
    "# Q6. 1에서 백만까지 더하는데 걸리는 프로그램 실행 시간을 밀리초(ms) 단위로 구하세요.\n",
    "import time\n",
    "start = time.time()  # 시작 시간 저장\n",
    "\n",
    "a = 0\n",
    "for i in range(1, 1000001):\n",
    "    a += i\n",
    "\n",
    "print(a)\n",
    "    \n",
    "print(\"time :\", (time.time() - start)*1000) #현재시각 - 시작시간 = 실행 시간\n"
   ]
  }
 ],
 "metadata": {
  "kernelspec": {
   "display_name": "Python 3",
   "language": "python",
   "name": "python3"
  },
  "language_info": {
   "codemirror_mode": {
    "name": "ipython",
    "version": 3
   },
   "file_extension": ".py",
   "mimetype": "text/x-python",
   "name": "python",
   "nbconvert_exporter": "python",
   "pygments_lexer": "ipython3",
   "version": "3.8.10"
  }
 },
 "nbformat": 4,
 "nbformat_minor": 5
}
