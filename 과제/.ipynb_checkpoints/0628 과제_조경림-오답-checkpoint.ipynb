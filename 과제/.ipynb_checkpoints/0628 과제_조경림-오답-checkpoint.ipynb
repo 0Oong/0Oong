{
 "cells": [
  {
   "cell_type": "markdown",
   "id": "df9bf627",
   "metadata": {},
   "source": [
    "#### 예외처리"
   ]
  },
  {
   "cell_type": "code",
   "execution_count": 18,
   "id": "c04defdb",
   "metadata": {},
   "outputs": [
    {
     "name": "stdout",
     "output_type": "stream",
     "text": [
      "정수 입력> 6\n",
      "리스트의 인덱스를 벗어났어요.0-4사이의 값을 다시 입력해주세요.\n",
      "<class 'IndexError'> list index out of range\n",
      "정수 입력> 0\n",
      "0번째 요소: 52\n",
      "모든 예외 처리\n"
     ]
    }
   ],
   "source": [
    "# 과제\n",
    "# Q. 아래 코드를 모든 예외를 처리할 수 있도록 보완하세요.\n",
    "list_num = [52,273,32,72,100]\n",
    "try:\n",
    "    num_input = int(input('정수 입력> '))\n",
    "    print('{}번째 요소: {}'.format(num_input, list_num[num_input]))\n",
    "except ValueError as exception:\n",
    "    print('정수를 입력해 주세요. 다시 입력해주세요')\n",
    "    print(type(exception),exception)\n",
    "    num_input = int(input('정수 입력> '))\n",
    "    print('{}번째 요소: {}'.format(num_input, list_num[num_input]))\n",
    "except IndexError as exception:\n",
    "    print('리스트의 인덱스를 벗어났어요.0-4사이의 값을 다시 입력해주세요.')\n",
    "    print(type(exception),exception)\n",
    "    num_input = int(input('정수 입력> '))\n",
    "    print('{}번째 요소: {}'.format(num_input, list_num[num_input]))\n",
    "finally:\n",
    "    print('모든 예외 처리')"
   ]
  },
  {
   "cell_type": "markdown",
   "id": "ec111ad1",
   "metadata": {},
   "source": [
    "#### 클래스"
   ]
  },
  {
   "cell_type": "code",
   "execution_count": 1,
   "id": "8c976140",
   "metadata": {},
   "outputs": [],
   "source": [
    "# Q1. 기본가격 1000원인 3개의 상품에 대하여 임의의 추가 가격을 인수로 대입시 더한 가격을 산출하세요(클래스를 이용)\n",
    "class ProdutPrice:\n",
    "    def pruductprice(self, price):\n",
    "        \n",
    "    "
   ]
  },
  {
   "cell_type": "code",
   "execution_count": null,
   "id": "78238035",
   "metadata": {},
   "outputs": [],
   "source": [
    "# Q2. 기본가격 1000원인 2개의 상품에 대하여 임의의 추가 가격을 입력시 아래 두개의 \n",
    "# 방식으로 산출하세요(class 이용)\n",
    "# - price1 : 기본가격 + 추가가격\n",
    "# - price2 : (기본가격 + 추가가격) * 90%"
   ]
  },
  {
   "cell_type": "code",
   "execution_count": null,
   "id": "9615314b",
   "metadata": {},
   "outputs": [],
   "source": [
    "# Q3. 임의의 클래스를 작성한 후 인스턴스를 생성하고 그것의 타입을 확인하세요."
   ]
  },
  {
   "cell_type": "code",
   "execution_count": null,
   "id": "1c431616",
   "metadata": {},
   "outputs": [],
   "source": [
    "# Q4. 4칙 연산 기능을 포함한 Cal4 클래스(생성자 이용)를 작성하고 이 클래스를 \n",
    "# 이용하여 cal1 계산기 객체를 만든 후 두개의 수  5,3에 대한 사칙연산을 수행하세요."
   ]
  },
  {
   "cell_type": "code",
   "execution_count": null,
   "id": "87d9bc43",
   "metadata": {},
   "outputs": [],
   "source": [
    "# Q5. 4칙 연산 기능을 포함한 Cal4 클래스(set 메소드 이용)를 작성하고 이 클래스를 \n",
    "# 이용하여 cal 계산기 객체를 만든 후 두개의 수를 입력하여 사칙연산을 수행한 결과를 \n",
    "# 출력하세요."
   ]
  },
  {
   "cell_type": "code",
   "execution_count": null,
   "id": "887a08fe",
   "metadata": {},
   "outputs": [],
   "source": [
    "# Q6. Order 클래스를 상속받아 extraOrder 클래스를 작성하고 extraCustomer의 \n",
    "# 주문가격을 다음과 같이 산출하였다. \n",
    "# ExtraOrder 클래스를 작성하세요\n",
    "\n",
    "class Order: \n",
    "    def __init__(self, name): \n",
    "        self.customer = 0 \n",
    "        self.name = name \n",
    "    def order(self, price): \n",
    "        self.customer += price \n",
    "        return self.customer \n",
    "    \n",
    "class ExtraOrder(Order): \n",
    "    pass \n",
    "\n",
    "extraCustomer = extraOrder('kevin') \n",
    "print(extraCustomer.order(1000))"
   ]
  },
  {
   "cell_type": "code",
   "execution_count": null,
   "id": "6096f031",
   "metadata": {},
   "outputs": [],
   "source": [
    "# Q7. Order 클래스를 상속받아 extraOrder 클래스에서 메소드 오버라이딩하여 출력가격에 \n",
    "# '원'이 추가되도록 출력하세요"
   ]
  },
  {
   "cell_type": "code",
   "execution_count": null,
   "id": "c24aa569",
   "metadata": {},
   "outputs": [],
   "source": [
    "# Q8. 업무미팅이 2시임을 알려주는 자동 이메일을 클래스 AutoEmail을 작성하여 \n",
    "# 아래와 같이 출력하세요.\n",
    "# 안녕하세요. kevin님, \n",
    "# 업무미팅은 2시입니다."
   ]
  },
  {
   "cell_type": "markdown",
   "id": "133a273f",
   "metadata": {},
   "source": [
    "#### 날짜/시간"
   ]
  },
  {
   "cell_type": "code",
   "execution_count": null,
   "id": "f243e2d8",
   "metadata": {},
   "outputs": [],
   "source": [
    "# Q1. 1609160537.371015을 \"Sat Jun 26 08:35:03 2021\" 포멧으로 출력하세요."
   ]
  },
  {
   "cell_type": "code",
   "execution_count": null,
   "id": "cc986483",
   "metadata": {},
   "outputs": [],
   "source": [
    "\n",
    "# Q2. 현재 날짜와 시간을 \"Sat Jun 26 08:35:03 2021\" 포멧으로 출력하세요."
   ]
  },
  {
   "cell_type": "code",
   "execution_count": null,
   "id": "24a3c941",
   "metadata": {},
   "outputs": [],
   "source": [
    "# Q3. 현재 시간을 년-월-일 시:분:초로 출력하세요."
   ]
  },
  {
   "cell_type": "code",
   "execution_count": null,
   "id": "0c2ce82e",
   "metadata": {},
   "outputs": [],
   "source": [
    "# Q4. 올해 경과된 날짜수 계산하세요"
   ]
  },
  {
   "cell_type": "code",
   "execution_count": null,
   "id": "090b0b4c",
   "metadata": {},
   "outputs": [],
   "source": [
    "# Q5. 현재 요일을 \"2021-6-26 오늘은 토요일입니다.\"와 같은 형식으로 출력하세요."
   ]
  },
  {
   "cell_type": "code",
   "execution_count": null,
   "id": "996befea",
   "metadata": {},
   "outputs": [],
   "source": [
    "# 1000 밀리초(ms) = 1초\n",
    "# Q6. 1에서 백만까지 더하는데 걸리는 프로그램 실행 시간을 밀리초(ms) 단위로 구하세요."
   ]
  }
 ],
 "metadata": {
  "kernelspec": {
   "display_name": "Python 3",
   "language": "python",
   "name": "python3"
  },
  "language_info": {
   "codemirror_mode": {
    "name": "ipython",
    "version": 3
   },
   "file_extension": ".py",
   "mimetype": "text/x-python",
   "name": "python",
   "nbconvert_exporter": "python",
   "pygments_lexer": "ipython3",
   "version": "3.8.10"
  }
 },
 "nbformat": 4,
 "nbformat_minor": 5
}
