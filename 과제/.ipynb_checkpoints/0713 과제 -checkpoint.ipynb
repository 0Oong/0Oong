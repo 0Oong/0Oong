{
 "cells": [
  {
   "cell_type": "code",
   "execution_count": null,
   "id": "a5ce3963",
   "metadata": {},
   "outputs": [],
   "source": [
    "# 과제 : urllib + bs4 조합으로 다음을 수행하세요\n",
    "# Q. \"https://www.dataq.or.kr/www/sub/a_07.do\" 사이트에서 필요한 정보를\n",
    "# 가져와서 출력"
   ]
  },
  {
   "cell_type": "code",
   "execution_count": null,
   "id": "0f7e7131",
   "metadata": {},
   "outputs": [],
   "source": [
    "# 과제(자바스크립트 사용)\n",
    "# Q. 한빛 네트워크 로그인 후 공지사항 가져와서 출력하기"
   ]
  },
  {
   "cell_type": "code",
   "execution_count": null,
   "id": "cce68eaf",
   "metadata": {},
   "outputs": [],
   "source": [
    "# 과제\n",
    "# Q. 네이버 로그인 후 메일 목록 10개 가져오기(execute_script 사용)"
   ]
  },
  {
   "cell_type": "code",
   "execution_count": null,
   "id": "4db12f7a",
   "metadata": {},
   "outputs": [],
   "source": [
    "# 과제\n",
    "# Q. 할인된 가격이 적용되는 영화만 출력(할인 전 가격, 할인 후 가격, 링크)\n",
    "# 제목 : 삼국지: 무신 조자룡\n",
    "# 할인 전 금액 : ₩10,000\n",
    "# 할인 후 금액 : ₩5,000\n",
    "# 링크 : https://play.google.com/store/movies/details/%EC%82%BC%EA%B5%AD%EC%A7%80_%EB%AC%B4%EC%8B%A0_%EC%A1%B0%EC%9E%90%EB%A3%A1?id=Bli"
   ]
  },
  {
   "cell_type": "code",
   "execution_count": null,
   "id": "833c4414",
   "metadata": {},
   "outputs": [],
   "source": []
  },
  {
   "cell_type": "code",
   "execution_count": null,
   "id": "7c4b47c2",
   "metadata": {},
   "outputs": [],
   "source": []
  },
  {
   "cell_type": "code",
   "execution_count": null,
   "id": "8daf5274",
   "metadata": {},
   "outputs": [],
   "source": []
  }
 ],
 "metadata": {
  "kernelspec": {
   "display_name": "Python 3",
   "language": "python",
   "name": "python3"
  },
  "language_info": {
   "codemirror_mode": {
    "name": "ipython",
    "version": 3
   },
   "file_extension": ".py",
   "mimetype": "text/x-python",
   "name": "python",
   "nbconvert_exporter": "python",
   "pygments_lexer": "ipython3",
   "version": "3.9.5"
  }
 },
 "nbformat": 4,
 "nbformat_minor": 5
}
