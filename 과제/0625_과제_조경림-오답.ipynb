{
 "cells": [
  {
   "cell_type": "markdown",
   "id": "83ab88a1",
   "metadata": {},
   "source": [
    "## [과제]\n",
    "#### Q1. 문자열 리스트 states를 정형화하여 아래와 같이 출력하세요."
   ]
  },
  {
   "cell_type": "markdown",
   "id": "2018afba",
   "metadata": {},
   "source": [
    "states = [['   Alabama ', 'Georgia!', 'Georgia', 'georgia', 'FlOrIda',  \n",
    "          'south   carolina##', 'West virginia?']  \n",
    "[출력]  \n",
    "['Alabama',  \n",
    " 'Georgia',  \n",
    " 'Georgia',  \n",
    " 'Georgia',  \n",
    " 'Florida',  \n",
    " 'South   Carolina',  \n",
    " 'West Virginia']  "
   ]
  },
  {
   "cell_type": "markdown",
   "id": "beefce9b",
   "metadata": {},
   "source": [
    "#### Q2. 1000명에 대하여 아래와 같이 출력하세요. \n",
    "- bmi = round(int(weitght)/ ((int(height)/100) ** 2),2)  \n",
    "이름 : 라바  \n",
    "몸무게 : 80  \n",
    "키 : 146  \n",
    "bmi =   \n",
    "결과 : 과체중  \n",
    "BMI가 18.5 이하면 저체중 ／ 18.5 ~ 22.9 사이면 정상 ／ 23.0 ~ 24.9 사이면 과체중 ／ 25.0 이상부터는 비만으로 판정."
   ]
  },
  {
   "cell_type": "markdown",
   "id": "bf563332",
   "metadata": {},
   "source": [
    "#### Q3. 사칙연산 기능을 포함하는 모듈 cal4.py를 작성 후 임포트해서 사칙연산을 수행하세요"
   ]
  }
 ],
 "metadata": {
  "kernelspec": {
   "display_name": "Python 3",
   "language": "python",
   "name": "python3"
  },
  "language_info": {
   "codemirror_mode": {
    "name": "ipython",
    "version": 3
   },
   "file_extension": ".py",
   "mimetype": "text/x-python",
   "name": "python",
   "nbconvert_exporter": "python",
   "pygments_lexer": "ipython3",
   "version": "3.8.10"
  }
 },
 "nbformat": 4,
 "nbformat_minor": 5
}
