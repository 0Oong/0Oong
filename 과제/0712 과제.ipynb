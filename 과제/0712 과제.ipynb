{
 "cells": [
  {
   "cell_type": "code",
   "execution_count": null,
   "id": "242972aa",
   "metadata": {},
   "outputs": [],
   "source": [
    "# Q. 구글 검색에서 '이대역 맛집' 을 찾아 상위 10개만 출력 및 저장하세요.(Selenium 이용)"
   ]
  },
  {
   "cell_type": "code",
   "execution_count": null,
   "id": "45413eb9",
   "metadata": {},
   "outputs": [],
   "source": [
    "# 뉴스 타이틀 링크 1개 가져오기"
   ]
  },
  {
   "cell_type": "code",
   "execution_count": null,
   "id": "718e68e1",
   "metadata": {},
   "outputs": [],
   "source": [
    "# 뉴스 타이틀 링크 모두 가져오기"
   ]
  },
  {
   "cell_type": "code",
   "execution_count": null,
   "id": "35b0e033",
   "metadata": {},
   "outputs": [],
   "source": [
    "# Q. 네이버 사이트에서 15개 selenium 함수를 이용하여 요소를 가져와서 출력하세요(15개)"
   ]
  },
  {
   "cell_type": "code",
   "execution_count": null,
   "id": "26659514",
   "metadata": {},
   "outputs": [],
   "source": [
    "# - find_element_by_id: id 속성을 사용하여 접근"
   ]
  },
  {
   "cell_type": "code",
   "execution_count": null,
   "id": "bb8083ca",
   "metadata": {},
   "outputs": [],
   "source": [
    "#- find_element(s)_by_class_name: 클래스를 사용하여 접근"
   ]
  },
  {
   "cell_type": "code",
   "execution_count": null,
   "id": "5512f1b9",
   "metadata": {},
   "outputs": [],
   "source": [
    "#- find_element(s)_by_name: name 속성을 사용하여 접근"
   ]
  },
  {
   "cell_type": "code",
   "execution_count": null,
   "id": "e104569d",
   "metadata": {},
   "outputs": [],
   "source": [
    "#- find_element(s)_by_xpath: xpath 속성을 사용하여 접근"
   ]
  },
  {
   "cell_type": "code",
   "execution_count": null,
   "id": "b3a81035",
   "metadata": {},
   "outputs": [],
   "source": [
    "#- find_element(s)_by_link_text: 앵커태그(a 태그)에 사용되는 텍스트로 접근"
   ]
  },
  {
   "cell_type": "code",
   "execution_count": null,
   "id": "f272bac3",
   "metadata": {},
   "outputs": [],
   "source": [
    "#- find_element(s)_by_partial_link_text: 앵커태그(a 태그)에 사용되는 일부 텍스트로 접근"
   ]
  },
  {
   "cell_type": "code",
   "execution_count": null,
   "id": "7234c24b",
   "metadata": {},
   "outputs": [],
   "source": [
    "#- find_element(s)_by_tag_name: 태그를 사용하여 접근"
   ]
  },
  {
   "cell_type": "code",
   "execution_count": null,
   "id": "0f113571",
   "metadata": {},
   "outputs": [],
   "source": [
    "# - find_element(s)_by_css_selector: CSS 선택자를 사용하여 접근"
   ]
  },
  {
   "cell_type": "code",
   "execution_count": null,
   "id": "94672064",
   "metadata": {},
   "outputs": [],
   "source": [
    "# Q. urllib + bs4로 네이버 사이트에서 뉴스 5개를 가져와서 출력하세요."
   ]
  },
  {
   "cell_type": "code",
   "execution_count": null,
   "id": "21a99bb4",
   "metadata": {},
   "outputs": [],
   "source": [
    "# Q. selenium으로 네이버 사이트 접속 후 5개 내부 사이트로 이동하면서\n",
    "# 10개의 요소를 선택 후 출력한 수 드라이버를 클로즈하세요. 단, 10개의 요소는\n",
    "# 텍스트, 링크를 포함"
   ]
  },
  {
   "cell_type": "code",
   "execution_count": null,
   "id": "2b6df0af",
   "metadata": {},
   "outputs": [],
   "source": [
    "# Q. selenium으로 네이버 사이트 접속 후 5개 내부 사이트로 이동하면서\n",
    "# 10개의 요소를 선택 후 출력한 수 드라이버를 클로즈하세요. 단, 10개의 요소는\n",
    "# 텍스트, 링크를 포함"
   ]
  },
  {
   "cell_type": "code",
   "execution_count": null,
   "id": "0e3c189c",
   "metadata": {},
   "outputs": [],
   "source": [
    "# Q. 네이버 항공권 검색 > 제주도 특정일 편도 첫번째 항공권 정보 가져오기"
   ]
  }
 ],
 "metadata": {
  "kernelspec": {
   "display_name": "Python 3",
   "language": "python",
   "name": "python3"
  },
  "language_info": {
   "codemirror_mode": {
    "name": "ipython",
    "version": 3
   },
   "file_extension": ".py",
   "mimetype": "text/x-python",
   "name": "python",
   "nbconvert_exporter": "python",
   "pygments_lexer": "ipython3",
   "version": "3.9.5"
  }
 },
 "nbformat": 4,
 "nbformat_minor": 5
}
