{
 "cells": [
  {
   "cell_type": "code",
   "execution_count": 15,
   "id": "a6079956",
   "metadata": {},
   "outputs": [
    {
     "data": {
      "text/html": [
       "<div>\n",
       "<style scoped>\n",
       "    .dataframe tbody tr th:only-of-type {\n",
       "        vertical-align: middle;\n",
       "    }\n",
       "\n",
       "    .dataframe tbody tr th {\n",
       "        vertical-align: top;\n",
       "    }\n",
       "\n",
       "    .dataframe thead th {\n",
       "        text-align: right;\n",
       "    }\n",
       "</style>\n",
       "<table border=\"1\" class=\"dataframe\">\n",
       "  <thead>\n",
       "    <tr style=\"text-align: right;\">\n",
       "      <th></th>\n",
       "      <th>0</th>\n",
       "    </tr>\n",
       "  </thead>\n",
       "  <tbody>\n",
       "    <tr>\n",
       "      <th>1</th>\n",
       "      <td>a</td>\n",
       "    </tr>\n",
       "    <tr>\n",
       "      <th>2</th>\n",
       "      <td>b</td>\n",
       "    </tr>\n",
       "    <tr>\n",
       "      <th>3</th>\n",
       "      <td>c</td>\n",
       "    </tr>\n",
       "  </tbody>\n",
       "</table>\n",
       "</div>"
      ],
      "text/plain": [
       "   0\n",
       "1  a\n",
       "2  b\n",
       "3  c"
      ]
     },
     "execution_count": 15,
     "metadata": {},
     "output_type": "execute_result"
    }
   ],
   "source": [
    "# 과제\n",
    "# Q. 5행 5열의 리스트, 배열, 사전 형태의 데이터를 데이터 프레임으로\n",
    "# 변환하여 출력하세요(가능한한 의미있는 데이터로 작성)\n",
    "import pandas as pd\n",
    "import numpy as np\n",
    "# 배열을 데이터프레임으로 만드는 것 :\n",
    "a = np.random.randint(1,20,size=(5,5))\n",
    "df1 = pd.DataFrame(a)\n",
    "\n",
    "#리스트를 데이터프레임으로 만드는 것 :\n",
    "b = [1,4,6,7,2]\n",
    "df2 = pd.DataFrame(b) \n",
    "df2\n",
    "\n",
    "# 혹은 배열을 리스트로 만든 후 데이터프레임으로 만들기:\n",
    "b1 = a.tolist()\n",
    "df3=pd.DataFrame(b1)\n",
    "df3\n",
    "\n",
    "# 사전 -> 시리즈 -> 데이터프레임으로 만들기\n",
    "c = {1 : 'a', 2:'b', 3:'c'}\n",
    "df4=pd.Series(c)\n",
    "df44=pd.DataFrame(df4)\n",
    "df44"
   ]
  },
  {
   "cell_type": "code",
   "execution_count": null,
   "id": "bc487b95",
   "metadata": {},
   "outputs": [],
   "source": [
    "# Q. 위에서 변환한 데이터 프레임에서 데이터 변경, 삭제, 전치, 인덱스 등\n",
    "# 처리를 한 후 다시 리스트, 배열, 사전 형태로 변환하여 출력하세요.\n",
    "\n",
    "#변경 : iloc[], loc[], np.nan\n",
    "# 삭제 : drop\n",
    "# 전치 : transpose\n",
    "# 인덱스 : set_index, reset_index"
   ]
  }
 ],
 "metadata": {
  "kernelspec": {
   "display_name": "Python 3",
   "language": "python",
   "name": "python3"
  },
  "language_info": {
   "codemirror_mode": {
    "name": "ipython",
    "version": 3
   },
   "file_extension": ".py",
   "mimetype": "text/x-python",
   "name": "python",
   "nbconvert_exporter": "python",
   "pygments_lexer": "ipython3",
   "version": "3.9.5"
  }
 },
 "nbformat": 4,
 "nbformat_minor": 5
}
