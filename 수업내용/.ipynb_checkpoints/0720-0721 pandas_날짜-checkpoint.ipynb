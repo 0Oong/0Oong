{
 "cells": [
  {
   "cell_type": "markdown",
   "id": "371a0a60",
   "metadata": {},
   "source": [
    "#### python time, time.time 관련된 부분 python_함수에서 찾아서 하기\n",
    "\n",
    "- 참고 : https://ellun.tistory.com/320\n",
    "- https://docs.python.org/ko/3/library/datetime.html"
   ]
  },
  {
   "cell_type": "code",
   "execution_count": 4,
   "id": "bcb9d3a8",
   "metadata": {},
   "outputs": [
    {
     "name": "stdout",
     "output_type": "stream",
     "text": [
      "1626746931.1758249\n",
      "1626746931.176608 <class 'str'>\n"
     ]
    }
   ],
   "source": [
    "# timestamp -> str\n",
    "import time \n",
    "print(time.time()) #1970년대 어쩌구\n",
    "type(time.time())\n",
    "timestamp = time.time()\n",
    "s = str(timestamp) #time을 문자로 만들어줄 필요가 있을 때 바꿔줄 수 있다.\n",
    "print(s,type(s))"
   ]
  },
  {
   "cell_type": "code",
   "execution_count": 13,
   "id": "06a6e6c2",
   "metadata": {
    "scrolled": true
   },
   "outputs": [
    {
     "name": "stdout",
     "output_type": "stream",
     "text": [
      "2021-07-20 11:14:12.592864 <class 'datetime.datetime'>\n",
      "2021-07-20 11:14:12 <class 'str'>\n"
     ]
    }
   ],
   "source": [
    "# datetime->str로 바꾸기\n",
    "from datetime import datetime\n",
    "s = datetime.now()\n",
    "print(s,type(s))\n",
    "\n",
    "s1 = datetime.now().strftime('%Y-%m-%d %H:%M:%S')  #string+format = strf\n",
    "print(s1,type(s1))    #얘는 str이니까 날짜 계산이 안되는 것임"
   ]
  },
  {
   "cell_type": "code",
   "execution_count": 96,
   "id": "e8e1bd0b",
   "metadata": {},
   "outputs": [
    {
     "name": "stdout",
     "output_type": "stream",
     "text": [
      "2021-07-20 11:14:12 <class 'datetime.datetime'>\n"
     ]
    }
   ],
   "source": [
    "# str -> datetime\n",
    "from datetime import datetime\n",
    "s = '2021-07-20 11:14:12'\n",
    "s2 = datetime.strptime(s, '%Y-%m-%d %H:%M:%S') #string parsing\n",
    "\n",
    "print(s2, type(s2))"
   ]
  },
  {
   "cell_type": "code",
   "execution_count": 97,
   "id": "d42f1bc6",
   "metadata": {},
   "outputs": [
    {
     "name": "stdout",
     "output_type": "stream",
     "text": [
      "1626747252.0 <class 'float'>\n"
     ]
    }
   ],
   "source": [
    "# str -> timestamp로 바꾸기\n",
    "s = '2021-07-20 11:14:12'\n",
    "\n",
    "#str을 datetime으로 바꾼 후 mk함수에 집어넣어줘서 timetuple로 뽑아주는 것. 그래서 timestamp로 바꿈\n",
    "\n",
    "timestamp = time.mktime(datetime.strptime(s, '%Y-%m-%d %H:%M:%S').timetuple()) \n",
    "print(timestamp,type(timestamp))"
   ]
  },
  {
   "cell_type": "code",
   "execution_count": 98,
   "id": "53641231",
   "metadata": {},
   "outputs": [
    {
     "name": "stdout",
     "output_type": "stream",
     "text": [
      "1626751312.0 <class 'float'>\n"
     ]
    }
   ],
   "source": [
    "# datetime -> timestamp\n",
    "datetime.today()\n",
    "\n",
    "timestamp = time.mktime(datetime.today().timetuple())\n",
    "\n",
    "print(timestamp, type(timestamp))"
   ]
  },
  {
   "cell_type": "code",
   "execution_count": 99,
   "id": "a9d144be",
   "metadata": {},
   "outputs": [
    {
     "name": "stdout",
     "output_type": "stream",
     "text": [
      "1626751314.443421\n",
      "2021-07-20 12:21:54.443421 <class 'datetime.datetime'>\n"
     ]
    }
   ],
   "source": [
    "# timestamp -> datetime으로 바꾸기\n",
    "t = time.time() #timestamp\n",
    "print(t)\n",
    "d = datetime.fromtimestamp(t)\n",
    "\n",
    "print(d, type(d))"
   ]
  },
  {
   "cell_type": "code",
   "execution_count": 101,
   "id": "5872bcde",
   "metadata": {},
   "outputs": [
    {
     "data": {
      "text/plain": [
       "Timestamp('2021-07-20 03:21:54.443420928')"
      ]
     },
     "execution_count": 101,
     "metadata": {},
     "output_type": "execute_result"
    }
   ],
   "source": [
    "# 판다스 to_datetime\n",
    "pd.to_datetime(1626751314.443421, unit='s')\n",
    "\n",
    "# 출력이 timestamp라고 되기는 하지만, datetime임 판다스에서의 datetime임\n",
    "# to_datetime은 float(파이썬의 datetime형식)를 datetime으로 바꿔줌"
   ]
  },
  {
   "cell_type": "code",
   "execution_count": 32,
   "id": "794176eb",
   "metadata": {},
   "outputs": [
    {
     "name": "stdout",
     "output_type": "stream",
     "text": [
      "-365 days, 0:00:00\n"
     ]
    },
    {
     "data": {
      "text/plain": [
       "datetime.datetime(2020, 7, 20, 11, 32, 27, 43061)"
      ]
     },
     "execution_count": 32,
     "metadata": {},
     "output_type": "execute_result"
    }
   ],
   "source": [
    "# 1년전 datetime 값\n",
    "from datetime import timedelta\n",
    "import time\n",
    "\n",
    "datetime_now = datetime.now()\n",
    "delta_datetime = timedelta(days=-365)\n",
    "\n",
    "print(delta_datetime)\n",
    "\n",
    "one_year_ago = datetime_now + delta_datetime\n",
    "one_year_ago"
   ]
  },
  {
   "cell_type": "code",
   "execution_count": 34,
   "id": "0ca2819d",
   "metadata": {
    "scrolled": true
   },
   "outputs": [
    {
     "name": "stdout",
     "output_type": "stream",
     "text": [
      "30 days, 0:00:00 <class 'datetime.timedelta'>\n"
     ]
    }
   ],
   "source": [
    "# 두 날짜간의 일수 구하기\n",
    "since_timestamp = datetime.strptime('20180301', '%Y%m%d')\n",
    "until_timestamp = datetime.strptime('20180331', '%Y%m%d')\n",
    "\n",
    "a = until_timestamp - since_timestamp\n",
    "\n",
    "print(a, type(a))"
   ]
  },
  {
   "cell_type": "code",
   "execution_count": 66,
   "id": "5a4ae3cb",
   "metadata": {},
   "outputs": [
    {
     "data": {
      "text/plain": [
       "'TUE'"
      ]
     },
     "execution_count": 66,
     "metadata": {},
     "output_type": "execute_result"
    }
   ],
   "source": [
    "# 특정일 구하기\n",
    "import datetime\n",
    "def get_yoil(y,m,d):\n",
    "    days = ['MON','TUE','WED','THU','FRI','SAT','SUN']\n",
    "    return days[datetime.date(y,m,d).weekday()]\n",
    "\n",
    "get_yoil(2021,7,20)"
   ]
  },
  {
   "cell_type": "code",
   "execution_count": 43,
   "id": "e865e038",
   "metadata": {},
   "outputs": [
    {
     "name": "stdout",
     "output_type": "stream",
     "text": [
      "2021-07-20 11:25:25+09:00 <class 'pandas._libs.tslibs.timestamps.Timestamp'>\n"
     ]
    }
   ],
   "source": [
    "import pandas as pd\n",
    "date = pd.Timestamp(1626747925.0, unit='s',tz='Asia/Seoul')\n",
    "#timezone을 아시아/서울로해서 1970년대 어쩌구 시간이 우리나라 시간으로 치환돼서 나오는 것임. unit='s'는 seconds, 초\n",
    "print(date,type(date))"
   ]
  },
  {
   "cell_type": "code",
   "execution_count": 80,
   "id": "027a4828",
   "metadata": {
    "scrolled": true
   },
   "outputs": [
    {
     "data": {
      "text/html": [
       "<div>\n",
       "<style scoped>\n",
       "    .dataframe tbody tr th:only-of-type {\n",
       "        vertical-align: middle;\n",
       "    }\n",
       "\n",
       "    .dataframe tbody tr th {\n",
       "        vertical-align: top;\n",
       "    }\n",
       "\n",
       "    .dataframe thead th {\n",
       "        text-align: right;\n",
       "    }\n",
       "</style>\n",
       "<table border=\"1\" class=\"dataframe\">\n",
       "  <thead>\n",
       "    <tr style=\"text-align: right;\">\n",
       "      <th></th>\n",
       "      <th>Date</th>\n",
       "      <th>Close</th>\n",
       "      <th>Start</th>\n",
       "      <th>High</th>\n",
       "      <th>Low</th>\n",
       "      <th>Volume</th>\n",
       "    </tr>\n",
       "  </thead>\n",
       "  <tbody>\n",
       "    <tr>\n",
       "      <th>0</th>\n",
       "      <td>2018-07-02</td>\n",
       "      <td>10100</td>\n",
       "      <td>10850</td>\n",
       "      <td>10900</td>\n",
       "      <td>10000</td>\n",
       "      <td>137977</td>\n",
       "    </tr>\n",
       "    <tr>\n",
       "      <th>1</th>\n",
       "      <td>2018-06-29</td>\n",
       "      <td>10700</td>\n",
       "      <td>10550</td>\n",
       "      <td>10900</td>\n",
       "      <td>9990</td>\n",
       "      <td>170253</td>\n",
       "    </tr>\n",
       "    <tr>\n",
       "      <th>2</th>\n",
       "      <td>2018-06-28</td>\n",
       "      <td>10400</td>\n",
       "      <td>10900</td>\n",
       "      <td>10950</td>\n",
       "      <td>10150</td>\n",
       "      <td>155769</td>\n",
       "    </tr>\n",
       "    <tr>\n",
       "      <th>3</th>\n",
       "      <td>2018-06-27</td>\n",
       "      <td>10900</td>\n",
       "      <td>10800</td>\n",
       "      <td>11050</td>\n",
       "      <td>10500</td>\n",
       "      <td>133548</td>\n",
       "    </tr>\n",
       "    <tr>\n",
       "      <th>4</th>\n",
       "      <td>2018-06-26</td>\n",
       "      <td>10800</td>\n",
       "      <td>10900</td>\n",
       "      <td>11000</td>\n",
       "      <td>10700</td>\n",
       "      <td>63039</td>\n",
       "    </tr>\n",
       "  </tbody>\n",
       "</table>\n",
       "</div>"
      ],
      "text/plain": [
       "         Date  Close  Start   High    Low  Volume\n",
       "0  2018-07-02  10100  10850  10900  10000  137977\n",
       "1  2018-06-29  10700  10550  10900   9990  170253\n",
       "2  2018-06-28  10400  10900  10950  10150  155769\n",
       "3  2018-06-27  10900  10800  11050  10500  133548\n",
       "4  2018-06-26  10800  10900  11000  10700   63039"
      ]
     },
     "execution_count": 80,
     "metadata": {},
     "output_type": "execute_result"
    }
   ],
   "source": [
    "import pandas as pd\n",
    "df = pd.read_csv('dataset/stock-data.csv')\n",
    "df.head()"
   ]
  },
  {
   "cell_type": "code",
   "execution_count": 81,
   "id": "02bebd9d",
   "metadata": {
    "scrolled": true
   },
   "outputs": [
    {
     "name": "stdout",
     "output_type": "stream",
     "text": [
      "<class 'pandas.core.frame.DataFrame'>\n",
      "RangeIndex: 20 entries, 0 to 19\n",
      "Data columns (total 6 columns):\n",
      " #   Column  Non-Null Count  Dtype \n",
      "---  ------  --------------  ----- \n",
      " 0   Date    20 non-null     object\n",
      " 1   Close   20 non-null     int64 \n",
      " 2   Start   20 non-null     int64 \n",
      " 3   High    20 non-null     int64 \n",
      " 4   Low     20 non-null     int64 \n",
      " 5   Volume  20 non-null     int64 \n",
      "dtypes: int64(5), object(1)\n",
      "memory usage: 1.1+ KB\n"
     ]
    }
   ],
   "source": [
    "df.info() #date가 object 즉, 문자로 돼 있음 변환해줘야함"
   ]
  },
  {
   "cell_type": "code",
   "execution_count": 82,
   "id": "98945107",
   "metadata": {
    "scrolled": true
   },
   "outputs": [
    {
     "name": "stdout",
     "output_type": "stream",
     "text": [
      "<class 'pandas.core.frame.DataFrame'>\n",
      "RangeIndex: 20 entries, 0 to 19\n",
      "Data columns (total 6 columns):\n",
      " #   Column  Non-Null Count  Dtype \n",
      "---  ------  --------------  ----- \n",
      " 0   Date    20 non-null     object\n",
      " 1   Close   20 non-null     int64 \n",
      " 2   Start   20 non-null     int64 \n",
      " 3   High    20 non-null     int64 \n",
      " 4   Low     20 non-null     int64 \n",
      " 5   Volume  20 non-null     int64 \n",
      "dtypes: int64(5), object(1)\n",
      "memory usage: 1.1+ KB\n"
     ]
    }
   ],
   "source": [
    "df = df.replace({'Date':int})\n",
    "\n",
    "df.info()"
   ]
  },
  {
   "cell_type": "code",
   "execution_count": 83,
   "id": "b16f65c7",
   "metadata": {},
   "outputs": [
    {
     "name": "stdout",
     "output_type": "stream",
     "text": [
      "<class 'pandas.core.frame.DataFrame'>\n",
      "RangeIndex: 20 entries, 0 to 19\n",
      "Data columns (total 7 columns):\n",
      " #   Column    Non-Null Count  Dtype         \n",
      "---  ------    --------------  -----         \n",
      " 0   Date      20 non-null     object        \n",
      " 1   Close     20 non-null     int64         \n",
      " 2   Start     20 non-null     int64         \n",
      " 3   High      20 non-null     int64         \n",
      " 4   Low       20 non-null     int64         \n",
      " 5   Volume    20 non-null     int64         \n",
      " 6   New_Date  20 non-null     datetime64[ns]\n",
      "dtypes: datetime64[ns](1), int64(5), object(1)\n",
      "memory usage: 1.2+ KB\n",
      "None\n"
     ]
    },
    {
     "data": {
      "text/html": [
       "<div>\n",
       "<style scoped>\n",
       "    .dataframe tbody tr th:only-of-type {\n",
       "        vertical-align: middle;\n",
       "    }\n",
       "\n",
       "    .dataframe tbody tr th {\n",
       "        vertical-align: top;\n",
       "    }\n",
       "\n",
       "    .dataframe thead th {\n",
       "        text-align: right;\n",
       "    }\n",
       "</style>\n",
       "<table border=\"1\" class=\"dataframe\">\n",
       "  <thead>\n",
       "    <tr style=\"text-align: right;\">\n",
       "      <th></th>\n",
       "      <th>Close</th>\n",
       "      <th>Start</th>\n",
       "      <th>High</th>\n",
       "      <th>Low</th>\n",
       "      <th>Volume</th>\n",
       "      <th>New_Date</th>\n",
       "      <th>year</th>\n",
       "      <th>month</th>\n",
       "      <th>day</th>\n",
       "    </tr>\n",
       "  </thead>\n",
       "  <tbody>\n",
       "    <tr>\n",
       "      <th>0</th>\n",
       "      <td>10100</td>\n",
       "      <td>10850</td>\n",
       "      <td>10900</td>\n",
       "      <td>10000</td>\n",
       "      <td>137977</td>\n",
       "      <td>2018-07-02</td>\n",
       "      <td>2018</td>\n",
       "      <td>7</td>\n",
       "      <td>2</td>\n",
       "    </tr>\n",
       "    <tr>\n",
       "      <th>1</th>\n",
       "      <td>10700</td>\n",
       "      <td>10550</td>\n",
       "      <td>10900</td>\n",
       "      <td>9990</td>\n",
       "      <td>170253</td>\n",
       "      <td>2018-06-29</td>\n",
       "      <td>2018</td>\n",
       "      <td>6</td>\n",
       "      <td>29</td>\n",
       "    </tr>\n",
       "    <tr>\n",
       "      <th>2</th>\n",
       "      <td>10400</td>\n",
       "      <td>10900</td>\n",
       "      <td>10950</td>\n",
       "      <td>10150</td>\n",
       "      <td>155769</td>\n",
       "      <td>2018-06-28</td>\n",
       "      <td>2018</td>\n",
       "      <td>6</td>\n",
       "      <td>28</td>\n",
       "    </tr>\n",
       "    <tr>\n",
       "      <th>3</th>\n",
       "      <td>10900</td>\n",
       "      <td>10800</td>\n",
       "      <td>11050</td>\n",
       "      <td>10500</td>\n",
       "      <td>133548</td>\n",
       "      <td>2018-06-27</td>\n",
       "      <td>2018</td>\n",
       "      <td>6</td>\n",
       "      <td>27</td>\n",
       "    </tr>\n",
       "    <tr>\n",
       "      <th>4</th>\n",
       "      <td>10800</td>\n",
       "      <td>10900</td>\n",
       "      <td>11000</td>\n",
       "      <td>10700</td>\n",
       "      <td>63039</td>\n",
       "      <td>2018-06-26</td>\n",
       "      <td>2018</td>\n",
       "      <td>6</td>\n",
       "      <td>26</td>\n",
       "    </tr>\n",
       "  </tbody>\n",
       "</table>\n",
       "</div>"
      ],
      "text/plain": [
       "   Close  Start   High    Low  Volume   New_Date  year  month  day\n",
       "0  10100  10850  10900  10000  137977 2018-07-02  2018      7    2\n",
       "1  10700  10550  10900   9990  170253 2018-06-29  2018      6   29\n",
       "2  10400  10900  10950  10150  155769 2018-06-28  2018      6   28\n",
       "3  10900  10800  11050  10500  133548 2018-06-27  2018      6   27\n",
       "4  10800  10900  11000  10700   63039 2018-06-26  2018      6   26"
      ]
     },
     "execution_count": 83,
     "metadata": {},
     "output_type": "execute_result"
    }
   ],
   "source": [
    "df['New_Date'] = pd.to_datetime(df['Date'])\n",
    "print(df.info())\n",
    "\n",
    "df.drop('Date',axis=1, inplace=True) #Date 항목삭제\n",
    "\n",
    "df['year'] = df['New_Date'].dt.year\n",
    "df['month'] = df['New_Date'].dt.month\n",
    "df['day'] = df['New_Date'].dt.day\n",
    "\n",
    "df.head()"
   ]
  },
  {
   "cell_type": "code",
   "execution_count": 84,
   "id": "4171a74f",
   "metadata": {
    "scrolled": true
   },
   "outputs": [
    {
     "data": {
      "text/html": [
       "<div>\n",
       "<style scoped>\n",
       "    .dataframe tbody tr th:only-of-type {\n",
       "        vertical-align: middle;\n",
       "    }\n",
       "\n",
       "    .dataframe tbody tr th {\n",
       "        vertical-align: top;\n",
       "    }\n",
       "\n",
       "    .dataframe thead th {\n",
       "        text-align: right;\n",
       "    }\n",
       "</style>\n",
       "<table border=\"1\" class=\"dataframe\">\n",
       "  <thead>\n",
       "    <tr style=\"text-align: right;\">\n",
       "      <th></th>\n",
       "      <th>Close</th>\n",
       "      <th>Start</th>\n",
       "      <th>High</th>\n",
       "      <th>Low</th>\n",
       "      <th>Volume</th>\n",
       "      <th>year</th>\n",
       "      <th>month</th>\n",
       "      <th>day</th>\n",
       "    </tr>\n",
       "    <tr>\n",
       "      <th>New_Date</th>\n",
       "      <th></th>\n",
       "      <th></th>\n",
       "      <th></th>\n",
       "      <th></th>\n",
       "      <th></th>\n",
       "      <th></th>\n",
       "      <th></th>\n",
       "      <th></th>\n",
       "    </tr>\n",
       "  </thead>\n",
       "  <tbody>\n",
       "    <tr>\n",
       "      <th>2018-07-02</th>\n",
       "      <td>10100</td>\n",
       "      <td>10850</td>\n",
       "      <td>10900</td>\n",
       "      <td>10000</td>\n",
       "      <td>137977</td>\n",
       "      <td>2018</td>\n",
       "      <td>7</td>\n",
       "      <td>2</td>\n",
       "    </tr>\n",
       "    <tr>\n",
       "      <th>2018-06-29</th>\n",
       "      <td>10700</td>\n",
       "      <td>10550</td>\n",
       "      <td>10900</td>\n",
       "      <td>9990</td>\n",
       "      <td>170253</td>\n",
       "      <td>2018</td>\n",
       "      <td>6</td>\n",
       "      <td>29</td>\n",
       "    </tr>\n",
       "    <tr>\n",
       "      <th>2018-06-28</th>\n",
       "      <td>10400</td>\n",
       "      <td>10900</td>\n",
       "      <td>10950</td>\n",
       "      <td>10150</td>\n",
       "      <td>155769</td>\n",
       "      <td>2018</td>\n",
       "      <td>6</td>\n",
       "      <td>28</td>\n",
       "    </tr>\n",
       "    <tr>\n",
       "      <th>2018-06-27</th>\n",
       "      <td>10900</td>\n",
       "      <td>10800</td>\n",
       "      <td>11050</td>\n",
       "      <td>10500</td>\n",
       "      <td>133548</td>\n",
       "      <td>2018</td>\n",
       "      <td>6</td>\n",
       "      <td>27</td>\n",
       "    </tr>\n",
       "    <tr>\n",
       "      <th>2018-06-26</th>\n",
       "      <td>10800</td>\n",
       "      <td>10900</td>\n",
       "      <td>11000</td>\n",
       "      <td>10700</td>\n",
       "      <td>63039</td>\n",
       "      <td>2018</td>\n",
       "      <td>6</td>\n",
       "      <td>26</td>\n",
       "    </tr>\n",
       "  </tbody>\n",
       "</table>\n",
       "</div>"
      ],
      "text/plain": [
       "            Close  Start   High    Low  Volume  year  month  day\n",
       "New_Date                                                        \n",
       "2018-07-02  10100  10850  10900  10000  137977  2018      7    2\n",
       "2018-06-29  10700  10550  10900   9990  170253  2018      6   29\n",
       "2018-06-28  10400  10900  10950  10150  155769  2018      6   28\n",
       "2018-06-27  10900  10800  11050  10500  133548  2018      6   27\n",
       "2018-06-26  10800  10900  11000  10700   63039  2018      6   26"
      ]
     },
     "execution_count": 84,
     "metadata": {},
     "output_type": "execute_result"
    }
   ],
   "source": [
    "df.set_index('New_Date',inplace=True)\n",
    "df.head()"
   ]
  },
  {
   "cell_type": "code",
   "execution_count": 86,
   "id": "504dd503",
   "metadata": {
    "scrolled": true
   },
   "outputs": [
    {
     "data": {
      "text/plain": [
       "DatetimeIndex(['2018-07-02', '2018-06-29', '2018-06-28', '2018-06-27',\n",
       "               '2018-06-26', '2018-06-25', '2018-06-22', '2018-06-21',\n",
       "               '2018-06-20', '2018-06-19', '2018-06-18', '2018-06-15',\n",
       "               '2018-06-14', '2018-06-12', '2018-06-11', '2018-06-08',\n",
       "               '2018-06-07', '2018-06-05', '2018-06-04', '2018-06-01'],\n",
       "              dtype='datetime64[ns]', name='New_Date', freq=None)"
      ]
     },
     "execution_count": 86,
     "metadata": {},
     "output_type": "execute_result"
    }
   ],
   "source": [
    "df.index"
   ]
  },
  {
   "cell_type": "code",
   "execution_count": 104,
   "id": "dc9ac72d",
   "metadata": {
    "scrolled": true
   },
   "outputs": [
    {
     "data": {
      "text/html": [
       "<div>\n",
       "<style scoped>\n",
       "    .dataframe tbody tr th:only-of-type {\n",
       "        vertical-align: middle;\n",
       "    }\n",
       "\n",
       "    .dataframe tbody tr th {\n",
       "        vertical-align: top;\n",
       "    }\n",
       "\n",
       "    .dataframe thead th {\n",
       "        text-align: right;\n",
       "    }\n",
       "</style>\n",
       "<table border=\"1\" class=\"dataframe\">\n",
       "  <thead>\n",
       "    <tr style=\"text-align: right;\">\n",
       "      <th></th>\n",
       "      <th>Close</th>\n",
       "      <th>Start</th>\n",
       "      <th>High</th>\n",
       "      <th>Low</th>\n",
       "      <th>Volume</th>\n",
       "      <th>year</th>\n",
       "      <th>month</th>\n",
       "      <th>day</th>\n",
       "    </tr>\n",
       "    <tr>\n",
       "      <th>New_Date</th>\n",
       "      <th></th>\n",
       "      <th></th>\n",
       "      <th></th>\n",
       "      <th></th>\n",
       "      <th></th>\n",
       "      <th></th>\n",
       "      <th></th>\n",
       "      <th></th>\n",
       "    </tr>\n",
       "  </thead>\n",
       "  <tbody>\n",
       "    <tr>\n",
       "      <th>2018-06-29</th>\n",
       "      <td>10700</td>\n",
       "      <td>10550</td>\n",
       "      <td>10900</td>\n",
       "      <td>9990</td>\n",
       "      <td>170253</td>\n",
       "      <td>2018</td>\n",
       "      <td>6</td>\n",
       "      <td>29</td>\n",
       "    </tr>\n",
       "    <tr>\n",
       "      <th>2018-06-28</th>\n",
       "      <td>10400</td>\n",
       "      <td>10900</td>\n",
       "      <td>10950</td>\n",
       "      <td>10150</td>\n",
       "      <td>155769</td>\n",
       "      <td>2018</td>\n",
       "      <td>6</td>\n",
       "      <td>28</td>\n",
       "    </tr>\n",
       "    <tr>\n",
       "      <th>2018-06-27</th>\n",
       "      <td>10900</td>\n",
       "      <td>10800</td>\n",
       "      <td>11050</td>\n",
       "      <td>10500</td>\n",
       "      <td>133548</td>\n",
       "      <td>2018</td>\n",
       "      <td>6</td>\n",
       "      <td>27</td>\n",
       "    </tr>\n",
       "    <tr>\n",
       "      <th>2018-06-26</th>\n",
       "      <td>10800</td>\n",
       "      <td>10900</td>\n",
       "      <td>11000</td>\n",
       "      <td>10700</td>\n",
       "      <td>63039</td>\n",
       "      <td>2018</td>\n",
       "      <td>6</td>\n",
       "      <td>26</td>\n",
       "    </tr>\n",
       "  </tbody>\n",
       "</table>\n",
       "</div>"
      ],
      "text/plain": [
       "            Close  Start   High    Low  Volume  year  month  day\n",
       "New_Date                                                        \n",
       "2018-06-29  10700  10550  10900   9990  170253  2018      6   29\n",
       "2018-06-28  10400  10900  10950  10150  155769  2018      6   28\n",
       "2018-06-27  10900  10800  11050  10500  133548  2018      6   27\n",
       "2018-06-26  10800  10900  11000  10700   63039  2018      6   26"
      ]
     },
     "execution_count": 104,
     "metadata": {},
     "output_type": "execute_result"
    }
   ],
   "source": [
    "df_ymd_range=df['2018-06-25':'2018-06-29']\n",
    "\n",
    "df_ymd_range"
   ]
  },
  {
   "cell_type": "code",
   "execution_count": 103,
   "id": "5216310e",
   "metadata": {},
   "outputs": [
    {
     "data": {
      "text/html": [
       "<div>\n",
       "<style scoped>\n",
       "    .dataframe tbody tr th:only-of-type {\n",
       "        vertical-align: middle;\n",
       "    }\n",
       "\n",
       "    .dataframe tbody tr th {\n",
       "        vertical-align: top;\n",
       "    }\n",
       "\n",
       "    .dataframe thead th {\n",
       "        text-align: right;\n",
       "    }\n",
       "</style>\n",
       "<table border=\"1\" class=\"dataframe\">\n",
       "  <thead>\n",
       "    <tr style=\"text-align: right;\">\n",
       "      <th></th>\n",
       "      <th>Start</th>\n",
       "      <th>High</th>\n",
       "    </tr>\n",
       "    <tr>\n",
       "      <th>New_Date</th>\n",
       "      <th></th>\n",
       "      <th></th>\n",
       "    </tr>\n",
       "  </thead>\n",
       "  <tbody>\n",
       "    <tr>\n",
       "      <th>2018-07-02</th>\n",
       "      <td>10850</td>\n",
       "      <td>10900</td>\n",
       "    </tr>\n",
       "  </tbody>\n",
       "</table>\n",
       "</div>"
      ],
      "text/plain": [
       "            Start   High\n",
       "New_Date                \n",
       "2018-07-02  10850  10900"
      ]
     },
     "execution_count": 103,
     "metadata": {},
     "output_type": "execute_result"
    }
   ],
   "source": [
    "df_ym=df.loc['2018-07', 'Start':'High']\n",
    "df_ym"
   ]
  },
  {
   "cell_type": "code",
   "execution_count": 102,
   "id": "9f6150ca",
   "metadata": {
    "scrolled": true
   },
   "outputs": [
    {
     "data": {
      "text/html": [
       "<div>\n",
       "<style scoped>\n",
       "    .dataframe tbody tr th:only-of-type {\n",
       "        vertical-align: middle;\n",
       "    }\n",
       "\n",
       "    .dataframe tbody tr th {\n",
       "        vertical-align: top;\n",
       "    }\n",
       "\n",
       "    .dataframe thead th {\n",
       "        text-align: right;\n",
       "    }\n",
       "</style>\n",
       "<table border=\"1\" class=\"dataframe\">\n",
       "  <thead>\n",
       "    <tr style=\"text-align: right;\">\n",
       "      <th></th>\n",
       "      <th>Close</th>\n",
       "      <th>Start</th>\n",
       "      <th>High</th>\n",
       "      <th>Low</th>\n",
       "      <th>Volume</th>\n",
       "      <th>year</th>\n",
       "      <th>month</th>\n",
       "      <th>day</th>\n",
       "    </tr>\n",
       "    <tr>\n",
       "      <th>New_Date</th>\n",
       "      <th></th>\n",
       "      <th></th>\n",
       "      <th></th>\n",
       "      <th></th>\n",
       "      <th></th>\n",
       "      <th></th>\n",
       "      <th></th>\n",
       "      <th></th>\n",
       "    </tr>\n",
       "  </thead>\n",
       "  <tbody>\n",
       "  </tbody>\n",
       "</table>\n",
       "</div>"
      ],
      "text/plain": [
       "Empty DataFrame\n",
       "Columns: [Close, Start, High, Low, Volume, year, month, day]\n",
       "Index: []"
      ]
     },
     "execution_count": 102,
     "metadata": {},
     "output_type": "execute_result"
    }
   ],
   "source": [
    "# 이거 왜 안될까?\n",
    "df_ymd_range = df['2018-06-29':'2018-06-26']\n",
    "df_ymd_range"
   ]
  },
  {
   "cell_type": "code",
   "execution_count": 108,
   "id": "dd12a016",
   "metadata": {
    "scrolled": true
   },
   "outputs": [
    {
     "data": {
      "text/plain": [
       "2011-01-02   -0.094863\n",
       "2011-01-05   -0.577987\n",
       "2011-01-07   -0.434135\n",
       "2011-01-08   -0.624827\n",
       "2011-01-10   -1.008091\n",
       "2011-01-12   -0.082314\n",
       "dtype: float64"
      ]
     },
     "execution_count": 108,
     "metadata": {},
     "output_type": "execute_result"
    }
   ],
   "source": [
    "# Time Series Basics\n",
    "import numpy as np\n",
    "import pandas as pd\n",
    "\n",
    "from datetime import datetime\n",
    "dates = [datetime(2011,1,2),datetime(2011,1,5),\n",
    "         datetime(2011,1,7),datetime(2011,1,8),\n",
    "         datetime(2011,1,10),datetime(2011,1,12)]\n",
    "ts = pd.Series(np.random.randn(6),index=dates)\n",
    "ts\n",
    "\n",
    "# 날짜별로 숫자들을 랜덤하게 뽑은 것. "
   ]
  },
  {
   "cell_type": "code",
   "execution_count": 109,
   "id": "4dbea1e9",
   "metadata": {
    "scrolled": true
   },
   "outputs": [
    {
     "data": {
      "text/plain": [
       "DatetimeIndex(['2011-01-02', '2011-01-05', '2011-01-07', '2011-01-08',\n",
       "               '2011-01-10', '2011-01-12'],\n",
       "              dtype='datetime64[ns]', freq=None)"
      ]
     },
     "execution_count": 109,
     "metadata": {},
     "output_type": "execute_result"
    }
   ],
   "source": [
    "ts.index"
   ]
  },
  {
   "cell_type": "code",
   "execution_count": 110,
   "id": "6bc11766",
   "metadata": {
    "scrolled": true
   },
   "outputs": [
    {
     "data": {
      "text/plain": [
       "2011-01-02   -0.094863\n",
       "2011-01-07   -0.434135\n",
       "2011-01-10   -1.008091\n",
       "dtype: float64"
      ]
     },
     "execution_count": 110,
     "metadata": {},
     "output_type": "execute_result"
    }
   ],
   "source": [
    "ts[::2]"
   ]
  },
  {
   "cell_type": "code",
   "execution_count": 112,
   "id": "aff7235c",
   "metadata": {
    "scrolled": true
   },
   "outputs": [
    {
     "data": {
      "text/plain": [
       "2011-01-02   -0.189726\n",
       "2011-01-05         NaN\n",
       "2011-01-07   -0.868270\n",
       "2011-01-08         NaN\n",
       "2011-01-10   -2.016182\n",
       "2011-01-12         NaN\n",
       "dtype: float64"
      ]
     },
     "execution_count": 112,
     "metadata": {},
     "output_type": "execute_result"
    }
   ],
   "source": [
    "# 날짜별로 값 연산\n",
    "ts + ts[::2]"
   ]
  },
  {
   "cell_type": "code",
   "execution_count": 113,
   "id": "5dbab507",
   "metadata": {},
   "outputs": [
    {
     "data": {
      "text/plain": [
       "2011-01-02   -0.189726\n",
       "2011-01-05   -0.577987\n",
       "2011-01-07   -0.868270\n",
       "2011-01-08   -0.624827\n",
       "2011-01-10   -2.016182\n",
       "2011-01-12   -0.082314\n",
       "dtype: float64"
      ]
     },
     "execution_count": 113,
     "metadata": {},
     "output_type": "execute_result"
    }
   ],
   "source": [
    "ts.add(ts[::2], fill_value=0)"
   ]
  },
  {
   "cell_type": "code",
   "execution_count": 114,
   "id": "8626158d",
   "metadata": {
    "scrolled": true
   },
   "outputs": [
    {
     "data": {
      "text/plain": [
       "Timestamp('2011-01-02 00:00:00')"
      ]
     },
     "execution_count": 114,
     "metadata": {},
     "output_type": "execute_result"
    }
   ],
   "source": [
    "ts.index[0]"
   ]
  },
  {
   "cell_type": "code",
   "execution_count": 116,
   "id": "17db2147",
   "metadata": {},
   "outputs": [
    {
     "data": {
      "text/plain": [
       "-0.4341350250363889"
      ]
     },
     "execution_count": 116,
     "metadata": {},
     "output_type": "execute_result"
    }
   ],
   "source": [
    "# indexing, Selection, Substting\n",
    "stamp = ts.index[2]\n",
    "ts[stamp]"
   ]
  },
  {
   "cell_type": "code",
   "execution_count": 117,
   "id": "bb5c589e",
   "metadata": {},
   "outputs": [
    {
     "name": "stdout",
     "output_type": "stream",
     "text": [
      "-1.008090797166731\n"
     ]
    },
    {
     "data": {
      "text/plain": [
       "-1.008090797166731"
      ]
     },
     "execution_count": 117,
     "metadata": {},
     "output_type": "execute_result"
    }
   ],
   "source": [
    "# 2011-01-10 -1.008091\n",
    "# 판다스는 날짜 형식을 넣어주지 않아도 그냥 해줌. 파이썬은 %Y이런거 해줬어야 했는데\n",
    "print(ts['1/10/2011'])\n",
    "ts['20110110']"
   ]
  },
  {
   "cell_type": "code",
   "execution_count": 118,
   "id": "c9b7e99c",
   "metadata": {},
   "outputs": [
    {
     "name": "stdout",
     "output_type": "stream",
     "text": [
      "2000-01-01    0.039236\n",
      "2000-01-02    2.195693\n",
      "2000-01-03   -2.153309\n",
      "2000-01-04    1.007582\n",
      "2000-01-05    0.598258\n",
      "                ...   \n",
      "2002-09-22    0.618611\n",
      "2002-09-23    0.400850\n",
      "2002-09-24    1.281385\n",
      "2002-09-25    0.549510\n",
      "2002-09-26    0.334592\n",
      "Freq: D, Length: 1000, dtype: float64 \n",
      "\n"
     ]
    }
   ],
   "source": [
    "longer_ts = pd.Series(np.random.randn(1000),\n",
    "                      index=pd.date_range('1/1/2000',periods=1000))\n",
    "print(longer_ts,'\\n')"
   ]
  },
  {
   "cell_type": "code",
   "execution_count": 119,
   "id": "07ba17ef",
   "metadata": {
    "scrolled": true
   },
   "outputs": [
    {
     "data": {
      "text/plain": [
       "2001-01-01    0.689747\n",
       "2001-01-02   -0.962895\n",
       "2001-01-03   -2.456295\n",
       "2001-01-04   -0.937062\n",
       "2001-01-05   -0.040071\n",
       "                ...   \n",
       "2001-12-27    0.074289\n",
       "2001-12-28    1.270534\n",
       "2001-12-29    0.160730\n",
       "2001-12-30   -0.508701\n",
       "2001-12-31   -0.661328\n",
       "Freq: D, Length: 365, dtype: float64"
      ]
     },
     "execution_count": 119,
     "metadata": {},
     "output_type": "execute_result"
    }
   ],
   "source": [
    "longer_ts['2001']"
   ]
  },
  {
   "cell_type": "code",
   "execution_count": 120,
   "id": "3e79eee3",
   "metadata": {},
   "outputs": [
    {
     "data": {
      "text/plain": [
       "2001-05-01   -0.607802\n",
       "2001-05-02    0.193207\n",
       "2001-05-03    0.090980\n",
       "2001-05-04    1.156583\n",
       "2001-05-05   -1.161094\n",
       "Freq: D, dtype: float64"
      ]
     },
     "execution_count": 120,
     "metadata": {},
     "output_type": "execute_result"
    }
   ],
   "source": [
    "longer_ts['2001-05'][:5]"
   ]
  },
  {
   "cell_type": "code",
   "execution_count": 121,
   "id": "d33b7a36",
   "metadata": {
    "scrolled": true
   },
   "outputs": [
    {
     "data": {
      "text/plain": [
       "2011-01-02   -0.094863\n",
       "2011-01-05   -0.577987\n",
       "2011-01-07   -0.434135\n",
       "2011-01-08   -0.624827\n",
       "2011-01-10   -1.008091\n",
       "2011-01-12   -0.082314\n",
       "dtype: float64"
      ]
     },
     "execution_count": 121,
     "metadata": {},
     "output_type": "execute_result"
    }
   ],
   "source": [
    "ts"
   ]
  },
  {
   "cell_type": "code",
   "execution_count": 122,
   "id": "57f88b66",
   "metadata": {
    "scrolled": true
   },
   "outputs": [
    {
     "data": {
      "text/plain": [
       "2011-01-07   -0.434135\n",
       "2011-01-08   -0.624827\n",
       "2011-01-10   -1.008091\n",
       "2011-01-12   -0.082314\n",
       "dtype: float64"
      ]
     },
     "execution_count": 122,
     "metadata": {},
     "output_type": "execute_result"
    }
   ],
   "source": [
    "ts[datetime(2011,1,7):]"
   ]
  },
  {
   "cell_type": "code",
   "execution_count": 124,
   "id": "8532fa18",
   "metadata": {},
   "outputs": [
    {
     "data": {
      "text/plain": [
       "2011-01-02   -0.094863\n",
       "2011-01-05   -0.577987\n",
       "2011-01-07   -0.434135\n",
       "2011-01-08   -0.624827\n",
       "2011-01-10   -1.008091\n",
       "2011-01-12   -0.082314\n",
       "dtype: float64"
      ]
     },
     "execution_count": 124,
     "metadata": {},
     "output_type": "execute_result"
    }
   ],
   "source": [
    "ts"
   ]
  },
  {
   "cell_type": "code",
   "execution_count": 127,
   "id": "180dd9f3",
   "metadata": {},
   "outputs": [
    {
     "name": "stdout",
     "output_type": "stream",
     "text": [
      "2011-01-05   -0.577987\n",
      "2011-01-07   -0.434135\n",
      "dtype: float64\n"
     ]
    }
   ],
   "source": [
    "# truncate : 반올림하는게 아니라 소수점 있으면 버림하는 것. \n",
    "print(ts.truncate(before='2011-01-05',after='2011-01-07'))"
   ]
  },
  {
   "cell_type": "code",
   "execution_count": 128,
   "id": "f2d7c189",
   "metadata": {
    "scrolled": false
   },
   "outputs": [
    {
     "name": "stdout",
     "output_type": "stream",
     "text": [
      "2011-01-02   -0.094863\n",
      "2011-01-05   -0.577987\n",
      "2011-01-07   -0.434135\n",
      "2011-01-08   -0.624827\n",
      "dtype: float64\n"
     ]
    }
   ],
   "source": [
    "print(ts.truncate(after='1/9/2011'))  #이 날짜 이전게 나옴"
   ]
  },
  {
   "cell_type": "code",
   "execution_count": 129,
   "id": "8d4dd335",
   "metadata": {
    "scrolled": true
   },
   "outputs": [
    {
     "data": {
      "text/plain": [
       "DatetimeIndex(['2020-10-07', '2020-10-08', '2020-10-09', '2020-10-10',\n",
       "               '2020-10-11', '2020-10-12', '2020-10-13', '2020-10-14',\n",
       "               '2020-10-15', '2020-10-16', '2020-10-17', '2020-10-18',\n",
       "               '2020-10-19', '2020-10-20'],\n",
       "              dtype='datetime64[ns]', freq='D')"
      ]
     },
     "execution_count": 129,
     "metadata": {},
     "output_type": "execute_result"
    }
   ],
   "source": [
    "pd.date_range('2020-10-7','2020-10-20')"
   ]
  },
  {
   "cell_type": "markdown",
   "id": "b925624b",
   "metadata": {},
   "source": [
    "시계열 함수 정리 링크 https://predictors.tistory.com/26"
   ]
  },
  {
   "cell_type": "code",
   "execution_count": 131,
   "id": "42b6e47f",
   "metadata": {
    "scrolled": true
   },
   "outputs": [
    {
     "data": {
      "text/plain": [
       "DatetimeIndex(['2021-07-20 14:11:52.432812', '2021-07-21 14:11:52.432812',\n",
       "               '2021-07-22 14:11:52.432812', '2021-07-23 14:11:52.432812',\n",
       "               '2021-07-24 14:11:52.432812', '2021-07-25 14:11:52.432812',\n",
       "               '2021-07-26 14:11:52.432812', '2021-07-27 14:11:52.432812',\n",
       "               '2021-07-28 14:11:52.432812', '2021-07-29 14:11:52.432812',\n",
       "               '2021-07-30 14:11:52.432812', '2021-07-31 14:11:52.432812',\n",
       "               '2021-08-01 14:11:52.432812', '2021-08-02 14:11:52.432812'],\n",
       "              dtype='datetime64[ns]', freq='D')"
      ]
     },
     "execution_count": 131,
     "metadata": {},
     "output_type": "execute_result"
    }
   ],
   "source": [
    "from datetime import datetime\n",
    "from datetime import timedelta\n",
    "now = datetime.now()\n",
    "in_two_weeks = now + timedelta(weeks=2)\n",
    "\n",
    "pd.date_range(datetime.now(),in_two_weeks)"
   ]
  },
  {
   "cell_type": "code",
   "execution_count": 133,
   "id": "6f5edc4e",
   "metadata": {},
   "outputs": [
    {
     "data": {
      "text/plain": [
       "DatetimeIndex(['2020-10-01 00:00:00', '2020-10-05 18:00:00',\n",
       "               '2020-10-10 12:00:00', '2020-10-15 06:00:00',\n",
       "               '2020-10-20 00:00:00'],\n",
       "              dtype='datetime64[ns]', freq=None)"
      ]
     },
     "execution_count": 133,
     "metadata": {},
     "output_type": "execute_result"
    }
   ],
   "source": [
    "# 구간이 4개고, 기간이 5개인 것. 기간 사이사이가 4개니까. periods는 기간을 나타낸다. \n",
    "pd.date_range(start='2020-10-01', end='2020-10-20',periods=5)\n"
   ]
  }
 ],
 "metadata": {
  "kernelspec": {
   "display_name": "Python 3",
   "language": "python",
   "name": "python3"
  },
  "language_info": {
   "codemirror_mode": {
    "name": "ipython",
    "version": 3
   },
   "file_extension": ".py",
   "mimetype": "text/x-python",
   "name": "python",
   "nbconvert_exporter": "python",
   "pygments_lexer": "ipython3",
   "version": "3.9.5"
  }
 },
 "nbformat": 4,
 "nbformat_minor": 5
}
