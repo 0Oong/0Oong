{
 "cells": [
  {
   "cell_type": "markdown",
   "id": "9fc4fc1e",
   "metadata": {},
   "source": [
    "# 0728"
   ]
  },
  {
   "cell_type": "code",
   "execution_count": 1,
   "id": "3a010582",
   "metadata": {},
   "outputs": [],
   "source": [
    "#샘플의 수가 많을 수록 모집단에 가까워진다 (물리적으로 어려우나 원리적으로는 그렇다)"
   ]
  },
  {
   "cell_type": "markdown",
   "id": "935ee097",
   "metadata": {},
   "source": [
    "### [모집단 분포와 표본분포]\n",
    "\n",
    "- 모집단: 어떤 통계적 실험의 대상이 되는 모든 대상물. ex. 대한민국 모든 남성의 키 데이터, 2018 수능점수 데이터\n",
    "모집단 분포: 모집단은 데이터 집단이므로 어떠한 분포를 이루며 이 데이터가 이루는 확률 분포가 모집단 분포  \n",
    "- 모수: 모집단의 특성을 나타내는 수치로 모평균,모분산,모표준편차,모비율,모상관관계 등  \n",
    "수능점수 전체데이터를 알고 싶은 것이 아니라 전체 수능점수 평균, 표준편차를 알고 싶어한다. 수능점수와 달리 일반적으로 대부분의 모집단 분포는 완전하게 알려진 것이 없으며 전수조사는 경제적, 공간적, 시간적 제약으로 인해 거의 불가능\n",
    "- 표본: 모집단의 모수(특성)을 알기 위하여 표본을 추출해서 모집단의 모수를 추정\n",
    "- 확률표본: 모집단을 구성하는 모든 구성원이 표본으로 뽑힐 확률을 동일하게 하여 추출한 표본. Random이란 무작위라는 의미로, 어떠한 의도를 가지지 않는다는 것을 의미하며, 모든 구성원이 뽑힐 확률이 동일하다는 개념.\n",
    "- 통계량: 확률표본의 특성을 설명하는 값으로 표본평균, 표본분산, 표본표준편차, 표본비율, 표본상관관계 등\n",
    "모수는 모집단이 변하지 않기 때문에 그 값이 변하지 않으나 통계량은 표본을 어떻게 추출하느냐에 따라서 그 값이 다르게 나타난다.\n",
    "- 확률변수: 무작위 실험을 했을 때 특정 확률로 발생하는 각각의 결과를 수치값으로 표현한 변수. 동전의 앞과 뒤\n",
    "- 확률분포: 확률변수 X의 모든 값과 그 에 대응하는 확률값들의 분포. 동전의 앞 0.5, 뒤 0.5\n",
    "무작위로 표본 30개씩 반복해서 100번 추출하면 100번 추출한 표본 30개의 평균값들을 100개 구할 수 있다. 추출된 표본들의 각 평균값들에 대한 발생 분포를 그려보면 특정 확률변수에 대응하는 확률을 가진 확률 분포를 그릴 수 있다. 이것을 통계량의 확률분포라고 할 수 있고 이를 표본분포라고 부른다.\n",
    "- 통계량이 확률 변수라는 의미: 확률변수의 확률분포가 수학적으로 설명가능한 분포(예, 정규분포)를 따른다고 하면 특정 확률변수와 확률함수를 알고 있다면 특정 사건이 일어날 확률을 계산할 수 있으며 더 나아가 모수와 통계량의 관계를 알고 있다면 그것을 통해 모수에 대한 통계적인 추정을 할 수 있다. 즉 통계량의 확률 함수 또는 표본 분포를 안다고 가정하면 이를 이용해 모수를 추정할 수 있다.\n",
    "\n",
    "### [표본통계량 성질]\n",
    "\n",
    "- 샘플사이즈가 크면 표본평균은 모평균에 가까워진다.\n",
    "- 샘플사이즈가 커질수록 표본평균의 표준편차가 작아짐. 샘플사이즈를 크게 하면 흩어짐이 적은 신뢰할 수 있는 표본평균을 얻을 수 있다.\n",
    "- 표준오차는이론상 표본평균의 표준편차 크기인데 샘플사이즈가 커지면 표준오차는 작아짐\n",
    "- 모분산은 0.64, 표본분산의 평균값은 0.575로 분산이 과소평가되어짐 -> 불편분산을 사용, 편향을 제거(ddof =1)\n",
    "- 샘플사이즈가 커질수록 불편분산은 모분산(0.64)에 가까워짐\n",
    "- 불편성 : 추정량의 기댓값이 진짜 모수(모집단의 파라미터)가 되는 특성. 편향이 없는 추정량\n",
    "- 일치성 : 샘플사이즈가 커지면 추정량이 진짜 모수에 가까워지는 특성\n",
    "- 표본평균과 불편분산은 둘다 불편성을 가지고 있다고 할 수 있다.\n",
    "- 샘플사이즈를 크게 하면 표본평균은 모평균에 가까워지고 불편분산은 모분산에 가까워지므로 일치성을 가짐\n",
    "- 큰수의 법칙 : 표본의 크기가 커지면 표본평균이 모평균에 가까워지는 방법을 표현한 법칙\n",
    "- 중심극한정리 : 모집단분포가 무엇이든지간에 샘플사이즈가 커지면 표본 평균들이 이루는 분포가 모집단의 평균μ, 표준편차σ/sqrt(n)인 정규분포에 가까워진다는 정리\n",
    "https://drhongdatanote.tistory.com/57\n",
    "### [표본분산이 분산을 과소평가하는 이유]\n",
    "\n",
    "- 분산은 '데이터와 평균값의 간의 거리' 이므로 모평균 간의 거리를 계산 : np.sum((fish_data - mu)**2)/N\n",
    "호수안에 물고기가 7마리 있다. 몸길이 {1,2,3,4,5,6,7}, 모평균 4,\n",
    "샘플링 3마리 {1,2,3} 표본평균 2\n",
    "이때 분산은 모평균을 모르기 때문에 표본평균과의 거리를 계산하며 분산을 과소평가 하게된다.\n",
    "표본 분산 보다 조금 더 큰 값이 되도록 보정하기 위하여 N 대신 N-1로 나누어 불편분산을 구할 수 있다.\n",
    "### [통계량 선정시 평가기준]\n",
    "\n",
    "- 불편성: 표본으로부터 구한 통계량의 기대치가 추정하려 하는 모수의 실제 값에 같거나 가까워지는 성질을 의미\n",
    "- 효율성: 모수 추정시 분산이 작을수록 모수를 정확하게 추정할 가능성이 높다.\n",
    "- 일치성: 표본의 크기가 커감에 따라서 표본의 통계량이 모집단의 모수와 일치하는 것을 의미\n",
    "- 충분성: 동일한 표본으로부터 얻은 추정량이 모집단의 모수에 대한 정보를 더 많이 제공하는 것을 의미\n",
    "### [정규분포]\n",
    "https://quickdata.tistory.com/26\n",
    "https://math100.tistory.com/40\n",
    "- 정규분포는 연속확률분포로서 가장 자주 쓰이는 확률분포입니다. 모양은 평균을 중심으로 하나의 봉우리형태를 띄며 한 집단의 많은 사람들의 키, 몸무게, 시험성적 등의 데이터에 잘 나타나는 분포\n",
    "\n",
    "- 누적분포함수 : 확률분포에서 얻은 확률변수 3 이하가 되는 확률. Cumulative density function\n",
    "stats.norm.cdf(loc = 4, scale = 0.8, x = 3)\n",
    "- 정규분포의 확률밀도 계산\n",
    "확률변수 3일때의 확률밀도 N(3|4,0.8**2)\n",
    "stats.norm.pdf(loc = 4, scale = 0.8, x = 3) Probability density function\n",
    "- 하측확률 : \"확률변수 x가 N보다 낮을 확률은 M퍼센트다\" 에서 N을 고정하고 M을 구하는 경우\n",
    "이때의 M이 하측확률이며 M(확률)을 고정하고 N(변수)을 구하는 경우 이때의 N이 퍼센트포인트 하측확률이 2.5%가 되는 퍼센트포인트\n",
    "stats.norm.ppf(loc = 4, scale = 0.8, q = 0.025) Percent point function\n",
    "stats.norm.pdf(x=x)로 하여 loc와 scale을 지정하지 않을 경우 표준정규분포가 됨. probability density function\n",
    "stats.norm.rvs() 함수는 정규확률분포로부터 난수 생성. Random variates\n",
    "t분포의 의미 : 모분산을 모르는 상황에서도 표본평균의 분포에 대해 애기할 수 있으며\n",
    "t분포를 만들 때 표본에서 계산한 포준오차로 표본평균을 표준화함\n",
    "표본에서 계산한 표준오차로 표본평균을 표준화했을 경우의 결과가 t분포를 따른다는 사실을 이용하면 얻어낸 표본평균에 관한 불확실성을 짐작할 수 있음.\n",
    "### [t분포의 특성]\n",
    "\n",
    "t분포는 모집단이 정규분포 이더라도 분산 σ²이 알려져 있지 않고 표분의 수가 적은 경우에, 평균 μ에 대한 신뢰구간 추정 및 가설검정에 아주 유용하게 쓰이는 분포\n",
    "\n",
    "t분포는 표준정규분포처럼 0을 중심으로 종형의 모습을 가진 대칭 분포이다.\n",
    "t분포의 꼬리는 표준정규분포보다 두껍다(fat tail).\n",
    "t분포는 자유도 n에 따라 모습이 변하는데, 자유도 n이 커짐에 따라 표준정규분포 N(0,1)에 수렴한다.\n",
    "통상 모집단의 분산이 알려져 있지 않은 경우, 표분분포를 결정할 때 표본의 크기가 30 이하이면 t분포를, 그 크기가 30 이상이면 표준정규분포를 이용\n",
    "### [일반선형모형 vs. 일반화선형모형]\n",
    "\n",
    "일반선형모형과 일반화선형모형의 주요 차이점은 바로 접근의 차이이다. 일반선형모형(General linear model, 이하 GLM)은 엄격하게(strictly) 잔차들이 조건부 정규분포를 따른다고 가정하는 반면 일반화선형모형(Generalized linear model, 이하 GLiM)은 이 가정을 엄격하게 따르지 않는다. 즉, 잔차들이 exponential family 등 다양한 다른 분포를 가질 수 있다고 가정한다.\n",
    "\n",
    "일반화선형모형은 종속변수에 적절한 link function을 적용하는 방법이다. 이는 오차항의 확률 분포를 무엇으로 보느냐에 따라 어느정도 정해져 있는데, 오차항의 확률분포가 binomial이면 link function은 logit이고, exponential이면 inverse, poisson이면 log를 link function으로 취한다.\n",
    "\n",
    "### [일반화선형모델과 관계가 깊은 확률분포]\n",
    "\n",
    "정규분포 이외의 확률분포를 사용할 수 있다는 것이 일반화선형모델의 큰 특징이며\n",
    "정규분포 이외에 이항분포, 푸아송분포 등 일반화선형모델과 관계가 깊은 확률분포가 있음\n",
    "이항분포 : 정규분포와 달리 좌우 비대칭인 히스토그램 확인\n",
    "푸아송 분포 : 카운트 데이터가 따르는 이산형 확률분포\n",
    "카운트 데이터가 0 이상의 정수라는 특징\n",
    "모수는 강도(일이 일어날 횟수에 대한 기댓값, 발생 강도) 람다밖에 없음\n",
    "푸아송 분포는 이항분포에서 도출할 수 있으며 푸아송 분포는 성공확률이 한없이 0에 가깝지만 시행횟수가 무한히 많은 이항분포임\n",
    "### [이항분포와 푸아송 분포의 관계]\n",
    "\n",
    "푸아송 분포는 1개, 또는 2개 등의 카운트 데이터가 따르는 이산형 확률분포\n",
    "푸아송 분포의 모수는 강도(일이 일어날 횟수에 대한 기대값, 발생 강도) 람다밖에 없으며 기댓값과 분산도 람다값과 같다.\n",
    "예를들어 하루의 교통사고 사상자수라는 카운트 데이터가 있다고 할 때 사고에 휘말릴 가능성이 있는 사람 수는 길을 걷고 있는 모든 사람 수이므로 N은 매우 큰 값이 되며 사고에 휘말릴 확률 p는 매우 작다. 일어나기 어려운 사건이지만 대상이 되는 사람 수가 굉장히 많을 때의 발생건수가 푸아송 분포를 따른다고 할 수 있다.\n",
    "성공확률이 한없이 0에 가깝지만 시행횟수가 무한히 많은 이항분포라고 할 수 있다."
   ]
  },
  {
   "cell_type": "code",
   "execution_count": 2,
   "id": "4510e606",
   "metadata": {},
   "outputs": [
    {
     "data": {
      "text/plain": [
       "array([2, 3, 3, 4, 4, 4, 4, 5, 5, 6])"
      ]
     },
     "execution_count": 2,
     "metadata": {},
     "output_type": "execute_result"
    }
   ],
   "source": [
    "import numpy as np \n",
    "import pandas as pd\n",
    "\n",
    "fish_data = np.array([2,3,3,4,4,4,4,5,5,6])\n",
    "fish_data"
   ]
  },
  {
   "cell_type": "code",
   "execution_count": 3,
   "id": "2f4f9ce1",
   "metadata": {},
   "outputs": [
    {
     "data": {
      "text/plain": [
       "40"
      ]
     },
     "execution_count": 3,
     "metadata": {},
     "output_type": "execute_result"
    }
   ],
   "source": [
    "np.sum(fish_data)"
   ]
  },
  {
   "cell_type": "code",
   "execution_count": 4,
   "id": "070f4441",
   "metadata": {},
   "outputs": [
    {
     "data": {
      "text/plain": [
       "10"
      ]
     },
     "execution_count": 4,
     "metadata": {},
     "output_type": "execute_result"
    }
   ],
   "source": [
    "len(fish_data)"
   ]
  },
  {
   "cell_type": "code",
   "execution_count": 5,
   "id": "360cb46d",
   "metadata": {},
   "outputs": [
    {
     "data": {
      "text/plain": [
       "4.0"
      ]
     },
     "execution_count": 5,
     "metadata": {},
     "output_type": "execute_result"
    }
   ],
   "source": [
    "#평균 \n",
    "N = len(fish_data)\n",
    "sum_value = np.sum(fish_data)\n",
    "mu = sum_value / N\n",
    "mu\n"
   ]
  },
  {
   "cell_type": "code",
   "execution_count": 6,
   "id": "fd15999e",
   "metadata": {},
   "outputs": [
    {
     "data": {
      "text/plain": [
       "4.0"
      ]
     },
     "execution_count": 6,
     "metadata": {},
     "output_type": "execute_result"
    }
   ],
   "source": [
    "np.mean(fish_data)"
   ]
  },
  {
   "cell_type": "code",
   "execution_count": 7,
   "id": "d02083de",
   "metadata": {},
   "outputs": [
    {
     "data": {
      "text/plain": [
       "1.2"
      ]
     },
     "execution_count": 7,
     "metadata": {},
     "output_type": "execute_result"
    }
   ],
   "source": [
    "#표본분산 \n",
    "sigma_2_sample = np.sum((fish_data-mu)**2) / N\n",
    "sigma_2_sample"
   ]
  },
  {
   "cell_type": "code",
   "execution_count": 8,
   "id": "23e6dbde",
   "metadata": {},
   "outputs": [
    {
     "data": {
      "text/plain": [
       "1.2"
      ]
     },
     "execution_count": 8,
     "metadata": {},
     "output_type": "execute_result"
    }
   ],
   "source": [
    "fish_data.var()"
   ]
  },
  {
   "cell_type": "code",
   "execution_count": 9,
   "id": "b807a827",
   "metadata": {},
   "outputs": [
    {
     "data": {
      "text/plain": [
       "1.2"
      ]
     },
     "execution_count": 9,
     "metadata": {},
     "output_type": "execute_result"
    }
   ],
   "source": [
    "np.var(fish_data)"
   ]
  },
  {
   "cell_type": "code",
   "execution_count": 10,
   "id": "1ec381cf",
   "metadata": {},
   "outputs": [
    {
     "data": {
      "text/plain": [
       "1.3333333333333333"
      ]
     },
     "execution_count": 10,
     "metadata": {},
     "output_type": "execute_result"
    }
   ],
   "source": [
    "# ddof=1으로 하면 값이 퍼짐\n",
    "np.var(fish_data,ddof=1)"
   ]
  },
  {
   "cell_type": "code",
   "execution_count": 11,
   "id": "bed75074",
   "metadata": {},
   "outputs": [
    {
     "data": {
      "text/plain": [
       "1.0954451150103321"
      ]
     },
     "execution_count": 11,
     "metadata": {},
     "output_type": "execute_result"
    }
   ],
   "source": [
    "np.std(fish_data)"
   ]
  },
  {
   "cell_type": "code",
   "execution_count": 12,
   "id": "dd5f7870",
   "metadata": {},
   "outputs": [
    {
     "data": {
      "text/plain": [
       "1.2"
      ]
     },
     "execution_count": 12,
     "metadata": {},
     "output_type": "execute_result"
    }
   ],
   "source": [
    "#표본분산 \n",
    "np.var(fish_data,ddof=0)"
   ]
  },
  {
   "cell_type": "code",
   "execution_count": 13,
   "id": "d62ec6d8",
   "metadata": {},
   "outputs": [
    {
     "data": {
      "text/plain": [
       "1.0954451150103321"
      ]
     },
     "execution_count": 13,
     "metadata": {},
     "output_type": "execute_result"
    }
   ],
   "source": [
    "#표준편차 \n",
    "np.std(fish_data,ddof=0)"
   ]
  },
  {
   "cell_type": "code",
   "execution_count": 14,
   "id": "bdeb24d9",
   "metadata": {},
   "outputs": [
    {
     "data": {
      "text/plain": [
       "1.3333333333333333"
      ]
     },
     "execution_count": 14,
     "metadata": {},
     "output_type": "execute_result"
    }
   ],
   "source": [
    "#불편분산\n",
    "np.var(fish_data,ddof=1)"
   ]
  },
  {
   "cell_type": "code",
   "execution_count": 15,
   "id": "fc0407c2",
   "metadata": {},
   "outputs": [
    {
     "data": {
      "text/plain": [
       "1.1547005383792515"
      ]
     },
     "execution_count": 15,
     "metadata": {},
     "output_type": "execute_result"
    }
   ],
   "source": [
    "#불편 표준 편차 \n",
    "np.std(fish_data,ddof=1)"
   ]
  },
  {
   "cell_type": "code",
   "execution_count": 16,
   "id": "2234e2c1",
   "metadata": {},
   "outputs": [
    {
     "name": "stdout",
     "output_type": "stream",
     "text": [
      "1.15\n"
     ]
    },
    {
     "data": {
      "text/plain": [
       "1.15"
      ]
     },
     "execution_count": 16,
     "metadata": {},
     "output_type": "execute_result"
    }
   ],
   "source": [
    "#소수점 2번째 자리까지 (1번버전)\n",
    "std1 = np.std(fish_data,ddof=1).round(2)\n",
    "print(std1)\n",
    "\n",
    "#소수점 2번째 자리까지 (2번 버전)\n",
    "std2 = np.std(fish_data,ddof=1).round(2)\n",
    "\n",
    "np.round(std2,2)"
   ]
  },
  {
   "cell_type": "code",
   "execution_count": 17,
   "id": "521f36bf",
   "metadata": {},
   "outputs": [
    {
     "name": "stdout",
     "output_type": "stream",
     "text": [
      "7.0\n",
      "20.0\n",
      "4.47213595499958\n"
     ]
    },
    {
     "data": {
      "text/plain": [
       "0.0"
      ]
     },
     "execution_count": 17,
     "metadata": {},
     "output_type": "execute_result"
    }
   ],
   "source": [
    "# a의 평균, 분산, 표준편차, 편차의 평균 구하기 \n",
    "#분산과 표준편차는 n-1 적용\n",
    "a = np.arange(15)\n",
    "\n",
    "#평균\n",
    "m = np.mean(a)\n",
    "#분산\n",
    "v = np.var(a, ddof=1)\n",
    "#표준편차\n",
    "s = np.std(a, ddof=1)\n",
    "\n",
    "print(m)\n",
    "print(v)\n",
    "print(s)\n",
    "\n",
    "#편차평균 구하기 \n",
    "np.mean(a-m)\n"
   ]
  },
  {
   "cell_type": "markdown",
   "id": "9eb096e8",
   "metadata": {},
   "source": [
    "* 편차 평균이 왜 0이 나올까?\n",
    "원소들 : 5, 6, 7\n",
    "3개 수의 평균은 0 \n",
    "\n",
    "- 5-6 =-1\n",
    "- 6-6 =0\n",
    "- 7-6 =1\n",
    "\n",
    "* 결과 0 \n",
    "\n"
   ]
  },
  {
   "cell_type": "markdown",
   "id": "5fcc791d",
   "metadata": {},
   "source": [
    "### 편차평균이 왜 0이 나올까\n",
    "ar = np.arange(15)\n",
    "print(ar)\n",
    "print(ar-7) 을 해보시면\n",
    "\n",
    "[ 0  1  2  3  4  5  6  7  8  9 10 11 12 13 14]\n",
    "[-7 -6 -5 -4 -3 -2 -1  0  1  2  3  4  5  6  7]\n",
    "\n",
    "이런 값이 나오니.. 아래가 편차에요\n",
    "\n",
    "# 식 : print(a-m)"
   ]
  },
  {
   "cell_type": "code",
   "execution_count": 18,
   "id": "d3aa4338",
   "metadata": {},
   "outputs": [],
   "source": [
    "### 중앙값 : 중간에 있는 값\n",
    "### 이상치가 있으면 중앙값을 더 참고해야 한다 "
   ]
  },
  {
   "cell_type": "code",
   "execution_count": 19,
   "id": "3f032e0d",
   "metadata": {},
   "outputs": [
    {
     "name": "stdout",
     "output_type": "stream",
     "text": [
      "3.25 4.75 4.0\n"
     ]
    }
   ],
   "source": [
    "### 사분위수 구하는 방법 (25%, 75%)\n",
    "from scipy import stats\n",
    "a = stats.scoreatpercentile(fish_data, 25)\n",
    "b = stats.scoreatpercentile(fish_data, 75)\n",
    "c = stats.scoreatpercentile(fish_data, 50)\n",
    "print(a, b, c)"
   ]
  },
  {
   "cell_type": "code",
   "execution_count": 20,
   "id": "5f0fa556",
   "metadata": {},
   "outputs": [
    {
     "data": {
      "text/plain": [
       "array([2, 3, 3, 4, 4, 4, 4, 5, 5, 6])"
      ]
     },
     "execution_count": 20,
     "metadata": {},
     "output_type": "execute_result"
    }
   ],
   "source": [
    "fish_data"
   ]
  },
  {
   "cell_type": "code",
   "execution_count": 21,
   "id": "6daaaa62",
   "metadata": {},
   "outputs": [
    {
     "data": {
      "text/plain": [
       "array([3.25, 4.75])"
      ]
     },
     "execution_count": 21,
     "metadata": {},
     "output_type": "execute_result"
    }
   ],
   "source": [
    "### 사분위수 구하는 방법 (25%, 75%)\n",
    "stats.scoreatpercentile(fish_data,[25,75])"
   ]
  },
  {
   "cell_type": "code",
   "execution_count": 22,
   "id": "893e565d",
   "metadata": {},
   "outputs": [],
   "source": [
    "fish_data2 = np.array([2,3,3,4,4,4,4,5,5,6,100])"
   ]
  },
  {
   "cell_type": "code",
   "execution_count": 23,
   "id": "faafe2fc",
   "metadata": {},
   "outputs": [
    {
     "name": "stdout",
     "output_type": "stream",
     "text": [
      "[  2   3   3   4   4   4   4   5   5   6 100]\n",
      "평균 :  12.73\n",
      "중앙값 :  4.0\n"
     ]
    }
   ],
   "source": [
    "print(fish_data2)\n",
    "print('평균 : ', fish_data2.mean().round(2))\n",
    "print('중앙값 : ', np.median(fish_data2))"
   ]
  },
  {
   "cell_type": "code",
   "execution_count": 24,
   "id": "35d25fea",
   "metadata": {},
   "outputs": [
    {
     "data": {
      "text/html": [
       "<div>\n",
       "<style scoped>\n",
       "    .dataframe tbody tr th:only-of-type {\n",
       "        vertical-align: middle;\n",
       "    }\n",
       "\n",
       "    .dataframe tbody tr th {\n",
       "        vertical-align: top;\n",
       "    }\n",
       "\n",
       "    .dataframe thead th {\n",
       "        text-align: right;\n",
       "    }\n",
       "</style>\n",
       "<table border=\"1\" class=\"dataframe\">\n",
       "  <thead>\n",
       "    <tr style=\"text-align: right;\">\n",
       "      <th></th>\n",
       "      <th>species</th>\n",
       "      <th>length</th>\n",
       "    </tr>\n",
       "  </thead>\n",
       "  <tbody>\n",
       "    <tr>\n",
       "      <th>0</th>\n",
       "      <td>A</td>\n",
       "      <td>2</td>\n",
       "    </tr>\n",
       "    <tr>\n",
       "      <th>1</th>\n",
       "      <td>A</td>\n",
       "      <td>3</td>\n",
       "    </tr>\n",
       "    <tr>\n",
       "      <th>2</th>\n",
       "      <td>A</td>\n",
       "      <td>4</td>\n",
       "    </tr>\n",
       "    <tr>\n",
       "      <th>3</th>\n",
       "      <td>B</td>\n",
       "      <td>6</td>\n",
       "    </tr>\n",
       "    <tr>\n",
       "      <th>4</th>\n",
       "      <td>B</td>\n",
       "      <td>8</td>\n",
       "    </tr>\n",
       "    <tr>\n",
       "      <th>5</th>\n",
       "      <td>B</td>\n",
       "      <td>10</td>\n",
       "    </tr>\n",
       "  </tbody>\n",
       "</table>\n",
       "</div>"
      ],
      "text/plain": [
       "  species  length\n",
       "0       A       2\n",
       "1       A       3\n",
       "2       A       4\n",
       "3       B       6\n",
       "4       B       8\n",
       "5       B      10"
      ]
     },
     "execution_count": 24,
     "metadata": {},
     "output_type": "execute_result"
    }
   ],
   "source": [
    "import pandas as pd\n",
    "\n",
    "fish_multi = pd.read_csv('/Users/joy/cakd3/stat/5_2_fm.csv')\n",
    "fish_multi"
   ]
  },
  {
   "cell_type": "code",
   "execution_count": 25,
   "id": "e7f33a2d",
   "metadata": {},
   "outputs": [
    {
     "name": "stdout",
     "output_type": "stream",
     "text": [
      "         length\n",
      "species        \n",
      "A           3.0\n",
      "B           8.0\n",
      "         length\n",
      "species        \n",
      "A           1.0\n",
      "B           2.0\n"
     ]
    },
    {
     "data": {
      "text/html": [
       "<div>\n",
       "<style scoped>\n",
       "    .dataframe tbody tr th:only-of-type {\n",
       "        vertical-align: middle;\n",
       "    }\n",
       "\n",
       "    .dataframe tbody tr th {\n",
       "        vertical-align: top;\n",
       "    }\n",
       "\n",
       "    .dataframe thead tr th {\n",
       "        text-align: left;\n",
       "    }\n",
       "\n",
       "    .dataframe thead tr:last-of-type th {\n",
       "        text-align: right;\n",
       "    }\n",
       "</style>\n",
       "<table border=\"1\" class=\"dataframe\">\n",
       "  <thead>\n",
       "    <tr>\n",
       "      <th></th>\n",
       "      <th colspan=\"8\" halign=\"left\">length</th>\n",
       "    </tr>\n",
       "    <tr>\n",
       "      <th></th>\n",
       "      <th>count</th>\n",
       "      <th>mean</th>\n",
       "      <th>std</th>\n",
       "      <th>min</th>\n",
       "      <th>25%</th>\n",
       "      <th>50%</th>\n",
       "      <th>75%</th>\n",
       "      <th>max</th>\n",
       "    </tr>\n",
       "    <tr>\n",
       "      <th>species</th>\n",
       "      <th></th>\n",
       "      <th></th>\n",
       "      <th></th>\n",
       "      <th></th>\n",
       "      <th></th>\n",
       "      <th></th>\n",
       "      <th></th>\n",
       "      <th></th>\n",
       "    </tr>\n",
       "  </thead>\n",
       "  <tbody>\n",
       "    <tr>\n",
       "      <th>A</th>\n",
       "      <td>3.0</td>\n",
       "      <td>3.0</td>\n",
       "      <td>1.0</td>\n",
       "      <td>2.0</td>\n",
       "      <td>2.5</td>\n",
       "      <td>3.0</td>\n",
       "      <td>3.5</td>\n",
       "      <td>4.0</td>\n",
       "    </tr>\n",
       "    <tr>\n",
       "      <th>B</th>\n",
       "      <td>3.0</td>\n",
       "      <td>8.0</td>\n",
       "      <td>2.0</td>\n",
       "      <td>6.0</td>\n",
       "      <td>7.0</td>\n",
       "      <td>8.0</td>\n",
       "      <td>9.0</td>\n",
       "      <td>10.0</td>\n",
       "    </tr>\n",
       "  </tbody>\n",
       "</table>\n",
       "</div>"
      ],
      "text/plain": [
       "        length                                    \n",
       "         count mean  std  min  25%  50%  75%   max\n",
       "species                                           \n",
       "A          3.0  3.0  1.0  2.0  2.5  3.0  3.5   4.0\n",
       "B          3.0  8.0  2.0  6.0  7.0  8.0  9.0  10.0"
      ]
     },
     "execution_count": 25,
     "metadata": {},
     "output_type": "execute_result"
    }
   ],
   "source": [
    "group=fish_multi.groupby('species')\n",
    "print(group.mean())\n",
    "print(group.std(ddof=1))\n",
    "group.describe()"
   ]
  },
  {
   "cell_type": "code",
   "execution_count": 26,
   "id": "87ab49e8",
   "metadata": {},
   "outputs": [
    {
     "name": "stdout",
     "output_type": "stream",
     "text": [
      "length    5.5\n",
      "dtype: float64\n",
      "length    3.082207\n",
      "dtype: float64\n"
     ]
    },
    {
     "name": "stderr",
     "output_type": "stream",
     "text": [
      "<ipython-input-26-f3ba4e40618a>:2: FutureWarning: Dropping of nuisance columns in DataFrame reductions (with 'numeric_only=None') is deprecated; in a future version this will raise TypeError.  Select only valid columns before calling the reduction.\n",
      "  print(group.mean())\n",
      "<ipython-input-26-f3ba4e40618a>:3: FutureWarning: Dropping of nuisance columns in DataFrame reductions (with 'numeric_only=None') is deprecated; in a future version this will raise TypeError.  Select only valid columns before calling the reduction.\n",
      "  print(group.std(ddof=1))\n"
     ]
    },
    {
     "data": {
      "text/html": [
       "<div>\n",
       "<style scoped>\n",
       "    .dataframe tbody tr th:only-of-type {\n",
       "        vertical-align: middle;\n",
       "    }\n",
       "\n",
       "    .dataframe tbody tr th {\n",
       "        vertical-align: top;\n",
       "    }\n",
       "\n",
       "    .dataframe thead th {\n",
       "        text-align: right;\n",
       "    }\n",
       "</style>\n",
       "<table border=\"1\" class=\"dataframe\">\n",
       "  <thead>\n",
       "    <tr style=\"text-align: right;\">\n",
       "      <th></th>\n",
       "      <th>length</th>\n",
       "    </tr>\n",
       "  </thead>\n",
       "  <tbody>\n",
       "    <tr>\n",
       "      <th>count</th>\n",
       "      <td>6.000000</td>\n",
       "    </tr>\n",
       "    <tr>\n",
       "      <th>mean</th>\n",
       "      <td>5.500000</td>\n",
       "    </tr>\n",
       "    <tr>\n",
       "      <th>std</th>\n",
       "      <td>3.082207</td>\n",
       "    </tr>\n",
       "    <tr>\n",
       "      <th>min</th>\n",
       "      <td>2.000000</td>\n",
       "    </tr>\n",
       "    <tr>\n",
       "      <th>25%</th>\n",
       "      <td>3.250000</td>\n",
       "    </tr>\n",
       "    <tr>\n",
       "      <th>50%</th>\n",
       "      <td>5.000000</td>\n",
       "    </tr>\n",
       "    <tr>\n",
       "      <th>75%</th>\n",
       "      <td>7.500000</td>\n",
       "    </tr>\n",
       "    <tr>\n",
       "      <th>max</th>\n",
       "      <td>10.000000</td>\n",
       "    </tr>\n",
       "  </tbody>\n",
       "</table>\n",
       "</div>"
      ],
      "text/plain": [
       "          length\n",
       "count   6.000000\n",
       "mean    5.500000\n",
       "std     3.082207\n",
       "min     2.000000\n",
       "25%     3.250000\n",
       "50%     5.000000\n",
       "75%     7.500000\n",
       "max    10.000000"
      ]
     },
     "execution_count": 26,
     "metadata": {},
     "output_type": "execute_result"
    }
   ],
   "source": [
    "group=pd.read_csv('/Users/joy/cakd3/stat/5_2_fm.csv')\n",
    "print(group.mean())\n",
    "print(group.std(ddof=1))\n",
    "group.describe()\n"
   ]
  },
  {
   "cell_type": "code",
   "execution_count": 27,
   "id": "e62b1003",
   "metadata": {},
   "outputs": [
    {
     "data": {
      "text/html": [
       "<div>\n",
       "<style scoped>\n",
       "    .dataframe tbody tr th:only-of-type {\n",
       "        vertical-align: middle;\n",
       "    }\n",
       "\n",
       "    .dataframe tbody tr th {\n",
       "        vertical-align: top;\n",
       "    }\n",
       "\n",
       "    .dataframe thead tr th {\n",
       "        text-align: left;\n",
       "    }\n",
       "\n",
       "    .dataframe thead tr:last-of-type th {\n",
       "        text-align: right;\n",
       "    }\n",
       "</style>\n",
       "<table border=\"1\" class=\"dataframe\">\n",
       "  <thead>\n",
       "    <tr>\n",
       "      <th></th>\n",
       "      <th colspan=\"3\" halign=\"left\">length</th>\n",
       "    </tr>\n",
       "    <tr>\n",
       "      <th></th>\n",
       "      <th>mean</th>\n",
       "      <th>var</th>\n",
       "      <th>std</th>\n",
       "    </tr>\n",
       "    <tr>\n",
       "      <th>species</th>\n",
       "      <th></th>\n",
       "      <th></th>\n",
       "      <th></th>\n",
       "    </tr>\n",
       "  </thead>\n",
       "  <tbody>\n",
       "    <tr>\n",
       "      <th>A</th>\n",
       "      <td>3.0</td>\n",
       "      <td>1.0</td>\n",
       "      <td>1.0</td>\n",
       "    </tr>\n",
       "    <tr>\n",
       "      <th>B</th>\n",
       "      <td>8.0</td>\n",
       "      <td>4.0</td>\n",
       "      <td>2.0</td>\n",
       "    </tr>\n",
       "  </tbody>\n",
       "</table>\n",
       "</div>"
      ],
      "text/plain": [
       "        length          \n",
       "          mean  var  std\n",
       "species                 \n",
       "A          3.0  1.0  1.0\n",
       "B          8.0  4.0  2.0"
      ]
     },
     "execution_count": 27,
     "metadata": {},
     "output_type": "execute_result"
    }
   ],
   "source": [
    "#그룹별 통계, 분산, 표준편차 구하기 \n",
    "fish_multi.groupby('species').agg(['mean','var','std'])"
   ]
  },
  {
   "cell_type": "code",
   "execution_count": 28,
   "id": "fa2ae1c5",
   "metadata": {},
   "outputs": [
    {
     "data": {
      "text/html": [
       "<div>\n",
       "<style scoped>\n",
       "    .dataframe tbody tr th:only-of-type {\n",
       "        vertical-align: middle;\n",
       "    }\n",
       "\n",
       "    .dataframe tbody tr th {\n",
       "        vertical-align: top;\n",
       "    }\n",
       "\n",
       "    .dataframe thead th {\n",
       "        text-align: right;\n",
       "    }\n",
       "</style>\n",
       "<table border=\"1\" class=\"dataframe\">\n",
       "  <thead>\n",
       "    <tr style=\"text-align: right;\">\n",
       "      <th></th>\n",
       "      <th>length</th>\n",
       "    </tr>\n",
       "    <tr>\n",
       "      <th>species</th>\n",
       "      <th></th>\n",
       "    </tr>\n",
       "  </thead>\n",
       "  <tbody>\n",
       "    <tr>\n",
       "      <th>A</th>\n",
       "      <td>3.0</td>\n",
       "    </tr>\n",
       "    <tr>\n",
       "      <th>B</th>\n",
       "      <td>8.0</td>\n",
       "    </tr>\n",
       "  </tbody>\n",
       "</table>\n",
       "</div>"
      ],
      "text/plain": [
       "         length\n",
       "species        \n",
       "A           3.0\n",
       "B           8.0"
      ]
     },
     "metadata": {},
     "output_type": "display_data"
    },
    {
     "data": {
      "text/html": [
       "<div>\n",
       "<style scoped>\n",
       "    .dataframe tbody tr th:only-of-type {\n",
       "        vertical-align: middle;\n",
       "    }\n",
       "\n",
       "    .dataframe tbody tr th {\n",
       "        vertical-align: top;\n",
       "    }\n",
       "\n",
       "    .dataframe thead th {\n",
       "        text-align: right;\n",
       "    }\n",
       "</style>\n",
       "<table border=\"1\" class=\"dataframe\">\n",
       "  <thead>\n",
       "    <tr style=\"text-align: right;\">\n",
       "      <th></th>\n",
       "      <th>length</th>\n",
       "    </tr>\n",
       "    <tr>\n",
       "      <th>species</th>\n",
       "      <th></th>\n",
       "    </tr>\n",
       "  </thead>\n",
       "  <tbody>\n",
       "    <tr>\n",
       "      <th>A</th>\n",
       "      <td>1.0</td>\n",
       "    </tr>\n",
       "    <tr>\n",
       "      <th>B</th>\n",
       "      <td>2.0</td>\n",
       "    </tr>\n",
       "  </tbody>\n",
       "</table>\n",
       "</div>"
      ],
      "text/plain": [
       "         length\n",
       "species        \n",
       "A           1.0\n",
       "B           2.0"
      ]
     },
     "metadata": {},
     "output_type": "display_data"
    },
    {
     "data": {
      "text/html": [
       "<div>\n",
       "<style scoped>\n",
       "    .dataframe tbody tr th:only-of-type {\n",
       "        vertical-align: middle;\n",
       "    }\n",
       "\n",
       "    .dataframe tbody tr th {\n",
       "        vertical-align: top;\n",
       "    }\n",
       "\n",
       "    .dataframe thead tr th {\n",
       "        text-align: left;\n",
       "    }\n",
       "\n",
       "    .dataframe thead tr:last-of-type th {\n",
       "        text-align: right;\n",
       "    }\n",
       "</style>\n",
       "<table border=\"1\" class=\"dataframe\">\n",
       "  <thead>\n",
       "    <tr>\n",
       "      <th></th>\n",
       "      <th colspan=\"3\" halign=\"left\">length</th>\n",
       "    </tr>\n",
       "    <tr>\n",
       "      <th></th>\n",
       "      <th>mean</th>\n",
       "      <th>var</th>\n",
       "      <th>std</th>\n",
       "    </tr>\n",
       "    <tr>\n",
       "      <th>species</th>\n",
       "      <th></th>\n",
       "      <th></th>\n",
       "      <th></th>\n",
       "    </tr>\n",
       "  </thead>\n",
       "  <tbody>\n",
       "    <tr>\n",
       "      <th>A</th>\n",
       "      <td>3.0</td>\n",
       "      <td>1.0</td>\n",
       "      <td>1.0</td>\n",
       "    </tr>\n",
       "    <tr>\n",
       "      <th>B</th>\n",
       "      <td>8.0</td>\n",
       "      <td>4.0</td>\n",
       "      <td>2.0</td>\n",
       "    </tr>\n",
       "  </tbody>\n",
       "</table>\n",
       "</div>"
      ],
      "text/plain": [
       "        length          \n",
       "          mean  var  std\n",
       "species                 \n",
       "A          3.0  1.0  1.0\n",
       "B          8.0  4.0  2.0"
      ]
     },
     "metadata": {},
     "output_type": "display_data"
    }
   ],
   "source": [
    "#그룹별 통계량 계산\n",
    "grouped = fish_multi.groupby('species')\n",
    "display(grouped.mean())\n",
    "display(grouped.std())\n",
    "grouped.describe()\n",
    "\n",
    "\n",
    "#제발 짧게 쓰자\n",
    "display(fish_multi.groupby('species').agg(['mean','var','std']))"
   ]
  },
  {
   "cell_type": "code",
   "execution_count": 29,
   "id": "5a443ed2",
   "metadata": {},
   "outputs": [
    {
     "name": "stdout",
     "output_type": "stream",
     "text": [
      "      x   y\n",
      "0  18.5  34\n",
      "1  18.7  39\n",
      "2  19.1  41\n",
      "3  19.7  38\n",
      "4  21.5  45\n",
      "5  21.7  41\n",
      "6  21.8  52\n",
      "7  22.0  44\n",
      "8  23.4  44\n",
      "9  23.8  49\n",
      "x    1.909508\n",
      "y    5.292552\n",
      "dtype: float64\n"
     ]
    }
   ],
   "source": [
    "cov_data=pd.read_csv('/Users/joy/cakd3/stat/4_cov.csv')\n",
    "print(cov_data)\n",
    "print(cov_data.std(ddof=1)) #x, y에 대한 std가 각각 나옴"
   ]
  },
  {
   "cell_type": "code",
   "execution_count": 30,
   "id": "fe5b6f12",
   "metadata": {},
   "outputs": [
    {
     "data": {
      "text/plain": [
       "array([[ 3.64622222,  7.67333333],\n",
       "       [ 7.67333333, 28.01111111]])"
      ]
     },
     "execution_count": 30,
     "metadata": {},
     "output_type": "execute_result"
    }
   ],
   "source": [
    "#공분산 행렬 구하기 \n",
    "import scipy as sp \n",
    "import numpy as np\n",
    "\n",
    "np.cov(cov_data.x,cov_data.y,ddof=1)"
   ]
  },
  {
   "cell_type": "code",
   "execution_count": 31,
   "id": "a30e891c",
   "metadata": {},
   "outputs": [
    {
     "data": {
      "text/html": [
       "<div>\n",
       "<style scoped>\n",
       "    .dataframe tbody tr th:only-of-type {\n",
       "        vertical-align: middle;\n",
       "    }\n",
       "\n",
       "    .dataframe tbody tr th {\n",
       "        vertical-align: top;\n",
       "    }\n",
       "\n",
       "    .dataframe thead th {\n",
       "        text-align: right;\n",
       "    }\n",
       "</style>\n",
       "<table border=\"1\" class=\"dataframe\">\n",
       "  <thead>\n",
       "    <tr style=\"text-align: right;\">\n",
       "      <th></th>\n",
       "      <th>x</th>\n",
       "      <th>y</th>\n",
       "    </tr>\n",
       "  </thead>\n",
       "  <tbody>\n",
       "    <tr>\n",
       "      <th>0</th>\n",
       "      <td>18.5</td>\n",
       "      <td>34</td>\n",
       "    </tr>\n",
       "    <tr>\n",
       "      <th>1</th>\n",
       "      <td>18.7</td>\n",
       "      <td>39</td>\n",
       "    </tr>\n",
       "    <tr>\n",
       "      <th>2</th>\n",
       "      <td>19.1</td>\n",
       "      <td>41</td>\n",
       "    </tr>\n",
       "    <tr>\n",
       "      <th>3</th>\n",
       "      <td>19.7</td>\n",
       "      <td>38</td>\n",
       "    </tr>\n",
       "    <tr>\n",
       "      <th>4</th>\n",
       "      <td>21.5</td>\n",
       "      <td>45</td>\n",
       "    </tr>\n",
       "  </tbody>\n",
       "</table>\n",
       "</div>"
      ],
      "text/plain": [
       "      x   y\n",
       "0  18.5  34\n",
       "1  18.7  39\n",
       "2  19.1  41\n",
       "3  19.7  38\n",
       "4  21.5  45"
      ]
     },
     "execution_count": 31,
     "metadata": {},
     "output_type": "execute_result"
    }
   ],
   "source": [
    "cov_data.head()"
   ]
  },
  {
   "cell_type": "code",
   "execution_count": 32,
   "id": "67b3239a",
   "metadata": {},
   "outputs": [
    {
     "name": "stdout",
     "output_type": "stream",
     "text": [
      "21.020000000000003 42.7\n"
     ]
    },
    {
     "data": {
      "text/plain": [
       "7.673333333333336"
      ]
     },
     "execution_count": 32,
     "metadata": {},
     "output_type": "execute_result"
    }
   ],
   "source": [
    "# 공분산 \n",
    "# x 의 편차, y 의 편차를 곱해서 합산한 뒤\n",
    "# N-1 로 나눈다.\n",
    "\n",
    "xm = np.mean(cov_data['x'])\n",
    "ym = np.mean(cov_data['y'])\n",
    "\n",
    "print(xm, ym)\n",
    "np.sum((cov_data['x']-xm) * (cov_data['y'] -ym))/(len(cov_data)-1)"
   ]
  },
  {
   "cell_type": "code",
   "execution_count": 101,
   "id": "34aac0a1",
   "metadata": {},
   "outputs": [
    {
     "data": {
      "text/plain": [
       "0   -3.634400\n",
       "1   -4.634844\n",
       "2   -4.262400\n",
       "3   -2.490400\n",
       "4    1.278933\n",
       "5    1.509600\n",
       "6    2.684933\n",
       "7    2.502267\n",
       "8    6.076933\n",
       "9    8.642711\n",
       "dtype: float64"
      ]
     },
     "execution_count": 101,
     "metadata": {},
     "output_type": "execute_result"
    }
   ],
   "source": [
    "#공분산 x, y / 길이 / 평균\n",
    "# sum((x - x평균) * (y - y평균)) / n-1   \n",
    "\n",
    "x = cov_data['x']\n",
    "y = cov_data['y']\n",
    "\n",
    "xN = len(x)\n",
    "yN = len(y)\n",
    "\n",
    "x_sum = np.sum(x)\n",
    "y_sum = np.sum(y)\n",
    "\n",
    "\n",
    "x_mu = x_sum / xN\n",
    "y_mu = x_sum / yN\n",
    "\n",
    "cor_v = (( x - x_mu) * ( y - y_mu)) / (xN-1)\n",
    "\n",
    "cor_v"
   ]
  },
  {
   "cell_type": "code",
   "execution_count": 34,
   "id": "f2ab3821",
   "metadata": {},
   "outputs": [
    {
     "data": {
      "text/plain": [
       "array([[1.       , 0.7592719],\n",
       "       [0.7592719, 1.       ]])"
      ]
     },
     "execution_count": 34,
     "metadata": {},
     "output_type": "execute_result"
    }
   ],
   "source": [
    "#상관 행렬 \n",
    "np.corrcoef(cov_data.x,cov_data.y)"
   ]
  },
  {
   "cell_type": "code",
   "execution_count": 35,
   "id": "47cd0378",
   "metadata": {},
   "outputs": [],
   "source": [
    "#상관계수 풀어서 구하기 "
   ]
  },
  {
   "cell_type": "code",
   "execution_count": 104,
   "id": "bd048fe5",
   "metadata": {},
   "outputs": [
    {
     "name": "stdout",
     "output_type": "stream",
     "text": [
      "0.76\n",
      "0.7592719041137088\n"
     ]
    },
    {
     "data": {
      "text/plain": [
       "0.76"
      ]
     },
     "execution_count": 104,
     "metadata": {},
     "output_type": "execute_result"
    }
   ],
   "source": [
    "sd = np.sum((x-xm) * (y -ym))\n",
    "md = ( np.sum((x-xm)**2) * np.sum((y-ym)**2) )**0.5\n",
    "\n",
    "\n",
    "r = (np.sum((x-xm) * (y -ym)) / (( np.sum((x-xm)**2) * np.sum((y-ym)**2) )**0.5)).round(2)\n",
    "k = sd/md\n",
    "print (r)\n",
    "print (k)\n",
    "\n",
    "round(sd/md, 2)"
   ]
  },
  {
   "cell_type": "code",
   "execution_count": 37,
   "id": "be61439a",
   "metadata": {},
   "outputs": [
    {
     "data": {
      "text/plain": [
       "array([[1.       , 0.7592719],\n",
       "       [0.7592719, 1.       ]])"
      ]
     },
     "execution_count": 37,
     "metadata": {},
     "output_type": "execute_result"
    }
   ],
   "source": [
    "np.corrcoef(cov_data.x, cov_data.y)"
   ]
  },
  {
   "cell_type": "code",
   "execution_count": 105,
   "id": "fb12affb",
   "metadata": {},
   "outputs": [
    {
     "data": {
      "text/html": [
       "<div>\n",
       "<style scoped>\n",
       "    .dataframe tbody tr th:only-of-type {\n",
       "        vertical-align: middle;\n",
       "    }\n",
       "\n",
       "    .dataframe tbody tr th {\n",
       "        vertical-align: top;\n",
       "    }\n",
       "\n",
       "    .dataframe thead th {\n",
       "        text-align: right;\n",
       "    }\n",
       "</style>\n",
       "<table border=\"1\" class=\"dataframe\">\n",
       "  <thead>\n",
       "    <tr style=\"text-align: right;\">\n",
       "      <th></th>\n",
       "      <th>x</th>\n",
       "      <th>y</th>\n",
       "    </tr>\n",
       "  </thead>\n",
       "  <tbody>\n",
       "    <tr>\n",
       "      <th>x</th>\n",
       "      <td>1.000000</td>\n",
       "      <td>0.759272</td>\n",
       "    </tr>\n",
       "    <tr>\n",
       "      <th>y</th>\n",
       "      <td>0.759272</td>\n",
       "      <td>1.000000</td>\n",
       "    </tr>\n",
       "  </tbody>\n",
       "</table>\n",
       "</div>"
      ],
      "text/plain": [
       "          x         y\n",
       "x  1.000000  0.759272\n",
       "y  0.759272  1.000000"
      ]
     },
     "execution_count": 105,
     "metadata": {},
     "output_type": "execute_result"
    }
   ],
   "source": [
    "# 데이터 프레임에서 상관계수 만들기 \n",
    "cov_data.corr()"
   ]
  },
  {
   "cell_type": "code",
   "execution_count": 107,
   "id": "9870d8dd",
   "metadata": {},
   "outputs": [
    {
     "data": {
      "text/html": [
       "<div>\n",
       "<style scoped>\n",
       "    .dataframe tbody tr th:only-of-type {\n",
       "        vertical-align: middle;\n",
       "    }\n",
       "\n",
       "    .dataframe tbody tr th {\n",
       "        vertical-align: top;\n",
       "    }\n",
       "\n",
       "    .dataframe thead th {\n",
       "        text-align: right;\n",
       "    }\n",
       "</style>\n",
       "<table border=\"1\" class=\"dataframe\">\n",
       "  <thead>\n",
       "    <tr style=\"text-align: right;\">\n",
       "      <th></th>\n",
       "      <th>x</th>\n",
       "      <th>y</th>\n",
       "    </tr>\n",
       "  </thead>\n",
       "  <tbody>\n",
       "    <tr>\n",
       "      <th>x</th>\n",
       "      <td>3.646222</td>\n",
       "      <td>7.673333</td>\n",
       "    </tr>\n",
       "    <tr>\n",
       "      <th>y</th>\n",
       "      <td>7.673333</td>\n",
       "      <td>28.011111</td>\n",
       "    </tr>\n",
       "  </tbody>\n",
       "</table>\n",
       "</div>"
      ],
      "text/plain": [
       "          x          y\n",
       "x  3.646222   7.673333\n",
       "y  7.673333  28.011111"
      ]
     },
     "execution_count": 107,
     "metadata": {},
     "output_type": "execute_result"
    }
   ],
   "source": [
    "cov_data.cov()"
   ]
  },
  {
   "cell_type": "code",
   "execution_count": 108,
   "id": "64732ea1",
   "metadata": {
    "scrolled": true
   },
   "outputs": [
    {
     "data": {
      "text/plain": [
       "array([[ 3.64622222,  7.67333333],\n",
       "       [ 7.67333333, 28.01111111]])"
      ]
     },
     "execution_count": 108,
     "metadata": {},
     "output_type": "execute_result"
    }
   ],
   "source": [
    "np.cov(cov_data.x, cov_data.y, ddof=1)"
   ]
  },
  {
   "cell_type": "code",
   "execution_count": 112,
   "id": "21c1f085",
   "metadata": {},
   "outputs": [
    {
     "data": {
      "text/plain": [
       "array([[1.       , 0.7592719],\n",
       "       [0.7592719, 1.       ]])"
      ]
     },
     "execution_count": 112,
     "metadata": {},
     "output_type": "execute_result"
    }
   ],
   "source": [
    "np.corrcoef(cov_data.x, cov_data.y, ddof=1)"
   ]
  },
  {
   "cell_type": "code",
   "execution_count": 40,
   "id": "84f48cb7",
   "metadata": {},
   "outputs": [
    {
     "data": {
      "text/plain": [
       "array([3.19934287, 3.15762361, 4.49991742, 4.30831947, 4.55065595,\n",
       "       3.79438554, 2.51958377, 4.26937586, 4.86842027, 3.70030474])"
      ]
     },
     "execution_count": 40,
     "metadata": {},
     "output_type": "execute_result"
    }
   ],
   "source": [
    "# 평균4, 표준편차가 0.8인 정규분포에서 샘플 10개 추출 \n",
    "\n",
    "from scipy import stats\n",
    "\n",
    "population = stats.norm(loc=4, scale=0.8)\n",
    "\n",
    "population.rvs(size=10)\n",
    "\n",
    "# rvs(random variable sampling) : 샘플 추출 시 사용 "
   ]
  },
  {
   "cell_type": "code",
   "execution_count": 41,
   "id": "cded3893",
   "metadata": {},
   "outputs": [
    {
     "data": {
      "text/plain": [
       "<function RandomState.normal>"
      ]
     },
     "execution_count": 41,
     "metadata": {},
     "output_type": "execute_result"
    }
   ],
   "source": [
    "np.random.normal"
   ]
  },
  {
   "cell_type": "code",
   "execution_count": 42,
   "id": "03942eb3",
   "metadata": {},
   "outputs": [
    {
     "data": {
      "text/plain": [
       "array([0., 0., 0., 0., 0., 0., 0., 0., 0., 0.])"
      ]
     },
     "execution_count": 42,
     "metadata": {},
     "output_type": "execute_result"
    }
   ],
   "source": [
    "# 0이 10000개로 된 배열 \n",
    "sample_mean_array = np.zeros(10000)\n",
    "sample_mean_array[:10]"
   ]
  },
  {
   "cell_type": "code",
   "execution_count": 43,
   "id": "567d752c",
   "metadata": {},
   "outputs": [
    {
     "data": {
      "text/plain": [
       "array([3.49023241, 3.78968796, 4.21578217, 3.98623067, 4.38518058,\n",
       "       3.84648668, 3.93525214, 3.94126195, 3.80225091, 4.2881074 ])"
      ]
     },
     "execution_count": 43,
     "metadata": {},
     "output_type": "execute_result"
    }
   ],
   "source": [
    "#배열에 샘플사이즈 10인 표본 10000개의 표본 평균 저장\n",
    "\n",
    "for i in range(10000):\n",
    "    \n",
    "    sample_mean_array[i] = population.rvs(size=10).mean()\n",
    "sample_mean_array[:10]"
   ]
  },
  {
   "cell_type": "code",
   "execution_count": 44,
   "id": "68efc56a",
   "metadata": {},
   "outputs": [
    {
     "data": {
      "text/plain": [
       "3.99"
      ]
     },
     "execution_count": 44,
     "metadata": {},
     "output_type": "execute_result"
    }
   ],
   "source": [
    "#표본평균의 평균 구하기 \n",
    "\n",
    "sample_mean_array.mean().round(2)"
   ]
  },
  {
   "cell_type": "code",
   "execution_count": 45,
   "id": "f6c2cf79",
   "metadata": {},
   "outputs": [
    {
     "data": {
      "text/plain": [
       "0.25169906936887043"
      ]
     },
     "execution_count": 45,
     "metadata": {},
     "output_type": "execute_result"
    }
   ],
   "source": [
    "#표본평균의 표준편차 구하기 \n",
    "sample_mean_array.std(ddof=1)\n"
   ]
  },
  {
   "cell_type": "code",
   "execution_count": 46,
   "id": "f8a09168",
   "metadata": {},
   "outputs": [
    {
     "data": {
      "text/plain": [
       "0.25"
      ]
     },
     "execution_count": 46,
     "metadata": {},
     "output_type": "execute_result"
    }
   ],
   "source": [
    "import numpy as np\n",
    "\n",
    "np.std(sample_mean_array, ddof=1).round(2)"
   ]
  },
  {
   "cell_type": "code",
   "execution_count": 93,
   "id": "d2b547bd",
   "metadata": {},
   "outputs": [
    {
     "data": {
      "text/plain": [
       "<AxesSubplot:ylabel='Count'>"
      ]
     },
     "execution_count": 93,
     "metadata": {},
     "output_type": "execute_result"
    },
    {
     "data": {
      "image/png": "[encoded data removed]",
      "text/plain": [
       "<Figure size 432x288 with 1 Axes>"
      ]
     },
     "metadata": {
      "image/png": {
       "height": 244,
       "width": 382
      }
     },
     "output_type": "display_data"
    }
   ],
   "source": [
    "#표본평균의 확률밀도함수 구하기 \n",
    "\n",
    "import seaborn as sns\n",
    "\n",
    "#표본평균 10000개의 분포 보기 (히스토그램)\n",
    "sns.histplot(sample_mean_array, color='black', kde=True)"
   ]
  },
  {
   "cell_type": "code",
   "execution_count": 94,
   "id": "566f9115",
   "metadata": {},
   "outputs": [
    {
     "data": {
      "text/plain": [
       "1001"
      ]
     },
     "execution_count": 94,
     "metadata": {},
     "output_type": "execute_result"
    }
   ],
   "source": [
    "#샘플사이즈 변경 \n",
    "size_array = np.arange(10,100100, 100)\n",
    "len(size_array)"
   ]
  },
  {
   "cell_type": "code",
   "execution_count": 95,
   "id": "0c96861c",
   "metadata": {},
   "outputs": [],
   "source": [
    "sample_mean_array_size = np.zeros(len(size_array))"
   ]
  },
  {
   "cell_type": "code",
   "execution_count": 96,
   "id": "98d4ae21",
   "metadata": {},
   "outputs": [
    {
     "data": {
      "text/plain": [
       "array([3.92228729, 4.0383612 , 4.09185254, 4.01346562, 4.0047295 ,\n",
       "       4.05765729, 3.98466861, 3.99126955, 3.98909837, 4.03638272])"
      ]
     },
     "execution_count": 96,
     "metadata": {},
     "output_type": "execute_result"
    }
   ],
   "source": [
    "#샘플 사이즈를 변화시키면서 표본평균을 도출하는 시뮬레이션 \n",
    "\n",
    "np.random.seed(1)\n",
    "\n",
    "for i in range(0,len(size_array)):\n",
    "    sample = population.rvs(size=size_array[i])  #population = np.stats.norm(loc=4, scale=0.8)\n",
    "    sample_mean_array_size[i] = np.mean(sample)\n",
    "    \n",
    "sample_mean_array_size[:10]"
   ]
  },
  {
   "cell_type": "code",
   "execution_count": 113,
   "id": "b2826cfe",
   "metadata": {},
   "outputs": [],
   "source": [
    "import matplotlib.pyplot as plt"
   ]
  },
  {
   "cell_type": "code",
   "execution_count": 98,
   "id": "93dd4958",
   "metadata": {},
   "outputs": [
    {
     "data": {
      "text/plain": [
       "[<matplotlib.lines.Line2D at 0x7fdfd77b7e50>]"
      ]
     },
     "execution_count": 98,
     "metadata": {},
     "output_type": "execute_result"
    },
    {
     "data": {
      "image/png": "[encoded data removed]",
      "text/plain": [
       "<Figure size 432x288 with 1 Axes>"
      ]
     },
     "metadata": {
      "image/png": {
       "height": 248,
       "width": 379
      }
     },
     "output_type": "display_data"
    }
   ],
   "source": [
    "plt.plot(size_array, sample_mean_array_size, \n",
    "        color='black')"
   ]
  },
  {
   "cell_type": "code",
   "execution_count": 99,
   "id": "9acc95e8",
   "metadata": {},
   "outputs": [
    {
     "data": {
      "text/plain": [
       "Text(0, 0.5, 'sample mean')"
      ]
     },
     "execution_count": 99,
     "metadata": {},
     "output_type": "execute_result"
    },
    {
     "data": {
      "image/png": "[encoded data removed]",
      "text/plain": [
       "<Figure size 432x288 with 1 Axes>"
      ]
     },
     "metadata": {
      "image/png": {
       "height": 261,
       "width": 392
      }
     },
     "output_type": "display_data"
    }
   ],
   "source": [
    "#샘플사이즈가 커질수록 표본 평균이 모평균인 4에 가가워진다\n",
    "import matplotlib.pyplot as plt\n",
    "\n",
    "plt.plot(size_array, sample_mean_array_size, \n",
    "        color='black')\n",
    "\n",
    "plt.xlabel('sample size')\n",
    "plt.ylabel('sample mean')"
   ]
  },
  {
   "cell_type": "code",
   "execution_count": 54,
   "id": "a1e4a20d",
   "metadata": {},
   "outputs": [
    {
     "data": {
      "text/plain": [
       "4.001728724963021"
      ]
     },
     "execution_count": 54,
     "metadata": {},
     "output_type": "execute_result"
    }
   ],
   "source": [
    "# 사용자 함수 (표본평균 계산) : cal_sample_mean(size, n_trial)\n",
    "#담을 그릇은 표본의 수 만큼 만든다 \n",
    "\n",
    "def cal_sample_mean(size, n_trial):\n",
    "    sample_mean_array = np.zeros(n_trial)\n",
    "    for i in range(n_trial):\n",
    "        sample_mean_array[i] = population.rvs(size=size).mean() #size=size : 던진 인자만큼 뽑아라 \n",
    "    return sample_mean_array\n",
    "\n",
    "np.mean(cal_sample_mean(size=10, n_trial=10000))"
   ]
  },
  {
   "cell_type": "code",
   "execution_count": 55,
   "id": "76df2178",
   "metadata": {},
   "outputs": [
    {
     "data": {
      "text/plain": [
       "3.997093909071162"
      ]
     },
     "execution_count": 55,
     "metadata": {},
     "output_type": "execute_result"
    }
   ],
   "source": [
    "np.mean(cal_sample_mean(size=10, n_trial=10000))\n"
   ]
  },
  {
   "cell_type": "code",
   "execution_count": 114,
   "id": "a697d216",
   "metadata": {},
   "outputs": [
    {
     "data": {
      "text/html": [
       "<div>\n",
       "<style scoped>\n",
       "    .dataframe tbody tr th:only-of-type {\n",
       "        vertical-align: middle;\n",
       "    }\n",
       "\n",
       "    .dataframe tbody tr th {\n",
       "        vertical-align: top;\n",
       "    }\n",
       "\n",
       "    .dataframe thead th {\n",
       "        text-align: right;\n",
       "    }\n",
       "</style>\n",
       "<table border=\"1\" class=\"dataframe\">\n",
       "  <thead>\n",
       "    <tr style=\"text-align: right;\">\n",
       "      <th></th>\n",
       "      <th>sample_mean</th>\n",
       "      <th>size</th>\n",
       "    </tr>\n",
       "  </thead>\n",
       "  <tbody>\n",
       "    <tr>\n",
       "      <th>0</th>\n",
       "      <td>3.999145</td>\n",
       "      <td>size_10</td>\n",
       "    </tr>\n",
       "    <tr>\n",
       "      <th>1</th>\n",
       "      <td>3.552964</td>\n",
       "      <td>size_10</td>\n",
       "    </tr>\n",
       "    <tr>\n",
       "      <th>2</th>\n",
       "      <td>4.173421</td>\n",
       "      <td>size_10</td>\n",
       "    </tr>\n",
       "    <tr>\n",
       "      <th>3</th>\n",
       "      <td>3.350257</td>\n",
       "      <td>size_10</td>\n",
       "    </tr>\n",
       "    <tr>\n",
       "      <th>4</th>\n",
       "      <td>3.997462</td>\n",
       "      <td>size_10</td>\n",
       "    </tr>\n",
       "    <tr>\n",
       "      <th>...</th>\n",
       "      <td>...</td>\n",
       "      <td>...</td>\n",
       "    </tr>\n",
       "    <tr>\n",
       "      <th>9995</th>\n",
       "      <td>3.937024</td>\n",
       "      <td>size_30</td>\n",
       "    </tr>\n",
       "    <tr>\n",
       "      <th>9996</th>\n",
       "      <td>4.127803</td>\n",
       "      <td>size_30</td>\n",
       "    </tr>\n",
       "    <tr>\n",
       "      <th>9997</th>\n",
       "      <td>4.026748</td>\n",
       "      <td>size_30</td>\n",
       "    </tr>\n",
       "    <tr>\n",
       "      <th>9998</th>\n",
       "      <td>3.831378</td>\n",
       "      <td>size_30</td>\n",
       "    </tr>\n",
       "    <tr>\n",
       "      <th>9999</th>\n",
       "      <td>4.063935</td>\n",
       "      <td>size_30</td>\n",
       "    </tr>\n",
       "  </tbody>\n",
       "</table>\n",
       "<p>30000 rows × 2 columns</p>\n",
       "</div>"
      ],
      "text/plain": [
       "      sample_mean     size\n",
       "0        3.999145  size_10\n",
       "1        3.552964  size_10\n",
       "2        4.173421  size_10\n",
       "3        3.350257  size_10\n",
       "4        3.997462  size_10\n",
       "...           ...      ...\n",
       "9995     3.937024  size_30\n",
       "9996     4.127803  size_30\n",
       "9997     4.026748  size_30\n",
       "9998     3.831378  size_30\n",
       "9999     4.063935  size_30\n",
       "\n",
       "[30000 rows x 2 columns]"
      ]
     },
     "execution_count": 114,
     "metadata": {},
     "output_type": "execute_result"
    }
   ],
   "source": [
    "#샘플사이즈 10\n",
    "size_10 = cal_sample_mean(size=10, n_trial=10000)\n",
    "size_10_df = pd.DataFrame({'sample_mean' : size_10,\n",
    "                          'size':np.tile('size_10', 10000)}) #np.tile 옆에서 명령한 내용을 붙여라  \n",
    "\n",
    "#np.tile : 붙여라 \n",
    "\n",
    "\n",
    "#샘플사이즈 20 \n",
    "\n",
    "size_20 = cal_sample_mean(size=20, n_trial=10000)\n",
    "size_20_df = pd.DataFrame({'sample_mean' : size_20,\n",
    "                          'size':np.tile('size_20', 10000)})\n",
    "\n",
    "\n",
    "#샘플사이즈 30 \n",
    "\n",
    "size_30 = cal_sample_mean(size=30, n_trial=10000)\n",
    "size_30_df = pd.DataFrame({'sample_mean' : size_30,\n",
    "                          'size':np.tile('size_30', 10000)})\n",
    "\n",
    "\n",
    "#전체 합쳐서 데이터프레임 만들기\n",
    "\n",
    "sim_result=pd.concat([size_10_df, size_20_df, size_30_df])\n",
    "sim_result"
   ]
  },
  {
   "cell_type": "code",
   "execution_count": 91,
   "id": "11eab1f5",
   "metadata": {},
   "outputs": [
    {
     "data": {
      "text/plain": [
       "<AxesSubplot:xlabel='size', ylabel='sample_mean'>"
      ]
     },
     "execution_count": 91,
     "metadata": {},
     "output_type": "execute_result"
    },
    {
     "data": {
      "image/png": "[encoded data removed]",
      "text/plain": [
       "<Figure size 432x288 with 1 Axes>"
      ]
     },
     "metadata": {
      "image/png": {
       "height": 258,
       "width": 380
      }
     },
     "output_type": "display_data"
    }
   ],
   "source": [
    "sns.violinplot(x='size',  y = 'sample_mean', data= sim_result, color='b')\n",
    "\n",
    "# 샘플사이즈의 크기가 중요하다 \n",
    "# 3가지 size 전부 평균 4에 집중 분포 되어있음.\n",
    "# sample 크기가 커질 수록 점점 평균 4에 가까워짐.\n",
    "# 샘플 사이즈가 커질수록 표본평균의 표준편차가 줄어든다. (size가 작을 수록 정확도가 떨어진다)\n",
    "\n",
    "# 추출횟수가 같더라도 샘플의 사이즈가 커질수록 표본평균이 모평균에 근사함\n",
    "# 추출횟수가 같더라도 샘플의 사이즈가 커질수록 표준편차가 작아짐\n",
    "\n",
    "# 세 분포 모두 평균 4.0을 중심으로 종모양의 분포 형태를 갖는다. \n",
    "# size=10일때는 size=20,30일때보다 분포가 넓게 퍼져있고, \n",
    "# 샘플사이즈가 커질수록 분포가 평균값에 몰려있다는 것을 확인할 수 있다. \n",
    "# 즉, 샘플사이즈가 클수록 표본에서 구한 평균이 모평균과 가까운 값일 확률이 높아진다는 의미이다."
   ]
  },
  {
   "cell_type": "code",
   "execution_count": 116,
   "id": "6fcc47b0",
   "metadata": {},
   "outputs": [
    {
     "data": {
      "text/plain": [
       "array([  2,   4,   6,   8,  10,  12,  14,  16,  18,  20,  22,  24,  26,\n",
       "        28,  30,  32,  34,  36,  38,  40,  42,  44,  46,  48,  50,  52,\n",
       "        54,  56,  58,  60,  62,  64,  66,  68,  70,  72,  74,  76,  78,\n",
       "        80,  82,  84,  86,  88,  90,  92,  94,  96,  98, 100])"
      ]
     },
     "execution_count": 116,
     "metadata": {},
     "output_type": "execute_result"
    }
   ],
   "source": [
    "size_array = np.arange(2,102,2) #2에서 101까지 짝수만으로 된 배열 \n",
    "size_array #샘플사이즈\n"
   ]
  },
  {
   "cell_type": "code",
   "execution_count": 117,
   "id": "9de8fac3",
   "metadata": {},
   "outputs": [],
   "source": [
    "#표본평균의 표준편차를 저장할 배열 만들기\n",
    "\n",
    "sample_mean_std_array = np.zeros(len(size_array))\n"
   ]
  },
  {
   "cell_type": "code",
   "execution_count": 119,
   "id": "b2b3c82d",
   "metadata": {},
   "outputs": [],
   "source": [
    "# 시뮬레이션 : 샘플사이즈가 커질수록 표본평균의 표준편차가 작아진다\n",
    "np.random.seed(1)\n",
    "\n",
    "for i in range(0,len(size_array)):\n",
    "    sample_mean = cal_sample_mean(size=size_array[i], n_trial=100) #n_trial : 표본 100개 뽑아라 \n",
    "    sample_mean_std_array[i] = np.std(sample_mean, ddof=1) #표준편차라아서 ddof= 1설정 \n",
    "    \n",
    "    "
   ]
  },
  {
   "cell_type": "code",
   "execution_count": 90,
   "id": "220433f7",
   "metadata": {},
   "outputs": [
    {
     "data": {
      "text/plain": [
       "Text(0, 0.5, 'mean std value')"
      ]
     },
     "execution_count": 90,
     "metadata": {},
     "output_type": "execute_result"
    },
    {
     "data": {
      "image/png": "[encoded data removed]",
      "text/plain": [
       "<Figure size 432x288 with 1 Axes>"
      ]
     },
     "metadata": {
      "image/png": {
       "height": 258,
       "width": 385
      }
     },
     "output_type": "display_data"
    }
   ],
   "source": [
    "#표본평균의 표본편차 그래프 \n",
    "plt.plot(size_array, sample_mean_std_array, color='b')\n",
    "plt.xlabel('sample size')\n",
    "plt.ylabel('mean std value')\n",
    "\n",
    "#샘플사이즈가 커지면서 표준편차 크기가 줄어든다 "
   ]
  },
  {
   "cell_type": "code",
   "execution_count": 120,
   "id": "99177057",
   "metadata": {},
   "outputs": [
    {
     "data": {
      "text/plain": [
       "array([0.56568542, 0.4       , 0.32659863, 0.28284271, 0.25298221,\n",
       "       0.23094011, 0.21380899, 0.2       , 0.18856181, 0.17888544,\n",
       "       0.17056057, 0.16329932, 0.15689291, 0.15118579, 0.14605935,\n",
       "       0.14142136, 0.13719887, 0.13333333, 0.12977714, 0.12649111,\n",
       "       0.12344268, 0.12060454, 0.11795356, 0.11547005, 0.11313708,\n",
       "       0.11094004, 0.10886621, 0.1069045 , 0.10504515, 0.10327956,\n",
       "       0.1016001 , 0.1       , 0.09847319, 0.09701425, 0.09561829,\n",
       "       0.0942809 , 0.09299811, 0.09176629, 0.09058216, 0.08944272,\n",
       "       0.08834522, 0.08728716, 0.08626622, 0.08528029, 0.0843274 ,\n",
       "       0.08340577, 0.0825137 , 0.08164966, 0.0808122 , 0.08      ])"
      ]
     },
     "execution_count": 120,
     "metadata": {},
     "output_type": "execute_result"
    }
   ],
   "source": [
    "# 표준 오차 :  표본평균과 모평균과의 표준적인 차이 (표본으로 부터 얻은 추정량이 얼마나 떨어져 있는지를 나타낸 것)\n",
    "# 평균의 추정치에 대한 불확실도를 수치화 \n",
    "# 샘플사이즈가 커지면 표준 오차는 작아짐\n",
    "\n",
    "\n",
    "#np.sqrt : 루트\n",
    "#np.sqrt(size_array) : size_array에 루트 씌움\n",
    "\n",
    "#표준오차 구하기 \n",
    "\n",
    "standard_error = 0.8/np.sqrt(size_array)  #size_array=np.arange(2,102,2)\n",
    "standard_error\n",
    "\n",
    "#가장 마지막에 있는 100이라는 샘플사이즈가 가장 크기 때문에 표준 오차가 가장 적다 (100의 표준오차는 0.08)"
   ]
  },
  {
   "cell_type": "code",
   "execution_count": 89,
   "id": "e8f8d14a",
   "metadata": {},
   "outputs": [
    {
     "data": {
      "text/plain": [
       "Text(0, 0.5, 'mean std val')"
      ]
     },
     "execution_count": 89,
     "metadata": {},
     "output_type": "execute_result"
    },
    {
     "data": {
      "image/png": "[encoded data removed]",
      "text/plain": [
       "<Figure size 432x288 with 1 Axes>"
      ]
     },
     "metadata": {
      "image/png": {
       "height": 258,
       "width": 380
      }
     },
     "output_type": "display_data"
    }
   ],
   "source": [
    " #표본평균의 표본편차 그래프 \n",
    "plt.plot(size_array, sample_mean_std_array, color='b')\n",
    "\n",
    "# 시뮬레이션 결과와 표준오차 그래프\n",
    "plt.plot(size_array, standard_error, color='r', linestyle='dotted')\n",
    "\n",
    "plt.xlabel('sample size')\n",
    "plt.ylabel('mean std val')\n",
    "\n",
    "#표본평균의 표본편차와 표준오차의 값은 같다 "
   ]
  },
  {
   "cell_type": "code",
   "execution_count": 87,
   "id": "17122592",
   "metadata": {},
   "outputs": [
    {
     "name": "stdout",
     "output_type": "stream",
     "text": [
      "[    4     8    12 ...  9992  9996 10000]\n"
     ]
    },
    {
     "data": {
      "text/plain": [
       "Text(10100, 0.62, '0.64')"
      ]
     },
     "execution_count": 87,
     "metadata": {},
     "output_type": "execute_result"
    },
    {
     "data": {
      "image/png": "[encoded data removed]",
      "text/plain": [
       "<Figure size 432x288 with 1 Axes>"
      ]
     },
     "metadata": {
      "image/png": {
       "height": 258,
       "width": 397
      }
     },
     "output_type": "display_data"
    }
   ],
   "source": [
    "# 과제 \n",
    "# 샘플 사이즈가 커지면 불편분산은 모분산(0.64)에 가까워진다는 것을 그래프로 설명하세요\n",
    "# 권준기님\n",
    "import matplotlib.pyplot as plt\n",
    "sample_size = np.arange(4,10004,4)\n",
    "sample_size\n",
    "print(sample_size)\n",
    "sample_var = np.zeros(len(sample_size))\n",
    "\n",
    "for i in range(len(sample_size)):\n",
    "    sample = stats.norm(10,0.8).rvs(size=sample_size[i])\n",
    "    var = np.var(sample,ddof=1)\n",
    "    sample_var[i] = var\n",
    "\n",
    "tolist = [0.64 for x in range(2500)]\n",
    "\n",
    "plt.plot(sample_size,sample_var)\n",
    "plt.plot(sample_size,tolist,color='red')\n",
    "plt.xlabel('sample_size',fontsize=10)\n",
    "plt.ylabel('variance value',fontsize=10)\n",
    "plt.annotate(f'{0.64}',xy=(10100,0.62),color='red',fontsize=15)"
   ]
  },
  {
   "cell_type": "code",
   "execution_count": 88,
   "id": "598716a0",
   "metadata": {},
   "outputs": [
    {
     "data": {
      "text/plain": [
       "0.49867785050179086"
      ]
     },
     "execution_count": 88,
     "metadata": {},
     "output_type": "execute_result"
    }
   ],
   "source": [
    "# 정규분포의 확률밀도 계산 pdf=확률밀도함수\n",
    "stats.norm.pdf(loc=4, scale=0.8, x=4) #x=4일때의 확률밀도를 계산해줌"
   ]
  },
  {
   "cell_type": "code",
   "execution_count": 66,
   "id": "6f41fa88",
   "metadata": {},
   "outputs": [
    {
     "data": {
      "text/plain": [
       "[<matplotlib.lines.Line2D at 0x7fdfd5c6ac10>]"
      ]
     },
     "execution_count": 66,
     "metadata": {},
     "output_type": "execute_result"
    },
    {
     "data": {
      "image/png": "[encoded data removed]",
      "text/plain": [
       "<Figure size 432x288 with 1 Axes>"
      ]
     },
     "metadata": {
      "image/png": {
       "height": 244,
       "width": 366
      }
     },
     "output_type": "display_data"
    }
   ],
   "source": [
    "import pandas as pd\n",
    "import numpy as np\n",
    "import seaborn as sns\n",
    "import matplotlib.pyplot as plt\n",
    "%matplotlib inline\n",
    "plt.style.use('seaborn-dark')\n",
    "%config InlineBackend.figure_format = 'retina'\n",
    "\n",
    "x_plot = np.arange(1, 7.1, 0.1)\n",
    "plt.plot(x_plot, stats.norm.pdf(x=x_plot, loc=4, scale=0.8), color='black')"
   ]
  },
  {
   "cell_type": "code",
   "execution_count": 67,
   "id": "dde6818d",
   "metadata": {},
   "outputs": [
    {
     "name": "stdout",
     "output_type": "stream",
     "text": [
      "0.49867785050179086\n"
     ]
    },
    {
     "data": {
      "text/plain": [
       "0.2283113567362774"
      ]
     },
     "execution_count": 67,
     "metadata": {},
     "output_type": "execute_result"
    }
   ],
   "source": [
    "norm_dist = stats.norm(loc=4, scale=0.8)\n",
    "print(norm_dist.pdf(x=4))\n",
    "# stats.norm.pdf(loc=4, scale=0.8, x=4) 얘랑 값이 똑같이 나옴\n",
    "norm_dist.pdf(x=3)"
   ]
  },
  {
   "cell_type": "code",
   "execution_count": 68,
   "id": "0c06c699",
   "metadata": {},
   "outputs": [
    {
     "data": {
      "text/plain": [
       "0.9999115827147992"
      ]
     },
     "execution_count": 68,
     "metadata": {},
     "output_type": "execute_result"
    }
   ],
   "source": [
    "# 누적분포함수\n",
    "stats.norm.cdf(loc=4, scale=0.8, x=7)\n",
    "# 1에 근접한 값이 나옴"
   ]
  },
  {
   "cell_type": "code",
   "execution_count": 69,
   "id": "c722867b",
   "metadata": {},
   "outputs": [
    {
     "data": {
      "text/plain": [
       "[<matplotlib.lines.Line2D at 0x7fdfd59b55b0>]"
      ]
     },
     "execution_count": 69,
     "metadata": {},
     "output_type": "execute_result"
    },
    {
     "data": {
      "image/png": "[encoded data removed]",
      "text/plain": [
       "<Figure size 432x288 with 1 Axes>"
      ]
     },
     "metadata": {
      "image/png": {
       "height": 244,
       "width": 366
      }
     },
     "output_type": "display_data"
    }
   ],
   "source": [
    "x_plot=np.arange(1,7.1, 0.1)\n",
    "plt.plot(x_plot, stats.norm.cdf(x=x_plot, loc=4, scale=0.8), color='hotpink')"
   ]
  },
  {
   "cell_type": "code",
   "execution_count": 70,
   "id": "d62e6bb6",
   "metadata": {},
   "outputs": [
    {
     "data": {
      "text/plain": [
       "0.5"
      ]
     },
     "execution_count": 70,
     "metadata": {},
     "output_type": "execute_result"
    }
   ],
   "source": [
    "stats.norm.cdf(loc=4, scale=0.8, x=4)"
   ]
  },
  {
   "cell_type": "code",
   "execution_count": 71,
   "id": "84174ad8",
   "metadata": {},
   "outputs": [
    {
     "data": {
      "text/plain": [
       "4.0"
      ]
     },
     "execution_count": 71,
     "metadata": {},
     "output_type": "execute_result"
    }
   ],
   "source": [
    "#퍼센트포인트, 하측확률\n",
    "stats.norm.ppf(loc=4, scale=0.8, q=0.5)"
   ]
  },
  {
   "cell_type": "code",
   "execution_count": 72,
   "id": "89e1221f",
   "metadata": {},
   "outputs": [
    {
     "data": {
      "text/plain": [
       "0.5"
      ]
     },
     "execution_count": 72,
     "metadata": {},
     "output_type": "execute_result"
    }
   ],
   "source": [
    "# 하측확률과 cdf는 역함수 관계\n",
    "stats.norm.cdf(loc=4,scale=0.8, x=4)"
   ]
  },
  {
   "cell_type": "markdown",
   "id": "184582e5",
   "metadata": {},
   "source": [
    "#### 정규분표는 표본수가 많을 때, t분포는 표본수가 적을 때\n",
    "\n",
    "t분포는 모집단이 정규분포를 가정하더라도 분산 $\\sigma^2$이 알려져 있지 않고,표본의 수가 적은 경우에, 평균 $\\mu$에 대한 신뢰구간 추정 및 가설검정에 아주 유용하게 쓰이는 분포 \n",
    "\n",
    "[t분포의 특성]\n",
    "1. t분포는 표준정규분포처럼 0을 중심으로 종형의 모습을 가진 대칭 분포이다\n",
    "2. t분포의 꼬리는 표준정규분포보다 두껍다(fat tail)\n",
    "3. t분포는 자유도 n에 따라 모습이 변하는데, 자유도 n이 커짐에 따라 표준정규분포 N(0,1)에 수렴한다.  \n",
    "통상, 모집단의 분산이 알려져 있지 않은 경우, 표본분포를 결정할 때 표본의 크기가 30이하이면 t분포를, 그 크기가 30이상이면 표준정규분포를 이용 https://math100.tistory.com/42"
   ]
  },
  {
   "cell_type": "code",
   "execution_count": 128,
   "id": "b2f52818",
   "metadata": {},
   "outputs": [],
   "source": [
    "# t값의 표본분포\n",
    "from scipy import stats\n",
    "np.random.seed(1)\n",
    "t_value_array=np.zeros(10000)\n",
    "norm_dist=stats.norm(loc=4, scale=0.8)\n",
    "for i in range(0,10000):\n",
    "    sample = norm_dist.rvs(size=10)\n",
    "    sample_mean = np.mean(sample)\n",
    "    sample_std=np.std(sample,ddof=1)\n",
    "    sample_se = sample_std/np.sqrt(len(sample)) #se는 표준오차(표본평균-모평균)\n",
    "    t_value_array[i]=(sample_mean - 4) / sample_se  #오차 = (표본평균 - 모평균) / 표준오차\n",
    "    \n",
    "# 정규분포\n",
    "# 표준정규분포"
   ]
  },
  {
   "cell_type": "code",
   "execution_count": 129,
   "id": "26186816",
   "metadata": {},
   "outputs": [
    {
     "data": {
      "text/plain": [
       "[<matplotlib.lines.Line2D at 0x7fdfd96cfa90>]"
      ]
     },
     "execution_count": 129,
     "metadata": {},
     "output_type": "execute_result"
    },
    {
     "data": {
      "image/png": "[encoded data removed]",
      "text/plain": [
       "<Figure size 432x288 with 1 Axes>"
      ]
     },
     "metadata": {
      "image/png": {
       "height": 244,
       "width": 385
      }
     },
     "output_type": "display_data"
    }
   ],
   "source": [
    "# t분포\n",
    "import seaborn as sns\n",
    "import warnings \n",
    "warnings.filterwarnings('ignore')\n",
    "sns.distplot(t_value_array, color='black')\n",
    "\n",
    "# 표준 정규분포의 확률밀도 \n",
    "x = np.arange(-8, 8.1, 0.1)\n",
    "plt.plot(x,stats.norm.pdf(x=x),\n",
    "        color='black', linestyle='dotted')"
   ]
  },
  {
   "cell_type": "code",
   "execution_count": 136,
   "id": "f0534c3e",
   "metadata": {},
   "outputs": [
    {
     "data": {
      "text/plain": [
       "[<matplotlib.lines.Line2D at 0x7fdfda052100>]"
      ]
     },
     "execution_count": 136,
     "metadata": {},
     "output_type": "execute_result"
    },
    {
     "data": {
      "image/png": "[encoded data removed]",
      "text/plain": [
       "<Figure size 432x288 with 1 Axes>"
      ]
     },
     "metadata": {
      "image/png": {
       "height": 244,
       "width": 372
      }
     },
     "output_type": "display_data"
    }
   ],
   "source": [
    "# 자유도 n이 커짐에 따라 표준 정규분포 N(0,1)에 수렴\n",
    "plt.plot(x,stats.norm.pdf(x=x, loc=0, scale=1),\n",
    "        color='black', linestyle='dotted') #표준정규분포\n",
    "plt.plot(x,stats.t.pdf(x=x,df=5),  #df = degree of freedom : 자유도  n-1\n",
    "        color='blue')\n",
    "plt.plot(x, stats.t.pdf(x=x, df=1),\n",
    "        color='red')"
   ]
  },
  {
   "cell_type": "code",
   "execution_count": 76,
   "id": "e9a4e62d",
   "metadata": {
    "scrolled": false
   },
   "outputs": [
    {
     "data": {
      "text/html": [
       "<div>\n",
       "<style scoped>\n",
       "    .dataframe tbody tr th:only-of-type {\n",
       "        vertical-align: middle;\n",
       "    }\n",
       "\n",
       "    .dataframe tbody tr th {\n",
       "        vertical-align: top;\n",
       "    }\n",
       "\n",
       "    .dataframe thead th {\n",
       "        text-align: right;\n",
       "    }\n",
       "</style>\n",
       "<table border=\"1\" class=\"dataframe\">\n",
       "  <thead>\n",
       "    <tr style=\"text-align: right;\">\n",
       "      <th></th>\n",
       "      <th>length</th>\n",
       "    </tr>\n",
       "  </thead>\n",
       "  <tbody>\n",
       "    <tr>\n",
       "      <th>0</th>\n",
       "      <td>4.352982</td>\n",
       "    </tr>\n",
       "    <tr>\n",
       "      <th>1</th>\n",
       "      <td>3.735304</td>\n",
       "    </tr>\n",
       "    <tr>\n",
       "      <th>2</th>\n",
       "      <td>5.944617</td>\n",
       "    </tr>\n",
       "    <tr>\n",
       "      <th>3</th>\n",
       "      <td>3.798326</td>\n",
       "    </tr>\n",
       "    <tr>\n",
       "      <th>4</th>\n",
       "      <td>4.087688</td>\n",
       "    </tr>\n",
       "    <tr>\n",
       "      <th>5</th>\n",
       "      <td>5.265985</td>\n",
       "    </tr>\n",
       "    <tr>\n",
       "      <th>6</th>\n",
       "      <td>3.272614</td>\n",
       "    </tr>\n",
       "    <tr>\n",
       "      <th>7</th>\n",
       "      <td>3.526691</td>\n",
       "    </tr>\n",
       "    <tr>\n",
       "      <th>8</th>\n",
       "      <td>4.150083</td>\n",
       "    </tr>\n",
       "    <tr>\n",
       "      <th>9</th>\n",
       "      <td>3.736104</td>\n",
       "    </tr>\n",
       "  </tbody>\n",
       "</table>\n",
       "</div>"
      ],
      "text/plain": [
       "     length\n",
       "0  4.352982\n",
       "1  3.735304\n",
       "2  5.944617\n",
       "3  3.798326\n",
       "4  4.087688\n",
       "5  5.265985\n",
       "6  3.272614\n",
       "7  3.526691\n",
       "8  4.150083\n",
       "9  3.736104"
      ]
     },
     "execution_count": 76,
     "metadata": {},
     "output_type": "execute_result"
    }
   ],
   "source": [
    "import pandas as pd\n",
    "df = pd.read_csv('/Users/joy/cakd3/stat/5_7_fl.csv')\n",
    "df"
   ]
  },
  {
   "cell_type": "code",
   "execution_count": 77,
   "id": "d290a057",
   "metadata": {},
   "outputs": [],
   "source": [
    "fish = df['length']"
   ]
  },
  {
   "cell_type": "code",
   "execution_count": 78,
   "id": "d9c9a1cd",
   "metadata": {
    "scrolled": true
   },
   "outputs": [
    {
     "data": {
      "text/plain": [
       "4.19"
      ]
     },
     "execution_count": 78,
     "metadata": {},
     "output_type": "execute_result"
    }
   ],
   "source": [
    "# 모평균점추청\n",
    "mu = np.mean(fish)\n",
    "round(mu,2)"
   ]
  },
  {
   "cell_type": "code",
   "execution_count": 79,
   "id": "56668e87",
   "metadata": {
    "scrolled": true
   },
   "outputs": [
    {
     "data": {
      "text/plain": [
       "0.68"
      ]
     },
     "execution_count": 79,
     "metadata": {},
     "output_type": "execute_result"
    }
   ],
   "source": [
    "# 모분산의 점추정\n",
    "sigma_2 = np.var(fish,ddof=1)\n",
    "round(sigma_2,2)"
   ]
  },
  {
   "cell_type": "code",
   "execution_count": 80,
   "id": "34a93787",
   "metadata": {
    "scrolled": true
   },
   "outputs": [
    {
     "data": {
      "text/plain": [
       "0.26"
      ]
     },
     "execution_count": 80,
     "metadata": {},
     "output_type": "execute_result"
    }
   ],
   "source": [
    "# 표준 오차\n",
    "sigma=np.std(fish,ddof=1)\n",
    "se = sigma/np.sqrt(len(fish))\n",
    "round(se,2) #표준편차"
   ]
  },
  {
   "cell_type": "code",
   "execution_count": 81,
   "id": "9159eff5",
   "metadata": {},
   "outputs": [],
   "source": [
    "# 자유도\n",
    "df = len(fish) - 1"
   ]
  },
  {
   "cell_type": "code",
   "execution_count": 82,
   "id": "42533e98",
   "metadata": {
    "scrolled": true
   },
   "outputs": [
    {
     "data": {
      "text/plain": [
       "(3.5970100568358245, 4.777068592173221)"
      ]
     },
     "execution_count": 82,
     "metadata": {},
     "output_type": "execute_result"
    }
   ],
   "source": [
    "# 신뢰구간\n",
    "interval = stats.t.interval(alpha=0.95,df=df, loc=mu, scale=se) #여기서의 alpha = 신뢰수준\n",
    "interval"
   ]
  },
  {
   "cell_type": "code",
   "execution_count": 83,
   "id": "a260a609",
   "metadata": {
    "scrolled": true
   },
   "outputs": [
    {
     "data": {
      "text/plain": [
       "3.5970100568358245"
      ]
     },
     "execution_count": 83,
     "metadata": {},
     "output_type": "execute_result"
    }
   ],
   "source": [
    "stats.t.ppf(q = 0.025, df = df, loc = mu, scale = se)"
   ]
  },
  {
   "cell_type": "code",
   "execution_count": 84,
   "id": "ffe0b505",
   "metadata": {
    "scrolled": true
   },
   "outputs": [
    {
     "data": {
      "text/plain": [
       "(-1.7132533521824618, 10.087332001191509)"
      ]
     },
     "execution_count": 84,
     "metadata": {},
     "output_type": "execute_result"
    }
   ],
   "source": [
    "# 표준편차를 10배로 늘려서 신뢰구간 계산\n",
    "se2 = (sigma*10) / np.sqrt(len(fish))\n",
    "stats.t.interval(alpha=0.95, df=df, loc=mu,scale=se2)"
   ]
  },
  {
   "cell_type": "code",
   "execution_count": 85,
   "id": "4b9661da",
   "metadata": {
    "scrolled": true
   },
   "outputs": [
    {
     "data": {
      "text/plain": [
       "(4.0233803082774395, 4.350698340731607)"
      ]
     },
     "execution_count": 85,
     "metadata": {},
     "output_type": "execute_result"
    }
   ],
   "source": [
    "# 샘플 사이즈를 10배 늘려서 신뢰구간 계산\n",
    "df2 = (len(fish)*10)-1\n",
    "se3 = sigma/np.sqrt(len(fish)*10)\n",
    "stats.t.interval(alpha=0.95, df=df2, loc=mu, scale=se3)"
   ]
  },
  {
   "cell_type": "code",
   "execution_count": 86,
   "id": "53f7bc0c",
   "metadata": {},
   "outputs": [
    {
     "data": {
      "text/plain": [
       "(3.3393979149413973, 5.034680734067649)"
      ]
     },
     "execution_count": 86,
     "metadata": {},
     "output_type": "execute_result"
    }
   ],
   "source": [
    "# 신뢰계수가 커질수록 안전해진다고 볼 수 있으며 신뢰구간의 폭이 넓어짐\n",
    "stats.t.interval(alpha=0.99, df=df, loc=mu, scale=se)"
   ]
  }
 ],
 "metadata": {
  "kernelspec": {
   "display_name": "Python 3",
   "language": "python",
   "name": "python3"
  },
  "language_info": {
   "codemirror_mode": {
    "name": "ipython",
    "version": 3
   },
   "file_extension": ".py",
   "mimetype": "text/x-python",
   "name": "python",
   "nbconvert_exporter": "python",
   "pygments_lexer": "ipython3",
   "version": "3.9.5"
  }
 },
 "nbformat": 4,
 "nbformat_minor": 5
}
