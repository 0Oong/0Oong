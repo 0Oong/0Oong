{
 "cells": [
  {
   "cell_type": "code",
   "execution_count": 27,
   "id": "aa55b290",
   "metadata": {
    "scrolled": true
   },
   "outputs": [
    {
     "name": "stdout",
     "output_type": "stream",
     "text": [
      "0.10514476146994023\n",
      "5\n",
      "17.38495076034423\n",
      "2\n",
      "4\n",
      "[4, 3, 2]\n",
      "None\n",
      "[5, 3, 4, 1, 2]\n"
     ]
    }
   ],
   "source": [
    "# 파이썬 random 함수\n",
    "\n",
    "import random\n",
    "print(random.random())  #0.0<=x <1.0 사이\n",
    "print(random.randint(1,10))  #1과 10 사이의 정수 중 난수값 리턴\n",
    "print(random.uniform(10,20)) #값 사이의 실수를 리턴\n",
    "print(random.randrange(10)) #지정범위 int리턴 얘는 9까지\n",
    "print(random.choice([1,2,3,4,5])) #리스트 내부에 있는 요소를 랜덤하게 선택\n",
    "li = [1,2,3,4,5]\n",
    "print(random.sample(li, 3))\n",
    "print(random.shuffle(li))\n",
    "print(li)"
   ]
  },
  {
   "cell_type": "code",
   "execution_count": 37,
   "id": "5bbce478",
   "metadata": {},
   "outputs": [
    {
     "data": {
      "text/plain": [
       "array([[0.09233859, 0.18626021],\n",
       "       [0.34556073, 0.39676747],\n",
       "       [0.53881673, 0.41919451]])"
      ]
     },
     "execution_count": 37,
     "metadata": {},
     "output_type": "execute_result"
    }
   ],
   "source": [
    "# 넘파이의 np.random\n",
    "# rand : 0 ~ 1 사이의 균일분포\n",
    "# randn : 가우시안 표준 정규 분포\n",
    "# randint : 균일 분포의 정수 난수\n",
    "import numpy as np\n",
    "np.random.seed(1)\n",
    "np.random.rand(5)\n",
    "np.random.rand(3,2) #3행 2열"
   ]
  },
  {
   "cell_type": "code",
   "execution_count": 32,
   "id": "ca2ee4b2",
   "metadata": {},
   "outputs": [
    {
     "data": {
      "text/plain": [
       "13"
      ]
     },
     "execution_count": 32,
     "metadata": {},
     "output_type": "execute_result"
    }
   ],
   "source": [
    "np.random.randint(5)  #0~4까지에서 정수 난수\n",
    "np.random.randint(1,20) #1과 19사이"
   ]
  },
  {
   "cell_type": "code",
   "execution_count": 36,
   "id": "d352df4c",
   "metadata": {
    "scrolled": true
   },
   "outputs": [
    {
     "data": {
      "text/plain": [
       "array([[14, 10, 13, 19, 12],\n",
       "       [10, 14, 19, 12, 17],\n",
       "       [17, 19, 18, 16, 19]])"
      ]
     },
     "execution_count": 36,
     "metadata": {},
     "output_type": "execute_result"
    }
   ],
   "source": [
    "np.random.randint(10,size=10) #0~9까지 정수중 10개 뽑아주고 중복 가능\n",
    "np.random.randint(10,20,size=(3,5)) #10에서 20사이 3행 5엹"
   ]
  },
  {
   "cell_type": "code",
   "execution_count": 51,
   "id": "e70052ae",
   "metadata": {
    "scrolled": true
   },
   "outputs": [
    {
     "data": {
      "text/plain": [
       "array([3, 0, 0, 4, 2])"
      ]
     },
     "execution_count": 51,
     "metadata": {},
     "output_type": "execute_result"
    }
   ],
   "source": [
    "np.random.choice([1,2,3,4,5])\n",
    "np.random.choice(5,5,replace=False)  #0-4의 값을 5개 뽑으라는 뜻, False를 쓰면 중복이 안됨.\n",
    "np.random.choice(5,5)"
   ]
  },
  {
   "cell_type": "code",
   "execution_count": 52,
   "id": "bd186eff",
   "metadata": {
    "scrolled": true
   },
   "outputs": [
    {
     "data": {
      "text/plain": [
       "[1, 3, 2, 4, 5]"
      ]
     },
     "execution_count": 52,
     "metadata": {},
     "output_type": "execute_result"
    }
   ],
   "source": [
    "li = [1,2,3,4,5]\n",
    "np.random.shuffle(li)\n",
    "li"
   ]
  },
  {
   "cell_type": "code",
   "execution_count": 54,
   "id": "9f8b0ed1",
   "metadata": {
    "scrolled": true
   },
   "outputs": [
    {
     "data": {
      "text/plain": [
       "array([[ 0.51292982, -0.29809284],\n",
       "       [ 0.48851815, -0.07557171],\n",
       "       [ 1.13162939,  1.51981682]])"
      ]
     },
     "execution_count": 54,
     "metadata": {},
     "output_type": "execute_result"
    }
   ],
   "source": [
    "np.random.randn(6)\n",
    "np.random.randn(3,2)"
   ]
  },
  {
   "cell_type": "code",
   "execution_count": 59,
   "id": "8b742679",
   "metadata": {},
   "outputs": [
    {
     "data": {
      "text/plain": [
       "array([[0.62336012, 0.01582124, 0.92943723],\n",
       "       [0.69089692, 0.99732285, 0.17234051]])"
      ]
     },
     "execution_count": 59,
     "metadata": {},
     "output_type": "execute_result"
    }
   ],
   "source": [
    "#범위내 실수 출력\n",
    "np.random.uniform(1,2,3)\n",
    "np.random.uniform(0,1,(2,3))"
   ]
  },
  {
   "cell_type": "code",
   "execution_count": 57,
   "id": "afdb2c6f",
   "metadata": {
    "scrolled": true
   },
   "outputs": [
    {
     "data": {
      "text/plain": [
       "array([[0.57838961, 0.4081368 , 0.23702698],\n",
       "       [0.90337952, 0.57367949, 0.00287033]])"
      ]
     },
     "execution_count": 57,
     "metadata": {},
     "output_type": "execute_result"
    }
   ],
   "source": [
    "# random_sample은 unifor 하수의 최소값, 최대값을 각각 0,1로 지정한 것과 같음.\n",
    "np.random.random_sample((2,3)) #무조건 0-1사이 실수 뽑음"
   ]
  },
  {
   "cell_type": "code",
   "execution_count": null,
   "id": "bc4af9b2",
   "metadata": {},
   "outputs": [],
   "source": []
  }
 ],
 "metadata": {
  "kernelspec": {
   "display_name": "Python 3",
   "language": "python",
   "name": "python3"
  },
  "language_info": {
   "codemirror_mode": {
    "name": "ipython",
    "version": 3
   },
   "file_extension": ".py",
   "mimetype": "text/x-python",
   "name": "python",
   "nbconvert_exporter": "python",
   "pygments_lexer": "ipython3",
   "version": "3.9.5"
  }
 },
 "nbformat": 4,
 "nbformat_minor": 5
}
