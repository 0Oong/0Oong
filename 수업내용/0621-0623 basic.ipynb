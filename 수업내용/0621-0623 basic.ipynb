{
 "cells": [
  {
   "cell_type": "markdown",
   "id": "0b3f5981",
   "metadata": {},
   "source": [
    "## python 기초"
   ]
  },
  {
   "cell_type": "markdown",
   "id": "ba42b280",
   "metadata": {},
   "source": [
    "파이썬 버전 확인"
   ]
  },
  {
   "cell_type": "code",
   "execution_count": 2,
   "id": "ba4b6f77",
   "metadata": {},
   "outputs": [
    {
     "name": "stdout",
     "output_type": "stream",
     "text": [
      "Python 3.8.10\n"
     ]
    }
   ],
   "source": [
    "!python -V"
   ]
  },
  {
   "cell_type": "markdown",
   "id": "ab8e617e",
   "metadata": {},
   "source": [
    "표현식"
   ]
  },
  {
   "cell_type": "code",
   "execution_count": 5,
   "id": "245f9a41",
   "metadata": {},
   "outputs": [
    {
     "data": {
      "text/plain": [
       "60"
      ]
     },
     "execution_count": 5,
     "metadata": {},
     "output_type": "execute_result"
    }
   ],
   "source": [
    "273\n",
    "10+20+30"
   ]
  },
  {
   "cell_type": "markdown",
   "id": "14239b0f",
   "metadata": {},
   "source": [
    "다 출력하고 싶다면 print를 써줘야함, 맨끝은 프린트 안써줘도 나옴"
   ]
  },
  {
   "cell_type": "code",
   "execution_count": 10,
   "id": "255baeca",
   "metadata": {},
   "outputs": [
    {
     "name": "stdout",
     "output_type": "stream",
     "text": [
      "273\n",
      "60\n"
     ]
    },
    {
     "data": {
      "text/plain": [
       "'python programming'"
      ]
     },
     "execution_count": 10,
     "metadata": {},
     "output_type": "execute_result"
    }
   ],
   "source": [
    "#표현식\n",
    "print(273)\n",
    "print(10+20+30)\n",
    "\"python programming\""
   ]
  },
  {
   "cell_type": "code",
   "execution_count": 11,
   "id": "60a7b99a",
   "metadata": {},
   "outputs": [
    {
     "name": "stdout",
     "output_type": "stream",
     "text": [
      "52 Hello Python 8\n"
     ]
    }
   ],
   "source": [
    "#표현식이 하나 이상 모이면 문장\n",
    "print(52, 'Hello Python', 5+3)"
   ]
  },
  {
   "cell_type": "code",
   "execution_count": 12,
   "id": "35985650",
   "metadata": {
    "scrolled": true
   },
   "outputs": [
    {
     "name": "stdout",
     "output_type": "stream",
     "text": [
      "3\n"
     ]
    }
   ],
   "source": [
    "a=1\n",
    "b=2\n",
    "c=a+b\n",
    "print(c)"
   ]
  },
  {
   "cell_type": "code",
   "execution_count": 13,
   "id": "a5702c22",
   "metadata": {
    "scrolled": true
   },
   "outputs": [
    {
     "name": "stdout",
     "output_type": "stream",
     "text": [
      "3\n"
     ]
    }
   ],
   "source": [
    "#세미콜론은 줄 바꾸는 것과 마찬가지, 문장이 모여서 프로그램\n",
    "a=1;b=2;c=a+b\n",
    "print(c)"
   ]
  },
  {
   "cell_type": "code",
   "execution_count": 16,
   "id": "633e1174",
   "metadata": {},
   "outputs": [
    {
     "name": "stdout",
     "output_type": "stream",
     "text": [
      "['False', 'None', 'True', 'and', 'as', 'assert', 'async', 'await', 'break', 'class', 'continue', 'def', 'del', 'elif', 'else', 'except', 'finally', 'for', 'from', 'global', 'if', 'import', 'in', 'is', 'lambda', 'nonlocal', 'not', 'or', 'pass', 'raise', 'return', 'try', 'while', 'with', 'yield']\n"
     ]
    }
   ],
   "source": [
    "import keyword\n",
    "print(keyword.kwlist)"
   ]
  },
  {
   "cell_type": "markdown",
   "id": "63d8cee1",
   "metadata": {},
   "source": [
    "식별자의 기본 규칙\n",
    "- 키워드를 사용하면 안된다.\n",
    "- 특수문자는 언더 바(_)만 사용한다.\n",
    "- 숫자로 시작하면 안된다. \n",
    "- 공백을 포함할 수 없다."
   ]
  },
  {
   "cell_type": "code",
   "execution_count": 17,
   "id": "22765401",
   "metadata": {},
   "outputs": [
    {
     "ename": "SyntaxError",
     "evalue": "invalid syntax (<ipython-input-17-f25f5455f5da>, line 5)",
     "output_type": "error",
     "traceback": [
      "\u001b[1;36m  File \u001b[1;32m\"<ipython-input-17-f25f5455f5da>\"\u001b[1;36m, line \u001b[1;32m5\u001b[0m\n\u001b[1;33m    273alpha #숫자가 맨 앞 안됨\u001b[0m\n\u001b[1;37m       ^\u001b[0m\n\u001b[1;31mSyntaxError\u001b[0m\u001b[1;31m:\u001b[0m invalid syntax\n"
     ]
    }
   ],
   "source": [
    "alpha\n",
    "break #키워드라 안됨\n",
    "alpha10\n",
    "_alpha\n",
    "273alpha #숫자가 맨 앞 안됨\n",
    "AlpHa\n",
    "ALPHA\n",
    "has space #공백있어서 안됨"
   ]
  },
  {
   "cell_type": "markdown",
   "id": "37ce581d",
   "metadata": {},
   "source": [
    "파이썬은 snake_case와 CamelCase를 모두 사용\n",
    "- itemlist item_list (얘가 snake_case) ItemList (대문자+소문자, 대문자+소문자 이렇게 쓰는 거를 CamelCase라고함)\n",
    "- longinstatus를 각각 snake_case와 CamelCase로 써보자 -> login_status, LogInStatus\n",
    "- 캐멀 케이스는 (문자로 시작) 주로 __클래스 이름\n",
    "- 스네이크 케이스 (소문자로 시작) 뒤에()가 있으면 얘는 __함수\n",
    "- 스네이크 케이스 (소문자로 시작) 뒤에()가 없으면 얘는 __변수\n"
   ]
  },
  {
   "cell_type": "code",
   "execution_count": 18,
   "id": "d5f221b1",
   "metadata": {},
   "outputs": [
    {
     "name": "stdout",
     "output_type": "stream",
     "text": [
      "3이 있습니다\n"
     ]
    }
   ],
   "source": [
    "#사람이 생각하는 방식을 그대로 표현할 수 있는 언어, 파이썬\n",
    "if 3 in [1,2,3,4]: print('3이 있습니다')"
   ]
  },
  {
   "cell_type": "code",
   "execution_count": 19,
   "id": "1c9534c0",
   "metadata": {},
   "outputs": [
    {
     "name": "stdout",
     "output_type": "stream",
     "text": [
      "123\n",
      "-123\n",
      "0\n",
      "1.23\n",
      "127\n",
      "2748\n"
     ]
    }
   ],
   "source": [
    "#파이썬 자료형 - 숫자형(정수, 실수, 8진수, 16진수)\n",
    "a = 123\n",
    "b = -123\n",
    "c = 0\n",
    "d = 1.23\n",
    "e = 0o177 #8진수 00 또는 00으로 시작\n",
    "f = 0xABC #16진수 0x로 시작\n",
    "print(a)\n",
    "print(b)\n",
    "print(c)\n",
    "print(d)\n",
    "print(e)\n",
    "print(f)"
   ]
  },
  {
   "cell_type": "code",
   "execution_count": 28,
   "id": "11821d29",
   "metadata": {},
   "outputs": [
    {
     "name": "stdout",
     "output_type": "stream",
     "text": [
      "10\n",
      "2\n",
      "12\n",
      "20\n",
      "5.0\n",
      "0\n",
      "5\n",
      "4\n"
     ]
    }
   ],
   "source": [
    "#사칙연산\n",
    "a = 10\n",
    "b = 2\n",
    "c = a + b\n",
    "d = a * b\n",
    "e = a / b \n",
    "f = a % b #나눠서 나머지가 나옴\n",
    "g = a //b #나눠서 몫이 나옴\n",
    "h = 2 ** 2 #제곱\n",
    "print(a)\n",
    "print(b)\n",
    "print(c)\n",
    "print(d)\n",
    "print(e)\n",
    "print(f)\n",
    "print(g)\n",
    "print(h)"
   ]
  },
  {
   "cell_type": "code",
   "execution_count": 35,
   "id": "9383087f",
   "metadata": {},
   "outputs": [],
   "source": [
    "#다른 타입간 연산은 안됨. \n",
    "sring = \"문자열\"\n",
    "number = 273\n",
    "#string + number는 안됨 에러남"
   ]
  },
  {
   "cell_type": "code",
   "execution_count": 36,
   "id": "725998ea",
   "metadata": {},
   "outputs": [
    {
     "data": {
      "text/plain": [
       "int"
      ]
     },
     "execution_count": 36,
     "metadata": {},
     "output_type": "execute_result"
    }
   ],
   "source": [
    "a = 10\n",
    "a = \"문자\"\n",
    "a = 100\n",
    "#여기서 a 출력하면 100이 출력됨(같은게 있으면 마지막걸로 출력)\n",
    "type(a) #그래서 타입 하면 마지막인 정수, int가 나옴"
   ]
  },
  {
   "cell_type": "code",
   "execution_count": 41,
   "id": "5a002b28",
   "metadata": {},
   "outputs": [
    {
     "data": {
      "text/plain": [
       "200"
      ]
     },
     "execution_count": 41,
     "metadata": {},
     "output_type": "execute_result"
    }
   ],
   "source": [
    "#복합 대입 연산자\n",
    "num = 10 \n",
    "num += 10 #10을 더한다음에 이퀄이라는 뜻으로, num이 있는데 거기에 10을 더한 상태를 num으로 하라는 상태로 그럼  num은 20임\n",
    "num *= 10 #그리고 20이 된 num에 10을 곱한게 num이 된거임.\n",
    "num"
   ]
  },
  {
   "cell_type": "code",
   "execution_count": 43,
   "id": "76b59db0",
   "metadata": {
    "scrolled": true
   },
   "outputs": [
    {
     "name": "stdout",
     "output_type": "stream",
     "text": [
      "인사말을 입력하세요: 안녕하세요.\n"
     ]
    },
    {
     "data": {
      "text/plain": [
       "'안녕하세요.'"
      ]
     },
     "execution_count": 43,
     "metadata": {},
     "output_type": "execute_result"
    }
   ],
   "source": [
    "# 사용자 입력\n",
    "input('인사말을 입력하세요: ')"
   ]
  },
  {
   "cell_type": "code",
   "execution_count": 179,
   "id": "4eede53e",
   "metadata": {
    "scrolled": true
   },
   "outputs": [
    {
     "name": "stdout",
     "output_type": "stream",
     "text": [
      "숫자를 입력하세요: 1\n",
      "1\n"
     ]
    },
    {
     "data": {
      "text/plain": [
       "str"
      ]
     },
     "execution_count": 179,
     "metadata": {},
     "output_type": "execute_result"
    }
   ],
   "source": [
    "num= input('숫자를 입력하세요: ')\n",
    "print(num) #하지만 이때 작성해서 출력되는 숫자의 타입은 문자임\n",
    "type(num)"
   ]
  },
  {
   "cell_type": "code",
   "execution_count": 47,
   "id": "43b94bc4",
   "metadata": {
    "scrolled": true
   },
   "outputs": [
    {
     "name": "stdout",
     "output_type": "stream",
     "text": [
      "숫자를 입력하세요5\n",
      "숫자를 입력하세요5\n",
      "10\n"
     ]
    }
   ],
   "source": [
    "num1 = input('숫자를 입력하세요')\n",
    "num1_n = int(num1)\n",
    "num2 = input('숫자를 입력하세요')\n",
    "num2_n = int(num2)\n",
    "print (num1_n + num2_n)"
   ]
  },
  {
   "cell_type": "code",
   "execution_count": 49,
   "id": "98a025d1",
   "metadata": {},
   "outputs": [
    {
     "name": "stdout",
     "output_type": "stream",
     "text": [
      "6.3\n"
     ]
    }
   ],
   "source": [
    "# Q. 아래에서 3과 3.3을 입력하고 숫자 연산을 수행하여 6.3을 출력하세요.\n",
    "a = 3\n",
    "b = 3.3\n",
    "print(a+b)"
   ]
  },
  {
   "cell_type": "code",
   "execution_count": 62,
   "id": "9305150f",
   "metadata": {},
   "outputs": [
    {
     "name": "stdout",
     "output_type": "stream",
     "text": [
      "입력A> 3\n",
      "입력B> 3.3\n",
      "6.3\n"
     ]
    }
   ],
   "source": [
    "# A.\n",
    "String_a = input(\"입력A> \")\n",
    "int_a = int(String_a)\n",
    "String_b = input(\"입력B> \")\n",
    "float_b = float(String_b)\n",
    "print(int_a + float_b)"
   ]
  },
  {
   "cell_type": "code",
   "execution_count": 53,
   "id": "19872128",
   "metadata": {
    "scrolled": true
   },
   "outputs": [
    {
     "name": "stdout",
     "output_type": "stream",
     "text": [
      "5252.273\n"
     ]
    }
   ],
   "source": [
    "# Q. a = 52와 b = 52.273일 때 a+b는 5252.273으로 출력되도록 a와 b를 문자열 \n",
    "# 자료형으로 변환하세요. \n",
    "a = 52\n",
    "b = 52.273\n",
    "a_1 = str(a)\n",
    "b_1 = str(b)\n",
    "print(a_1 + b_1)"
   ]
  },
  {
   "cell_type": "code",
   "execution_count": 181,
   "id": "e83f11fb",
   "metadata": {},
   "outputs": [
    {
     "name": "stdout",
     "output_type": "stream",
     "text": [
      "5252.273\n"
     ]
    }
   ],
   "source": [
    "#A.\n",
    "a = str(52)\n",
    "b = str(52.273)\n",
    "print(a+b)"
   ]
  },
  {
   "cell_type": "code",
   "execution_count": 63,
   "id": "f4da33bc",
   "metadata": {
    "scrolled": false
   },
   "outputs": [
    {
     "name": "stdout",
     "output_type": "stream",
     "text": [
      "python's value is great\n"
     ]
    }
   ],
   "source": [
    "\"\", '', \"\"\" \"\"\", ''' '''\n",
    "p1 = \"python's value is great\"\n",
    "# p2 = 'python's value is great'\n",
    "print(p1)"
   ]
  },
  {
   "cell_type": "code",
   "execution_count": 66,
   "id": "47668c4a",
   "metadata": {},
   "outputs": [],
   "source": [
    "s1 = '\"python is valualbe\" he says'"
   ]
  },
  {
   "cell_type": "code",
   "execution_count": 69,
   "id": "623bbcd4",
   "metadata": {},
   "outputs": [
    {
     "data": {
      "text/plain": [
       "\"python's value is great\""
      ]
     },
     "execution_count": 69,
     "metadata": {},
     "output_type": "execute_result"
    }
   ],
   "source": [
    "s2 = 'python\\'s value is great'\n",
    "s2"
   ]
  },
  {
   "cell_type": "code",
   "execution_count": 73,
   "id": "f7c0796b",
   "metadata": {
    "scrolled": true
   },
   "outputs": [
    {
     "name": "stdout",
     "output_type": "stream",
     "text": [
      "Once you study data and analysis\n",
      "You need Python\n",
      "Once you study data and analysis\n",
      "You need Python\n",
      "Once you study data and analysis\n",
      "You need Python\n"
     ]
    }
   ],
   "source": [
    "y1 =\"Once you study data and analysis\\nYou need Python\"\n",
    "print(y1)\n",
    "y2 ='''Once you study data and analysis\n",
    "You need Python'''\n",
    "print(y2)\n",
    "y3 =\"\"\"Once you study data and analysis\n",
    "You need Python\"\"\"\n",
    "print(y3)"
   ]
  },
  {
   "cell_type": "code",
   "execution_count": 77,
   "id": "60708523",
   "metadata": {},
   "outputs": [
    {
     "name": "stdout",
     "output_type": "stream",
     "text": [
      "Python is easy to learn\n",
      "PythonPythonPython\n",
      "====================\n"
     ]
    }
   ],
   "source": [
    "# 문자열 연산\n",
    "a1 = 'Python'\n",
    "a2 = ' is easy to learn'\n",
    "print(a1 + a2)\n",
    "print(a1 * 3)\n",
    "print(\"=\" * 20)"
   ]
  },
  {
   "cell_type": "code",
   "execution_count": 78,
   "id": "d2bed788",
   "metadata": {},
   "outputs": [
    {
     "name": "stdout",
     "output_type": "stream",
     "text": [
      "[1, 'a', 'abc', [1, 2, 3, 4, 5], ['a', 'b', 'c']]\n"
     ]
    }
   ],
   "source": [
    "# 자료형 - List\n",
    "# 리스트는 [] {} () 대, 중, 소 괄호일 때 대괄호로 표시함 []안의 요소를 콤마로 구분하여 순서있게 나열한다. \n",
    "list1 = [1,2,3,4,5]\n",
    "list2 = ['a','b','c']\n",
    "list3 = [1,'a','abc',[1,2,3,4,5],['a','b','c']]\n",
    "print(list3)"
   ]
  },
  {
   "cell_type": "code",
   "execution_count": 87,
   "id": "07b719c1",
   "metadata": {},
   "outputs": [
    {
     "data": {
      "text/plain": [
       "'b'"
      ]
     },
     "execution_count": 87,
     "metadata": {},
     "output_type": "execute_result"
    }
   ],
   "source": [
    "# 인덱싱, 파이썬은 인덱스 번호가 0부터 시작함, 맨끝은 뒤에서 세면 -1, \n",
    "\n",
    "list1 = [1,2,3,4,5]\n",
    "list1[0] #0번째\n",
    "list1[:] #처음부터 끝까지면 콜론만 써도됨\n",
    "list1[1:3]#1에서2까지\n",
    "list3[3][4] #list3에 들어있는 리스트 안의 5를 출력하고자 할 때\n",
    "list3[4][1] #list3에 들어있는 두번째 리스트 안의 'b' 를 출력하고자 할 때"
   ]
  },
  {
   "cell_type": "code",
   "execution_count": 93,
   "id": "cd0752f1",
   "metadata": {},
   "outputs": [
    {
     "name": "stdout",
     "output_type": "stream",
     "text": [
      "['a', 'c']\n"
     ]
    }
   ],
   "source": [
    "#리스트 수정, 삭제\n",
    "\n",
    "a = [0, 1, 2, 3, 4, 5, 6, 7, 8, 9]\n",
    "b = ['a','b','c']\n",
    "#a의 0을 1로 바꾸고 싶어\n",
    "a[0]=1 #0자리가 1이 됨\n",
    "a\n",
    "b[1]='a' #1번자리를 a로 바꾸고싶음\n",
    "b\n",
    "#맨 앞 a를 지우고 싶을 때\n",
    "del b[0]\n",
    "print(b) \n"
   ]
  },
  {
   "cell_type": "code",
   "execution_count": 99,
   "id": "685e9c2e",
   "metadata": {},
   "outputs": [
    {
     "data": {
      "text/plain": [
       "[1, 1, 2, 3, 4, 5, 6, 7, 8, 9, 2, 1]"
      ]
     },
     "execution_count": 99,
     "metadata": {},
     "output_type": "execute_result"
    }
   ],
   "source": [
    "c = a + b\n",
    "c[-1]=1\n",
    "c\n",
    "c[-2]=2\n",
    "c"
   ]
  },
  {
   "cell_type": "code",
   "execution_count": 1,
   "id": "041a6370",
   "metadata": {},
   "outputs": [
    {
     "name": "stdout",
     "output_type": "stream",
     "text": [
      "[1, 1, 1, 2, 2, 3, 4, 5, 6, 7, 8, 9]\n",
      "[9, 8, 7, 6, 5, 4, 3, 2, 2, 1, 1, 1]\n"
     ]
    }
   ],
   "source": [
    "s = [1, 1, 2, 3, 4, 5, 6, 7, 8, 9, 2, 1]\n",
    "s.sort() #올림차수로 정렬\n",
    "print(s)\n",
    "#내림차수로 정렬1\n",
    "s_d = sorted(s, reverse=True)\n",
    "print(s_d)\n",
    "#내림차수로 정렬2\n",
    "s.reverse()\n",
    "print(s)"
   ]
  },
  {
   "cell_type": "code",
   "execution_count": 115,
   "id": "8520bc93",
   "metadata": {
    "scrolled": false
   },
   "outputs": [
    {
     "name": "stdout",
     "output_type": "stream",
     "text": [
      "[58, 64, 92, 98, 25, 37, 86, 98, 39, 79, 39, 99, 95, 38, 89, 31, 13, 61, 5, 81, 60, 63, 19, 92, 41, 44, 43, 4, 63, 80, 93, 32, 18, 17, 38, 73, 4, 46, 13, 95, 72, 74, 53, 44, 81, 32, 65, 29, 13, 11, 85, 6, 69, 0, 16, 82, 1, 53, 59, 9, 55, 3, 75, 93, 34, 34, 5, 10, 26, 89, 61, 99, 38, 77, 64, 6, 39, 29, 71, 24, 19, 78, 3, 5, 31, 85, 87, 3, 49, 37, 42, 29, 38, 22, 4, 43, 60, 40, 67, 10]\n"
     ]
    },
    {
     "data": {
      "text/plain": [
       "46"
      ]
     },
     "execution_count": 115,
     "metadata": {},
     "output_type": "execute_result"
    }
   ],
   "source": [
    "#인덱스 위치 반환\n",
    "import numpy as np #numpy를 앞으로 np로 쓰겠다는 약자\n",
    "c = np.random.randint(100,size=100).tolist() #numpy를 import해야 쓸 수 있는 것\n",
    "print(c)\n",
    "c.index(65)"
   ]
  },
  {
   "cell_type": "code",
   "execution_count": 116,
   "id": "26573692",
   "metadata": {
    "scrolled": true
   },
   "outputs": [
    {
     "name": "stdout",
     "output_type": "stream",
     "text": [
      "3\n"
     ]
    }
   ],
   "source": [
    "#개수 반환\n",
    "c = [1,1,3,3,3,5,5]\n",
    "print(c.count(3))#3이 몇 번 있는 지 세어줌"
   ]
  },
  {
   "cell_type": "code",
   "execution_count": 1,
   "id": "647d6854",
   "metadata": {},
   "outputs": [
    {
     "name": "stdout",
     "output_type": "stream",
     "text": [
      "[1, 2, 3, 4, 5]\n",
      "[1, 2, 3, 4, 5, 6]\n",
      "[5, 1, 2, 3, 4, 5, 6]\n"
     ]
    }
   ],
   "source": [
    "#리스트 확장(2개이상)\n",
    "h = [1,2,3]\n",
    "h.extend([4,5])\n",
    "print(h)\n",
    "#하나 추가\n",
    "h.append(6)\n",
    "print(h)\n",
    "h.insert(0, 5)\n",
    "print(h)"
   ]
  },
  {
   "cell_type": "code",
   "execution_count": 122,
   "id": "39205c9e",
   "metadata": {},
   "outputs": [
    {
     "data": {
      "text/plain": [
       "'abc'"
      ]
     },
     "execution_count": 122,
     "metadata": {},
     "output_type": "execute_result"
    }
   ],
   "source": [
    "#자료형 - tuple\n",
    "#튜플,리스트와 변경하지만 주의해야할점,튜플의 요소값은 변경할 수 없다-> 프로그램에서 그 값이 항상 변하지 않아야 되는 경우 사용\n",
    "tuple1 = (1,2,3,4,5)\n",
    "tuple2 = ('a','b','c')\n",
    "tuple3 = (1,'a','abc',[1,2,3,4,5],['a','b','c'])\n",
    "\n",
    "tuple1[:]\n",
    "tuple3[2]\n",
    "tuple3[3][4]\n",
    "tuple3[4][1]"
   ]
  },
  {
   "cell_type": "code",
   "execution_count": null,
   "id": "fe5601dc",
   "metadata": {},
   "outputs": [],
   "source": [
    "list1[0]=6\n",
    "print(list1)"
   ]
  },
  {
   "cell_type": "code",
   "execution_count": 132,
   "id": "dfe6fc49",
   "metadata": {
    "scrolled": true
   },
   "outputs": [
    {
     "name": "stdout",
     "output_type": "stream",
     "text": [
      "(1,)\n",
      "(1, 2, 3)\n",
      "(1, 2, 3, 1, 2, 3, 1, 2, 3)\n",
      "(1, 1, 2, 3)\n"
     ]
    },
    {
     "data": {
      "text/plain": [
       "tuple"
      ]
     },
     "execution_count": 132,
     "metadata": {},
     "output_type": "execute_result"
    }
   ],
   "source": [
    "#이렇게 하면 오류난다. tuple은 변경 불가라, tuple1[0]=6 print(tuple1)\n",
    "\n",
    "#또 다른 튜플의 원칙은 한개의 원소를 가질 때는 뒤에 __반드시 콤마를 붙여야함\n",
    "t1 =(1,)\n",
    "print(t1)\n",
    "t2 = 1,2,3 #tuple은 괄호 없이도 쓸 수 있음\n",
    "print(t2) \n",
    "print(t2 * 3)\n",
    "t3 = t1 + t2\n",
    "print(t3)\n",
    "type(t3)"
   ]
  },
  {
   "cell_type": "code",
   "execution_count": 136,
   "id": "c7e48707",
   "metadata": {},
   "outputs": [
    {
     "name": "stdout",
     "output_type": "stream",
     "text": [
      "1\n",
      "{'a': 1, 'b': 5, 'c': 3}\n"
     ]
    }
   ],
   "source": [
    "#자료형 - 사전(키와 값을 하나의 요소로 하는 순서가 없는 집합)\n",
    "d1 = {'a':1,'b':2,'c':3} # 앞에 있는게 키, 뒤에있는게 값, 중괄호로 돼 있음\n",
    "#얘는 인덱스가 없음 순서가 없기 때문에. 값을 찾기 위해서는 키를 넣어줘야함\n",
    "print(d1['a'])\n",
    "#순서도 키 값으로 바꿈\n",
    "d1['b'] = 5 \n",
    "print(d1)"
   ]
  },
  {
   "cell_type": "code",
   "execution_count": 141,
   "id": "6c54c3d8",
   "metadata": {
    "scrolled": true
   },
   "outputs": [
    {
     "name": "stdout",
     "output_type": "stream",
     "text": [
      "dict_keys(['a', 'b', 'c'])\n",
      "dict_values([1, 5, 3])\n",
      "dict_items([('a', 1), ('b', 5), ('c', 3)])\n"
     ]
    }
   ],
   "source": [
    "#여기서 키들만 뽑고 싶을 때\n",
    "print(d1.keys())\n",
    "#값만 뽑고싶을 때\n",
    "print(d1.values())\n",
    "#키와 값 모두 뽑고 싶을 때\n",
    "print(d1.items())"
   ]
  },
  {
   "cell_type": "code",
   "execution_count": 142,
   "id": "1b134637",
   "metadata": {
    "scrolled": false
   },
   "outputs": [
    {
     "name": "stdout",
     "output_type": "stream",
     "text": [
      "{1, 2, 3, 4, 5}\n",
      "{'h', 'e', 'o', 'l'}\n"
     ]
    }
   ],
   "source": [
    "#자료형 - 집합, 영어로 set(중복을 허용하지 않으며 순서가 없다.) 순서가 없음으로 따라서 인덱스도 없음\n",
    "s1 = set([1,2,5,4,3])\n",
    "s2 = set('hello')\n",
    "print(s1)\n",
    "print(s2)"
   ]
  },
  {
   "cell_type": "code",
   "execution_count": 143,
   "id": "a07a984a",
   "metadata": {
    "scrolled": true
   },
   "outputs": [
    {
     "name": "stdout",
     "output_type": "stream",
     "text": [
      "2\n",
      "e\n"
     ]
    }
   ],
   "source": [
    "#집합은 인덱싱으로 값을 얻을 수 없으며 필요시 리스트나 튜플로 변환 후 인덱싱\n",
    "l1 = list(s1)\n",
    "print(l1[1])\n",
    "l2 = list(s2)\n",
    "print(l2[1])"
   ]
  },
  {
   "cell_type": "code",
   "execution_count": 148,
   "id": "ccca189b",
   "metadata": {
    "scrolled": true
   },
   "outputs": [
    {
     "name": "stdout",
     "output_type": "stream",
     "text": [
      "[1, 2, 3, 4, 5, 6, 4, 5, 6, 7, 8, 9]\n",
      "{1, 2, 3, 4, 5, 6}\n",
      "{4, 5, 6, 7, 8, 9}\n"
     ]
    }
   ],
   "source": [
    "#Q, s1, s2의 합집합과 교집합을 각각 리스트와 튜플로 출력하세요.\n",
    "#합집합(s1 | s2), 교집합(s1 & s2)\n",
    "s1 = set([1,2,3,4,5,6])\n",
    "s2 = set([4,5,6,7,8,9])\n",
    "\n",
    "list_1 = list(s1)\n",
    "list_2 = list(s2)\n",
    "print(list_1 + list_2)\n"
   ]
  },
  {
   "cell_type": "code",
   "execution_count": 149,
   "id": "e45d6465",
   "metadata": {
    "scrolled": true
   },
   "outputs": [
    {
     "name": "stdout",
     "output_type": "stream",
     "text": [
      "[1, 2, 3, 4, 5, 6, 7, 8, 9]\n",
      "[4, 5, 6]\n"
     ]
    }
   ],
   "source": [
    "#A\n",
    "s3 = list(s1|s2)\n",
    "s4 = list(s1&s2)\n",
    "print(s3)\n",
    "print(s4)"
   ]
  },
  {
   "cell_type": "code",
   "execution_count": 150,
   "id": "01442514",
   "metadata": {},
   "outputs": [
    {
     "name": "stdout",
     "output_type": "stream",
     "text": [
      "a가 li에 있습니다.\n"
     ]
    }
   ],
   "source": [
    "# 들여쓰기 - 안하면 에러남 \n",
    "li = ['a', 'b', 'c']\n",
    "if 'a' in li: \n",
    "    print('a가 li에 있습니다.')\n",
    "else: \n",
    "    print('a가 li에 없습니다.')"
   ]
  },
  {
   "cell_type": "code",
   "execution_count": 152,
   "id": "e1ef69f4",
   "metadata": {},
   "outputs": [
    {
     "name": "stdout",
     "output_type": "stream",
     "text": [
      "홍길동 선수가 1등입니다.\n",
      "홍길동 선수가 1등입니다.\n"
     ]
    }
   ],
   "source": [
    "#포멧 함수 방법이 총 세개\n",
    "f1 = \"{} 선수가 {}등입니다.\".format('홍길동', 1)\n",
    "f2 = \"{1} 선수가 {0}등입니다.\".format(1, '홍길동')\n",
    "print(f1)\n",
    "print(\"%s 선수가 %d등입니다.\" %(\"홍길동\",1)) #문자일때는 s, 숫자는 d"
   ]
  },
  {
   "cell_type": "code",
   "execution_count": 155,
   "id": "d82b373f",
   "metadata": {},
   "outputs": [
    {
     "name": "stdout",
     "output_type": "stream",
     "text": [
      "파이썬은 자바보다 2배 쉽습니다.\n",
      "파이썬은 자바보다 2배 쉽습니다.\n"
     ]
    }
   ],
   "source": [
    "print(\"%s은 %s보다 %d배 쉽습니다.\" %(\"파이썬\", \"자바\", 2))\n",
    "f2 = \"{}은 {}보다 {}배 쉽습니다.\".format(\"파이썬\", \"자바\", 2)\n",
    "print(f2)"
   ]
  },
  {
   "cell_type": "code",
   "execution_count": 160,
   "id": "a3ab1e17",
   "metadata": {},
   "outputs": [
    {
     "name": "stdout",
     "output_type": "stream",
     "text": [
      "12345\n",
      "     12345\n",
      "121.345679\n",
      "         121.35\n"
     ]
    }
   ],
   "source": [
    "ex2 = 12345\n",
    "f2 = '{:d}'.format(ex2)\n",
    "print(f2)\n",
    "f3 = '{:10d}'.format(ex2) #10이 자릿수임. 10자리를 잡아줘야하니까 12345가 뒤로가있는거\n",
    "print(f3)\n",
    "ex3 = 121.3456789\n",
    "f4 = '{:f}'.format(ex3) #d는 정수 f는 실수\n",
    "print(f4)\n",
    "f5 = '{:15.2f}'.format(ex3) #소수점 자리를 2자리까지만 나타내겠다는 뜻, 15자리를 잡아주겠다는 뜻\n",
    "print(f5)"
   ]
  },
  {
   "cell_type": "code",
   "execution_count": 164,
   "id": "7ee137d8",
   "metadata": {},
   "outputs": [
    {
     "name": "stdout",
     "output_type": "stream",
     "text": [
      "저축증가\n"
     ]
    }
   ],
   "source": [
    "#제어문 - if~elif~else\n",
    "#Q. 수입과 지출금액을 비교해서 수입이 많으면 저축증가, 반대면 빚이 증가, 같으면 현상유지\n",
    "i = 5,000,000\n",
    "e = 4,000,000 \n",
    "\n",
    "if i > e: \n",
    "    print('저축증가')\n",
    "elif i < e:\n",
    "    print('빚이 증가')\n",
    "else :\n",
    "    print('현상유지')"
   ]
  },
  {
   "cell_type": "code",
   "execution_count": 6,
   "id": "a42be22f",
   "metadata": {
    "scrolled": false
   },
   "outputs": [
    {
     "name": "stdout",
     "output_type": "stream",
     "text": [
      "5 5\n",
      "15 15\n",
      "6 6\n",
      "20 20\n",
      "7 7\n",
      "25 25\n"
     ]
    }
   ],
   "source": [
    "#for 반복문, 범위가 지정돼 있는 것을 반복, while은 조건이 만족하는한으로 무한 반복\n",
    "numbers = [5,15,6,20,7,25] #얘의 자료형은 리스트\n",
    "for number in numbers:\n",
    "    \n",
    "    print(number, end=' ') #세로 출력이 보기 싫다면"
   ]
  },
  {
   "cell_type": "code",
   "execution_count": 168,
   "id": "26cbef35",
   "metadata": {},
   "outputs": [],
   "source": [
    "# 5를 2로 나누었을 때의 몫과 나머지를 구하세요"
   ]
  },
  {
   "cell_type": "code",
   "execution_count": 169,
   "id": "791e56c1",
   "metadata": {},
   "outputs": [],
   "source": [
    "# 101의 3승을 구하시오"
   ]
  },
  {
   "cell_type": "code",
   "execution_count": 170,
   "id": "c856d366",
   "metadata": {},
   "outputs": [],
   "source": [
    "#파이썬과 3.8.3을 합쳐서 파이썬 3.8.3으로 출력하시오"
   ]
  },
  {
   "cell_type": "code",
   "execution_count": 172,
   "id": "6a028193",
   "metadata": {},
   "outputs": [],
   "source": [
    "#a = 5, a='10' a=15일때 a의 자료형은 무엇인가?"
   ]
  },
  {
   "cell_type": "code",
   "execution_count": 173,
   "id": "e16d2031",
   "metadata": {},
   "outputs": [],
   "source": [
    "#5의 3승을 3으로 나누었을 때의 나머지를 복합 대입 연산자를 이용해서 구하세요"
   ]
  },
  {
   "cell_type": "code",
   "execution_count": 174,
   "id": "a86b92db",
   "metadata": {},
   "outputs": [],
   "source": [
    "# 이름을 물어보고 답하는 내용을 출력하세요 "
   ]
  },
  {
   "cell_type": "code",
   "execution_count": 175,
   "id": "1942a4a8",
   "metadata": {},
   "outputs": [],
   "source": [
    "#숫자 3개를 입력해서 첫번째 숫자를 두번째 숫자 승한 뒤에 세번째 숫자로 나누었을 때 몫을 구하세요"
   ]
  },
  {
   "cell_type": "code",
   "execution_count": null,
   "id": "77898b33",
   "metadata": {},
   "outputs": [],
   "source": [
    "#1부터 5까지 입력해서 12345를 출력하세요."
   ]
  },
  {
   "cell_type": "code",
   "execution_count": 176,
   "id": "1bc634fc",
   "metadata": {},
   "outputs": [],
   "source": [
    "#[0,1,2,3,4,5,6,7,8,9,'a',b','c']에서 9와 'a'를 삭제 후 리스트로 출력하세요"
   ]
  },
  {
   "cell_type": "code",
   "execution_count": 176,
   "id": "acb48bb7",
   "metadata": {},
   "outputs": [],
   "source": [
    "#[0,1,2,3,4,5,6,7,8,9,'b','c']에서 'c'를 삭제 후 출력하세요."
   ]
  },
  {
   "cell_type": "code",
   "execution_count": 177,
   "id": "f175fb70",
   "metadata": {},
   "outputs": [],
   "source": [
    "#[4,8,5,4,6,4,3,8,1,9]를 내림차순으로 정렬하세요"
   ]
  },
  {
   "cell_type": "code",
   "execution_count": 178,
   "id": "1cc4f1fd",
   "metadata": {},
   "outputs": [],
   "source": [
    "#Q.태어난 연도를 입력받아 띠를 출력하는 프로그램을 작성하세요.\n",
    "#원숭이, 닭, 개, 돼지, 쥐, 소, 범, 토끼, 용, 뱀, 말, 양"
   ]
  },
  {
   "cell_type": "markdown",
   "id": "1f7f2a0a",
   "metadata": {},
   "source": [
    "## Q 계절 구분 프로그램\n",
    "- 시나리오 : 3~5월은 봄, 6~8월은 여름, 9~11월은 가을, 12~2월은 겨울로 구분, 지금 계절을 알려주는 프로그램\n",
    "- 각 계절별 출력 멘트는 계절에 맞게 창작\n",
    "- if 조건문으로 datetime 모듈을 import해서 datetime.now 함수를 사용해서 작성"
   ]
  },
  {
   "cell_type": "code",
   "execution_count": 20,
   "id": "aa7fffb1",
   "metadata": {},
   "outputs": [
    {
     "data": {
      "text/plain": [
       "datetime.datetime(2021, 6, 23, 10, 17, 11, 27743)"
      ]
     },
     "execution_count": 20,
     "metadata": {},
     "output_type": "execute_result"
    }
   ],
   "source": [
    "import datetime\n",
    "t = datetime.datetime.now()\n",
    "t"
   ]
  },
  {
   "cell_type": "code",
   "execution_count": 23,
   "id": "90b5e178",
   "metadata": {
    "scrolled": true
   },
   "outputs": [
    {
     "name": "stdout",
     "output_type": "stream",
     "text": [
      "2021 년\n",
      "6 월\n",
      "23 일\n",
      "10 시\n",
      "20 분\n",
      "4 초\n"
     ]
    }
   ],
   "source": [
    "import datetime\n",
    "now = datetime.datetime.now()\n",
    "\n",
    "print(now.year, \"년\")\n",
    "print(now.month, \"월\")\n",
    "print(now.day, \"일\")\n",
    "print(now.hour, \"시\")\n",
    "print(now.minute, \"분\")\n",
    "print(now.second, \"초\")"
   ]
  },
  {
   "cell_type": "code",
   "execution_count": 2,
   "id": "7c69bc63",
   "metadata": {
    "scrolled": true
   },
   "outputs": [
    {
     "name": "stdout",
     "output_type": "stream",
     "text": [
      "1\n",
      "2\n",
      "3\n",
      "4\n",
      "5\n"
     ]
    }
   ],
   "source": [
    "#제어문 - for~continue~break\n",
    "#1~10 범위의 정수에서 1부터 5까지만 출력하세요\n",
    "#내 오답\n",
    "numbers = [1,2,3,4,5,6,7,8,9,10]\n",
    "for i in numbers :\n",
    "    if i < 6:  #콜론과 들여쓰기 잊지않기\n",
    "        print(i)\n",
    "\n",
    "    "
   ]
  },
  {
   "cell_type": "code",
   "execution_count": 33,
   "id": "bc990f02",
   "metadata": {},
   "outputs": [
    {
     "name": "stdout",
     "output_type": "stream",
     "text": [
      "1\n",
      "2\n",
      "3\n",
      "4\n",
      "5\n"
     ]
    }
   ],
   "source": [
    "for i in range(1,11):\n",
    "    print(i)\n",
    "    if i < 5:\n",
    "        continue\n",
    "    else:\n",
    "        break"
   ]
  },
  {
   "cell_type": "code",
   "execution_count": 36,
   "id": "177aa2d7",
   "metadata": {},
   "outputs": [
    {
     "name": "stdout",
     "output_type": "stream",
     "text": [
      "1 2 3 4 5 "
     ]
    }
   ],
   "source": [
    "for i in range(1,11):\n",
    "    print(i, end=' ')\n",
    "    if i < 5:\n",
    "        continue\n",
    "    else:\n",
    "        break"
   ]
  },
  {
   "cell_type": "code",
   "execution_count": 40,
   "id": "c371b048",
   "metadata": {},
   "outputs": [
    {
     "name": "stdout",
     "output_type": "stream",
     "text": [
      "1 2 3 4 5 "
     ]
    }
   ],
   "source": [
    "#w잘한예시 1\n",
    "for i in range(1,11):\n",
    "    print(i, end=' ')\n",
    "    if i > 4:\n",
    "        break"
   ]
  },
  {
   "cell_type": "code",
   "execution_count": 42,
   "id": "910b6d05",
   "metadata": {},
   "outputs": [
    {
     "name": "stdout",
     "output_type": "stream",
     "text": [
      "1 2 3 4 5 "
     ]
    }
   ],
   "source": [
    "#잘한 예시 2\n",
    "for i in range(1,11) :\n",
    "    if i < 6:  \n",
    "        print(i, end=' ')"
   ]
  },
  {
   "cell_type": "code",
   "execution_count": 55,
   "id": "d472679b",
   "metadata": {},
   "outputs": [
    {
     "name": "stdout",
     "output_type": "stream",
     "text": [
      "5 15 20 25 "
     ]
    }
   ],
   "source": [
    "#Q. numbers 리스트에서 15,20,25를 출력하세요. (for문과 if조건 사용 필수)\n",
    "#내 오답 - 5의 배수에만 너무 집중해서 그냥 제일 큰 애들만 뽑으면 된다는걸 잊음\n",
    "numbers = [5, 15, 6, 20, 7, 25]\n",
    "for i in numbers:\n",
    "    if i %5 == 0:\n",
    "        print(i, end=' ')"
   ]
  },
  {
   "cell_type": "code",
   "execution_count": 54,
   "id": "53899411",
   "metadata": {},
   "outputs": [
    {
     "name": "stdout",
     "output_type": "stream",
     "text": [
      "15 20 25 "
     ]
    }
   ],
   "source": [
    "#정답\n",
    "numbers = [5, 15, 6, 20, 7, 25]\n",
    "for number in numbers:\n",
    "    if number < 15:\n",
    "        continue\n",
    "    else:\n",
    "        print(number, end=' ')"
   ]
  },
  {
   "cell_type": "code",
   "execution_count": 56,
   "id": "d6815feb",
   "metadata": {
    "scrolled": true
   },
   "outputs": [
    {
     "name": "stdout",
     "output_type": "stream",
     "text": [
      "15 20 25 "
     ]
    }
   ],
   "source": [
    "#정답\n",
    "numbers = [5, 15, 6, 20, 7, 25]\n",
    "for number in numbers:\n",
    "    if number > 14:\n",
    "        print(number, end=' ')"
   ]
  },
  {
   "cell_type": "code",
   "execution_count": 63,
   "id": "4857763d",
   "metadata": {},
   "outputs": [
    {
     "name": "stdout",
     "output_type": "stream",
     "text": [
      "45\n",
      "1035\n"
     ]
    }
   ],
   "source": [
    "# 제어문 - while \n",
    "# 정수 1부터 n까지 더할 때 그 합이 1000보다 커지게 되는 n과 합을 구하세요.\n",
    "x = 1\n",
    "sum = 0\n",
    "while 1:  #1을 쓴 이유는 걍 TRUE라는 뜻\n",
    "    sum += x\n",
    "    if sum > 1000:\n",
    "        print(x)\n",
    "        print(sum)\n",
    "        break\n",
    "    x = x + 1  #위 if조건에 해당하지 않는 x는 if조건을 패스하고 이 줄로 내려와 더해짐"
   ]
  },
  {
   "cell_type": "code",
   "execution_count": 69,
   "id": "a3511350",
   "metadata": {},
   "outputs": [],
   "source": [
    "#Q. whle문을 사용해서 1부터 1000까지의 정수 중 3의 배수의 합을 구해 보세요.\n",
    "#내가 쓴 오답\n",
    "while i in range(1,1001): #range는 for문에서, while문에서는 쓰는거ㄴㄴ\n",
    "    sum =+ i\n",
    "    if i %3 == 0:\n",
    "        print(sum)\n",
    "    i += 1\n",
    "    break"
   ]
  },
  {
   "cell_type": "code",
   "execution_count": 72,
   "id": "4f76fecc",
   "metadata": {},
   "outputs": [
    {
     "name": "stdout",
     "output_type": "stream",
     "text": [
      "166833\n"
     ]
    }
   ],
   "source": [
    "#정답\n",
    "sum = 0\n",
    "i = 1\n",
    "while i < 1001:\n",
    "    if i %3 == 0:\n",
    "        sum += i\n",
    "    i += 1\n",
    "print(sum)"
   ]
  },
  {
   "cell_type": "code",
   "execution_count": 1,
   "id": "f187a1b0",
   "metadata": {
    "scrolled": true
   },
   "outputs": [
    {
     "name": "stdout",
     "output_type": "stream",
     "text": [
      "33165\n"
     ]
    }
   ],
   "source": [
    "#과제\n",
    "#Q. while문을 사용해 1부터 1000까지의 정수 중 3과 5의 공배수의 합을 구해보세요. \n",
    "i = 1\n",
    "sum = 0\n",
    "while i < 1001:\n",
    "    if i %15 ==0:\n",
    "        sum += i\n",
    "    i += 1\n",
    "print(sum)"
   ]
  },
  {
   "cell_type": "code",
   "execution_count": 77,
   "id": "bd8e17f4",
   "metadata": {},
   "outputs": [
    {
     "name": "stdout",
     "output_type": "stream",
     "text": [
      "950\n"
     ]
    }
   ],
   "source": [
    "#Q. While~continue~break문을 사용해서 1부터 100까지의 정수 중 5에서 95까지의 합을 구하세요, 문제 잘못읽어서 오답^^ 얘는 5의 배수 구하는법\n",
    "i = 1\n",
    "sum = 0\n",
    "while i < 100:\n",
    "    if i %5 == 0:\n",
    "        sum += i\n",
    "    i += 1\n",
    "print(sum)"
   ]
  },
  {
   "cell_type": "code",
   "execution_count": 1,
   "id": "08b01363",
   "metadata": {},
   "outputs": [
    {
     "name": "stdout",
     "output_type": "stream",
     "text": [
      "4550\n"
     ]
    }
   ],
   "source": [
    "#답안\n",
    "sum = 0\n",
    "x = 1\n",
    "while x < 101:\n",
    "    x += 1\n",
    "    if x < 5:\n",
    "        continue #걍 이과정을 넘어간다는 뜻임\n",
    "    sum += x\n",
    "    if x > 94:\n",
    "        break\n",
    "print(sum)"
   ]
  },
  {
   "cell_type": "code",
   "execution_count": null,
   "id": "d1ede0c5",
   "metadata": {},
   "outputs": [],
   "source": [
    "sum = 0\n",
    "x = 1\n",
    "while x < 101:\n",
    "    if x < 5:\n",
    "        continue\n",
    "    elif x >= 5:\n",
    "        sum += x\n",
    "    else:\n",
    "        continue\n",
    "    x += 1\n",
    "print(sum)"
   ]
  },
  {
   "cell_type": "code",
   "execution_count": 85,
   "id": "c2c4b92c",
   "metadata": {
    "scrolled": true
   },
   "outputs": [
    {
     "name": "stdout",
     "output_type": "stream",
     "text": [
      "4550\n"
     ]
    }
   ],
   "source": [
    "#내 답인데 continue, break 안써서 틀림\n",
    "sum = 0\n",
    "x = 1\n",
    "while x < 101:\n",
    "    if 5<= x <= 95:\n",
    "        sum += x\n",
    "    x += 1\n",
    "print(sum)"
   ]
  },
  {
   "cell_type": "code",
   "execution_count": null,
   "id": "0f391137",
   "metadata": {},
   "outputs": [],
   "source": [
    "#이거 계속 오류나는데 원인을 알아보자 -> += 인데 =+로 바뀌어 있었음^^ 대부분의 오류는 오타로 인해 발생한다!\n",
    "sum = 0\n",
    "x = 1\n",
    "while x < 101:\n",
    "    x =+1\n",
    "    if x < 5:\n",
    "        continue\n",
    "    sum += x\n",
    "    if x > 94:\n",
    "        break\n",
    "print(sum)"
   ]
  },
  {
   "cell_type": "code",
   "execution_count": 3,
   "id": "cc725a9d",
   "metadata": {},
   "outputs": [
    {
     "ename": "SyntaxError",
     "evalue": "invalid syntax (<ipython-input-3-6b8aa05041e6>, line 13)",
     "output_type": "error",
     "traceback": [
      "\u001b[1;36m  File \u001b[1;32m\"<ipython-input-3-6b8aa05041e6>\"\u001b[1;36m, line \u001b[1;32m13\u001b[0m\n\u001b[1;33m    else x > 95:\u001b[0m\n\u001b[1;37m         ^\u001b[0m\n\u001b[1;31mSyntaxError\u001b[0m\u001b[1;31m:\u001b[0m invalid syntax\n"
     ]
    }
   ],
   "source": [
    "# 위의 문제 검증해보기\n",
    "\n",
    "# ~100까지의 합 구하고, 1~4까지 합과 96~100까지 합 뺴주기\n",
    "sum1 = 0\n",
    "sum2 = 0\n",
    "sum3 = 0\n",
    "\n",
    "for x in range (1, 101):\n",
    "    if x < 5:\n",
    "        sum1 += x\n",
    "    elif 0<= x <= 100:\n",
    "        sum2 += x\n",
    "    else x > 95:\n",
    "        sum3 += x\n",
    "print(sum2 - sum1 -sum3)        "
   ]
  },
  {
   "cell_type": "code",
   "execution_count": 4,
   "id": "a7ecee11",
   "metadata": {},
   "outputs": [
    {
     "name": "stdout",
     "output_type": "stream",
     "text": [
      "5050\n",
      "10\n",
      "490\n",
      "4550\n"
     ]
    }
   ],
   "source": [
    "sum1 = 0\n",
    "sum2 = 0\n",
    "sum3 = 0\n",
    "\n",
    "for i in range (1,101):\n",
    "    sum1 += i\n",
    "print(sum1)\n",
    "\n",
    "\n",
    "for i in range (1, 5):\n",
    "    sum2 += i\n",
    "print(sum2)\n",
    "\n",
    "\n",
    "for i in range(96,101):\n",
    "    sum3 += i\n",
    "print(sum3)\n",
    "\n",
    "print(sum1 - sum2 - sum3)"
   ]
  },
  {
   "cell_type": "code",
   "execution_count": 100,
   "id": "f2a30de5",
   "metadata": {},
   "outputs": [
    {
     "name": "stdout",
     "output_type": "stream",
     "text": [
      "32\n",
      "25\n"
     ]
    }
   ],
   "source": [
    "# 람다 함수를 이용해서 a의 b제곱을 구하는 식을 만들고 a,b가 아래와 같이 주어졌을 때 각각의 값을 구하세요.\n",
    "#a = 2, b =5\n",
    "#a = 5, b=2\n",
    "\n",
    "x = lambda a, b : a ** b\n",
    "print(x(2,5))\n",
    "print(x(5,2))"
   ]
  },
  {
   "cell_type": "code",
   "execution_count": 102,
   "id": "83350710",
   "metadata": {},
   "outputs": [
    {
     "data": {
      "text/plain": [
       "1"
      ]
     },
     "execution_count": 102,
     "metadata": {},
     "output_type": "execute_result"
    }
   ],
   "source": [
    "#a=2; b=3; c=5\n",
    "#a * b - c 를 람다로 구해보기\n",
    "\n",
    "x = lambda a, b, c : a * b - c\n",
    "x(2,3,5)"
   ]
  },
  {
   "cell_type": "code",
   "execution_count": 103,
   "id": "2b43d3b3",
   "metadata": {},
   "outputs": [
    {
     "data": {
      "text/plain": [
       "(2, 17)"
      ]
     },
     "execution_count": 103,
     "metadata": {},
     "output_type": "execute_result"
    }
   ],
   "source": [
    "#Q. 97을 40으로 나눈 몫과 나머지를 내장함수를 이용하여 구하시요. (튜플로 출력 필수)\n",
    "a, b = 97, 40\n",
    "divmod(a, b) #(a, b) : (몫, 나머지)"
   ]
  },
  {
   "cell_type": "code",
   "execution_count": 104,
   "id": "615167b7",
   "metadata": {},
   "outputs": [
    {
     "data": {
      "text/plain": [
       "110"
      ]
     },
     "execution_count": 104,
     "metadata": {},
     "output_type": "execute_result"
    }
   ],
   "source": [
    "#사용자 함수 쓰는법, 내가 함수를 만드는 것임, 10을 더하는 함수를 만들어줄 것\n",
    "def add_10(a): #a라는 인자를 넣어주면 10을 더해주는 함수를 만들 것\n",
    "    return a + 10\n",
    "\n",
    "add_10(100)\n"
   ]
  },
  {
   "cell_type": "code",
   "execution_count": 107,
   "id": "10d0fced",
   "metadata": {},
   "outputs": [
    {
     "data": {
      "text/plain": [
       "1"
      ]
     },
     "execution_count": 107,
     "metadata": {},
     "output_type": "execute_result"
    }
   ],
   "source": [
    "#a=2; b=3; c=5\n",
    "#a * b - c 를 시용자 함수로 구해보기\n",
    "\n",
    "def multi_1(a,b,c):\n",
    "    return a*b-c\n",
    "\n",
    "multi_1(2,3,5)"
   ]
  },
  {
   "cell_type": "code",
   "execution_count": 155,
   "id": "3f948cc7",
   "metadata": {},
   "outputs": [
    {
     "name": "stdout",
     "output_type": "stream",
     "text": [
      "마지막으로 하고 싶은 말을 남겨주세요: ㄳ\n"
     ]
    },
    {
     "data": {
      "text/plain": [
       "<function __main__.thx_1(a)>"
      ]
     },
     "execution_count": 155,
     "metadata": {},
     "output_type": "execute_result"
    }
   ],
   "source": [
    "#사용자 함수로 내가 만들고 싶은 것 만들어보기, 최대한 가치있게 만들어보기 -> 최대한 수정해보자\n",
    "\n",
    "thx_word = input(\"마지막으로 하고 싶은 말을 남겨주세요: \")\n",
    "word_1 = [\"감사합니다.\", \"감사\", \"수고하셨습니다.\", \"ㄳ\"]\n",
    "\n",
    "def thx_1(a):\n",
    "    if thx_word in word_1 :\n",
    "        print(\"별말씀을요.\")\n",
    "    else :\n",
    "        print(\"안녕히 가세요\")\n",
    "        \n",
    "thx_1"
   ]
  },
  {
   "cell_type": "code",
   "execution_count": 146,
   "id": "0568e9cc",
   "metadata": {},
   "outputs": [
    {
     "name": "stdout",
     "output_type": "stream",
     "text": [
      "현재 시간은 14시입니다.\n"
     ]
    }
   ],
   "source": [
    "#Q. 현재 시각을 오전과 오후를 구분하는 프로그램을 작성하세요.\n",
    "import datetime\n",
    "t = datetime.datetime.now()\n",
    "\n",
    "if t.hour < 12:\n",
    "    print(\"현재 시간은 {}시입니다.\". format(t.hour))\n",
    "else :\n",
    "    print(\"현재 시간은 {}시입니다.\". format(t.hour))"
   ]
  },
  {
   "cell_type": "code",
   "execution_count": 148,
   "id": "ea0e2ef8",
   "metadata": {},
   "outputs": [
    {
     "name": "stdout",
     "output_type": "stream",
     "text": [
      "수를 입력해주세요 : 6\n",
      "짝수입니다.\n"
     ]
    }
   ],
   "source": [
    "#Q. 정수를 입력하면 홀수 짝수를 판별하는 프로그램 작성 #처음으로 정답^^\n",
    "\n",
    "x = input(\"정수를 입력해주세요 : \")\n",
    "int_x = int(x)\n",
    "\n",
    "if int_x %2 ==0:\n",
    "    print(\"짝수입니다.\")\n",
    "else:\n",
    "    print(\"홀수입니다.\")"
   ]
  },
  {
   "cell_type": "code",
   "execution_count": 169,
   "id": "cbeff473",
   "metadata": {},
   "outputs": [
    {
     "name": "stdout",
     "output_type": "stream",
     "text": [
      "정수를 입력해주세요 : 55\n",
      "정수를 입력해주세요 : 44\n",
      "55가 더 큽니다.\n"
     ]
    }
   ],
   "source": [
    "#Q. 사용자로부터 서로 다른 숫자 두 개를 입력받고 첫 번째와 두번째중 큰 숫자를 구하는 프로그램을 만드시오. 오답\n",
    "\n",
    "a = int(input(\"정수를 입력해주세요 : \"))\n",
    "b = int(input(\"정수를 입력해주세요 : \"))\n",
    "\n",
    "\n",
    "if a > b:\n",
    "    print(\"{}가 더 큽니다.\".format(a))\n",
    "elif a < b :\n",
    "    print(\"{}가 더 큽니다.\".format(b))\n",
    "else:\n",
    "    print(\"잘못입력했습니다.\")\n",
    "\n"
   ]
  },
  {
   "cell_type": "code",
   "execution_count": 168,
   "id": "d70d10ad",
   "metadata": {
    "scrolled": true
   },
   "outputs": [
    {
     "name": "stdout",
     "output_type": "stream",
     "text": [
      "3가 더 큽니다.\n"
     ]
    }
   ],
   "source": [
    "def in_1(a,b):\n",
    "    if a > b:\n",
    "        print(\"{}가 더 큽니다.\".format(a))\n",
    "    elif a < b :\n",
    "        print(\"{}가 더 큽니다.\".format(b))\n",
    "    else:\n",
    "        print(\"잘못입력했습니다.\")\n",
    "\n",
    "in_1(1,3)"
   ]
  },
  {
   "cell_type": "code",
   "execution_count": 163,
   "id": "b839f68d",
   "metadata": {
    "scrolled": true
   },
   "outputs": [
    {
     "name": "stdout",
     "output_type": "stream",
     "text": [
      "정수입력> 6\n",
      "정수입력> 10\n",
      "10\n"
     ]
    }
   ],
   "source": [
    "#종덥\n",
    "num1 = input(\"정수입력> \")\n",
    "n1 = int(num1)\n",
    "num2 = input(\"정수입력> \")\n",
    "n2 = int(num2)\n",
    "\n",
    "if n1 > n2:\n",
    "    print(n1)\n",
    "else:\n",
    "    print(n2)\n"
   ]
  },
  {
   "cell_type": "code",
   "execution_count": null,
   "id": "01c50251",
   "metadata": {},
   "outputs": [],
   "source": [
    "#Q 1~20 사이의 정수에서 3의 배수만 출력하세요."
   ]
  },
  {
   "cell_type": "code",
   "execution_count": null,
   "id": "d4568c74",
   "metadata": {},
   "outputs": [],
   "source": [
    "#Q. 1~100 범위의 정수에서 95보다 큰 정수만 출력하세요"
   ]
  },
  {
   "cell_type": "code",
   "execution_count": null,
   "id": "a7c72185",
   "metadata": {},
   "outputs": [],
   "source": [
    "#Q. [5,0,3,3,7,9,3,5,2,4]에서 7,9만 출력하세요."
   ]
  },
  {
   "cell_type": "code",
   "execution_count": null,
   "id": "0c49415b",
   "metadata": {},
   "outputs": [],
   "source": [
    "#Q. [5,0,3,3,7,9,3,5,2,4]에서 0,9만 출력하세요."
   ]
  },
  {
   "cell_type": "code",
   "execution_count": 170,
   "id": "253bd845",
   "metadata": {},
   "outputs": [
    {
     "ename": "NameError",
     "evalue": "name 'np' is not defined",
     "output_type": "error",
     "traceback": [
      "\u001b[1;31m---------------------------------------------------------------------------\u001b[0m",
      "\u001b[1;31mNameError\u001b[0m                                 Traceback (most recent call last)",
      "\u001b[1;32m<ipython-input-170-ff585d8db840>\u001b[0m in \u001b[0;36m<module>\u001b[1;34m\u001b[0m\n\u001b[1;32m----> 1\u001b[1;33m \u001b[0mnum\u001b[0m \u001b[1;33m=\u001b[0m \u001b[0mnp\u001b[0m\u001b[1;33m.\u001b[0m\u001b[0marange\u001b[0m\u001b[1;33m(\u001b[0m\u001b[1;36m20\u001b[0m\u001b[1;33m)\u001b[0m\u001b[1;33m.\u001b[0m\u001b[0mtolist\u001b[0m\u001b[1;33m(\u001b[0m\u001b[1;33m)\u001b[0m\u001b[1;33m\u001b[0m\u001b[1;33m\u001b[0m\u001b[0m\n\u001b[0m\u001b[0;32m      2\u001b[0m \u001b[0mnum\u001b[0m\u001b[1;33m\u001b[0m\u001b[1;33m\u001b[0m\u001b[0m\n",
      "\u001b[1;31mNameError\u001b[0m: name 'np' is not defined"
     ]
    }
   ],
   "source": [
    "num = np.arange(20).tolist()\n",
    "num"
   ]
  },
  {
   "cell_type": "code",
   "execution_count": null,
   "id": "dcaa2bec",
   "metadata": {},
   "outputs": [],
   "source": [
    "#Q. num에서 10,11,12만 출력하세요."
   ]
  },
  {
   "cell_type": "code",
   "execution_count": null,
   "id": "a7d18550",
   "metadata": {},
   "outputs": [],
   "source": [
    "#Q. 500~1000사이의 정수 중 3과 5의 공배수의 합을 구하세요"
   ]
  },
  {
   "cell_type": "code",
   "execution_count": 172,
   "id": "7a509ab9",
   "metadata": {},
   "outputs": [],
   "source": [
    "#Q. 1 ~1000 사이의 정수 중 5와 7의 공배수의 합을 구하세요."
   ]
  },
  {
   "cell_type": "code",
   "execution_count": 173,
   "id": "d0686a79",
   "metadata": {},
   "outputs": [],
   "source": [
    "#Q. 1~100 사이의 정수 중  3과 4의 공배수를 리스트로 구하세요."
   ]
  },
  {
   "cell_type": "code",
   "execution_count": 174,
   "id": "6b58cd07",
   "metadata": {},
   "outputs": [],
   "source": [
    "#Q. 3~7사이의 정수의 곱을 구하세요."
   ]
  },
  {
   "cell_type": "code",
   "execution_count": 175,
   "id": "76e819ca",
   "metadata": {},
   "outputs": [],
   "source": [
    "#Q. 2,3을 더한 후 5를 곱하는 계산 값을 람다함수를 이용하여 구하세요."
   ]
  },
  {
   "cell_type": "code",
   "execution_count": 176,
   "id": "6687e526",
   "metadata": {},
   "outputs": [],
   "source": [
    "#Q. 2와 5를 더한 후 3으로 나눈 나머지 값ㅇ르 사용자 함수를 이용하여 구하세요. "
   ]
  },
  {
   "cell_type": "code",
   "execution_count": 178,
   "id": "8c5d9552",
   "metadata": {},
   "outputs": [
    {
     "name": "stdout",
     "output_type": "stream",
     "text": [
      "\n",
      "                    It is ture\n",
      "'Python is fit for data analysis'\n",
      "\n"
     ]
    }
   ],
   "source": [
    "input_a = \"\"\"\n",
    "                    It is ture\n",
    "'Python is fit for data analysis'\n",
    "\"\"\"\n",
    "print(input_a)"
   ]
  },
  {
   "cell_type": "code",
   "execution_count": 179,
   "id": "97043e82",
   "metadata": {},
   "outputs": [],
   "source": [
    "#Q. 문장 앞의 공백을 제거하고 아래와 같이 출력하세요(구글링)\n",
    "#It is true\n",
    "#'Python is fit for data analysis'"
   ]
  },
  {
   "cell_type": "code",
   "execution_count": 180,
   "id": "b7cbed24",
   "metadata": {},
   "outputs": [],
   "source": [
    "#Q. \"10/20/30/40/50을 '/'를 기준으로 구분하여 아래와 같이 출력하세요.\"\n",
    "#['10','20','30','40','50']"
   ]
  },
  {
   "cell_type": "code",
   "execution_count": 182,
   "id": "a31aabda",
   "metadata": {},
   "outputs": [
    {
     "data": {
      "text/plain": [
       "datetime.datetime(2021, 6, 23, 14, 41, 54, 497620)"
      ]
     },
     "execution_count": 182,
     "metadata": {},
     "output_type": "execute_result"
    }
   ],
   "source": [
    "import datetime\n",
    "now = datetime.datetime.now()\n",
    "now"
   ]
  },
  {
   "cell_type": "code",
   "execution_count": 183,
   "id": "a1865549",
   "metadata": {},
   "outputs": [],
   "source": [
    "#Q. 현재의 날씨와 시간을 다음과 같이 포멧으로 표현하세요.\n",
    "# 2021년 6월 23일 09시 01분 01초"
   ]
  },
  {
   "cell_type": "code",
   "execution_count": 184,
   "id": "f8f76ccc",
   "metadata": {},
   "outputs": [],
   "source": [
    "#Q. 짝수와 짝수를 입력하면 곱한 값을 출력하고 홀수와 홀수르 입력하면 덧셈값을 출력하고 그 외는 다시 입력하라는 메시지를 출력하세요."
   ]
  },
  {
   "cell_type": "code",
   "execution_count": 185,
   "id": "acc8f7fe",
   "metadata": {},
   "outputs": [],
   "source": [
    "#Q. 1부터 100까지 아래와 같이 2개의 수를 곱해서 가장 큰 수를 구하세요.\n",
    "# [1*99, 2*98...98*2, 99*1]"
   ]
  },
  {
   "cell_type": "code",
   "execution_count": null,
   "id": "182a5114",
   "metadata": {},
   "outputs": [],
   "source": [
    "#Q. [     ]을 채워서 아래의 출력과 같이 출력하세요.\n",
    "numbers = [1,2,3,4,5,6,7,8,9]\n",
    "output = [[],[],[]]\n",
    "\n",
    "for number in numbers:\n",
    "    output[       ]. append(number) \n",
    "print(output)\n",
    "\n",
    "출력\n",
    "[[1,4,7],[2,5,8],[3,6,9]]"
   ]
  },
  {
   "cell_type": "code",
   "execution_count": null,
   "id": "e286daac",
   "metadata": {},
   "outputs": [],
   "source": [
    "numbers = [1,2,3,4,5,6,7,8,9]\n",
    "output = [[],[],[]]\n",
    "for number in numbers:\n",
    "    output[       ]. append(number) \n",
    "print(output)"
   ]
  },
  {
   "cell_type": "markdown",
   "id": "02e9a303",
   "metadata": {},
   "source": [
    "## Q. 커피 자판기 프로그램\n",
    "- 시나리오 : 자판기 커피 재고 5잔, 커피 1잔 가격 300원, 재고 범위내에서 300원 이상 돈을 넣으면 거스름돈과 커피를 주고 그렇지 않으면 반환하며 재고가 소진되면 안내멘트 출력\n",
    "- 각 case별 멘트 출력은 상황에 맞게 장착\n",
    "- while, if~elif~else 제어문을 사용하여 작성"
   ]
  }
 ],
 "metadata": {
  "kernelspec": {
   "display_name": "Python 3",
   "language": "python",
   "name": "python3"
  },
  "language_info": {
   "codemirror_mode": {
    "name": "ipython",
    "version": 3
   },
   "file_extension": ".py",
   "mimetype": "text/x-python",
   "name": "python",
   "nbconvert_exporter": "python",
   "pygments_lexer": "ipython3",
   "version": "3.8.10"
  }
 },
 "nbformat": 4,
 "nbformat_minor": 5
}
